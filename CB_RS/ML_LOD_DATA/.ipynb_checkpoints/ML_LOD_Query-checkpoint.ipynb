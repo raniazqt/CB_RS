{
 "cells": [
  {
   "cell_type": "code",
   "execution_count": 16,
   "metadata": {
    "scrolled": true
   },
   "outputs": [],
   "source": [
    "#!/usr/bin/env python\n",
    "# -*- coding: latin-1 -*-\n",
    "import pandas as pd # pandas is a data manipulation library\n",
    "import numpy as np #provides numerical arrays and functions to manipulate the arrays efficiently\n",
    "import csv\n",
    "import logging\n",
    "from SPARQLWrapper import SPARQLWrapper,JSON, SPARQLWrapper2, POST,XML,GET\n",
    "from collections import defaultdict\n",
    "from tqdm.notebook import tqdm\n",
    "import query_helper_functions as query_helper\n",
    "import sparql_query as sparql_query\n"
   ]
  },
  {
   "cell_type": "code",
   "execution_count": 2,
   "metadata": {
    "scrolled": true
   },
   "outputs": [
    {
     "name": "stderr",
     "output_type": "stream",
     "text": [
      "d:\\programs\\python39\\lib\\site-packages\\tqdm\\std.py:703: FutureWarning: The Panel class is removed from pandas. Accessing it from the top-level namespace will also be removed in the next version\n",
      "  from pandas import Panel\n"
     ]
    }
   ],
   "source": [
    "\n",
    "logging.basicConfig(format='%(asctime)s : %(levelname)s : %(message)s', level=logging.INFO)\n",
    "tqdm.pandas(desc=\"progress bar\")"
   ]
  },
  {
   "cell_type": "code",
   "execution_count": 7,
   "metadata": {
    "scrolled": true
   },
   "outputs": [],
   "source": [
    "ml_file_movies_df = pd.read_csv('dataset/ml_movies.csv')"
   ]
  },
  {
   "cell_type": "code",
   "execution_count": null,
   "metadata": {
    "scrolled": true
   },
   "outputs": [],
   "source": []
  },
  {
   "cell_type": "code",
   "execution_count": 8,
   "metadata": {
    "scrolled": true
   },
   "outputs": [],
   "source": [
    "ml_file_movies_df.drop(columns='movieId',inplace=True)"
   ]
  },
  {
   "cell_type": "code",
   "execution_count": 9,
   "metadata": {
    "scrolled": true
   },
   "outputs": [],
   "source": [
    "#clean loaded ml data\n",
    "# extract the year from the title and save it in a new column\n",
    "ml_file_movies_df['year'] =  ml_file_movies_df.title.str.extract(r'\\(([0-9]+)\\)')\n",
    "#move \"the\" from the end of the title to the begining\n",
    "ml_file_movies_df['title'] = ml_file_movies_df['title'].apply(lambda row: 'the ' + row.replace(\", the\", \"\") if \", the\" in row else row)\n",
    "# remove any parantatheis from the title\n",
    "ml_file_movies_df['title'] = ml_file_movies_df['title'].str.replace(r\"\\(.*\\)\",\"\")\n",
    "#remove white spaces from the title and convert it to lower case\n",
    "ml_file_movies_df.title = ml_file_movies_df.title.str.strip().str.lower()\n",
    "#remove double qoutation from title\n",
    "ml_file_movies_df['title'] = ml_file_movies_df['title'].str.replace(\"\\\"\",\"\")"
   ]
  },
  {
   "cell_type": "code",
   "execution_count": 10,
   "metadata": {
    "scrolled": true
   },
   "outputs": [
    {
     "data": {
      "text/plain": [
       "<bound method NDFrame.describe of                              title  \\\n",
       "0                        toy story   \n",
       "1                          jumanji   \n",
       "2                 grumpier old men   \n",
       "3                waiting to exhale   \n",
       "4      father of the bride part ii   \n",
       "...                            ...   \n",
       "62418                           we   \n",
       "62419           window of the soul   \n",
       "62420                    bad poems   \n",
       "62421                 a girl thing   \n",
       "62422      women of devil's island   \n",
       "\n",
       "                                            genres  year  \n",
       "0      Adventure|Animation|Children|Comedy|Fantasy  1995  \n",
       "1                       Adventure|Children|Fantasy  1995  \n",
       "2                                   Comedy|Romance  1995  \n",
       "3                             Comedy|Drama|Romance  1995  \n",
       "4                                           Comedy  1995  \n",
       "...                                            ...   ...  \n",
       "62418                                        Drama  2018  \n",
       "62419                                  Documentary  2001  \n",
       "62420                                 Comedy|Drama  2018  \n",
       "62421                           (no genres listed)  2001  \n",
       "62422                       Action|Adventure|Drama  1962  \n",
       "\n",
       "[62423 rows x 3 columns]>"
      ]
     },
     "execution_count": 10,
     "metadata": {},
     "output_type": "execute_result"
    }
   ],
   "source": [
    "ml_file_movies_df.describe"
   ]
  },
  {
   "cell_type": "code",
   "execution_count": 11,
   "metadata": {
    "scrolled": true
   },
   "outputs": [
    {
     "data": {
      "text/plain": [
       "<bound method NDFrame.describe of                              title  \\\n",
       "0                        toy story   \n",
       "1                          jumanji   \n",
       "2                 grumpier old men   \n",
       "3                waiting to exhale   \n",
       "4      father of the bride part ii   \n",
       "...                            ...   \n",
       "62418                           we   \n",
       "62419           window of the soul   \n",
       "62420                    bad poems   \n",
       "62421                 a girl thing   \n",
       "62422      women of devil's island   \n",
       "\n",
       "                                            genres  year  \n",
       "0      Adventure|Animation|Children|Comedy|Fantasy  1995  \n",
       "1                       Adventure|Children|Fantasy  1995  \n",
       "2                                   Comedy|Romance  1995  \n",
       "3                             Comedy|Drama|Romance  1995  \n",
       "4                                           Comedy  1995  \n",
       "...                                            ...   ...  \n",
       "62418                                        Drama  2018  \n",
       "62419                                  Documentary  2001  \n",
       "62420                                 Comedy|Drama  2018  \n",
       "62421                           (no genres listed)  2001  \n",
       "62422                       Action|Adventure|Drama  1962  \n",
       "\n",
       "[62423 rows x 3 columns]>"
      ]
     },
     "execution_count": 11,
     "metadata": {},
     "output_type": "execute_result"
    }
   ],
   "source": [
    "#copy the movies names into new dataframe\n",
    "ml_movies_df = ml_file_movies_df.copy()\n",
    "ml_movies_df.describe"
   ]
  },
  {
   "cell_type": "code",
   "execution_count": null,
   "metadata": {
    "scrolled": true
   },
   "outputs": [],
   "source": []
  },
  {
   "cell_type": "code",
   "execution_count": 12,
   "metadata": {
    "scrolled": true
   },
   "outputs": [],
   "source": [
    "movies_list = movies_df['title']"
   ]
  },
  {
   "cell_type": "code",
   "execution_count": 15,
   "metadata": {
    "scrolled": true
   },
   "outputs": [
    {
     "name": "stdout",
     "output_type": "stream",
     "text": [
      "Number of movies from MovieLens dataset is 62423 \n"
     ]
    }
   ],
   "source": [
    "print(\"Number of movies from MovieLens dataset is {} \".format(len(movies_list)))"
   ]
  },
  {
   "cell_type": "markdown",
   "metadata": {},
   "source": [
    "### Query LOD for movies info (dbpedia movie link, dbpedia title, yago movie link, yago writer name, dbpedia or yago director_name, yago country, yago genre) "
   ]
  },
  {
   "cell_type": "code",
   "execution_count": 17,
   "metadata": {
    "scrolled": true
   },
   "outputs": [
    {
     "ename": "NameError",
     "evalue": "name 'retrieve_data_for_movies_list' is not defined",
     "output_type": "error",
     "traceback": [
      "\u001b[1;31m---------------------------------------------------------------------------\u001b[0m",
      "\u001b[1;31mNameError\u001b[0m                                 Traceback (most recent call last)",
      "\u001b[1;32m<ipython-input-17-450f93c2a735>\u001b[0m in \u001b[0;36m<module>\u001b[1;34m\u001b[0m\n\u001b[0;32m      2\u001b[0m \u001b[0mendpoint\u001b[0m \u001b[1;33m=\u001b[0m \u001b[1;34m\"http://lod.openlinksw.com/sparql/\"\u001b[0m\u001b[1;33m\u001b[0m\u001b[1;33m\u001b[0m\u001b[0m\n\u001b[0;32m      3\u001b[0m \u001b[0mreturn_format\u001b[0m \u001b[1;33m=\u001b[0m \u001b[0mJSON\u001b[0m\u001b[1;33m\u001b[0m\u001b[1;33m\u001b[0m\u001b[0m\n\u001b[1;32m----> 4\u001b[1;33m \u001b[0mmovies_info_result_df\u001b[0m \u001b[1;33m=\u001b[0m \u001b[0mretrieve_data_for_movies_list\u001b[0m\u001b[1;33m(\u001b[0m\u001b[0msparql_query\u001b[0m\u001b[1;33m.\u001b[0m\u001b[0mlod_movies_info_query\u001b[0m\u001b[1;33m,\u001b[0m \u001b[0mmovies_names\u001b[0m\u001b[1;33m,\u001b[0m\u001b[1;34m'string'\u001b[0m\u001b[1;33m,\u001b[0m \u001b[0mendpoint\u001b[0m\u001b[1;33m,\u001b[0m \u001b[0mreturn_format\u001b[0m\u001b[1;33m,\u001b[0m \u001b[0mrequest_method\u001b[0m\u001b[1;33m)\u001b[0m\u001b[1;33m\u001b[0m\u001b[1;33m\u001b[0m\u001b[0m\n\u001b[0m\u001b[0;32m      5\u001b[0m \u001b[1;31m#save raw results of movies info query to file\u001b[0m\u001b[1;33m\u001b[0m\u001b[1;33m\u001b[0m\u001b[1;33m\u001b[0m\u001b[0m\n\u001b[0;32m      6\u001b[0m \u001b[0mmovies_info_result_df\u001b[0m\u001b[1;33m.\u001b[0m\u001b[0mto_csv\u001b[0m\u001b[1;33m(\u001b[0m\u001b[1;34m\"generated_dataset/dbpedia_movies_info_query_raw_results.csv\"\u001b[0m\u001b[1;33m,\u001b[0m\u001b[0mindex\u001b[0m\u001b[1;33m=\u001b[0m\u001b[1;32mFalse\u001b[0m\u001b[1;33m)\u001b[0m\u001b[1;33m\u001b[0m\u001b[1;33m\u001b[0m\u001b[0m\n",
      "\u001b[1;31mNameError\u001b[0m: name 'retrieve_data_for_movies_list' is not defined"
     ]
    }
   ],
   "source": [
    "#uncomment either the call to query lod to refresh the data or the load from file\n",
    "endpoint = \"http://lod.openlinksw.com/sparql/\"\n",
    "return_format = JSON\n",
    "movies_info_result_df = retrieve_data_for_movies_list(sparql_query.lod_movies_info_query, movies_names,'string', endpoint, return_format, request_method)\n",
    "#save raw results of movies info query to file\n",
    "movies_info_result_df.to_csv(\"generated_dataset/dbpedia_movies_info_query_raw_results.csv\",index=False)\n",
    "\n"
   ]
  },
  {
   "cell_type": "code",
   "execution_count": 7,
   "metadata": {
    "scrolled": true
   },
   "outputs": [
    {
     "data": {
      "text/plain": [
       "<bound method NDFrame.describe of                                                    movie  \\\n",
       "0      http://dbpedia.org/resource/!Women_Art_Revolution   \n",
       "1                   http://dbpedia.org/resource/$_(film)   \n",
       "2                      http://dbpedia.org/resource/$9.99   \n",
       "3                      http://dbpedia.org/resource/$9.99   \n",
       "4                      http://dbpedia.org/resource/$pent   \n",
       "...                                                  ...   \n",
       "73295    http://dbpedia.org/resource/Škola_základ_života   \n",
       "73296    http://dbpedia.org/resource/Żołnierz_zwycięstwa   \n",
       "73297    http://dbpedia.org/resource/Żołnierz_zwycięstwa   \n",
       "73298                 http://dbpedia.org/resource/Želary   \n",
       "73299                  http://dbpedia.org/resource/’O_Re   \n",
       "\n",
       "                       title  \\\n",
       "0      !Women Art Revolution   \n",
       "1                   $ (film)   \n",
       "2                      $9.99   \n",
       "3                      $9.99   \n",
       "4                      $pent   \n",
       "...                      ...   \n",
       "73295    Škola základ života   \n",
       "73296    Żołnierz zwycięstwa   \n",
       "73297    Żołnierz zwycięstwa   \n",
       "73298                 Želary   \n",
       "73299                  ’O Re   \n",
       "\n",
       "                                               yago_link  \\\n",
       "0      http://yago-knowledge.org/resource/!Women_Art_...   \n",
       "1            http://yago-knowledge.org/resource/$_(film)   \n",
       "2               http://yago-knowledge.org/resource/$9.99   \n",
       "3               http://yago-knowledge.org/resource/$9.99   \n",
       "4               http://yago-knowledge.org/resource/$pent   \n",
       "...                                                  ...   \n",
       "73295  http://yago-knowledge.org/resource/Škola_zákla...   \n",
       "73296  http://yago-knowledge.org/resource/Żołnierz_zw...   \n",
       "73297  http://yago-knowledge.org/resource/Żołnierz_zw...   \n",
       "73298          http://yago-knowledge.org/resource/Želary   \n",
       "73299           http://yago-knowledge.org/resource/'O_Re   \n",
       "\n",
       "                                      wiki_link           writer_name  \\\n",
       "0       http://www.wikidata.org/entity/Q4540204  Lynn Hershman Leeson   \n",
       "1       http://www.wikidata.org/entity/Q1195819        Richard Brooks   \n",
       "2        http://www.wikidata.org/entity/Q521188       Tatia Rosenthal   \n",
       "3        http://www.wikidata.org/entity/Q521188           Etgar Keret   \n",
       "4       http://www.wikidata.org/entity/Q4540363         Gil Cates Jr.   \n",
       "...                                         ...                   ...   \n",
       "73295  http://www.wikidata.org/entity/Q10405609      Václav Wasserman   \n",
       "73296   http://www.wikidata.org/entity/Q4427581        Jerzy Borejsza   \n",
       "73297   http://www.wikidata.org/entity/Q4427581      Wanda Jakubowska   \n",
       "73298   http://www.wikidata.org/entity/Q1679422        Květa Legátová   \n",
       "73299   http://www.wikidata.org/entity/Q3596268           Luigi Magni   \n",
       "\n",
       "              director_name  \n",
       "0      Lynn Hershman Leeson  \n",
       "1            Richard Brooks  \n",
       "2           Tatia Rosenthal  \n",
       "3           Tatia Rosenthal  \n",
       "4             Gil Cates Jr.  \n",
       "...                     ...  \n",
       "73295           Martin Frič  \n",
       "73296      Wanda Jakubowska  \n",
       "73297      Wanda Jakubowska  \n",
       "73298         Ondřej Trojan  \n",
       "73299           Luigi Magni  \n",
       "\n",
       "[73300 rows x 6 columns]>"
      ]
     },
     "execution_count": 7,
     "metadata": {},
     "output_type": "execute_result"
    }
   ],
   "source": [
    "movies_info_result_df.describe"
   ]
  },
  {
   "cell_type": "code",
   "execution_count": 8,
   "metadata": {
    "scrolled": true
   },
   "outputs": [],
   "source": [
    "#Group movies info results to extract the directors, writers, and titles\n",
    "movies_info_grouped = movies_info_result_df.groupby(['movie','title','yago_link','wiki_link'], as_index=False)\n",
    "#aggregate the directors and directors in one column for each separated by |\n",
    "pedia_info_df = movies_info_grouped.agg({\n",
    "                                          'director_name':lambda x: '|'.join(set(x)),\n",
    "                                          'writer_name':lambda x: '|'.join(set(x))\n",
    "                                         })\n",
    "#save grouped data to file\n",
    "pedia_info_df.to_csv(\"generated_dataset/dbpedia_info_grouped.csv\", index=False)"
   ]
  },
  {
   "cell_type": "code",
   "execution_count": null,
   "metadata": {
    "scrolled": true
   },
   "outputs": [],
   "source": []
  },
  {
   "cell_type": "markdown",
   "metadata": {},
   "source": [
    "### Query dbpedia for the actors for the retrieved movies"
   ]
  },
  {
   "cell_type": "code",
   "execution_count": 10,
   "metadata": {
    "scrolled": true
   },
   "outputs": [],
   "source": [
    "#uncomment either the query to refresh the data from the source or load the previously retrieved data from file\n",
    "endpoint = \"http://dbpedia.org/sparql\"\n",
    "return_format = JSON\n",
    "request_method= GET\n",
    "#movies_actors_results_df = retrieve_data_for_movies_list(dbpedia_actors_query,movies_names,'string',endpoint, return_format,request_method)\n",
    "#movies_actors_df = movies_actors_results_df[0]\n",
    "#failed_movies_actors_list = movies_actors_results_df[1]\n",
    "#save movies actors results to file\n",
    "#movies_actors_df.to_csv(\"generated_dataset/dbpedia_movies_actors_query_raw_results.csv\",index=False)\n",
    "movies_actors_df = pd.read_csv(\"generated_dataset/dbpedia_movies_actors_query_raw_results.csv\")"
   ]
  },
  {
   "cell_type": "code",
   "execution_count": 11,
   "metadata": {
    "scrolled": true
   },
   "outputs": [
    {
     "data": {
      "text/plain": [
       "<bound method NDFrame.describe of                                                    movie           actor_name\n",
       "0                 http://dbpedia.org/resource/12_Monkeys            Brad Pitt\n",
       "1                 http://dbpedia.org/resource/12_Monkeys      Madeleine Stowe\n",
       "2                 http://dbpedia.org/resource/12_Monkeys         Bruce Willis\n",
       "3                 http://dbpedia.org/resource/12_Monkeys  Christopher Plummer\n",
       "4                http://dbpedia.org/resource/1983_(film)          Anoop Menon\n",
       "...                                                  ...                  ...\n",
       "145942          http://dbpedia.org/resource/Zinda_(film)           Lara Dutta\n",
       "145943            http://dbpedia.org/resource/Zoo_(film)   Russell Hodgkinson\n",
       "145944  http://dbpedia.org/resource/Zombie_Nation_(film)            NOT_FOUND\n",
       "145945      http://dbpedia.org/resource/Zone_of_the_Dead       Kristina Klebe\n",
       "145946      http://dbpedia.org/resource/Zone_of_the_Dead            Ken Foree\n",
       "\n",
       "[145947 rows x 2 columns]>"
      ]
     },
     "execution_count": 11,
     "metadata": {},
     "output_type": "execute_result"
    }
   ],
   "source": [
    "movies_actors_df.describe"
   ]
  },
  {
   "cell_type": "code",
   "execution_count": 15,
   "metadata": {
    "scrolled": true
   },
   "outputs": [],
   "source": [
    "#group the actors per movie and save data to file\n",
    "movies_actors_grouped = movies_actors_df.groupby(['movie'], as_index=False)\n",
    "\n",
    "#aggregate the actors in one column for each movie separated by |\n",
    "pedia_actors_df = movies_actors_grouped.agg({'actor_name':lambda x: '|'.join(set(x))\n",
    "                                         })\n",
    "\n",
    "#pedia_actors_df.to_csv(\"generated_dataset/dbpedia_actors_grouped.csv\",index=False)\n"
   ]
  },
  {
   "cell_type": "code",
   "execution_count": 16,
   "metadata": {
    "scrolled": true
   },
   "outputs": [
    {
     "data": {
      "text/plain": [
       "<bound method NDFrame.describe of                                                    movie  \\\n",
       "0      http://dbpedia.org/resource/!Women_Art_Revolution   \n",
       "1                      http://dbpedia.org/resource/$9.99   \n",
       "2                   http://dbpedia.org/resource/$_(film)   \n",
       "3                      http://dbpedia.org/resource/$pent   \n",
       "4                        http://dbpedia.org/resource/&ME   \n",
       "...                                                  ...   \n",
       "45107              http://dbpedia.org/resource/Zulu_Dawn   \n",
       "45108                  http://dbpedia.org/resource/Zurdo   \n",
       "45109               http://dbpedia.org/resource/Zus_&_Zo   \n",
       "45110              http://dbpedia.org/resource/Zvenigora   \n",
       "45111            http://dbpedia.org/resource/Zyzzyx_Road   \n",
       "\n",
       "                                              actor_name  \n",
       "0                                              NOT_FOUND  \n",
       "1                         Geoffrey Rush|Anthony LaPaglia  \n",
       "2      Robert Webber|Warren Beatty|Goldie Hawn|Scott ...  \n",
       "3                               Phill Lewis|Jason London  \n",
       "4      Teun Luijkx|Mark Waschke|Rossy de Palma|Veroni...  \n",
       "...                                                  ...  \n",
       "45107  Burt Lancaster|Simon Ward|Peter O'Toole|Denhol...  \n",
       "45108                  Arcelia Ramírez|Alejandro Camacho  \n",
       "45109          Jacob Derwig|Halina Reijn|Monic Hendrickx  \n",
       "45110                                          NOT_FOUND  \n",
       "45111            Leo Grillo|Katherine Heigl|Tom Sizemore  \n",
       "\n",
       "[45112 rows x 2 columns]>"
      ]
     },
     "execution_count": 16,
     "metadata": {},
     "output_type": "execute_result"
    }
   ],
   "source": [
    "pedia_actors_df.describe"
   ]
  },
  {
   "cell_type": "code",
   "execution_count": null,
   "metadata": {
    "scrolled": true
   },
   "outputs": [],
   "source": []
  },
  {
   "cell_type": "markdown",
   "metadata": {},
   "source": [
    "#### Query yago for retrieved movies genre and country"
   ]
  },
  {
   "cell_type": "code",
   "execution_count": 98,
   "metadata": {
    "scrolled": true
   },
   "outputs": [
    {
     "name": "stdout",
     "output_type": "stream",
     "text": [
      "number of movies retrieved info for is 47213\n"
     ]
    }
   ],
   "source": [
    "#get the yago links for retrieved movies to query for genre and country from yago\n",
    "movies_yago_links = list(movies_info_result_df.yago_link.unique())\n",
    "print(\"number of movies retrieved info for is {}\".format(len(movies_yago_links)))"
   ]
  },
  {
   "cell_type": "code",
   "execution_count": 17,
   "metadata": {
    "scrolled": true
   },
   "outputs": [],
   "source": [
    "#uncomment either the query to refresh data from yago or the read statement to load previously retrieved data\n",
    "endpoint = \"http://yago-knowledge.org/sparql/query\"\n",
    "return_format = JSON\n",
    "request_method= GET\n",
    "#movies_genre_country_results_df = retrieve_data_for_movies_list(yago_genre_country_query,movies_yago_links,'url',endpoint, return_format,request_method)\n",
    "#movies_yago_info_df =movies_genre_country_results_df[0]\n",
    "#failed_movies_yago_info_list = movies_genre_country_results_df[1]\n",
    "#movies_yago_info_df.to_csv(\"generated_dataset/yago_movies_genres_country_query_raw_results.csv\",index=False)\n",
    "movies_yago_info_df = pd.read_csv(\"generated_dataset/yago_movies_genres_country_query_raw_results.csv\")"
   ]
  },
  {
   "cell_type": "code",
   "execution_count": 18,
   "metadata": {
    "scrolled": true
   },
   "outputs": [
    {
     "data": {
      "text/plain": [
       "<bound method NDFrame.describe of                                                yago_link         genre_id  \\\n",
       "0      http://yago-knowledge.org/resource/Baptism_of_...        NOT_FOUND   \n",
       "1      http://yago-knowledge.org/resource/Alexandra's...        NOT_FOUND   \n",
       "2      http://yago-knowledge.org/resource/Blood_on_th...        NOT_FOUND   \n",
       "3      http://yago-knowledge.org/resource/Camping_Cosmos        NOT_FOUND   \n",
       "4      http://yago-knowledge.org/resource/Cecilia_(19...        NOT_FOUND   \n",
       "...                                                  ...              ...   \n",
       "68526      http://yago-knowledge.org/resource/Hollow_Man         Suspense   \n",
       "68527      http://yago-knowledge.org/resource/Hollow_Man    Thriller_film   \n",
       "68528  http://yago-knowledge.org/resource/Love_Is_a_Ball  Romantic_comedy   \n",
       "68529      http://yago-knowledge.org/resource/Moovendhar      Action_film   \n",
       "68530  http://yago-knowledge.org/resource/Meet_the_Bo...  Romantic_comedy   \n",
       "\n",
       "          country_id  \n",
       "0             Brazil  \n",
       "1          Australia  \n",
       "2             Greece  \n",
       "3            Belgium  \n",
       "4               Cuba  \n",
       "...              ...  \n",
       "68526  United_States  \n",
       "68527  United_States  \n",
       "68528  United_States  \n",
       "68529          India  \n",
       "68530  United_States  \n",
       "\n",
       "[68531 rows x 3 columns]>"
      ]
     },
     "execution_count": 18,
     "metadata": {},
     "output_type": "execute_result"
    }
   ],
   "source": [
    "movies_yago_info_df.describe"
   ]
  },
  {
   "cell_type": "code",
   "execution_count": null,
   "metadata": {
    "scrolled": true
   },
   "outputs": [],
   "source": [
    "#check what movies werent retrieved by yago query\n",
    "yago_link_query_result = list(movies_yago_info_df['yago_link'])\n",
    "print(list(set(yago_links_list) - set(yago_link_query_result)))"
   ]
  },
  {
   "cell_type": "code",
   "execution_count": 19,
   "metadata": {
    "scrolled": true
   },
   "outputs": [],
   "source": [
    "#Group movies info results to extract the genre_id and country_id\n",
    "movies_yago_info_grouped = movies_yago_info_df.groupby(['yago_link'], as_index=False)\n",
    "#aggregate the directors and directors in one column for each separated by |\n",
    "yago_info_df = movies_yago_info_grouped.agg({'genre_id':lambda x: '|'.join(set(x)),\n",
    "                                          'country_id':lambda x: '|'.join(set(x))\n",
    "                                         })\n",
    "#save data to file\n",
    "#yago_info_df.to_csv(\"generated_dataset/yago_genre_country_grouped.csv\",index=False)\n",
    "\n"
   ]
  },
  {
   "cell_type": "code",
   "execution_count": 33,
   "metadata": {
    "scrolled": true
   },
   "outputs": [],
   "source": [
    "#merge all dataframes to create a final dataset with the attributes, movie,title,yago_link,wiki_link,actor_name,writer_name,director_name,genre_id,country_id\n",
    "final_movies_df = pedia_info_df.merge(yago_info_df, how=\"inner\", on='yago_link')\n",
    "final_movies_df = final_movies_df.merge(pedia_actors_df, how=\"inner\", on='movie')"
   ]
  },
  {
   "cell_type": "code",
   "execution_count": 35,
   "metadata": {
    "scrolled": true
   },
   "outputs": [
    {
     "name": "stdout",
     "output_type": "stream",
     "text": [
      "<class 'pandas.core.frame.DataFrame'>\n",
      "Int64Index: 41673 entries, 0 to 41672\n",
      "Data columns (total 9 columns):\n",
      " #   Column         Non-Null Count  Dtype \n",
      "---  ------         --------------  ----- \n",
      " 0   movie          41673 non-null  object\n",
      " 1   title          41673 non-null  object\n",
      " 2   yago_link      41673 non-null  object\n",
      " 3   wiki_link      41673 non-null  object\n",
      " 4   director_name  41673 non-null  object\n",
      " 5   writer_name    41673 non-null  object\n",
      " 6   genre_id       41673 non-null  object\n",
      " 7   country_id     41673 non-null  object\n",
      " 8   actor_name     41673 non-null  object\n",
      "dtypes: object(9)\n",
      "memory usage: 3.2+ MB\n"
     ]
    }
   ],
   "source": [
    "final_movies_df.info()"
   ]
  },
  {
   "cell_type": "code",
   "execution_count": 36,
   "metadata": {
    "scrolled": true
   },
   "outputs": [
    {
     "data": {
      "text/plain": [
       "<bound method DataFrame.reset_index of                                                    movie  \\\n",
       "0      http://dbpedia.org/resource/!Women_Art_Revolution   \n",
       "1                      http://dbpedia.org/resource/$9.99   \n",
       "2                      http://dbpedia.org/resource/$pent   \n",
       "3                        http://dbpedia.org/resource/&ME   \n",
       "4                 http://dbpedia.org/resource/'71_(film)   \n",
       "...                                                  ...   \n",
       "41668              http://dbpedia.org/resource/Zulu_Dawn   \n",
       "41669                  http://dbpedia.org/resource/Zurdo   \n",
       "41670               http://dbpedia.org/resource/Zus_&_Zo   \n",
       "41671              http://dbpedia.org/resource/Zvenigora   \n",
       "41672            http://dbpedia.org/resource/Zyzzyx_Road   \n",
       "\n",
       "                       title  \\\n",
       "0      !Women Art Revolution   \n",
       "1                      $9.99   \n",
       "2                      $pent   \n",
       "3                        &ME   \n",
       "4                 '71 (film)   \n",
       "...                      ...   \n",
       "41668              Zulu Dawn   \n",
       "41669                  Zurdo   \n",
       "41670               Zus & Zo   \n",
       "41671              Zvenigora   \n",
       "41672            Zyzzyx Road   \n",
       "\n",
       "                                               yago_link  \\\n",
       "0      http://yago-knowledge.org/resource/!Women_Art_...   \n",
       "1               http://yago-knowledge.org/resource/$9.99   \n",
       "2               http://yago-knowledge.org/resource/$pent   \n",
       "3                 http://yago-knowledge.org/resource/&ME   \n",
       "4          http://yago-knowledge.org/resource/'71_(film)   \n",
       "...                                                  ...   \n",
       "41668       http://yago-knowledge.org/resource/Zulu_Dawn   \n",
       "41669           http://yago-knowledge.org/resource/Zurdo   \n",
       "41670        http://yago-knowledge.org/resource/Zus_&_Zo   \n",
       "41671       http://yago-knowledge.org/resource/Zvenigora   \n",
       "41672     http://yago-knowledge.org/resource/Zyzzyx_Road   \n",
       "\n",
       "                                      wiki_link         director_name  \\\n",
       "0       http://www.wikidata.org/entity/Q4540204  Lynn Hershman Leeson   \n",
       "1        http://www.wikidata.org/entity/Q521188       Tatia Rosenthal   \n",
       "2       http://www.wikidata.org/entity/Q4540363         Gil Cates Jr.   \n",
       "3       http://www.wikidata.org/entity/Q4540370             NOT_FOUND   \n",
       "4      http://www.wikidata.org/entity/Q12100227          Yann Demange   \n",
       "...                                         ...                   ...   \n",
       "41668   http://www.wikidata.org/entity/Q1218876        Douglas Hickox   \n",
       "41669    http://www.wikidata.org/entity/Q961609         Carlos Salces   \n",
       "41670   http://www.wikidata.org/entity/Q1678744    Paula van der Oest   \n",
       "41671   http://www.wikidata.org/entity/Q1964744   Alexander Dovzhenko   \n",
       "41672    http://www.wikidata.org/entity/Q246211           John Penney   \n",
       "\n",
       "                                writer_name  \\\n",
       "0                      Lynn Hershman Leeson   \n",
       "1               Etgar Keret|Tatia Rosenthal   \n",
       "2                             Gil Cates Jr.   \n",
       "3                    Oscar van den Boogaard   \n",
       "4                             Gregory Burke   \n",
       "...                                     ...   \n",
       "41668                           Cy Endfield   \n",
       "41669                         Carlos Salces   \n",
       "41670                    Paula van der Oest   \n",
       "41671  Alexander Dovzhenko|Yuriy Tyutyunnyk   \n",
       "41672                           John Penney   \n",
       "\n",
       "                                            genre_id  \\\n",
       "0                                          NOT_FOUND   \n",
       "1                                          NOT_FOUND   \n",
       "2                                          NOT_FOUND   \n",
       "3                                    Romantic_comedy   \n",
       "4      Thriller_film|Action_film|War_film|Crime_film   \n",
       "...                                              ...   \n",
       "41668                                       War_film   \n",
       "41669                                      NOT_FOUND   \n",
       "41670                                Romantic_comedy   \n",
       "41671                                      NOT_FOUND   \n",
       "41672                                  Thriller_film   \n",
       "\n",
       "                                              country_id  \\\n",
       "0                                          United_States   \n",
       "1                                       Israel|Australia   \n",
       "2                                          United_States   \n",
       "3                                    Netherlands|Belgium   \n",
       "4                                         United_Kingdom   \n",
       "...                                                  ...   \n",
       "41668  South_Africa|United_Kingdom|United_States|Neth...   \n",
       "41669                                             Mexico   \n",
       "41670                                        Netherlands   \n",
       "41671   Soviet_Union|Ukrainian_Soviet_Socialist_Republic   \n",
       "41672                                      United_States   \n",
       "\n",
       "                                              actor_name  \n",
       "0                                              NOT_FOUND  \n",
       "1                         Geoffrey Rush|Anthony LaPaglia  \n",
       "2                               Phill Lewis|Jason London  \n",
       "3      Teun Luijkx|Mark Waschke|Rossy de Palma|Veroni...  \n",
       "4      Paul Anderson (actor)|Sean Harris|Jack O'Conne...  \n",
       "...                                                  ...  \n",
       "41668  Burt Lancaster|Simon Ward|Peter O'Toole|Denhol...  \n",
       "41669                  Arcelia Ramírez|Alejandro Camacho  \n",
       "41670          Jacob Derwig|Halina Reijn|Monic Hendrickx  \n",
       "41671                                          NOT_FOUND  \n",
       "41672            Leo Grillo|Katherine Heigl|Tom Sizemore  \n",
       "\n",
       "[41673 rows x 9 columns]>"
      ]
     },
     "execution_count": 36,
     "metadata": {},
     "output_type": "execute_result"
    }
   ],
   "source": [
    "final_movies_df.reset_index"
   ]
  },
  {
   "cell_type": "code",
   "execution_count": 37,
   "metadata": {
    "scrolled": true
   },
   "outputs": [
    {
     "data": {
      "text/plain": [
       "<bound method NDFrame.describe of                                                    movie  \\\n",
       "0      http://dbpedia.org/resource/!Women_Art_Revolution   \n",
       "1                      http://dbpedia.org/resource/$9.99   \n",
       "2                      http://dbpedia.org/resource/$pent   \n",
       "3                        http://dbpedia.org/resource/&ME   \n",
       "4                 http://dbpedia.org/resource/'71_(film)   \n",
       "...                                                  ...   \n",
       "41668              http://dbpedia.org/resource/Zulu_Dawn   \n",
       "41669                  http://dbpedia.org/resource/Zurdo   \n",
       "41670               http://dbpedia.org/resource/Zus_&_Zo   \n",
       "41671              http://dbpedia.org/resource/Zvenigora   \n",
       "41672            http://dbpedia.org/resource/Zyzzyx_Road   \n",
       "\n",
       "                       title  \\\n",
       "0      !Women Art Revolution   \n",
       "1                      $9.99   \n",
       "2                      $pent   \n",
       "3                        &ME   \n",
       "4                 '71 (film)   \n",
       "...                      ...   \n",
       "41668              Zulu Dawn   \n",
       "41669                  Zurdo   \n",
       "41670               Zus & Zo   \n",
       "41671              Zvenigora   \n",
       "41672            Zyzzyx Road   \n",
       "\n",
       "                                               yago_link  \\\n",
       "0      http://yago-knowledge.org/resource/!Women_Art_...   \n",
       "1               http://yago-knowledge.org/resource/$9.99   \n",
       "2               http://yago-knowledge.org/resource/$pent   \n",
       "3                 http://yago-knowledge.org/resource/&ME   \n",
       "4          http://yago-knowledge.org/resource/'71_(film)   \n",
       "...                                                  ...   \n",
       "41668       http://yago-knowledge.org/resource/Zulu_Dawn   \n",
       "41669           http://yago-knowledge.org/resource/Zurdo   \n",
       "41670        http://yago-knowledge.org/resource/Zus_&_Zo   \n",
       "41671       http://yago-knowledge.org/resource/Zvenigora   \n",
       "41672     http://yago-knowledge.org/resource/Zyzzyx_Road   \n",
       "\n",
       "                                      wiki_link         director_name  \\\n",
       "0       http://www.wikidata.org/entity/Q4540204  Lynn Hershman Leeson   \n",
       "1        http://www.wikidata.org/entity/Q521188       Tatia Rosenthal   \n",
       "2       http://www.wikidata.org/entity/Q4540363         Gil Cates Jr.   \n",
       "3       http://www.wikidata.org/entity/Q4540370             NOT_FOUND   \n",
       "4      http://www.wikidata.org/entity/Q12100227          Yann Demange   \n",
       "...                                         ...                   ...   \n",
       "41668   http://www.wikidata.org/entity/Q1218876        Douglas Hickox   \n",
       "41669    http://www.wikidata.org/entity/Q961609         Carlos Salces   \n",
       "41670   http://www.wikidata.org/entity/Q1678744    Paula van der Oest   \n",
       "41671   http://www.wikidata.org/entity/Q1964744   Alexander Dovzhenko   \n",
       "41672    http://www.wikidata.org/entity/Q246211           John Penney   \n",
       "\n",
       "                                writer_name  \\\n",
       "0                      Lynn Hershman Leeson   \n",
       "1               Etgar Keret|Tatia Rosenthal   \n",
       "2                             Gil Cates Jr.   \n",
       "3                    Oscar van den Boogaard   \n",
       "4                             Gregory Burke   \n",
       "...                                     ...   \n",
       "41668                           Cy Endfield   \n",
       "41669                         Carlos Salces   \n",
       "41670                    Paula van der Oest   \n",
       "41671  Alexander Dovzhenko|Yuriy Tyutyunnyk   \n",
       "41672                           John Penney   \n",
       "\n",
       "                                            genre_id  \\\n",
       "0                                          NOT_FOUND   \n",
       "1                                          NOT_FOUND   \n",
       "2                                          NOT_FOUND   \n",
       "3                                    Romantic_comedy   \n",
       "4      Thriller_film|Action_film|War_film|Crime_film   \n",
       "...                                              ...   \n",
       "41668                                       War_film   \n",
       "41669                                      NOT_FOUND   \n",
       "41670                                Romantic_comedy   \n",
       "41671                                      NOT_FOUND   \n",
       "41672                                  Thriller_film   \n",
       "\n",
       "                                              country_id  \\\n",
       "0                                          United_States   \n",
       "1                                       Israel|Australia   \n",
       "2                                          United_States   \n",
       "3                                    Netherlands|Belgium   \n",
       "4                                         United_Kingdom   \n",
       "...                                                  ...   \n",
       "41668  South_Africa|United_Kingdom|United_States|Neth...   \n",
       "41669                                             Mexico   \n",
       "41670                                        Netherlands   \n",
       "41671   Soviet_Union|Ukrainian_Soviet_Socialist_Republic   \n",
       "41672                                      United_States   \n",
       "\n",
       "                                              actor_name  \n",
       "0                                              NOT_FOUND  \n",
       "1                         Geoffrey Rush|Anthony LaPaglia  \n",
       "2                               Phill Lewis|Jason London  \n",
       "3      Teun Luijkx|Mark Waschke|Rossy de Palma|Veroni...  \n",
       "4      Paul Anderson (actor)|Sean Harris|Jack O'Conne...  \n",
       "...                                                  ...  \n",
       "41668  Burt Lancaster|Simon Ward|Peter O'Toole|Denhol...  \n",
       "41669                  Arcelia Ramírez|Alejandro Camacho  \n",
       "41670          Jacob Derwig|Halina Reijn|Monic Hendrickx  \n",
       "41671                                          NOT_FOUND  \n",
       "41672            Leo Grillo|Katherine Heigl|Tom Sizemore  \n",
       "\n",
       "[41673 rows x 9 columns]>"
      ]
     },
     "execution_count": 37,
     "metadata": {},
     "output_type": "execute_result"
    }
   ],
   "source": [
    "final_movies_df.describe"
   ]
  },
  {
   "cell_type": "code",
   "execution_count": 32,
   "metadata": {
    "scrolled": true
   },
   "outputs": [],
   "source": [
    "#replace the not found values with null to be able to handle them easier\n",
    "final_movies_df.replace(\"NOT_FOUND\", np.nan ,inplace=True)\n"
   ]
  },
  {
   "cell_type": "code",
   "execution_count": 38,
   "metadata": {
    "scrolled": true
   },
   "outputs": [],
   "source": [
    "#write final dataset to file\n",
    "final_movies_df.to_csv(\"generated_dataset/final_movies_dataset.csv\",index=False)"
   ]
  },
  {
   "cell_type": "code",
   "execution_count": null,
   "metadata": {
    "scrolled": true
   },
   "outputs": [],
   "source": []
  },
  {
   "cell_type": "code",
   "execution_count": null,
   "metadata": {
    "scrolled": true
   },
   "outputs": [],
   "source": []
  },
  {
   "cell_type": "code",
   "execution_count": null,
   "metadata": {
    "scrolled": true
   },
   "outputs": [],
   "source": []
  },
  {
   "cell_type": "code",
   "execution_count": null,
   "metadata": {
    "scrolled": true
   },
   "outputs": [],
   "source": []
  },
  {
   "cell_type": "code",
   "execution_count": null,
   "metadata": {
    "scrolled": true
   },
   "outputs": [],
   "source": []
  },
  {
   "cell_type": "code",
   "execution_count": null,
   "metadata": {
    "scrolled": true
   },
   "outputs": [],
   "source": []
  },
  {
   "cell_type": "code",
   "execution_count": null,
   "metadata": {
    "scrolled": true
   },
   "outputs": [],
   "source": []
  },
  {
   "cell_type": "code",
   "execution_count": null,
   "metadata": {
    "scrolled": true
   },
   "outputs": [],
   "source": []
  },
  {
   "cell_type": "code",
   "execution_count": null,
   "metadata": {
    "scrolled": true
   },
   "outputs": [],
   "source": []
  },
  {
   "cell_type": "code",
   "execution_count": null,
   "metadata": {
    "scrolled": true
   },
   "outputs": [],
   "source": []
  },
  {
   "cell_type": "code",
   "execution_count": null,
   "metadata": {
    "scrolled": true
   },
   "outputs": [],
   "source": []
  },
  {
   "cell_type": "code",
   "execution_count": null,
   "metadata": {
    "scrolled": true
   },
   "outputs": [],
   "source": []
  },
  {
   "cell_type": "code",
   "execution_count": null,
   "metadata": {
    "scrolled": true
   },
   "outputs": [],
   "source": []
  },
  {
   "cell_type": "code",
   "execution_count": null,
   "metadata": {
    "scrolled": true
   },
   "outputs": [],
   "source": []
  }
 ],
 "metadata": {
  "kernelspec": {
   "display_name": "Python 3",
   "language": "python",
   "name": "python3"
  },
  "language_info": {
   "codemirror_mode": {
    "name": "ipython",
    "version": 3
   },
   "file_extension": ".py",
   "mimetype": "text/x-python",
   "name": "python",
   "nbconvert_exporter": "python",
   "pygments_lexer": "ipython3",
   "version": "3.9.0"
  }
 },
 "nbformat": 4,
 "nbformat_minor": 4
}
