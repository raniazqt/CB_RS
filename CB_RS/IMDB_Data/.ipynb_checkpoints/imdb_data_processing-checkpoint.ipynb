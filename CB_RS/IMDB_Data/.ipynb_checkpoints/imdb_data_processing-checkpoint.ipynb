{
 "cells": [
  {
   "cell_type": "code",
   "execution_count": null,
   "metadata": {
    "scrolled": true
   },
   "outputs": [],
   "source": [
    "#!/usr/bin/env python\n",
    "# -*- coding: latin-1 -*-\n",
    "import pandas as pd # pandas is a data manipulation library\n",
    "import numpy as np #provides numerical arrays and functions to manipulate the arrays efficiently\n",
    "import re\n",
    "import math\n",
    "import csv\n",
    "from SPARQLWrapper import SPARQLWrapper,JSON, SPARQLWrapper2\n",
    "from collections import defaultdict\n",
    "from tqdm import tqdm \n",
    "from IPython.core.display import display, HTML\n",
    "display(HTML(\"<style>.container { width:90% !important; }</style>\"))\n",
    "\n",
    "#pd.set_option('display.height', 1000)\n",
    "pd.set_option('display.max_rows', 500)\n",
    "pd.set_option('display.max_columns', 500)\n",
    "pd.set_option('display.width', 1000)\n",
    "pd.set_option('display.max_colwidth', -1)\n",
    "\n",
    "import functools"
   ]
  },
  {
   "cell_type": "code",
   "execution_count": 165,
   "metadata": {
    "scrolled": true
   },
   "outputs": [
    {
     "name": "stderr",
     "output_type": "stream",
     "text": [
      "d:\\programs\\python39\\lib\\site-packages\\IPython\\core\\interactiveshell.py:3146: DtypeWarning: Columns (5) have mixed types.Specify dtype option on import or set low_memory=False.\n",
      "  has_raised = await self.run_ast_nodes(code_ast.body, cell_name,\n"
     ]
    }
   ],
   "source": [
    "# load movies.csv\n",
    "titles_df = pd.read_csv('DataSet/movies.tsv', sep='\\t',  lineterminator='\\n', names=None)"
   ]
  },
  {
   "cell_type": "code",
   "execution_count": null,
   "metadata": {
    "scrolled": true
   },
   "outputs": [],
   "source": [
    "titles_df.describe"
   ]
  },
  {
   "cell_type": "code",
   "execution_count": null,
   "metadata": {
    "scrolled": true
   },
   "outputs": [],
   "source": [
    "titles_df.info()"
   ]
  },
  {
   "cell_type": "code",
   "execution_count": null,
   "metadata": {
    "scrolled": true
   },
   "outputs": [],
   "source": [
    "titles_df.titleType.unique()"
   ]
  },
  {
   "cell_type": "code",
   "execution_count": null,
   "metadata": {
    "scrolled": true
   },
   "outputs": [],
   "source": [
    "titles_df.groupby('titleType')['primaryTitle'].count()"
   ]
  },
  {
   "cell_type": "code",
   "execution_count": 166,
   "metadata": {
    "scrolled": true
   },
   "outputs": [],
   "source": [
    "#Keep only titles of type movie\n",
    "movies_df = titles_df[titles_df['titleType'] == 'movie'] "
   ]
  },
  {
   "cell_type": "code",
   "execution_count": 167,
   "metadata": {},
   "outputs": [
    {
     "data": {
      "text/plain": [
       "557139"
      ]
     },
     "execution_count": 167,
     "metadata": {},
     "output_type": "execute_result"
    }
   ],
   "source": [
    "len(movies_df)"
   ]
  },
  {
   "cell_type": "code",
   "execution_count": 168,
   "metadata": {
    "scrolled": true
   },
   "outputs": [],
   "source": [
    "imdb_movies_df = movies_df[['tconst','primaryTitle','isAdult','startYear','genres']].copy()"
   ]
  },
  {
   "cell_type": "code",
   "execution_count": 169,
   "metadata": {
    "scrolled": true
   },
   "outputs": [],
   "source": [
    "imdb_movies_df = imdb_movies_df[imdb_movies_df['genres'] != '\\\\N']"
   ]
  },
  {
   "cell_type": "code",
   "execution_count": 170,
   "metadata": {
    "scrolled": true
   },
   "outputs": [
    {
     "data": {
      "text/plain": [
       "487194"
      ]
     },
     "execution_count": 170,
     "metadata": {},
     "output_type": "execute_result"
    }
   ],
   "source": [
    "len(imdb_movies_df)"
   ]
  },
  {
   "cell_type": "code",
   "execution_count": 171,
   "metadata": {
    "scrolled": true
   },
   "outputs": [],
   "source": [
    "#keep only 2 columns id and title\n",
    "movies_titles_df = imdb_movies_df[['tconst','primaryTitle','genres']]"
   ]
  },
  {
   "cell_type": "code",
   "execution_count": 172,
   "metadata": {
    "scrolled": true
   },
   "outputs": [
    {
     "data": {
      "text/plain": [
       "<bound method NDFrame.describe of           movie_id                                                movie_name                 genres\n",
       "8        tt0000009  Miss Jerry                                                Romance              \n",
       "331      tt0000335  Soldiers of the Cross                                     Biography,Drama      \n",
       "570      tt0000574  The Story of the Kelly Gang                               Biography,Crime,Drama\n",
       "610      tt0000615  Robbery Under Arms                                        Drama                \n",
       "625      tt0000630  Hamlet                                                    Drama                \n",
       "...            ...     ...                                                      ...                \n",
       "7292169  tt9916620  The Copeland Case                                         Drama                \n",
       "7292170  tt9916622  Rodolpho Teóphilo - O Legado de um Pioneiro               Documentary          \n",
       "7292197  tt9916680  De la ilusión al desconcierto: cine colombiano 1970-1995  Documentary          \n",
       "7292209  tt9916706  Dankyavar Danka                                           Comedy               \n",
       "7292231  tt9916754  Chico Albuquerque - Revelações                            Documentary          \n",
       "\n",
       "[487194 rows x 3 columns]>"
      ]
     },
     "execution_count": 172,
     "metadata": {},
     "output_type": "execute_result"
    }
   ],
   "source": [
    "#rename the columns\n",
    "movies_titles_df = movies_titles_df.rename(columns= {'tconst':'movie_id', 'primaryTitle':'movie_name'})\n",
    "movies_titles_df.describe"
   ]
  },
  {
   "cell_type": "code",
   "execution_count": 174,
   "metadata": {},
   "outputs": [],
   "source": [
    "# load names file which contain the names for all crew members\n",
    "crew_names_df = pd.read_csv('DataSet/actors.tsv', sep='\\t',  lineterminator='\\n', names=None)"
   ]
  },
  {
   "cell_type": "code",
   "execution_count": 175,
   "metadata": {},
   "outputs": [
    {
     "data": {
      "text/plain": [
       "<bound method NDFrame.describe of             crew_id           crew_name\n",
       "0         nm0000001  Fred Astaire      \n",
       "1         nm0000002  Lauren Bacall     \n",
       "2         nm0000003  Brigitte Bardot   \n",
       "3         nm0000004  John Belushi      \n",
       "4         nm0000005  Ingmar Bergman    \n",
       "...             ...             ...    \n",
       "10464396  nm9993714  Romeo del Rosario \n",
       "10464397  nm9993716  Essias Loberg     \n",
       "10464398  nm9993717  Harikrishnan Rajan\n",
       "10464399  nm9993718  Aayush Nair       \n",
       "10464400  nm9993719  Andre Hill        \n",
       "\n",
       "[10464401 rows x 2 columns]>"
      ]
     },
     "execution_count": 175,
     "metadata": {},
     "output_type": "execute_result"
    }
   ],
   "source": [
    "#keep only the name and id of the crews\n",
    "crew_names_df= crew_names_df[['nconst','primaryName']].copy()\n",
    "crew_names_df = crew_names_df.rename(columns={'nconst':'crew_id', 'primaryName':'crew_name'})\n",
    "crew_names_df.describe"
   ]
  },
  {
   "cell_type": "code",
   "execution_count": null,
   "metadata": {},
   "outputs": [],
   "source": []
  },
  {
   "cell_type": "code",
   "execution_count": null,
   "metadata": {},
   "outputs": [],
   "source": []
  },
  {
   "cell_type": "code",
   "execution_count": null,
   "metadata": {
    "scrolled": true
   },
   "outputs": [],
   "source": [
    "#load the cast data which contsins mapping between the movie id and the cast (actor, director,writer) ids\n",
    "cast_df = pd.read_csv('C:/Users/rania/OneDrive/AI Master/Project/Python_Code/DataSet/actors_movies_ids.tsv', sep='\\t',  lineterminator='\\n', names=None)"
   ]
  },
  {
   "cell_type": "code",
   "execution_count": 176,
   "metadata": {},
   "outputs": [
    {
     "data": {
      "text/plain": [
       "array(['self', 'director', 'cinematographer', 'composer', 'producer',\n",
       "       'editor', 'actor', 'actress', 'writer', 'production_designer',\n",
       "       'archive_footage', 'archive_sound'], dtype=object)"
      ]
     },
     "execution_count": 176,
     "metadata": {},
     "output_type": "execute_result"
    }
   ],
   "source": [
    "#check the available cast categories  \n",
    "cast_df['category'].unique()"
   ]
  },
  {
   "cell_type": "code",
   "execution_count": 177,
   "metadata": {
    "scrolled": true
   },
   "outputs": [],
   "source": [
    "#copy only the actors and actresess data\n",
    "starring_df = cast_df[cast_df['category'].isin(['actor','actress'])].copy()"
   ]
  },
  {
   "cell_type": "code",
   "execution_count": 178,
   "metadata": {
    "scrolled": true
   },
   "outputs": [
    {
     "name": "stdout",
     "output_type": "stream",
     "text": [
      "<class 'pandas.core.frame.DataFrame'>\n",
      "Int64Index: 16735395 entries, 11 to 41706005\n",
      "Data columns (total 6 columns):\n",
      " #   Column      Dtype \n",
      "---  ------      ----- \n",
      " 0   tconst      object\n",
      " 1   ordering    int64 \n",
      " 2   nconst      object\n",
      " 3   category    object\n",
      " 4   job         object\n",
      " 5   characters  object\n",
      "dtypes: int64(1), object(5)\n",
      "memory usage: 893.8+ MB\n"
     ]
    }
   ],
   "source": [
    "starring_df.info()"
   ]
  },
  {
   "cell_type": "code",
   "execution_count": 179,
   "metadata": {
    "scrolled": true
   },
   "outputs": [],
   "source": [
    "#keep only the movie id and the actor id\n",
    "starring_df = starring_df[['tconst','nconst']].copy()"
   ]
  },
  {
   "cell_type": "code",
   "execution_count": 180,
   "metadata": {
    "scrolled": true
   },
   "outputs": [],
   "source": [
    "#rename columns to actor_id and movie_id\n",
    "starring_df = starring_df.rename(columns={'tconst':'movie_id', 'nconst':'actor_id'})"
   ]
  },
  {
   "cell_type": "code",
   "execution_count": 182,
   "metadata": {
    "scrolled": true
   },
   "outputs": [],
   "source": [
    "#get the actors name for each movie from the crew names list\n",
    "movie_id_actor_name_df = starring_df.merge(crew_names_df, how=\"inner\", left_on='actor_id', right_on='crew_id')"
   ]
  },
  {
   "cell_type": "code",
   "execution_count": 196,
   "metadata": {
    "scrolled": true
   },
   "outputs": [],
   "source": [
    "#starring_df[~starring_df['actor_id'].isin( x['actor_id'].unique())]\n",
    "movie_id_actor_name_df= movie_id_actor_name_df.rename(columns={'crew_name':'actor_name'})\n",
    "movie_id_actor_name_df.drop(columns={'crew_id'}, inplace= True)"
   ]
  },
  {
   "cell_type": "code",
   "execution_count": 197,
   "metadata": {},
   "outputs": [
    {
     "data": {
      "text/plain": [
       "<bound method NDFrame.describe of            movie_id    actor_id        actor_name\n",
       "0         tt0000005  nm0443482   Charles Kayser  \n",
       "1         tt0000005  nm0653042   John Ott        \n",
       "2         tt0000007  nm0179163   James J. Corbett\n",
       "3         tt0003116  nm0179163   James J. Corbett\n",
       "4         tt0003730  nm0179163   James J. Corbett\n",
       "...             ...        ...                ...\n",
       "16709631  tt9916756  nm10781824  Lakeisha Barnes \n",
       "16709632  tt9916764  nm10538641  Yvonne Akins    \n",
       "16709633  tt9916856  nm10538650  Anna Fitoussi   \n",
       "16709634  tt9916856  nm10538646  Andreas Demmel  \n",
       "16709635  tt9916856  nm10538647  Kathrin Knöpfle \n",
       "\n",
       "[16709636 rows x 3 columns]>"
      ]
     },
     "execution_count": 197,
     "metadata": {},
     "output_type": "execute_result"
    }
   ],
   "source": [
    "movie_id_actor_name_df.describe"
   ]
  },
  {
   "cell_type": "code",
   "execution_count": 190,
   "metadata": {
    "scrolled": true
   },
   "outputs": [],
   "source": [
    "actors_grouped = movie_id_actor_name_df.groupby(['movie_id'], as_index=False)\n",
    "#aggregate the directors and directors in one column for each separated by |\n",
    "movie_id_actor_name_grouped_df = actors_grouped.agg({\n",
    "                                        'actor_name':lambda x: '|'.join(set(x))\n",
    "                                        \n",
    "                                        })\n",
    "#save grouped data to file\n",
    "movie_id_actor_name_grouped_df.to_csv(\"generated_dataset/actors_movies_id_mapping.csv\", index=False)"
   ]
  },
  {
   "cell_type": "code",
   "execution_count": 191,
   "metadata": {
    "scrolled": true
   },
   "outputs": [],
   "source": [
    "final_dataset_df = movies_titles_df.merge(movie_id_actor_name_grouped_df, how=\"inner\", on='movie_id')"
   ]
  },
  {
   "cell_type": "code",
   "execution_count": 192,
   "metadata": {},
   "outputs": [
    {
     "data": {
      "text/plain": [
       "359532"
      ]
     },
     "execution_count": 192,
     "metadata": {},
     "output_type": "execute_result"
    }
   ],
   "source": [
    "len(final_dataset_df)"
   ]
  },
  {
   "cell_type": "code",
   "execution_count": 193,
   "metadata": {
    "scrolled": true
   },
   "outputs": [
    {
     "data": {
      "text/plain": [
       "<bound method NDFrame.describe of              tconst  ordering      nconst  category                 job characters\n",
       "1         tt0000001  2         nm0005690   director  \\N                  \\N       \n",
       "3         tt0000002  1         nm0721526   director  \\N                  \\N       \n",
       "5         tt0000003  1         nm0721526   director  \\N                  \\N       \n",
       "9         tt0000004  1         nm0721526   director  \\N                  \\N       \n",
       "13        tt0000005  3         nm0005690   director  \\N                  \\N       \n",
       "...             ... ..               ...        ...  ..                  ..       \n",
       "41705974  tt9916850  6         nm5519375   director  \\N                  \\N       \n",
       "41705983  tt9916852  5         nm5519454   director  \\N                  \\N       \n",
       "41705984  tt9916852  6         nm5519375   director  \\N                  \\N       \n",
       "41705992  tt9916856  5         nm10538645  director  \\N                  \\N       \n",
       "41706001  tt9916880  5         nm0996406   director  principal director  \\N       \n",
       "\n",
       "[4807068 rows x 6 columns]>"
      ]
     },
     "execution_count": 193,
     "metadata": {},
     "output_type": "execute_result"
    }
   ],
   "source": [
    "#copy only the directors data\n",
    "director_df = cast_df[cast_df['category'].isin(['director'])].copy()\n",
    "director_df.describe"
   ]
  },
  {
   "cell_type": "code",
   "execution_count": 194,
   "metadata": {
    "scrolled": true
   },
   "outputs": [
    {
     "data": {
      "text/plain": [
       "<bound method NDFrame.describe of            movie_id director_id\n",
       "1         tt0000001  nm0005690 \n",
       "3         tt0000002  nm0721526 \n",
       "5         tt0000003  nm0721526 \n",
       "9         tt0000004  nm0721526 \n",
       "13        tt0000005  nm0005690 \n",
       "...             ...        ... \n",
       "41705974  tt9916850  nm5519375 \n",
       "41705983  tt9916852  nm5519454 \n",
       "41705984  tt9916852  nm5519375 \n",
       "41705992  tt9916856  nm10538645\n",
       "41706001  tt9916880  nm0996406 \n",
       "\n",
       "[4807068 rows x 2 columns]>"
      ]
     },
     "execution_count": 194,
     "metadata": {},
     "output_type": "execute_result"
    }
   ],
   "source": [
    "#keep only the movie id and the actor id\n",
    "director_df = director_df[['tconst','nconst']].copy()\n",
    "#rename columns to actor_id and movie_id\n",
    "director_df = director_df.rename(columns={'tconst':'movie_id', 'nconst':'director_id'})\n",
    "director_df.describe"
   ]
  },
  {
   "cell_type": "code",
   "execution_count": 195,
   "metadata": {
    "scrolled": true
   },
   "outputs": [],
   "source": [
    "#get the actors name for each movie from the crew names list\n",
    "movie_director_name_df = director_df.merge(crew_names_df, how=\"inner\", left_on='director_id', right_on='crew_id')\n"
   ]
  },
  {
   "cell_type": "code",
   "execution_count": 202,
   "metadata": {
    "scrolled": true
   },
   "outputs": [],
   "source": [
    "movie_director_name_df= movie_director_name_df.rename(columns={'crew_name':'director_name'})\n",
    "#movie_id_actor_name_df.drop(columns={'crew_id'}, inplace= True)"
   ]
  },
  {
   "cell_type": "code",
   "execution_count": 203,
   "metadata": {
    "scrolled": true
   },
   "outputs": [],
   "source": [
    "directors_grouped = movie_director_name_df.groupby(['movie_id'], as_index=False)\n",
    "#aggregate the directors and directors in one column for each separated by |\n",
    "movie_id_director_name_grouped_df = directors_grouped.agg({\n",
    "                                        'director_name':lambda x: '|'.join(set(x))\n",
    "                                        \n",
    "                                        })\n",
    "#save grouped data to file\n",
    "movie_id_director_name_grouped_df.to_csv(\"generated_dataset/directors_movies_id_mapping.csv\", index=False)"
   ]
  },
  {
   "cell_type": "code",
   "execution_count": 208,
   "metadata": {},
   "outputs": [
    {
     "data": {
      "text/plain": [
       "3769487"
      ]
     },
     "execution_count": 208,
     "metadata": {},
     "output_type": "execute_result"
    }
   ],
   "source": [
    "len(movie_id_director_name_grouped_df.movie_id.unique())"
   ]
  },
  {
   "cell_type": "code",
   "execution_count": 209,
   "metadata": {
    "scrolled": true
   },
   "outputs": [],
   "source": [
    "final_dataset_df = final_dataset_df.merge(movie_id_director_name_grouped_df, how=\"inner\", on='movie_id')"
   ]
  },
  {
   "cell_type": "code",
   "execution_count": 210,
   "metadata": {
    "scrolled": true
   },
   "outputs": [
    {
     "data": {
      "text/html": [
       "<div>\n",
       "<style scoped>\n",
       "    .dataframe tbody tr th:only-of-type {\n",
       "        vertical-align: middle;\n",
       "    }\n",
       "\n",
       "    .dataframe tbody tr th {\n",
       "        vertical-align: top;\n",
       "    }\n",
       "\n",
       "    .dataframe thead th {\n",
       "        text-align: right;\n",
       "    }\n",
       "</style>\n",
       "<table border=\"1\" class=\"dataframe\">\n",
       "  <thead>\n",
       "    <tr style=\"text-align: right;\">\n",
       "      <th></th>\n",
       "      <th>movie_id</th>\n",
       "      <th>movie_name</th>\n",
       "      <th>genres</th>\n",
       "      <th>actor_name</th>\n",
       "      <th>director_name</th>\n",
       "    </tr>\n",
       "  </thead>\n",
       "  <tbody>\n",
       "    <tr>\n",
       "      <th>0</th>\n",
       "      <td>tt0000009</td>\n",
       "      <td>Miss Jerry</td>\n",
       "      <td>Romance</td>\n",
       "      <td>Chauncey Depew|William Courtenay|Blanche Bayliss</td>\n",
       "      <td>Alexander Black</td>\n",
       "    </tr>\n",
       "    <tr>\n",
       "      <th>1</th>\n",
       "      <td>tt0000335</td>\n",
       "      <td>Soldiers of the Cross</td>\n",
       "      <td>Biography,Drama</td>\n",
       "      <td>Orrie Perry|Reg Perry|Mr. Graham|Beatrice Day|John Jones|Harold Graham</td>\n",
       "      <td>Herbert Booth|Joseph Perry</td>\n",
       "    </tr>\n",
       "    <tr>\n",
       "      <th>2</th>\n",
       "      <td>tt0000574</td>\n",
       "      <td>The Story of the Kelly Gang</td>\n",
       "      <td>Biography,Crime,Drama</td>\n",
       "      <td>John Tait|Norman Campbell|Bella Cola|Elizabeth Tait</td>\n",
       "      <td>Charles Tait</td>\n",
       "    </tr>\n",
       "    <tr>\n",
       "      <th>3</th>\n",
       "      <td>tt0000615</td>\n",
       "      <td>Robbery Under Arms</td>\n",
       "      <td>Drama</td>\n",
       "      <td>George Merriman|Lance Vane|Jim Gerald|William Duff|Rhoda Dendron|Arthur Guest</td>\n",
       "      <td>Charles MacMahon</td>\n",
       "    </tr>\n",
       "    <tr>\n",
       "      <th>4</th>\n",
       "      <td>tt0000630</td>\n",
       "      <td>Hamlet</td>\n",
       "      <td>Drama</td>\n",
       "      <td>Fernanda Negri Pouget</td>\n",
       "      <td>Mario Caserini</td>\n",
       "    </tr>\n",
       "    <tr>\n",
       "      <th>...</th>\n",
       "      <td>...</td>\n",
       "      <td>...</td>\n",
       "      <td>...</td>\n",
       "      <td>...</td>\n",
       "      <td>...</td>\n",
       "    </tr>\n",
       "    <tr>\n",
       "      <th>322228</th>\n",
       "      <td>tt9916362</td>\n",
       "      <td>Coven</td>\n",
       "      <td>Drama,History,Horror</td>\n",
       "      <td>Alex Brendemühl|Daniel Fanego|Amaia Aberasturi|Garazi Urkola</td>\n",
       "      <td>Pablo Agüero</td>\n",
       "    </tr>\n",
       "    <tr>\n",
       "      <th>322229</th>\n",
       "      <td>tt9916428</td>\n",
       "      <td>The Secret of China</td>\n",
       "      <td>Adventure,History,War</td>\n",
       "      <td>Wang Peng Kai|Wenli Jiang|A.C Stokes|Valery Gadreau|Vincent Matile|Kenan Heppe|Shenyang Xiao</td>\n",
       "      <td>Jixing Wang</td>\n",
       "    </tr>\n",
       "    <tr>\n",
       "      <th>322230</th>\n",
       "      <td>tt9916538</td>\n",
       "      <td>Kuambil Lagi Hatiku</td>\n",
       "      <td>Drama</td>\n",
       "      <td>Ria Irawan|Sahil Shah|Lala Karmela|Cut Mini Theo</td>\n",
       "      <td>Azhar Kinoi Lubis</td>\n",
       "    </tr>\n",
       "    <tr>\n",
       "      <th>322231</th>\n",
       "      <td>tt9916622</td>\n",
       "      <td>Rodolpho Teóphilo - O Legado de um Pioneiro</td>\n",
       "      <td>Documentary</td>\n",
       "      <td>Oldair Soares Ammom</td>\n",
       "      <td>Angela Gurgel|Ana Célia de Oliveira</td>\n",
       "    </tr>\n",
       "    <tr>\n",
       "      <th>322232</th>\n",
       "      <td>tt9916706</td>\n",
       "      <td>Dankyavar Danka</td>\n",
       "      <td>Comedy</td>\n",
       "      <td>Suvarna Kale|Makarand Anaspure|Prakash Dhotre|Anvay Bendre|Ashwini Ekbote</td>\n",
       "      <td>Kanchan Nayak</td>\n",
       "    </tr>\n",
       "  </tbody>\n",
       "</table>\n",
       "<p>322233 rows × 5 columns</p>\n",
       "</div>"
      ],
      "text/plain": [
       "         movie_id                                   movie_name                 genres                                                                                    actor_name                        director_name\n",
       "0       tt0000009  Miss Jerry                                   Romance                Chauncey Depew|William Courtenay|Blanche Bayliss                                              Alexander Black                    \n",
       "1       tt0000335  Soldiers of the Cross                        Biography,Drama        Orrie Perry|Reg Perry|Mr. Graham|Beatrice Day|John Jones|Harold Graham                        Herbert Booth|Joseph Perry         \n",
       "2       tt0000574  The Story of the Kelly Gang                  Biography,Crime,Drama  John Tait|Norman Campbell|Bella Cola|Elizabeth Tait                                           Charles Tait                       \n",
       "3       tt0000615  Robbery Under Arms                           Drama                  George Merriman|Lance Vane|Jim Gerald|William Duff|Rhoda Dendron|Arthur Guest                 Charles MacMahon                   \n",
       "4       tt0000630  Hamlet                                       Drama                  Fernanda Negri Pouget                                                                         Mario Caserini                     \n",
       "...           ...     ...                                         ...                                    ...                                                                                    ...                     \n",
       "322228  tt9916362  Coven                                        Drama,History,Horror   Alex Brendemühl|Daniel Fanego|Amaia Aberasturi|Garazi Urkola                                  Pablo Agüero                       \n",
       "322229  tt9916428  The Secret of China                          Adventure,History,War  Wang Peng Kai|Wenli Jiang|A.C Stokes|Valery Gadreau|Vincent Matile|Kenan Heppe|Shenyang Xiao  Jixing Wang                        \n",
       "322230  tt9916538  Kuambil Lagi Hatiku                          Drama                  Ria Irawan|Sahil Shah|Lala Karmela|Cut Mini Theo                                              Azhar Kinoi Lubis                  \n",
       "322231  tt9916622  Rodolpho Teóphilo - O Legado de um Pioneiro  Documentary            Oldair Soares Ammom                                                                           Angela Gurgel|Ana Célia de Oliveira\n",
       "322232  tt9916706  Dankyavar Danka                              Comedy                 Suvarna Kale|Makarand Anaspure|Prakash Dhotre|Anvay Bendre|Ashwini Ekbote                     Kanchan Nayak                      \n",
       "\n",
       "[322233 rows x 5 columns]"
      ]
     },
     "execution_count": 210,
     "metadata": {},
     "output_type": "execute_result"
    }
   ],
   "source": [
    "final_dataset_df"
   ]
  },
  {
   "cell_type": "code",
   "execution_count": null,
   "metadata": {
    "scrolled": true
   },
   "outputs": [],
   "source": []
  },
  {
   "cell_type": "code",
   "execution_count": 211,
   "metadata": {
    "scrolled": true
   },
   "outputs": [
    {
     "data": {
      "text/plain": [
       "<bound method NDFrame.describe of              tconst  ordering     nconst category                     job characters\n",
       "90        tt0000036  3         nm0410331  writer   story \"Rip Van Winkle\"  \\N       \n",
       "147       tt0000076  3         nm0410331  writer   story \"Rip Van Winkle\"  \\N       \n",
       "189       tt0000108  3         nm0410331  writer   story \"Rip Van Winkle\"  \\N       \n",
       "193       tt0000109  3         nm0410331  writer   story \"Rip Van Winkle\"  \\N       \n",
       "197       tt0000110  3         nm0410331  writer   story \"Rip Van Winkle\"  \\N       \n",
       "...             ... ..               ...     ...                      ...  ..       \n",
       "41705986  tt9916852  8         nm1628284  writer   creator                 \\N       \n",
       "41705987  tt9916852  9         nm2921377  writer   \\N                      \\N       \n",
       "41705993  tt9916856  6         nm6951431  writer   screenplay by           \\N       \n",
       "41706002  tt9916880  6         nm1482639  writer   \\N                      \\N       \n",
       "41706003  tt9916880  7         nm2586970  writer   books                   \\N       \n",
       "\n",
       "[5519070 rows x 6 columns]>"
      ]
     },
     "execution_count": 211,
     "metadata": {},
     "output_type": "execute_result"
    }
   ],
   "source": [
    "#copy only the directors data\n",
    "writer_df = cast_df[cast_df['category'].isin(['writer'])].copy()\n",
    "writer_df.describe"
   ]
  },
  {
   "cell_type": "code",
   "execution_count": 212,
   "metadata": {
    "scrolled": true
   },
   "outputs": [
    {
     "data": {
      "text/plain": [
       "<bound method NDFrame.describe of            movie_id  writer_id\n",
       "90        tt0000036  nm0410331\n",
       "147       tt0000076  nm0410331\n",
       "189       tt0000108  nm0410331\n",
       "193       tt0000109  nm0410331\n",
       "197       tt0000110  nm0410331\n",
       "...             ...        ...\n",
       "41705986  tt9916852  nm1628284\n",
       "41705987  tt9916852  nm2921377\n",
       "41705993  tt9916856  nm6951431\n",
       "41706002  tt9916880  nm1482639\n",
       "41706003  tt9916880  nm2586970\n",
       "\n",
       "[5519070 rows x 2 columns]>"
      ]
     },
     "execution_count": 212,
     "metadata": {},
     "output_type": "execute_result"
    }
   ],
   "source": [
    "#keep only the movie id and the actor id\n",
    "writer_df = writer_df[['tconst','nconst']].copy()\n",
    "#rename columns to actor_id and movie_id\n",
    "writer_df = writer_df.rename(columns={'tconst':'movie_id', 'nconst':'writer_id'})\n",
    "writer_df.describe"
   ]
  },
  {
   "cell_type": "code",
   "execution_count": 213,
   "metadata": {
    "scrolled": true
   },
   "outputs": [],
   "source": [
    "#get the actors name for each movie from the crew names list\n",
    "movie_writer_name_df = writer_df.merge(crew_names_df, how=\"inner\", left_on='writer_id', right_on='crew_id')\n"
   ]
  },
  {
   "cell_type": "code",
   "execution_count": 214,
   "metadata": {
    "scrolled": true
   },
   "outputs": [],
   "source": [
    "movie_writer_name_df= movie_writer_name_df.rename(columns={'crew_name':'writer_name'})\n",
    "#movie_id_actor_name_df.drop(columns={'crew_id'}, inplace= True)"
   ]
  },
  {
   "cell_type": "code",
   "execution_count": 215,
   "metadata": {
    "scrolled": true
   },
   "outputs": [],
   "source": [
    "writers_grouped = movie_writer_name_df.groupby(['movie_id'], as_index=False)\n",
    "#aggregate the directors and directors in one column for each separated by |\n",
    "movie_id_writer_name_grouped_df = writers_grouped.agg({\n",
    "                                        'writer_name':lambda x: '|'.join(set(x))\n",
    "                                        \n",
    "                                        })\n",
    "#save grouped data to file\n",
    "movie_id_writer_name_grouped_df.to_csv(\"generated_dataset/writer_movies_id_mapping.csv\", index=False)"
   ]
  },
  {
   "cell_type": "code",
   "execution_count": 216,
   "metadata": {},
   "outputs": [
    {
     "data": {
      "text/plain": [
       "2644140"
      ]
     },
     "execution_count": 216,
     "metadata": {},
     "output_type": "execute_result"
    }
   ],
   "source": [
    "len(movie_id_writer_name_grouped_df.movie_id.unique())"
   ]
  },
  {
   "cell_type": "code",
   "execution_count": 217,
   "metadata": {
    "scrolled": true
   },
   "outputs": [],
   "source": [
    "final_dataset_df = final_dataset_df.merge(movie_id_writer_name_grouped_df, how=\"inner\", on='movie_id')"
   ]
  },
  {
   "cell_type": "code",
   "execution_count": 218,
   "metadata": {
    "scrolled": true
   },
   "outputs": [
    {
     "data": {
      "text/html": [
       "<div>\n",
       "<style scoped>\n",
       "    .dataframe tbody tr th:only-of-type {\n",
       "        vertical-align: middle;\n",
       "    }\n",
       "\n",
       "    .dataframe tbody tr th {\n",
       "        vertical-align: top;\n",
       "    }\n",
       "\n",
       "    .dataframe thead th {\n",
       "        text-align: right;\n",
       "    }\n",
       "</style>\n",
       "<table border=\"1\" class=\"dataframe\">\n",
       "  <thead>\n",
       "    <tr style=\"text-align: right;\">\n",
       "      <th></th>\n",
       "      <th>movie_id</th>\n",
       "      <th>movie_name</th>\n",
       "      <th>genres</th>\n",
       "      <th>actor_name</th>\n",
       "      <th>director_name</th>\n",
       "      <th>writer_name</th>\n",
       "    </tr>\n",
       "  </thead>\n",
       "  <tbody>\n",
       "    <tr>\n",
       "      <th>0</th>\n",
       "      <td>tt0000615</td>\n",
       "      <td>Robbery Under Arms</td>\n",
       "      <td>Drama</td>\n",
       "      <td>George Merriman|Lance Vane|Jim Gerald|William Duff|Rhoda Dendron|Arthur Guest</td>\n",
       "      <td>Charles MacMahon</td>\n",
       "      <td>Rolf Boldrewood</td>\n",
       "    </tr>\n",
       "    <tr>\n",
       "      <th>1</th>\n",
       "      <td>tt0000630</td>\n",
       "      <td>Hamlet</td>\n",
       "      <td>Drama</td>\n",
       "      <td>Fernanda Negri Pouget</td>\n",
       "      <td>Mario Caserini</td>\n",
       "      <td>William Shakespeare</td>\n",
       "    </tr>\n",
       "    <tr>\n",
       "      <th>2</th>\n",
       "      <td>tt0000676</td>\n",
       "      <td>Don Álvaro o la fuerza del sino</td>\n",
       "      <td>Drama</td>\n",
       "      <td>Joaquín Carrasco|Jaime Borrás</td>\n",
       "      <td>Narciso Cuyàs</td>\n",
       "      <td>Duque de Rivas</td>\n",
       "    </tr>\n",
       "    <tr>\n",
       "      <th>3</th>\n",
       "      <td>tt0000886</td>\n",
       "      <td>Hamlet, Prince of Denmark</td>\n",
       "      <td>Drama</td>\n",
       "      <td>Jean Mounet-Sully</td>\n",
       "      <td>Gérard Bourgeois</td>\n",
       "      <td>William Shakespeare</td>\n",
       "    </tr>\n",
       "    <tr>\n",
       "      <th>4</th>\n",
       "      <td>tt0000941</td>\n",
       "      <td>Locura de amor</td>\n",
       "      <td>Drama</td>\n",
       "      <td>José Durany|Elvira Fremont|Joaquín Carrasco|José Argelagués</td>\n",
       "      <td>Ricardo de Baños|Alberto Marro</td>\n",
       "      <td>Manuel Tamayo y Baus</td>\n",
       "    </tr>\n",
       "    <tr>\n",
       "      <th>...</th>\n",
       "      <td>...</td>\n",
       "      <td>...</td>\n",
       "      <td>...</td>\n",
       "      <td>...</td>\n",
       "      <td>...</td>\n",
       "      <td>...</td>\n",
       "    </tr>\n",
       "    <tr>\n",
       "      <th>187645</th>\n",
       "      <td>tt9916170</td>\n",
       "      <td>The Rehearsal</td>\n",
       "      <td>Drama</td>\n",
       "      <td>Julia Ianina|Pablo Lafuente|Kelner Macêdo|Germano Melo</td>\n",
       "      <td>Tamar Guimaraes</td>\n",
       "      <td>Lillah Halla|Melissa de Raaf</td>\n",
       "    </tr>\n",
       "    <tr>\n",
       "      <th>187646</th>\n",
       "      <td>tt9916270</td>\n",
       "      <td>Il talento del calabrone</td>\n",
       "      <td>Thriller</td>\n",
       "      <td>Marina Occhionero|Sergio Castellitto|Anna Foglietta|Lorenzo Richelmy</td>\n",
       "      <td>Giacomo Cimini</td>\n",
       "      <td>Lorenzo Collalti</td>\n",
       "    </tr>\n",
       "    <tr>\n",
       "      <th>187647</th>\n",
       "      <td>tt9916362</td>\n",
       "      <td>Coven</td>\n",
       "      <td>Drama,History,Horror</td>\n",
       "      <td>Alex Brendemühl|Daniel Fanego|Amaia Aberasturi|Garazi Urkola</td>\n",
       "      <td>Pablo Agüero</td>\n",
       "      <td>Katell Guillou</td>\n",
       "    </tr>\n",
       "    <tr>\n",
       "      <th>187648</th>\n",
       "      <td>tt9916538</td>\n",
       "      <td>Kuambil Lagi Hatiku</td>\n",
       "      <td>Drama</td>\n",
       "      <td>Ria Irawan|Sahil Shah|Lala Karmela|Cut Mini Theo</td>\n",
       "      <td>Azhar Kinoi Lubis</td>\n",
       "      <td>Arief Ash Siddiq|Salman Aristo|Rino Sarjono</td>\n",
       "    </tr>\n",
       "    <tr>\n",
       "      <th>187649</th>\n",
       "      <td>tt9916706</td>\n",
       "      <td>Dankyavar Danka</td>\n",
       "      <td>Comedy</td>\n",
       "      <td>Suvarna Kale|Makarand Anaspure|Prakash Dhotre|Anvay Bendre|Ashwini Ekbote</td>\n",
       "      <td>Kanchan Nayak</td>\n",
       "      <td>Sudhir Nikam</td>\n",
       "    </tr>\n",
       "  </tbody>\n",
       "</table>\n",
       "<p>187650 rows × 6 columns</p>\n",
       "</div>"
      ],
      "text/plain": [
       "         movie_id                       movie_name                genres                                                                     actor_name                   director_name                                  writer_name\n",
       "0       tt0000615  Robbery Under Arms               Drama                 George Merriman|Lance Vane|Jim Gerald|William Duff|Rhoda Dendron|Arthur Guest  Charles MacMahon                Rolf Boldrewood                            \n",
       "1       tt0000630  Hamlet                           Drama                 Fernanda Negri Pouget                                                          Mario Caserini                  William Shakespeare                        \n",
       "2       tt0000676  Don Álvaro o la fuerza del sino  Drama                 Joaquín Carrasco|Jaime Borrás                                                  Narciso Cuyàs                   Duque de Rivas                             \n",
       "3       tt0000886  Hamlet, Prince of Denmark        Drama                 Jean Mounet-Sully                                                              Gérard Bourgeois                William Shakespeare                        \n",
       "4       tt0000941  Locura de amor                   Drama                 José Durany|Elvira Fremont|Joaquín Carrasco|José Argelagués                    Ricardo de Baños|Alberto Marro  Manuel Tamayo y Baus                       \n",
       "...           ...             ...                     ...                                                                         ...                                               ...                   ...                       \n",
       "187645  tt9916170  The Rehearsal                    Drama                 Julia Ianina|Pablo Lafuente|Kelner Macêdo|Germano Melo                         Tamar Guimaraes                 Lillah Halla|Melissa de Raaf               \n",
       "187646  tt9916270  Il talento del calabrone         Thriller              Marina Occhionero|Sergio Castellitto|Anna Foglietta|Lorenzo Richelmy           Giacomo Cimini                  Lorenzo Collalti                           \n",
       "187647  tt9916362  Coven                            Drama,History,Horror  Alex Brendemühl|Daniel Fanego|Amaia Aberasturi|Garazi Urkola                   Pablo Agüero                    Katell Guillou                             \n",
       "187648  tt9916538  Kuambil Lagi Hatiku              Drama                 Ria Irawan|Sahil Shah|Lala Karmela|Cut Mini Theo                               Azhar Kinoi Lubis               Arief Ash Siddiq|Salman Aristo|Rino Sarjono\n",
       "187649  tt9916706  Dankyavar Danka                  Comedy                Suvarna Kale|Makarand Anaspure|Prakash Dhotre|Anvay Bendre|Ashwini Ekbote      Kanchan Nayak                   Sudhir Nikam                               \n",
       "\n",
       "[187650 rows x 6 columns]"
      ]
     },
     "execution_count": 218,
     "metadata": {},
     "output_type": "execute_result"
    }
   ],
   "source": [
    "final_dataset_df"
   ]
  },
  {
   "cell_type": "code",
   "execution_count": 221,
   "metadata": {
    "scrolled": true
   },
   "outputs": [],
   "source": [
    "final_dataset_df.to_csv('generated_dataset/imdb_final_dataset.csv', index= False)"
   ]
  },
  {
   "cell_type": "code",
   "execution_count": null,
   "metadata": {
    "scrolled": true
   },
   "outputs": [],
   "source": []
  },
  {
   "cell_type": "code",
   "execution_count": null,
   "metadata": {
    "scrolled": true
   },
   "outputs": [],
   "source": []
  },
  {
   "cell_type": "code",
   "execution_count": null,
   "metadata": {
    "scrolled": true
   },
   "outputs": [],
   "source": []
  }
 ],
 "metadata": {
  "kernelspec": {
   "display_name": "Python 3",
   "language": "python",
   "name": "python3"
  },
  "language_info": {
   "codemirror_mode": {
    "name": "ipython",
    "version": 3
   },
   "file_extension": ".py",
   "mimetype": "text/x-python",
   "name": "python",
   "nbconvert_exporter": "python",
   "pygments_lexer": "ipython3",
   "version": "3.9.0"
  }
 },
 "nbformat": 4,
 "nbformat_minor": 4
}
