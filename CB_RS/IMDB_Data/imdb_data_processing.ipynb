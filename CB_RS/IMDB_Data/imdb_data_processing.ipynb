{
 "cells": [
  {
   "cell_type": "code",
   "execution_count": 16,
   "metadata": {
    "scrolled": true
   },
   "outputs": [
    {
     "data": {
      "text/html": [
       "<style>.container { width:90% !important; }</style>"
      ],
      "text/plain": [
       "<IPython.core.display.HTML object>"
      ]
     },
     "metadata": {},
     "output_type": "display_data"
    },
    {
     "name": "stderr",
     "output_type": "stream",
     "text": [
      "<ipython-input-16-3d86a0ffe6a7>:18: FutureWarning: Passing a negative integer is deprecated in version 1.0 and will not be supported in future version. Instead, use None to not limit the column width.\n",
      "  pd.set_option('display.max_colwidth', -1)\n"
     ]
    }
   ],
   "source": [
    "#!/usr/bin/env python\n",
    "# -*- coding: latin-1 -*-\n",
    "import pandas as pd # pandas is a data manipulation library\n",
    "import numpy as np #provides numerical arrays and functions to manipulate the arrays efficiently\n",
    "import re\n",
    "import math\n",
    "import csv\n",
    "from SPARQLWrapper import SPARQLWrapper,JSON, SPARQLWrapper2\n",
    "from collections import defaultdict\n",
    "from tqdm import tqdm \n",
    "from IPython.core.display import display, HTML\n",
    "display(HTML(\"<style>.container { width:90% !important; }</style>\"))\n",
    "\n",
    "#pd.set_option('display.height', 1000)\n",
    "pd.set_option('display.max_rows', 500)\n",
    "pd.set_option('display.max_columns', 500)\n",
    "pd.set_option('display.width', 1000)\n",
    "pd.set_option('display.max_colwidth', -1)\n",
    "\n",
    "import functools"
   ]
  },
  {
   "cell_type": "code",
   "execution_count": null,
   "metadata": {
    "scrolled": true
   },
   "outputs": [],
   "source": [
    "# load movies.csv\n",
    "titles_df = pd.read_csv('dataset/movies.tsv', sep='\\t',  lineterminator='\\n', names=None)"
   ]
  },
  {
   "cell_type": "code",
   "execution_count": 17,
   "metadata": {
    "scrolled": true
   },
   "outputs": [
    {
     "name": "stdout",
     "output_type": "stream",
     "text": [
      "<class 'pandas.core.frame.DataFrame'>\n",
      "RangeIndex: 7292281 entries, 0 to 7292280\n",
      "Data columns (total 9 columns):\n",
      " #   Column          Dtype \n",
      "---  ------          ----- \n",
      " 0   tconst          object\n",
      " 1   titleType       object\n",
      " 2   primaryTitle    object\n",
      " 3   originalTitle   object\n",
      " 4   isAdult         int64 \n",
      " 5   startYear       object\n",
      " 6   endYear         object\n",
      " 7   runtimeMinutes  object\n",
      " 8   genres          object\n",
      "dtypes: int64(1), object(8)\n",
      "memory usage: 500.7+ MB\n"
     ]
    }
   ],
   "source": [
    "titles_df.info()"
   ]
  },
  {
   "cell_type": "code",
   "execution_count": null,
   "metadata": {
    "scrolled": true
   },
   "outputs": [],
   "source": [
    "titles_df.info()"
   ]
  },
  {
   "cell_type": "code",
   "execution_count": null,
   "metadata": {
    "scrolled": true
   },
   "outputs": [],
   "source": [
    "titles_df.titleType.unique()"
   ]
  },
  {
   "cell_type": "code",
   "execution_count": null,
   "metadata": {
    "scrolled": true
   },
   "outputs": [],
   "source": [
    "titles_df.groupby('titleType')['primaryTitle'].count()"
   ]
  },
  {
   "cell_type": "code",
   "execution_count": 18,
   "metadata": {
    "scrolled": true
   },
   "outputs": [],
   "source": [
    "#Keep only titles of type movie\n",
    "movies_df = titles_df[titles_df['titleType'] == 'movie'] "
   ]
  },
  {
   "cell_type": "code",
   "execution_count": 19,
   "metadata": {},
   "outputs": [
    {
     "data": {
      "text/plain": [
       "557139"
      ]
     },
     "execution_count": 19,
     "metadata": {},
     "output_type": "execute_result"
    }
   ],
   "source": [
    "len(movies_df)"
   ]
  },
  {
   "cell_type": "code",
   "execution_count": 21,
   "metadata": {
    "scrolled": true
   },
   "outputs": [],
   "source": [
    "imdb_movies_df = movies_df[['tconst','primaryTitle','isAdult','startYear','genres']].copy()"
   ]
  },
  {
   "cell_type": "code",
   "execution_count": 22,
   "metadata": {
    "scrolled": true
   },
   "outputs": [],
   "source": [
    "imdb_movies_df = imdb_movies_df[imdb_movies_df['genres'] != '\\\\N']"
   ]
  },
  {
   "cell_type": "code",
   "execution_count": 23,
   "metadata": {
    "scrolled": true
   },
   "outputs": [
    {
     "data": {
      "text/plain": [
       "487194"
      ]
     },
     "execution_count": 23,
     "metadata": {},
     "output_type": "execute_result"
    }
   ],
   "source": [
    "len(imdb_movies_df)"
   ]
  },
  {
   "cell_type": "code",
   "execution_count": 24,
   "metadata": {
    "scrolled": true
   },
   "outputs": [],
   "source": [
    "#keep only 2 columns id and title\n",
    "movies_titles_df = imdb_movies_df[['tconst','primaryTitle','genres']]"
   ]
  },
  {
   "cell_type": "code",
   "execution_count": 25,
   "metadata": {
    "scrolled": true
   },
   "outputs": [
    {
     "data": {
      "text/plain": [
       "<bound method NDFrame.describe of           movie_id                                                movie_name                 genres\n",
       "8        tt0000009  Miss Jerry                                                Romance              \n",
       "331      tt0000335  Soldiers of the Cross                                     Biography,Drama      \n",
       "570      tt0000574  The Story of the Kelly Gang                               Biography,Crime,Drama\n",
       "610      tt0000615  Robbery Under Arms                                        Drama                \n",
       "625      tt0000630  Hamlet                                                    Drama                \n",
       "...            ...     ...                                                      ...                \n",
       "7292169  tt9916620  The Copeland Case                                         Drama                \n",
       "7292170  tt9916622  Rodolpho Teóphilo - O Legado de um Pioneiro               Documentary          \n",
       "7292197  tt9916680  De la ilusión al desconcierto: cine colombiano 1970-1995  Documentary          \n",
       "7292209  tt9916706  Dankyavar Danka                                           Comedy               \n",
       "7292231  tt9916754  Chico Albuquerque - Revelações                            Documentary          \n",
       "\n",
       "[487194 rows x 3 columns]>"
      ]
     },
     "execution_count": 25,
     "metadata": {},
     "output_type": "execute_result"
    }
   ],
   "source": [
    "#rename the columns\n",
    "movies_titles_df = movies_titles_df.rename(columns= {'tconst':'movie_id', 'primaryTitle':'movie_name'})\n",
    "movies_titles_df.describe"
   ]
  },
  {
   "cell_type": "code",
   "execution_count": 26,
   "metadata": {},
   "outputs": [],
   "source": [
    "# load names file which contain the names for all crew members\n",
    "crew_names_df = pd.read_csv('DataSet/actors.tsv', sep='\\t',  lineterminator='\\n', names=None)"
   ]
  },
  {
   "cell_type": "code",
   "execution_count": 27,
   "metadata": {},
   "outputs": [
    {
     "data": {
      "text/plain": [
       "<bound method NDFrame.describe of             crew_id           crew_name\n",
       "0         nm0000001  Fred Astaire      \n",
       "1         nm0000002  Lauren Bacall     \n",
       "2         nm0000003  Brigitte Bardot   \n",
       "3         nm0000004  John Belushi      \n",
       "4         nm0000005  Ingmar Bergman    \n",
       "...             ...             ...    \n",
       "10464396  nm9993714  Romeo del Rosario \n",
       "10464397  nm9993716  Essias Loberg     \n",
       "10464398  nm9993717  Harikrishnan Rajan\n",
       "10464399  nm9993718  Aayush Nair       \n",
       "10464400  nm9993719  Andre Hill        \n",
       "\n",
       "[10464401 rows x 2 columns]>"
      ]
     },
     "execution_count": 27,
     "metadata": {},
     "output_type": "execute_result"
    }
   ],
   "source": [
    "#keep only the name and id of the crews\n",
    "crew_names_df= crew_names_df[['nconst','primaryName']].copy()\n",
    "crew_names_df = crew_names_df.rename(columns={'nconst':'crew_id', 'primaryName':'crew_name'})\n",
    "crew_names_df.describe"
   ]
  },
  {
   "cell_type": "code",
   "execution_count": null,
   "metadata": {},
   "outputs": [],
   "source": []
  },
  {
   "cell_type": "code",
   "execution_count": null,
   "metadata": {},
   "outputs": [],
   "source": []
  },
  {
   "cell_type": "code",
   "execution_count": null,
   "metadata": {
    "scrolled": true
   },
   "outputs": [],
   "source": [
    "#load the cast data which contsins mapping between the movie id and the cast (actor, director,writer) ids\n",
    "cast_df = pd.read_csv('C:/Users/rania/OneDrive/AI Master/Project/Python_Code/DataSet/actors_movies_ids.tsv', sep='\\t',  lineterminator='\\n', names=None)"
   ]
  },
  {
   "cell_type": "code",
   "execution_count": 28,
   "metadata": {},
   "outputs": [
    {
     "data": {
      "text/plain": [
       "<bound method NDFrame.describe of              tconst  ordering     nconst         category                      job                 characters\n",
       "0         tt0000001  1         nm1588970  self             \\N                       [\"Self\"]                 \n",
       "1         tt0000001  2         nm0005690  director         \\N                       \\N                       \n",
       "2         tt0000001  3         nm0374658  cinematographer  director of photography  \\N                       \n",
       "3         tt0000002  1         nm0721526  director         \\N                       \\N                       \n",
       "4         tt0000002  2         nm1335271  composer         \\N                       \\N                       \n",
       "...             ... ..               ...       ...         ..                       ..                       \n",
       "41706001  tt9916880  5         nm0996406  director         principal director       \\N                       \n",
       "41706002  tt9916880  6         nm1482639  writer           \\N                       \\N                       \n",
       "41706003  tt9916880  7         nm2586970  writer           books                    \\N                       \n",
       "41706004  tt9916880  8         nm1594058  producer         producer                 \\N                       \n",
       "41706005  tt9916880  9         nm1052583  actress          \\N                       [\"Mum\",\"Tidy Ted\",\"Fang\"]\n",
       "\n",
       "[41706006 rows x 6 columns]>"
      ]
     },
     "execution_count": 28,
     "metadata": {},
     "output_type": "execute_result"
    }
   ],
   "source": [
    "cast_df.describe\n"
   ]
  },
  {
   "cell_type": "code",
   "execution_count": 29,
   "metadata": {},
   "outputs": [
    {
     "data": {
      "text/plain": [
       "array(['self', 'director', 'cinematographer', 'composer', 'producer',\n",
       "       'editor', 'actor', 'actress', 'writer', 'production_designer',\n",
       "       'archive_footage', 'archive_sound'], dtype=object)"
      ]
     },
     "execution_count": 29,
     "metadata": {},
     "output_type": "execute_result"
    }
   ],
   "source": [
    "#check the available cast categories  \n",
    "cast_df['category'].unique()"
   ]
  },
  {
   "cell_type": "code",
   "execution_count": 30,
   "metadata": {
    "scrolled": true
   },
   "outputs": [],
   "source": [
    "#copy only the actors and actresess data\n",
    "starring_df = cast_df[cast_df['category'].isin(['actor','actress'])].copy()"
   ]
  },
  {
   "cell_type": "code",
   "execution_count": 31,
   "metadata": {
    "scrolled": true
   },
   "outputs": [
    {
     "name": "stdout",
     "output_type": "stream",
     "text": [
      "<class 'pandas.core.frame.DataFrame'>\n",
      "Int64Index: 16735395 entries, 11 to 41706005\n",
      "Data columns (total 6 columns):\n",
      " #   Column      Dtype \n",
      "---  ------      ----- \n",
      " 0   tconst      object\n",
      " 1   ordering    int64 \n",
      " 2   nconst      object\n",
      " 3   category    object\n",
      " 4   job         object\n",
      " 5   characters  object\n",
      "dtypes: int64(1), object(5)\n",
      "memory usage: 893.8+ MB\n"
     ]
    }
   ],
   "source": [
    "starring_df.info()"
   ]
  },
  {
   "cell_type": "code",
   "execution_count": 32,
   "metadata": {
    "scrolled": true
   },
   "outputs": [],
   "source": [
    "#keep only the movie id and the actor id\n",
    "starring_df = starring_df[['tconst','nconst']].copy()"
   ]
  },
  {
   "cell_type": "code",
   "execution_count": 33,
   "metadata": {
    "scrolled": true
   },
   "outputs": [],
   "source": [
    "#rename columns to actor_id and movie_id\n",
    "starring_df = starring_df.rename(columns={'tconst':'movie_id', 'nconst':'actor_id'})"
   ]
  },
  {
   "cell_type": "code",
   "execution_count": 34,
   "metadata": {
    "scrolled": true
   },
   "outputs": [],
   "source": [
    "#get the actors name for each movie from the crew names list\n",
    "movie_id_actor_name_df = starring_df.merge(crew_names_df, how=\"inner\", left_on='actor_id', right_on='crew_id')"
   ]
  },
  {
   "cell_type": "code",
   "execution_count": 35,
   "metadata": {
    "scrolled": true
   },
   "outputs": [],
   "source": [
    "movie_id_actor_name_df= movie_id_actor_name_df.rename(columns={'crew_name':'actor_name'})\n",
    "movie_id_actor_name_df.drop(columns={'crew_id'}, inplace= True)"
   ]
  },
  {
   "cell_type": "code",
   "execution_count": 36,
   "metadata": {},
   "outputs": [
    {
     "data": {
      "text/plain": [
       "<bound method NDFrame.describe of            movie_id    actor_id        actor_name\n",
       "0         tt0000005  nm0443482   Charles Kayser  \n",
       "1         tt0000005  nm0653042   John Ott        \n",
       "2         tt0000007  nm0179163   James J. Corbett\n",
       "3         tt0003116  nm0179163   James J. Corbett\n",
       "4         tt0003730  nm0179163   James J. Corbett\n",
       "...             ...        ...                ...\n",
       "16709631  tt9916756  nm10781824  Lakeisha Barnes \n",
       "16709632  tt9916764  nm10538641  Yvonne Akins    \n",
       "16709633  tt9916856  nm10538650  Anna Fitoussi   \n",
       "16709634  tt9916856  nm10538646  Andreas Demmel  \n",
       "16709635  tt9916856  nm10538647  Kathrin Knöpfle \n",
       "\n",
       "[16709636 rows x 3 columns]>"
      ]
     },
     "execution_count": 36,
     "metadata": {},
     "output_type": "execute_result"
    }
   ],
   "source": [
    "movie_id_actor_name_df.describe"
   ]
  },
  {
   "cell_type": "code",
   "execution_count": 37,
   "metadata": {
    "scrolled": true
   },
   "outputs": [
    {
     "ename": "FileNotFoundError",
     "evalue": "[Errno 2] No such file or directory: 'generated_dataset/actors_movies_id_mapping.csv'",
     "output_type": "error",
     "traceback": [
      "\u001b[1;31m---------------------------------------------------------------------------\u001b[0m",
      "\u001b[1;31mFileNotFoundError\u001b[0m                         Traceback (most recent call last)",
      "\u001b[1;32m<ipython-input-37-43b05d827e02>\u001b[0m in \u001b[0;36m<module>\u001b[1;34m\u001b[0m\n\u001b[0;32m      5\u001b[0m                                         })\n\u001b[0;32m      6\u001b[0m \u001b[1;31m#save grouped data to file\u001b[0m\u001b[1;33m\u001b[0m\u001b[1;33m\u001b[0m\u001b[1;33m\u001b[0m\u001b[0m\n\u001b[1;32m----> 7\u001b[1;33m \u001b[0mmovie_id_actor_name_grouped_df\u001b[0m\u001b[1;33m.\u001b[0m\u001b[0mto_csv\u001b[0m\u001b[1;33m(\u001b[0m\u001b[1;34m\"generated_dataset/actors_movies_id_mapping.csv\"\u001b[0m\u001b[1;33m,\u001b[0m \u001b[0mindex\u001b[0m\u001b[1;33m=\u001b[0m\u001b[1;32mFalse\u001b[0m\u001b[1;33m)\u001b[0m\u001b[1;33m\u001b[0m\u001b[1;33m\u001b[0m\u001b[0m\n\u001b[0m",
      "\u001b[1;32md:\\programs\\python39\\lib\\site-packages\\pandas\\core\\generic.py\u001b[0m in \u001b[0;36mto_csv\u001b[1;34m(self, path_or_buf, sep, na_rep, float_format, columns, header, index, index_label, mode, encoding, compression, quoting, quotechar, line_terminator, chunksize, date_format, doublequote, escapechar, decimal, errors)\u001b[0m\n\u001b[0;32m   3168\u001b[0m             \u001b[0mdecimal\u001b[0m\u001b[1;33m=\u001b[0m\u001b[0mdecimal\u001b[0m\u001b[1;33m,\u001b[0m\u001b[1;33m\u001b[0m\u001b[1;33m\u001b[0m\u001b[0m\n\u001b[0;32m   3169\u001b[0m         )\n\u001b[1;32m-> 3170\u001b[1;33m         \u001b[0mformatter\u001b[0m\u001b[1;33m.\u001b[0m\u001b[0msave\u001b[0m\u001b[1;33m(\u001b[0m\u001b[1;33m)\u001b[0m\u001b[1;33m\u001b[0m\u001b[1;33m\u001b[0m\u001b[0m\n\u001b[0m\u001b[0;32m   3171\u001b[0m \u001b[1;33m\u001b[0m\u001b[0m\n\u001b[0;32m   3172\u001b[0m         \u001b[1;32mif\u001b[0m \u001b[0mpath_or_buf\u001b[0m \u001b[1;32mis\u001b[0m \u001b[1;32mNone\u001b[0m\u001b[1;33m:\u001b[0m\u001b[1;33m\u001b[0m\u001b[1;33m\u001b[0m\u001b[0m\n",
      "\u001b[1;32md:\\programs\\python39\\lib\\site-packages\\pandas\\io\\formats\\csvs.py\u001b[0m in \u001b[0;36msave\u001b[1;34m(self)\u001b[0m\n\u001b[0;32m    183\u001b[0m             \u001b[0mclose\u001b[0m \u001b[1;33m=\u001b[0m \u001b[1;32mFalse\u001b[0m\u001b[1;33m\u001b[0m\u001b[1;33m\u001b[0m\u001b[0m\n\u001b[0;32m    184\u001b[0m         \u001b[1;32melse\u001b[0m\u001b[1;33m:\u001b[0m\u001b[1;33m\u001b[0m\u001b[1;33m\u001b[0m\u001b[0m\n\u001b[1;32m--> 185\u001b[1;33m             f, handles = get_handle(\n\u001b[0m\u001b[0;32m    186\u001b[0m                 \u001b[0mself\u001b[0m\u001b[1;33m.\u001b[0m\u001b[0mpath_or_buf\u001b[0m\u001b[1;33m,\u001b[0m\u001b[1;33m\u001b[0m\u001b[1;33m\u001b[0m\u001b[0m\n\u001b[0;32m    187\u001b[0m                 \u001b[0mself\u001b[0m\u001b[1;33m.\u001b[0m\u001b[0mmode\u001b[0m\u001b[1;33m,\u001b[0m\u001b[1;33m\u001b[0m\u001b[1;33m\u001b[0m\u001b[0m\n",
      "\u001b[1;32md:\\programs\\python39\\lib\\site-packages\\pandas\\io\\common.py\u001b[0m in \u001b[0;36mget_handle\u001b[1;34m(path_or_buf, mode, encoding, compression, memory_map, is_text, errors)\u001b[0m\n\u001b[0;32m    491\u001b[0m         \u001b[1;32mif\u001b[0m \u001b[0mencoding\u001b[0m\u001b[1;33m:\u001b[0m\u001b[1;33m\u001b[0m\u001b[1;33m\u001b[0m\u001b[0m\n\u001b[0;32m    492\u001b[0m             \u001b[1;31m# Encoding\u001b[0m\u001b[1;33m\u001b[0m\u001b[1;33m\u001b[0m\u001b[1;33m\u001b[0m\u001b[0m\n\u001b[1;32m--> 493\u001b[1;33m             \u001b[0mf\u001b[0m \u001b[1;33m=\u001b[0m \u001b[0mopen\u001b[0m\u001b[1;33m(\u001b[0m\u001b[0mpath_or_buf\u001b[0m\u001b[1;33m,\u001b[0m \u001b[0mmode\u001b[0m\u001b[1;33m,\u001b[0m \u001b[0mencoding\u001b[0m\u001b[1;33m=\u001b[0m\u001b[0mencoding\u001b[0m\u001b[1;33m,\u001b[0m \u001b[0merrors\u001b[0m\u001b[1;33m=\u001b[0m\u001b[0merrors\u001b[0m\u001b[1;33m,\u001b[0m \u001b[0mnewline\u001b[0m\u001b[1;33m=\u001b[0m\u001b[1;34m\"\"\u001b[0m\u001b[1;33m)\u001b[0m\u001b[1;33m\u001b[0m\u001b[1;33m\u001b[0m\u001b[0m\n\u001b[0m\u001b[0;32m    494\u001b[0m         \u001b[1;32melif\u001b[0m \u001b[0mis_text\u001b[0m\u001b[1;33m:\u001b[0m\u001b[1;33m\u001b[0m\u001b[1;33m\u001b[0m\u001b[0m\n\u001b[0;32m    495\u001b[0m             \u001b[1;31m# No explicit encoding\u001b[0m\u001b[1;33m\u001b[0m\u001b[1;33m\u001b[0m\u001b[1;33m\u001b[0m\u001b[0m\n",
      "\u001b[1;31mFileNotFoundError\u001b[0m: [Errno 2] No such file or directory: 'generated_dataset/actors_movies_id_mapping.csv'"
     ]
    }
   ],
   "source": [
    "actors_grouped = movie_id_actor_name_df.groupby(['movie_id'], as_index=False)\n",
    "#aggregate the directors and directors in one column for each separated by |\n",
    "movie_id_actor_name_grouped_df = actors_grouped.agg({\n",
    "                                        'actor_name':lambda x: '|'.join(set(x))\n",
    "                                        })\n",
    "#save grouped data to file\n",
    "movie_id_actor_name_grouped_df.to_csv(\"generated_dataset/actors_movies_id_mapping.csv\", index=False)"
   ]
  },
  {
   "cell_type": "code",
   "execution_count": 38,
   "metadata": {
    "scrolled": true
   },
   "outputs": [],
   "source": [
    "final_dataset_df = movies_titles_df.merge(movie_id_actor_name_grouped_df, how=\"inner\", on='movie_id')"
   ]
  },
  {
   "cell_type": "code",
   "execution_count": null,
   "metadata": {},
   "outputs": [],
   "source": []
  },
  {
   "cell_type": "code",
   "execution_count": 39,
   "metadata": {
    "scrolled": true
   },
   "outputs": [
    {
     "data": {
      "text/plain": [
       "<bound method NDFrame.describe of              tconst  ordering      nconst  category                 job characters\n",
       "1         tt0000001  2         nm0005690   director  \\N                  \\N       \n",
       "3         tt0000002  1         nm0721526   director  \\N                  \\N       \n",
       "5         tt0000003  1         nm0721526   director  \\N                  \\N       \n",
       "9         tt0000004  1         nm0721526   director  \\N                  \\N       \n",
       "13        tt0000005  3         nm0005690   director  \\N                  \\N       \n",
       "...             ... ..               ...        ...  ..                  ..       \n",
       "41705974  tt9916850  6         nm5519375   director  \\N                  \\N       \n",
       "41705983  tt9916852  5         nm5519454   director  \\N                  \\N       \n",
       "41705984  tt9916852  6         nm5519375   director  \\N                  \\N       \n",
       "41705992  tt9916856  5         nm10538645  director  \\N                  \\N       \n",
       "41706001  tt9916880  5         nm0996406   director  principal director  \\N       \n",
       "\n",
       "[4807068 rows x 6 columns]>"
      ]
     },
     "execution_count": 39,
     "metadata": {},
     "output_type": "execute_result"
    }
   ],
   "source": [
    "#copy only the directors data\n",
    "director_df = cast_df[cast_df['category'].isin(['director'])].copy()\n",
    "director_df.describe"
   ]
  },
  {
   "cell_type": "code",
   "execution_count": 40,
   "metadata": {
    "scrolled": true
   },
   "outputs": [
    {
     "data": {
      "text/plain": [
       "<bound method NDFrame.describe of            movie_id director_id\n",
       "1         tt0000001  nm0005690 \n",
       "3         tt0000002  nm0721526 \n",
       "5         tt0000003  nm0721526 \n",
       "9         tt0000004  nm0721526 \n",
       "13        tt0000005  nm0005690 \n",
       "...             ...        ... \n",
       "41705974  tt9916850  nm5519375 \n",
       "41705983  tt9916852  nm5519454 \n",
       "41705984  tt9916852  nm5519375 \n",
       "41705992  tt9916856  nm10538645\n",
       "41706001  tt9916880  nm0996406 \n",
       "\n",
       "[4807068 rows x 2 columns]>"
      ]
     },
     "execution_count": 40,
     "metadata": {},
     "output_type": "execute_result"
    }
   ],
   "source": [
    "#keep only the movie id and the actor id\n",
    "director_df = director_df[['tconst','nconst']].copy()\n",
    "#rename columns to actor_id and movie_id\n",
    "director_df = director_df.rename(columns={'tconst':'movie_id', 'nconst':'director_id'})\n",
    "director_df.describe"
   ]
  },
  {
   "cell_type": "code",
   "execution_count": 41,
   "metadata": {
    "scrolled": true
   },
   "outputs": [],
   "source": [
    "#get the actors name for each movie from the crew names list\n",
    "movie_director_name_df = director_df.merge(crew_names_df, how=\"inner\", left_on='director_id', right_on='crew_id')\n"
   ]
  },
  {
   "cell_type": "code",
   "execution_count": 42,
   "metadata": {
    "scrolled": true
   },
   "outputs": [],
   "source": [
    "movie_director_name_df= movie_director_name_df.rename(columns={'crew_name':'director_name'})\n",
    "#movie_id_actor_name_df.drop(columns={'crew_id'}, inplace= True)"
   ]
  },
  {
   "cell_type": "code",
   "execution_count": 43,
   "metadata": {
    "scrolled": true
   },
   "outputs": [
    {
     "ename": "FileNotFoundError",
     "evalue": "[Errno 2] No such file or directory: 'generated_dataset/directors_movies_id_mapping.csv'",
     "output_type": "error",
     "traceback": [
      "\u001b[1;31m---------------------------------------------------------------------------\u001b[0m",
      "\u001b[1;31mFileNotFoundError\u001b[0m                         Traceback (most recent call last)",
      "\u001b[1;32m<ipython-input-43-4bef90f21daa>\u001b[0m in \u001b[0;36m<module>\u001b[1;34m\u001b[0m\n\u001b[0;32m      6\u001b[0m                                         })\n\u001b[0;32m      7\u001b[0m \u001b[1;31m#save grouped data to file\u001b[0m\u001b[1;33m\u001b[0m\u001b[1;33m\u001b[0m\u001b[1;33m\u001b[0m\u001b[0m\n\u001b[1;32m----> 8\u001b[1;33m \u001b[0mmovie_id_director_name_grouped_df\u001b[0m\u001b[1;33m.\u001b[0m\u001b[0mto_csv\u001b[0m\u001b[1;33m(\u001b[0m\u001b[1;34m\"generated_dataset/directors_movies_id_mapping.csv\"\u001b[0m\u001b[1;33m,\u001b[0m \u001b[0mindex\u001b[0m\u001b[1;33m=\u001b[0m\u001b[1;32mFalse\u001b[0m\u001b[1;33m)\u001b[0m\u001b[1;33m\u001b[0m\u001b[1;33m\u001b[0m\u001b[0m\n\u001b[0m",
      "\u001b[1;32md:\\programs\\python39\\lib\\site-packages\\pandas\\core\\generic.py\u001b[0m in \u001b[0;36mto_csv\u001b[1;34m(self, path_or_buf, sep, na_rep, float_format, columns, header, index, index_label, mode, encoding, compression, quoting, quotechar, line_terminator, chunksize, date_format, doublequote, escapechar, decimal, errors)\u001b[0m\n\u001b[0;32m   3168\u001b[0m             \u001b[0mdecimal\u001b[0m\u001b[1;33m=\u001b[0m\u001b[0mdecimal\u001b[0m\u001b[1;33m,\u001b[0m\u001b[1;33m\u001b[0m\u001b[1;33m\u001b[0m\u001b[0m\n\u001b[0;32m   3169\u001b[0m         )\n\u001b[1;32m-> 3170\u001b[1;33m         \u001b[0mformatter\u001b[0m\u001b[1;33m.\u001b[0m\u001b[0msave\u001b[0m\u001b[1;33m(\u001b[0m\u001b[1;33m)\u001b[0m\u001b[1;33m\u001b[0m\u001b[1;33m\u001b[0m\u001b[0m\n\u001b[0m\u001b[0;32m   3171\u001b[0m \u001b[1;33m\u001b[0m\u001b[0m\n\u001b[0;32m   3172\u001b[0m         \u001b[1;32mif\u001b[0m \u001b[0mpath_or_buf\u001b[0m \u001b[1;32mis\u001b[0m \u001b[1;32mNone\u001b[0m\u001b[1;33m:\u001b[0m\u001b[1;33m\u001b[0m\u001b[1;33m\u001b[0m\u001b[0m\n",
      "\u001b[1;32md:\\programs\\python39\\lib\\site-packages\\pandas\\io\\formats\\csvs.py\u001b[0m in \u001b[0;36msave\u001b[1;34m(self)\u001b[0m\n\u001b[0;32m    183\u001b[0m             \u001b[0mclose\u001b[0m \u001b[1;33m=\u001b[0m \u001b[1;32mFalse\u001b[0m\u001b[1;33m\u001b[0m\u001b[1;33m\u001b[0m\u001b[0m\n\u001b[0;32m    184\u001b[0m         \u001b[1;32melse\u001b[0m\u001b[1;33m:\u001b[0m\u001b[1;33m\u001b[0m\u001b[1;33m\u001b[0m\u001b[0m\n\u001b[1;32m--> 185\u001b[1;33m             f, handles = get_handle(\n\u001b[0m\u001b[0;32m    186\u001b[0m                 \u001b[0mself\u001b[0m\u001b[1;33m.\u001b[0m\u001b[0mpath_or_buf\u001b[0m\u001b[1;33m,\u001b[0m\u001b[1;33m\u001b[0m\u001b[1;33m\u001b[0m\u001b[0m\n\u001b[0;32m    187\u001b[0m                 \u001b[0mself\u001b[0m\u001b[1;33m.\u001b[0m\u001b[0mmode\u001b[0m\u001b[1;33m,\u001b[0m\u001b[1;33m\u001b[0m\u001b[1;33m\u001b[0m\u001b[0m\n",
      "\u001b[1;32md:\\programs\\python39\\lib\\site-packages\\pandas\\io\\common.py\u001b[0m in \u001b[0;36mget_handle\u001b[1;34m(path_or_buf, mode, encoding, compression, memory_map, is_text, errors)\u001b[0m\n\u001b[0;32m    491\u001b[0m         \u001b[1;32mif\u001b[0m \u001b[0mencoding\u001b[0m\u001b[1;33m:\u001b[0m\u001b[1;33m\u001b[0m\u001b[1;33m\u001b[0m\u001b[0m\n\u001b[0;32m    492\u001b[0m             \u001b[1;31m# Encoding\u001b[0m\u001b[1;33m\u001b[0m\u001b[1;33m\u001b[0m\u001b[1;33m\u001b[0m\u001b[0m\n\u001b[1;32m--> 493\u001b[1;33m             \u001b[0mf\u001b[0m \u001b[1;33m=\u001b[0m \u001b[0mopen\u001b[0m\u001b[1;33m(\u001b[0m\u001b[0mpath_or_buf\u001b[0m\u001b[1;33m,\u001b[0m \u001b[0mmode\u001b[0m\u001b[1;33m,\u001b[0m \u001b[0mencoding\u001b[0m\u001b[1;33m=\u001b[0m\u001b[0mencoding\u001b[0m\u001b[1;33m,\u001b[0m \u001b[0merrors\u001b[0m\u001b[1;33m=\u001b[0m\u001b[0merrors\u001b[0m\u001b[1;33m,\u001b[0m \u001b[0mnewline\u001b[0m\u001b[1;33m=\u001b[0m\u001b[1;34m\"\"\u001b[0m\u001b[1;33m)\u001b[0m\u001b[1;33m\u001b[0m\u001b[1;33m\u001b[0m\u001b[0m\n\u001b[0m\u001b[0;32m    494\u001b[0m         \u001b[1;32melif\u001b[0m \u001b[0mis_text\u001b[0m\u001b[1;33m:\u001b[0m\u001b[1;33m\u001b[0m\u001b[1;33m\u001b[0m\u001b[0m\n\u001b[0;32m    495\u001b[0m             \u001b[1;31m# No explicit encoding\u001b[0m\u001b[1;33m\u001b[0m\u001b[1;33m\u001b[0m\u001b[1;33m\u001b[0m\u001b[0m\n",
      "\u001b[1;31mFileNotFoundError\u001b[0m: [Errno 2] No such file or directory: 'generated_dataset/directors_movies_id_mapping.csv'"
     ]
    }
   ],
   "source": [
    "directors_grouped = movie_director_name_df.groupby(['movie_id'], as_index=False)\n",
    "#aggregate the directors and directors in one column for each separated by |\n",
    "movie_id_director_name_grouped_df = directors_grouped.agg({\n",
    "                                        'director_name':lambda x: '|'.join(set(x))\n",
    "                                        \n",
    "                                        })\n",
    "#save grouped data to file\n",
    "movie_id_director_name_grouped_df.to_csv(\"generated_dataset/directors_movies_id_mapping.csv\", index=False)"
   ]
  },
  {
   "cell_type": "code",
   "execution_count": 44,
   "metadata": {},
   "outputs": [
    {
     "data": {
      "text/plain": [
       "3769487"
      ]
     },
     "execution_count": 44,
     "metadata": {},
     "output_type": "execute_result"
    }
   ],
   "source": [
    "len(movie_id_director_name_grouped_df.movie_id.unique())"
   ]
  },
  {
   "cell_type": "code",
   "execution_count": 45,
   "metadata": {
    "scrolled": true
   },
   "outputs": [],
   "source": [
    "final_dataset_df = final_dataset_df.merge(movie_id_director_name_grouped_df, how=\"inner\", on='movie_id')"
   ]
  },
  {
   "cell_type": "code",
   "execution_count": 46,
   "metadata": {
    "scrolled": true
   },
   "outputs": [
    {
     "data": {
      "text/html": [
       "<div>\n",
       "<style scoped>\n",
       "    .dataframe tbody tr th:only-of-type {\n",
       "        vertical-align: middle;\n",
       "    }\n",
       "\n",
       "    .dataframe tbody tr th {\n",
       "        vertical-align: top;\n",
       "    }\n",
       "\n",
       "    .dataframe thead th {\n",
       "        text-align: right;\n",
       "    }\n",
       "</style>\n",
       "<table border=\"1\" class=\"dataframe\">\n",
       "  <thead>\n",
       "    <tr style=\"text-align: right;\">\n",
       "      <th></th>\n",
       "      <th>movie_id</th>\n",
       "      <th>movie_name</th>\n",
       "      <th>genres</th>\n",
       "      <th>actor_name</th>\n",
       "      <th>director_name</th>\n",
       "    </tr>\n",
       "  </thead>\n",
       "  <tbody>\n",
       "    <tr>\n",
       "      <th>0</th>\n",
       "      <td>tt0000009</td>\n",
       "      <td>Miss Jerry</td>\n",
       "      <td>Romance</td>\n",
       "      <td>William Courtenay|Blanche Bayliss|Chauncey Depew</td>\n",
       "      <td>Alexander Black</td>\n",
       "    </tr>\n",
       "    <tr>\n",
       "      <th>1</th>\n",
       "      <td>tt0000335</td>\n",
       "      <td>Soldiers of the Cross</td>\n",
       "      <td>Biography,Drama</td>\n",
       "      <td>John Jones|Orrie Perry|Reg Perry|Beatrice Day|Mr. Graham|Harold Graham</td>\n",
       "      <td>Herbert Booth|Joseph Perry</td>\n",
       "    </tr>\n",
       "    <tr>\n",
       "      <th>2</th>\n",
       "      <td>tt0000574</td>\n",
       "      <td>The Story of the Kelly Gang</td>\n",
       "      <td>Biography,Crime,Drama</td>\n",
       "      <td>Norman Campbell|Bella Cola|John Tait|Elizabeth Tait</td>\n",
       "      <td>Charles Tait</td>\n",
       "    </tr>\n",
       "    <tr>\n",
       "      <th>3</th>\n",
       "      <td>tt0000615</td>\n",
       "      <td>Robbery Under Arms</td>\n",
       "      <td>Drama</td>\n",
       "      <td>Jim Gerald|George Merriman|Lance Vane|Arthur Guest|Rhoda Dendron|William Duff</td>\n",
       "      <td>Charles MacMahon</td>\n",
       "    </tr>\n",
       "    <tr>\n",
       "      <th>4</th>\n",
       "      <td>tt0000630</td>\n",
       "      <td>Hamlet</td>\n",
       "      <td>Drama</td>\n",
       "      <td>Fernanda Negri Pouget</td>\n",
       "      <td>Mario Caserini</td>\n",
       "    </tr>\n",
       "    <tr>\n",
       "      <th>...</th>\n",
       "      <td>...</td>\n",
       "      <td>...</td>\n",
       "      <td>...</td>\n",
       "      <td>...</td>\n",
       "      <td>...</td>\n",
       "    </tr>\n",
       "    <tr>\n",
       "      <th>322228</th>\n",
       "      <td>tt9916362</td>\n",
       "      <td>Coven</td>\n",
       "      <td>Drama,History,Horror</td>\n",
       "      <td>Alex Brendemühl|Daniel Fanego|Amaia Aberasturi|Garazi Urkola</td>\n",
       "      <td>Pablo Agüero</td>\n",
       "    </tr>\n",
       "    <tr>\n",
       "      <th>322229</th>\n",
       "      <td>tt9916428</td>\n",
       "      <td>The Secret of China</td>\n",
       "      <td>Adventure,History,War</td>\n",
       "      <td>Valery Gadreau|A.C Stokes|Vincent Matile|Kenan Heppe|Wang Peng Kai|Shenyang Xiao|Wenli Jiang</td>\n",
       "      <td>Jixing Wang</td>\n",
       "    </tr>\n",
       "    <tr>\n",
       "      <th>322230</th>\n",
       "      <td>tt9916538</td>\n",
       "      <td>Kuambil Lagi Hatiku</td>\n",
       "      <td>Drama</td>\n",
       "      <td>Cut Mini Theo|Sahil Shah|Lala Karmela|Ria Irawan</td>\n",
       "      <td>Azhar Kinoi Lubis</td>\n",
       "    </tr>\n",
       "    <tr>\n",
       "      <th>322231</th>\n",
       "      <td>tt9916622</td>\n",
       "      <td>Rodolpho Teóphilo - O Legado de um Pioneiro</td>\n",
       "      <td>Documentary</td>\n",
       "      <td>Oldair Soares Ammom</td>\n",
       "      <td>Angela Gurgel|Ana Célia de Oliveira</td>\n",
       "    </tr>\n",
       "    <tr>\n",
       "      <th>322232</th>\n",
       "      <td>tt9916706</td>\n",
       "      <td>Dankyavar Danka</td>\n",
       "      <td>Comedy</td>\n",
       "      <td>Ashwini Ekbote|Suvarna Kale|Makarand Anaspure|Prakash Dhotre|Anvay Bendre</td>\n",
       "      <td>Kanchan Nayak</td>\n",
       "    </tr>\n",
       "  </tbody>\n",
       "</table>\n",
       "<p>322233 rows × 5 columns</p>\n",
       "</div>"
      ],
      "text/plain": [
       "         movie_id                                   movie_name                 genres                                                                                    actor_name                        director_name\n",
       "0       tt0000009  Miss Jerry                                   Romance                William Courtenay|Blanche Bayliss|Chauncey Depew                                              Alexander Black                    \n",
       "1       tt0000335  Soldiers of the Cross                        Biography,Drama        John Jones|Orrie Perry|Reg Perry|Beatrice Day|Mr. Graham|Harold Graham                        Herbert Booth|Joseph Perry         \n",
       "2       tt0000574  The Story of the Kelly Gang                  Biography,Crime,Drama  Norman Campbell|Bella Cola|John Tait|Elizabeth Tait                                           Charles Tait                       \n",
       "3       tt0000615  Robbery Under Arms                           Drama                  Jim Gerald|George Merriman|Lance Vane|Arthur Guest|Rhoda Dendron|William Duff                 Charles MacMahon                   \n",
       "4       tt0000630  Hamlet                                       Drama                  Fernanda Negri Pouget                                                                         Mario Caserini                     \n",
       "...           ...     ...                                         ...                                    ...                                                                                    ...                     \n",
       "322228  tt9916362  Coven                                        Drama,History,Horror   Alex Brendemühl|Daniel Fanego|Amaia Aberasturi|Garazi Urkola                                  Pablo Agüero                       \n",
       "322229  tt9916428  The Secret of China                          Adventure,History,War  Valery Gadreau|A.C Stokes|Vincent Matile|Kenan Heppe|Wang Peng Kai|Shenyang Xiao|Wenli Jiang  Jixing Wang                        \n",
       "322230  tt9916538  Kuambil Lagi Hatiku                          Drama                  Cut Mini Theo|Sahil Shah|Lala Karmela|Ria Irawan                                              Azhar Kinoi Lubis                  \n",
       "322231  tt9916622  Rodolpho Teóphilo - O Legado de um Pioneiro  Documentary            Oldair Soares Ammom                                                                           Angela Gurgel|Ana Célia de Oliveira\n",
       "322232  tt9916706  Dankyavar Danka                              Comedy                 Ashwini Ekbote|Suvarna Kale|Makarand Anaspure|Prakash Dhotre|Anvay Bendre                     Kanchan Nayak                      \n",
       "\n",
       "[322233 rows x 5 columns]"
      ]
     },
     "execution_count": 46,
     "metadata": {},
     "output_type": "execute_result"
    }
   ],
   "source": [
    "final_dataset_df"
   ]
  },
  {
   "cell_type": "code",
   "execution_count": null,
   "metadata": {
    "scrolled": true
   },
   "outputs": [],
   "source": []
  },
  {
   "cell_type": "code",
   "execution_count": 47,
   "metadata": {
    "scrolled": true
   },
   "outputs": [
    {
     "data": {
      "text/plain": [
       "<bound method NDFrame.describe of              tconst  ordering     nconst category                     job characters\n",
       "90        tt0000036  3         nm0410331  writer   story \"Rip Van Winkle\"  \\N       \n",
       "147       tt0000076  3         nm0410331  writer   story \"Rip Van Winkle\"  \\N       \n",
       "189       tt0000108  3         nm0410331  writer   story \"Rip Van Winkle\"  \\N       \n",
       "193       tt0000109  3         nm0410331  writer   story \"Rip Van Winkle\"  \\N       \n",
       "197       tt0000110  3         nm0410331  writer   story \"Rip Van Winkle\"  \\N       \n",
       "...             ... ..               ...     ...                      ...  ..       \n",
       "41705986  tt9916852  8         nm1628284  writer   creator                 \\N       \n",
       "41705987  tt9916852  9         nm2921377  writer   \\N                      \\N       \n",
       "41705993  tt9916856  6         nm6951431  writer   screenplay by           \\N       \n",
       "41706002  tt9916880  6         nm1482639  writer   \\N                      \\N       \n",
       "41706003  tt9916880  7         nm2586970  writer   books                   \\N       \n",
       "\n",
       "[5519070 rows x 6 columns]>"
      ]
     },
     "execution_count": 47,
     "metadata": {},
     "output_type": "execute_result"
    }
   ],
   "source": [
    "#copy only the directors data\n",
    "writer_df = cast_df[cast_df['category'].isin(['writer'])].copy()\n",
    "writer_df.describe"
   ]
  },
  {
   "cell_type": "code",
   "execution_count": 48,
   "metadata": {
    "scrolled": true
   },
   "outputs": [
    {
     "data": {
      "text/plain": [
       "<bound method NDFrame.describe of            movie_id  writer_id\n",
       "90        tt0000036  nm0410331\n",
       "147       tt0000076  nm0410331\n",
       "189       tt0000108  nm0410331\n",
       "193       tt0000109  nm0410331\n",
       "197       tt0000110  nm0410331\n",
       "...             ...        ...\n",
       "41705986  tt9916852  nm1628284\n",
       "41705987  tt9916852  nm2921377\n",
       "41705993  tt9916856  nm6951431\n",
       "41706002  tt9916880  nm1482639\n",
       "41706003  tt9916880  nm2586970\n",
       "\n",
       "[5519070 rows x 2 columns]>"
      ]
     },
     "execution_count": 48,
     "metadata": {},
     "output_type": "execute_result"
    }
   ],
   "source": [
    "#keep only the movie id and the actor id\n",
    "writer_df = writer_df[['tconst','nconst']].copy()\n",
    "#rename columns to actor_id and movie_id\n",
    "writer_df = writer_df.rename(columns={'tconst':'movie_id', 'nconst':'writer_id'})\n",
    "writer_df.describe"
   ]
  },
  {
   "cell_type": "code",
   "execution_count": 49,
   "metadata": {
    "scrolled": true
   },
   "outputs": [],
   "source": [
    "#get the actors name for each movie from the crew names list\n",
    "movie_writer_name_df = writer_df.merge(crew_names_df, how=\"inner\", left_on='writer_id', right_on='crew_id')\n"
   ]
  },
  {
   "cell_type": "code",
   "execution_count": 50,
   "metadata": {
    "scrolled": true
   },
   "outputs": [],
   "source": [
    "movie_writer_name_df= movie_writer_name_df.rename(columns={'crew_name':'writer_name'})\n",
    "#movie_id_actor_name_df.drop(columns={'crew_id'}, inplace= True)"
   ]
  },
  {
   "cell_type": "code",
   "execution_count": 51,
   "metadata": {
    "scrolled": true
   },
   "outputs": [
    {
     "ename": "FileNotFoundError",
     "evalue": "[Errno 2] No such file or directory: 'generated_dataset/writer_movies_id_mapping.csv'",
     "output_type": "error",
     "traceback": [
      "\u001b[1;31m---------------------------------------------------------------------------\u001b[0m",
      "\u001b[1;31mFileNotFoundError\u001b[0m                         Traceback (most recent call last)",
      "\u001b[1;32m<ipython-input-51-d858497df1d6>\u001b[0m in \u001b[0;36m<module>\u001b[1;34m\u001b[0m\n\u001b[0;32m      6\u001b[0m                                         })\n\u001b[0;32m      7\u001b[0m \u001b[1;31m#save grouped data to file\u001b[0m\u001b[1;33m\u001b[0m\u001b[1;33m\u001b[0m\u001b[1;33m\u001b[0m\u001b[0m\n\u001b[1;32m----> 8\u001b[1;33m \u001b[0mmovie_id_writer_name_grouped_df\u001b[0m\u001b[1;33m.\u001b[0m\u001b[0mto_csv\u001b[0m\u001b[1;33m(\u001b[0m\u001b[1;34m\"generated_dataset/writer_movies_id_mapping.csv\"\u001b[0m\u001b[1;33m,\u001b[0m \u001b[0mindex\u001b[0m\u001b[1;33m=\u001b[0m\u001b[1;32mFalse\u001b[0m\u001b[1;33m)\u001b[0m\u001b[1;33m\u001b[0m\u001b[1;33m\u001b[0m\u001b[0m\n\u001b[0m",
      "\u001b[1;32md:\\programs\\python39\\lib\\site-packages\\pandas\\core\\generic.py\u001b[0m in \u001b[0;36mto_csv\u001b[1;34m(self, path_or_buf, sep, na_rep, float_format, columns, header, index, index_label, mode, encoding, compression, quoting, quotechar, line_terminator, chunksize, date_format, doublequote, escapechar, decimal, errors)\u001b[0m\n\u001b[0;32m   3168\u001b[0m             \u001b[0mdecimal\u001b[0m\u001b[1;33m=\u001b[0m\u001b[0mdecimal\u001b[0m\u001b[1;33m,\u001b[0m\u001b[1;33m\u001b[0m\u001b[1;33m\u001b[0m\u001b[0m\n\u001b[0;32m   3169\u001b[0m         )\n\u001b[1;32m-> 3170\u001b[1;33m         \u001b[0mformatter\u001b[0m\u001b[1;33m.\u001b[0m\u001b[0msave\u001b[0m\u001b[1;33m(\u001b[0m\u001b[1;33m)\u001b[0m\u001b[1;33m\u001b[0m\u001b[1;33m\u001b[0m\u001b[0m\n\u001b[0m\u001b[0;32m   3171\u001b[0m \u001b[1;33m\u001b[0m\u001b[0m\n\u001b[0;32m   3172\u001b[0m         \u001b[1;32mif\u001b[0m \u001b[0mpath_or_buf\u001b[0m \u001b[1;32mis\u001b[0m \u001b[1;32mNone\u001b[0m\u001b[1;33m:\u001b[0m\u001b[1;33m\u001b[0m\u001b[1;33m\u001b[0m\u001b[0m\n",
      "\u001b[1;32md:\\programs\\python39\\lib\\site-packages\\pandas\\io\\formats\\csvs.py\u001b[0m in \u001b[0;36msave\u001b[1;34m(self)\u001b[0m\n\u001b[0;32m    183\u001b[0m             \u001b[0mclose\u001b[0m \u001b[1;33m=\u001b[0m \u001b[1;32mFalse\u001b[0m\u001b[1;33m\u001b[0m\u001b[1;33m\u001b[0m\u001b[0m\n\u001b[0;32m    184\u001b[0m         \u001b[1;32melse\u001b[0m\u001b[1;33m:\u001b[0m\u001b[1;33m\u001b[0m\u001b[1;33m\u001b[0m\u001b[0m\n\u001b[1;32m--> 185\u001b[1;33m             f, handles = get_handle(\n\u001b[0m\u001b[0;32m    186\u001b[0m                 \u001b[0mself\u001b[0m\u001b[1;33m.\u001b[0m\u001b[0mpath_or_buf\u001b[0m\u001b[1;33m,\u001b[0m\u001b[1;33m\u001b[0m\u001b[1;33m\u001b[0m\u001b[0m\n\u001b[0;32m    187\u001b[0m                 \u001b[0mself\u001b[0m\u001b[1;33m.\u001b[0m\u001b[0mmode\u001b[0m\u001b[1;33m,\u001b[0m\u001b[1;33m\u001b[0m\u001b[1;33m\u001b[0m\u001b[0m\n",
      "\u001b[1;32md:\\programs\\python39\\lib\\site-packages\\pandas\\io\\common.py\u001b[0m in \u001b[0;36mget_handle\u001b[1;34m(path_or_buf, mode, encoding, compression, memory_map, is_text, errors)\u001b[0m\n\u001b[0;32m    491\u001b[0m         \u001b[1;32mif\u001b[0m \u001b[0mencoding\u001b[0m\u001b[1;33m:\u001b[0m\u001b[1;33m\u001b[0m\u001b[1;33m\u001b[0m\u001b[0m\n\u001b[0;32m    492\u001b[0m             \u001b[1;31m# Encoding\u001b[0m\u001b[1;33m\u001b[0m\u001b[1;33m\u001b[0m\u001b[1;33m\u001b[0m\u001b[0m\n\u001b[1;32m--> 493\u001b[1;33m             \u001b[0mf\u001b[0m \u001b[1;33m=\u001b[0m \u001b[0mopen\u001b[0m\u001b[1;33m(\u001b[0m\u001b[0mpath_or_buf\u001b[0m\u001b[1;33m,\u001b[0m \u001b[0mmode\u001b[0m\u001b[1;33m,\u001b[0m \u001b[0mencoding\u001b[0m\u001b[1;33m=\u001b[0m\u001b[0mencoding\u001b[0m\u001b[1;33m,\u001b[0m \u001b[0merrors\u001b[0m\u001b[1;33m=\u001b[0m\u001b[0merrors\u001b[0m\u001b[1;33m,\u001b[0m \u001b[0mnewline\u001b[0m\u001b[1;33m=\u001b[0m\u001b[1;34m\"\"\u001b[0m\u001b[1;33m)\u001b[0m\u001b[1;33m\u001b[0m\u001b[1;33m\u001b[0m\u001b[0m\n\u001b[0m\u001b[0;32m    494\u001b[0m         \u001b[1;32melif\u001b[0m \u001b[0mis_text\u001b[0m\u001b[1;33m:\u001b[0m\u001b[1;33m\u001b[0m\u001b[1;33m\u001b[0m\u001b[0m\n\u001b[0;32m    495\u001b[0m             \u001b[1;31m# No explicit encoding\u001b[0m\u001b[1;33m\u001b[0m\u001b[1;33m\u001b[0m\u001b[1;33m\u001b[0m\u001b[0m\n",
      "\u001b[1;31mFileNotFoundError\u001b[0m: [Errno 2] No such file or directory: 'generated_dataset/writer_movies_id_mapping.csv'"
     ]
    }
   ],
   "source": [
    "writers_grouped = movie_writer_name_df.groupby(['movie_id'], as_index=False)\n",
    "#aggregate the directors and directors in one column for each separated by |\n",
    "movie_id_writer_name_grouped_df = writers_grouped.agg({\n",
    "                                        'writer_name':lambda x: '|'.join(set(x))\n",
    "                                        \n",
    "                                        })\n",
    "#save grouped data to file\n",
    "movie_id_writer_name_grouped_df.to_csv(\"generated_dataset/writer_movies_id_mapping.csv\", index=False)"
   ]
  },
  {
   "cell_type": "code",
   "execution_count": 52,
   "metadata": {},
   "outputs": [
    {
     "data": {
      "text/plain": [
       "2644140"
      ]
     },
     "execution_count": 52,
     "metadata": {},
     "output_type": "execute_result"
    }
   ],
   "source": [
    "len(movie_id_writer_name_grouped_df.movie_id.unique())"
   ]
  },
  {
   "cell_type": "code",
   "execution_count": 53,
   "metadata": {
    "scrolled": true
   },
   "outputs": [],
   "source": [
    "final_dataset_df = final_dataset_df.merge(movie_id_writer_name_grouped_df, how=\"inner\", on='movie_id')"
   ]
  },
  {
   "cell_type": "code",
   "execution_count": 57,
   "metadata": {
    "scrolled": true
   },
   "outputs": [
    {
     "data": {
      "text/plain": [
       "187650"
      ]
     },
     "execution_count": 57,
     "metadata": {},
     "output_type": "execute_result"
    }
   ],
   "source": [
    "len(final_dataset_df.movie_id.unique())"
   ]
  },
  {
   "cell_type": "code",
   "execution_count": 58,
   "metadata": {
    "scrolled": true
   },
   "outputs": [],
   "source": [
    "final_dataset_df.to_csv('generated_dataset/imdb_final_dataset.csv', index= False)"
   ]
  },
  {
   "cell_type": "code",
   "execution_count": null,
   "metadata": {
    "scrolled": true
   },
   "outputs": [],
   "source": []
  },
  {
   "cell_type": "code",
   "execution_count": null,
   "metadata": {
    "scrolled": true
   },
   "outputs": [],
   "source": []
  },
  {
   "cell_type": "code",
   "execution_count": null,
   "metadata": {
    "scrolled": true
   },
   "outputs": [],
   "source": []
  }
 ],
 "metadata": {
  "kernelspec": {
   "display_name": "Python 3",
   "language": "python",
   "name": "python3"
  },
  "language_info": {
   "codemirror_mode": {
    "name": "ipython",
    "version": 3
   },
   "file_extension": ".py",
   "mimetype": "text/x-python",
   "name": "python",
   "nbconvert_exporter": "python",
   "pygments_lexer": "ipython3",
   "version": "3.9.0"
  }
 },
 "nbformat": 4,
 "nbformat_minor": 4
}
