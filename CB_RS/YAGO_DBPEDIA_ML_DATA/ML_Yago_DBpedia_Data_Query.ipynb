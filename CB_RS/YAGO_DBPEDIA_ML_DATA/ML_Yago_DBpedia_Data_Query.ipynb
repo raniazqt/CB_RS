{
 "cells": [
  {
   "cell_type": "code",
   "execution_count": 1,
   "metadata": {
    "scrolled": true
   },
   "outputs": [
    {
     "data": {
      "text/plain": [
       "<module 'sparql_query' from 'C:\\\\Users\\\\rania\\\\OneDrive\\\\AI Master\\\\Project\\\\Python_Code\\\\Final_Code\\\\modules\\\\sparql_query.py'>"
      ]
     },
     "execution_count": 1,
     "metadata": {},
     "output_type": "execute_result"
    }
   ],
   "source": [
    "#!/usr/bin/env python\n",
    "# -*- coding: latin-1 -*-\n",
    "import pandas as pd \n",
    "import numpy as np \n",
    "import csv\n",
    "import logging\n",
    "from SPARQLWrapper import SPARQLWrapper,JSON, SPARQLWrapper2, POST,XML,GET\n",
    "from collections import defaultdict\n",
    "from tqdm.notebook import tqdm\n",
    "import query_helper_functions as q_helper\n",
    "import sparql_query as sparql_query\n",
    "import imp\n",
    "imp.reload(q_helper)\n",
    "imp.reload(sparql_query)\n"
   ]
  },
  {
   "cell_type": "code",
   "execution_count": 2,
   "metadata": {
    "scrolled": true
   },
   "outputs": [
    {
     "name": "stderr",
     "output_type": "stream",
     "text": [
      "d:\\programs\\python39\\lib\\site-packages\\tqdm\\std.py:703: FutureWarning: The Panel class is removed from pandas. Accessing it from the top-level namespace will also be removed in the next version\n",
      "  from pandas import Panel\n"
     ]
    }
   ],
   "source": [
    "logging.basicConfig(format='%(asctime)s : %(levelname)s : %(message)s', level=logging.INFO)\n",
    "\n",
    "tqdm.pandas(desc=\"progress bar\")\n",
    "pd.set_option('display.max_rows', 2000)\n"
   ]
  },
  {
   "cell_type": "code",
   "execution_count": 3,
   "metadata": {
    "scrolled": true
   },
   "outputs": [],
   "source": [
    "ml_file_movies_df = pd.read_csv('../dataset/ml_movies.csv')"
   ]
  },
  {
   "cell_type": "code",
   "execution_count": 4,
   "metadata": {
    "scrolled": true
   },
   "outputs": [
    {
     "data": {
      "text/html": [
       "<div>\n",
       "<style scoped>\n",
       "    .dataframe tbody tr th:only-of-type {\n",
       "        vertical-align: middle;\n",
       "    }\n",
       "\n",
       "    .dataframe tbody tr th {\n",
       "        vertical-align: top;\n",
       "    }\n",
       "\n",
       "    .dataframe thead th {\n",
       "        text-align: right;\n",
       "    }\n",
       "</style>\n",
       "<table border=\"1\" class=\"dataframe\">\n",
       "  <thead>\n",
       "    <tr style=\"text-align: right;\">\n",
       "      <th></th>\n",
       "      <th>movieId</th>\n",
       "      <th>title</th>\n",
       "      <th>genres</th>\n",
       "    </tr>\n",
       "  </thead>\n",
       "  <tbody>\n",
       "    <tr>\n",
       "      <th>0</th>\n",
       "      <td>1</td>\n",
       "      <td>Toy Story (1995)</td>\n",
       "      <td>Adventure|Animation|Children|Comedy|Fantasy</td>\n",
       "    </tr>\n",
       "    <tr>\n",
       "      <th>1</th>\n",
       "      <td>2</td>\n",
       "      <td>Jumanji (1995)</td>\n",
       "      <td>Adventure|Children|Fantasy</td>\n",
       "    </tr>\n",
       "    <tr>\n",
       "      <th>2</th>\n",
       "      <td>3</td>\n",
       "      <td>Grumpier Old Men (1995)</td>\n",
       "      <td>Comedy|Romance</td>\n",
       "    </tr>\n",
       "    <tr>\n",
       "      <th>3</th>\n",
       "      <td>4</td>\n",
       "      <td>Waiting to Exhale (1995)</td>\n",
       "      <td>Comedy|Drama|Romance</td>\n",
       "    </tr>\n",
       "    <tr>\n",
       "      <th>4</th>\n",
       "      <td>5</td>\n",
       "      <td>Father of the Bride Part II (1995)</td>\n",
       "      <td>Comedy</td>\n",
       "    </tr>\n",
       "    <tr>\n",
       "      <th>...</th>\n",
       "      <td>...</td>\n",
       "      <td>...</td>\n",
       "      <td>...</td>\n",
       "    </tr>\n",
       "    <tr>\n",
       "      <th>62418</th>\n",
       "      <td>209157</td>\n",
       "      <td>We (2018)</td>\n",
       "      <td>Drama</td>\n",
       "    </tr>\n",
       "    <tr>\n",
       "      <th>62419</th>\n",
       "      <td>209159</td>\n",
       "      <td>Window of the Soul (2001)</td>\n",
       "      <td>Documentary</td>\n",
       "    </tr>\n",
       "    <tr>\n",
       "      <th>62420</th>\n",
       "      <td>209163</td>\n",
       "      <td>Bad Poems (2018)</td>\n",
       "      <td>Comedy|Drama</td>\n",
       "    </tr>\n",
       "    <tr>\n",
       "      <th>62421</th>\n",
       "      <td>209169</td>\n",
       "      <td>A Girl Thing (2001)</td>\n",
       "      <td>(no genres listed)</td>\n",
       "    </tr>\n",
       "    <tr>\n",
       "      <th>62422</th>\n",
       "      <td>209171</td>\n",
       "      <td>Women of Devil's Island (1962)</td>\n",
       "      <td>Action|Adventure|Drama</td>\n",
       "    </tr>\n",
       "  </tbody>\n",
       "</table>\n",
       "<p>62423 rows × 3 columns</p>\n",
       "</div>"
      ],
      "text/plain": [
       "       movieId                               title  \\\n",
       "0            1                    Toy Story (1995)   \n",
       "1            2                      Jumanji (1995)   \n",
       "2            3             Grumpier Old Men (1995)   \n",
       "3            4            Waiting to Exhale (1995)   \n",
       "4            5  Father of the Bride Part II (1995)   \n",
       "...        ...                                 ...   \n",
       "62418   209157                           We (2018)   \n",
       "62419   209159           Window of the Soul (2001)   \n",
       "62420   209163                    Bad Poems (2018)   \n",
       "62421   209169                 A Girl Thing (2001)   \n",
       "62422   209171      Women of Devil's Island (1962)   \n",
       "\n",
       "                                            genres  \n",
       "0      Adventure|Animation|Children|Comedy|Fantasy  \n",
       "1                       Adventure|Children|Fantasy  \n",
       "2                                   Comedy|Romance  \n",
       "3                             Comedy|Drama|Romance  \n",
       "4                                           Comedy  \n",
       "...                                            ...  \n",
       "62418                                        Drama  \n",
       "62419                                  Documentary  \n",
       "62420                                 Comedy|Drama  \n",
       "62421                           (no genres listed)  \n",
       "62422                       Action|Adventure|Drama  \n",
       "\n",
       "[62423 rows x 3 columns]"
      ]
     },
     "execution_count": 4,
     "metadata": {},
     "output_type": "execute_result"
    }
   ],
   "source": [
    "ml_file_movies_df"
   ]
  },
  {
   "cell_type": "code",
   "execution_count": null,
   "metadata": {
    "scrolled": true
   },
   "outputs": [],
   "source": []
  },
  {
   "cell_type": "code",
   "execution_count": null,
   "metadata": {
    "scrolled": true
   },
   "outputs": [],
   "source": [
    "ml_file_movies_df[10:20]"
   ]
  },
  {
   "cell_type": "code",
   "execution_count": 5,
   "metadata": {
    "scrolled": true
   },
   "outputs": [],
   "source": [
    "#clean titles in ml data\n",
    "#delete any record with empty title\n",
    "ml_file_movies_df= ml_file_movies_df.loc[~(ml_file_movies_df['title']==\"\")]\n",
    "# extract the year from the title and save it in a new column\n",
    "ml_file_movies_df['year'] =  ml_file_movies_df.title.str.extract(r'\\(([0-9]+)\\)')\n",
    "# remove any parentheses and text in between from the title\n",
    "ml_file_movies_df['title'] = ml_file_movies_df['title'].str.replace(r\"\\(.*\\)\",\"\")\n",
    "#remove white spaces from the title and convert it to lower case\n",
    "ml_file_movies_df.title = ml_file_movies_df.title.str.strip().str.lower()\n",
    "#remove double qoutation from title\n",
    "ml_file_movies_df['title'] = ml_file_movies_df['title'].str.replace(\"\\\"\",\"\")\n",
    "#move \"the\" from the end of the title to the begining\n",
    "ml_file_movies_df['title'] = ml_file_movies_df['title'].apply(lambda row: 'the ' + row.replace(\", the\", \"\") if \", the\" in row else row)"
   ]
  },
  {
   "cell_type": "code",
   "execution_count": 6,
   "metadata": {
    "scrolled": true
   },
   "outputs": [
    {
     "data": {
      "text/html": [
       "<div>\n",
       "<style scoped>\n",
       "    .dataframe tbody tr th:only-of-type {\n",
       "        vertical-align: middle;\n",
       "    }\n",
       "\n",
       "    .dataframe tbody tr th {\n",
       "        vertical-align: top;\n",
       "    }\n",
       "\n",
       "    .dataframe thead th {\n",
       "        text-align: right;\n",
       "    }\n",
       "</style>\n",
       "<table border=\"1\" class=\"dataframe\">\n",
       "  <thead>\n",
       "    <tr style=\"text-align: right;\">\n",
       "      <th></th>\n",
       "      <th>movieId</th>\n",
       "      <th>title</th>\n",
       "      <th>genres</th>\n",
       "      <th>year</th>\n",
       "    </tr>\n",
       "  </thead>\n",
       "  <tbody>\n",
       "    <tr>\n",
       "      <th>0</th>\n",
       "      <td>1</td>\n",
       "      <td>toy story</td>\n",
       "      <td>Adventure|Animation|Children|Comedy|Fantasy</td>\n",
       "      <td>1995</td>\n",
       "    </tr>\n",
       "    <tr>\n",
       "      <th>1</th>\n",
       "      <td>2</td>\n",
       "      <td>jumanji</td>\n",
       "      <td>Adventure|Children|Fantasy</td>\n",
       "      <td>1995</td>\n",
       "    </tr>\n",
       "    <tr>\n",
       "      <th>2</th>\n",
       "      <td>3</td>\n",
       "      <td>grumpier old men</td>\n",
       "      <td>Comedy|Romance</td>\n",
       "      <td>1995</td>\n",
       "    </tr>\n",
       "    <tr>\n",
       "      <th>3</th>\n",
       "      <td>4</td>\n",
       "      <td>waiting to exhale</td>\n",
       "      <td>Comedy|Drama|Romance</td>\n",
       "      <td>1995</td>\n",
       "    </tr>\n",
       "    <tr>\n",
       "      <th>4</th>\n",
       "      <td>5</td>\n",
       "      <td>father of the bride part ii</td>\n",
       "      <td>Comedy</td>\n",
       "      <td>1995</td>\n",
       "    </tr>\n",
       "    <tr>\n",
       "      <th>...</th>\n",
       "      <td>...</td>\n",
       "      <td>...</td>\n",
       "      <td>...</td>\n",
       "      <td>...</td>\n",
       "    </tr>\n",
       "    <tr>\n",
       "      <th>62418</th>\n",
       "      <td>209157</td>\n",
       "      <td>we</td>\n",
       "      <td>Drama</td>\n",
       "      <td>2018</td>\n",
       "    </tr>\n",
       "    <tr>\n",
       "      <th>62419</th>\n",
       "      <td>209159</td>\n",
       "      <td>window of the soul</td>\n",
       "      <td>Documentary</td>\n",
       "      <td>2001</td>\n",
       "    </tr>\n",
       "    <tr>\n",
       "      <th>62420</th>\n",
       "      <td>209163</td>\n",
       "      <td>bad poems</td>\n",
       "      <td>Comedy|Drama</td>\n",
       "      <td>2018</td>\n",
       "    </tr>\n",
       "    <tr>\n",
       "      <th>62421</th>\n",
       "      <td>209169</td>\n",
       "      <td>a girl thing</td>\n",
       "      <td>(no genres listed)</td>\n",
       "      <td>2001</td>\n",
       "    </tr>\n",
       "    <tr>\n",
       "      <th>62422</th>\n",
       "      <td>209171</td>\n",
       "      <td>women of devil's island</td>\n",
       "      <td>Action|Adventure|Drama</td>\n",
       "      <td>1962</td>\n",
       "    </tr>\n",
       "  </tbody>\n",
       "</table>\n",
       "<p>62423 rows × 4 columns</p>\n",
       "</div>"
      ],
      "text/plain": [
       "       movieId                        title  \\\n",
       "0            1                    toy story   \n",
       "1            2                      jumanji   \n",
       "2            3             grumpier old men   \n",
       "3            4            waiting to exhale   \n",
       "4            5  father of the bride part ii   \n",
       "...        ...                          ...   \n",
       "62418   209157                           we   \n",
       "62419   209159           window of the soul   \n",
       "62420   209163                    bad poems   \n",
       "62421   209169                 a girl thing   \n",
       "62422   209171      women of devil's island   \n",
       "\n",
       "                                            genres  year  \n",
       "0      Adventure|Animation|Children|Comedy|Fantasy  1995  \n",
       "1                       Adventure|Children|Fantasy  1995  \n",
       "2                                   Comedy|Romance  1995  \n",
       "3                             Comedy|Drama|Romance  1995  \n",
       "4                                           Comedy  1995  \n",
       "...                                            ...   ...  \n",
       "62418                                        Drama  2018  \n",
       "62419                                  Documentary  2001  \n",
       "62420                                 Comedy|Drama  2018  \n",
       "62421                           (no genres listed)  2001  \n",
       "62422                       Action|Adventure|Drama  1962  \n",
       "\n",
       "[62423 rows x 4 columns]"
      ]
     },
     "execution_count": 6,
     "metadata": {},
     "output_type": "execute_result"
    }
   ],
   "source": [
    "ml_file_movies_df"
   ]
  },
  {
   "cell_type": "code",
   "execution_count": 7,
   "metadata": {
    "scrolled": true
   },
   "outputs": [
    {
     "data": {
      "text/plain": [
       "<bound method NDFrame.describe of        movieId                        title  \\\n",
       "0            1                    toy story   \n",
       "1            2                      jumanji   \n",
       "2            3             grumpier old men   \n",
       "3            4            waiting to exhale   \n",
       "4            5  father of the bride part ii   \n",
       "...        ...                          ...   \n",
       "62418   209157                           we   \n",
       "62419   209159           window of the soul   \n",
       "62420   209163                    bad poems   \n",
       "62421   209169                 a girl thing   \n",
       "62422   209171      women of devil's island   \n",
       "\n",
       "                                            genres  year  \n",
       "0      Adventure|Animation|Children|Comedy|Fantasy  1995  \n",
       "1                       Adventure|Children|Fantasy  1995  \n",
       "2                                   Comedy|Romance  1995  \n",
       "3                             Comedy|Drama|Romance  1995  \n",
       "4                                           Comedy  1995  \n",
       "...                                            ...   ...  \n",
       "62418                                        Drama  2018  \n",
       "62419                                  Documentary  2001  \n",
       "62420                                 Comedy|Drama  2018  \n",
       "62421                           (no genres listed)  2001  \n",
       "62422                       Action|Adventure|Drama  1962  \n",
       "\n",
       "[62423 rows x 4 columns]>"
      ]
     },
     "execution_count": 7,
     "metadata": {},
     "output_type": "execute_result"
    }
   ],
   "source": [
    "#copy thedata into new dataframe\n",
    "ml_movies_df = ml_file_movies_df.copy()\n",
    "ml_movies_df.describe"
   ]
  },
  {
   "cell_type": "code",
   "execution_count": 8,
   "metadata": {
    "scrolled": true
   },
   "outputs": [
    {
     "data": {
      "text/plain": [
       "'!\"#$%&\\'()*+,-./:;<=>?@[\\\\]^_`{|}~'"
      ]
     },
     "execution_count": 8,
     "metadata": {},
     "output_type": "execute_result"
    }
   ],
   "source": [
    "# importing the string module\n",
    "import string\n",
    "# special characters\n",
    "special_chars = string.punctuation\n",
    "special_chars"
   ]
  },
  {
   "cell_type": "code",
   "execution_count": 9,
   "metadata": {
    "scrolled": true
   },
   "outputs": [
    {
     "data": {
      "text/html": [
       "<div>\n",
       "<style scoped>\n",
       "    .dataframe tbody tr th:only-of-type {\n",
       "        vertical-align: middle;\n",
       "    }\n",
       "\n",
       "    .dataframe tbody tr th {\n",
       "        vertical-align: top;\n",
       "    }\n",
       "\n",
       "    .dataframe thead th {\n",
       "        text-align: right;\n",
       "    }\n",
       "</style>\n",
       "<table border=\"1\" class=\"dataframe\">\n",
       "  <thead>\n",
       "    <tr style=\"text-align: right;\">\n",
       "      <th></th>\n",
       "      <th>movieId</th>\n",
       "      <th>title</th>\n",
       "      <th>genres</th>\n",
       "      <th>year</th>\n",
       "    </tr>\n",
       "  </thead>\n",
       "  <tbody>\n",
       "    <tr>\n",
       "      <th>13495</th>\n",
       "      <td>69757</td>\n",
       "      <td></td>\n",
       "      <td>Comedy|Drama|Romance</td>\n",
       "      <td>500</td>\n",
       "    </tr>\n",
       "    <tr>\n",
       "      <th>15292</th>\n",
       "      <td>80729</td>\n",
       "      <td></td>\n",
       "      <td>Comedy|Drama</td>\n",
       "      <td>2009</td>\n",
       "    </tr>\n",
       "    <tr>\n",
       "      <th>16130</th>\n",
       "      <td>85177</td>\n",
       "      <td>$</td>\n",
       "      <td>Comedy|Crime|Drama</td>\n",
       "      <td>1971</td>\n",
       "    </tr>\n",
       "    <tr>\n",
       "      <th>22515</th>\n",
       "      <td>115263</td>\n",
       "      <td></td>\n",
       "      <td>Documentary</td>\n",
       "      <td>2011</td>\n",
       "    </tr>\n",
       "    <tr>\n",
       "      <th>34557</th>\n",
       "      <td>145733</td>\n",
       "      <td></td>\n",
       "      <td>Adventure|Children</td>\n",
       "      <td>2011</td>\n",
       "    </tr>\n",
       "    <tr>\n",
       "      <th>35125</th>\n",
       "      <td>147033</td>\n",
       "      <td></td>\n",
       "      <td>Documentary|Thriller</td>\n",
       "      <td>2015</td>\n",
       "    </tr>\n",
       "    <tr>\n",
       "      <th>40668</th>\n",
       "      <td>160010</td>\n",
       "      <td></td>\n",
       "      <td>Documentary</td>\n",
       "      <td>2015</td>\n",
       "    </tr>\n",
       "    <tr>\n",
       "      <th>56000</th>\n",
       "      <td>193219</td>\n",
       "      <td></td>\n",
       "      <td>Comedy|Romance</td>\n",
       "      <td>2018</td>\n",
       "    </tr>\n",
       "  </tbody>\n",
       "</table>\n",
       "</div>"
      ],
      "text/plain": [
       "       movieId title                genres  year\n",
       "13495    69757        Comedy|Drama|Romance   500\n",
       "15292    80729                Comedy|Drama  2009\n",
       "16130    85177     $    Comedy|Crime|Drama  1971\n",
       "22515   115263                 Documentary  2011\n",
       "34557   145733          Adventure|Children  2011\n",
       "35125   147033        Documentary|Thriller  2015\n",
       "40668   160010                 Documentary  2015\n",
       "56000   193219              Comedy|Romance  2018"
      ]
     },
     "execution_count": 9,
     "metadata": {},
     "output_type": "execute_result"
    }
   ],
   "source": [
    "ml_movies_df[ml_movies_df.title.apply(lambda title: True if title in special_chars else False)]"
   ]
  },
  {
   "cell_type": "code",
   "execution_count": null,
   "metadata": {
    "scrolled": true
   },
   "outputs": [],
   "source": [
    "ml_movies_df[ml_movies_df['movieId']==115263]"
   ]
  },
  {
   "cell_type": "code",
   "execution_count": null,
   "metadata": {
    "scrolled": true
   },
   "outputs": [],
   "source": [
    "ml_movies_df[ml_movies_df['title']==\"\"]"
   ]
  },
  {
   "cell_type": "code",
   "execution_count": null,
   "metadata": {
    "scrolled": true
   },
   "outputs": [],
   "source": [
    "movies_list = ml_movies_df['title'].values.tolist()"
   ]
  },
  {
   "cell_type": "code",
   "execution_count": null,
   "metadata": {
    "scrolled": true
   },
   "outputs": [],
   "source": [
    "print(\"Number of movies from MovieLens dataset is {} \".format(len(movies_list)))"
   ]
  },
  {
   "cell_type": "markdown",
   "metadata": {},
   "source": [
    "# Query DBPedia for MovieLens Data"
   ]
  },
  {
   "cell_type": "code",
   "execution_count": null,
   "metadata": {
    "scrolled": true
   },
   "outputs": [],
   "source": [
    "#uncomment either the call to query lod to refresh the data or the load from file\n",
    "endpoint = \"https://dbpedia.org/sparql\"\n",
    "return_format = XML\n",
    "request_method= POST\n",
    "chunck_size = 2000\n",
    "#movies_info_result_df = q_helper.retrieve_data_for_movies_list(sparql_query.dbpedia_movies_info_query, movies_list, chunck_size,'string', endpoint, return_format, request_method)\n",
    "movies_info_df = movies_info_result_df[0].copy()\n",
    "failed_movies_info_list = movies_info_result_df[1].copy()\n",
    "#save raw results of movies info query to file\n",
    "#movies_info_df.to_csv(\"generated_dataset/dbpedia_movie_info_query_raw_results.csv\",index=False)"
   ]
  },
  {
   "cell_type": "code",
   "execution_count": null,
   "metadata": {
    "scrolled": true
   },
   "outputs": [],
   "source": [
    "movies_info_df = pd.read_csv(\"generated_dataset/dbpedia_movie_info_query_raw_results.csv\")\n",
    "movies_info_df"
   ]
  },
  {
   "cell_type": "code",
   "execution_count": null,
   "metadata": {
    "scrolled": true
   },
   "outputs": [],
   "source": [
    "movies_info_df['movie_id']= movies_info_df.pedia_movie.str.split('http://dbpedia.org/resource/').str[1]\n",
    "\n",
    "movies_info_df = movies_info_df.fillna('NOT_FOUND')\n",
    "movies_info_df['country']= movies_info_df['country'].apply(lambda country: \n",
    "                                                 country.split('http://dbpedia.org/resource/')[1] if 'dbpedia.org/resource/' in country else country )\n",
    "\n"
   ]
  },
  {
   "cell_type": "code",
   "execution_count": null,
   "metadata": {
    "scrolled": true
   },
   "outputs": [],
   "source": []
  },
  {
   "cell_type": "code",
   "execution_count": null,
   "metadata": {
    "scrolled": true
   },
   "outputs": [],
   "source": [
    "#Group movies info results to extract the directors, writers, and titles\n",
    "movies_info_grouped = movies_info_df.groupby(['movie_id','title'], as_index=False)\n",
    "#aggregate the directors and directors in one column for each separated by |\n",
    "dbpedia_info_df = movies_info_grouped.agg({\n",
    "                                        'director_name':lambda x:  '|'.join(set(x)),\n",
    "                                        'writer_name':lambda x: '|'.join(set(x)),                                      \n",
    "                                        'country':lambda x: '|'.join(set(x))\n",
    "                                        })\n",
    "#save grouped data to file\n",
    "dbpedia_info_df.to_csv(\"generated_dataset/dbpedia_movie_info_grouped.csv\", index=False)"
   ]
  },
  {
   "cell_type": "code",
   "execution_count": null,
   "metadata": {
    "scrolled": true
   },
   "outputs": [],
   "source": [
    "dbpedia_info_df"
   ]
  },
  {
   "cell_type": "code",
   "execution_count": 88,
   "metadata": {
    "scrolled": true
   },
   "outputs": [],
   "source": [
    "dbpedia_info_df = pd.read_csv(\"generated_dataset/dbpedia_movie_info_grouped.csv\")"
   ]
  },
  {
   "cell_type": "markdown",
   "metadata": {},
   "source": [
    "# Data analysis for the retrieved movies info (director, writer, country) from DBpedia"
   ]
  },
  {
   "cell_type": "code",
   "execution_count": null,
   "metadata": {
    "scrolled": true
   },
   "outputs": [],
   "source": [
    "pedia_info_no_features = len(dbpedia_info_df[\n",
    "                         ((dbpedia_info_df.director_name == 'NOT_FOUND')\n",
    "                          & (dbpedia_info_df.writer_name == 'NOT_FOUND')                          \n",
    "                          & (dbpedia_info_df.country == 'NOT_FOUND'))])\n",
    "\n",
    " \n",
    "pedia_info_all_features = len(dbpedia_info_df[\n",
    "                              ((dbpedia_info_df.director_name != 'NOT_FOUND')\n",
    "                              & (dbpedia_info_df.writer_name != 'NOT_FOUND')                          \n",
    "                              & (dbpedia_info_df.country != 'NOT_FOUND'))])\n",
    "\n",
    "pedia_info_no_country = len(dbpedia_info_df[\n",
    "                             ((dbpedia_info_df.director_name != 'NOT_FOUND')\n",
    "                          &  (dbpedia_info_df.writer_name != 'NOT_FOUND')                          \n",
    "                          &  (dbpedia_info_df.country == 'NOT_FOUND'))])\n",
    "\n",
    "pedia_info_no_writer = len(dbpedia_info_df[\n",
    "                             ((dbpedia_info_df.director_name != 'NOT_FOUND')\n",
    "                          &  (dbpedia_info_df.writer_name == 'NOT_FOUND')                          \n",
    "                          &  (dbpedia_info_df.country != 'NOT_FOUND'))])\n",
    "\n",
    "pedia_info_no_director = len(dbpedia_info_df[\n",
    "                             ((dbpedia_info_df.director_name == 'NOT_FOUND')\n",
    "                          &  (dbpedia_info_df.writer_name != 'NOT_FOUND')                          \n",
    "                          &  (dbpedia_info_df.country != 'NOT_FOUND'))])\n"
   ]
  },
  {
   "cell_type": "code",
   "execution_count": null,
   "metadata": {
    "scrolled": true
   },
   "outputs": [],
   "source": [
    "print(\"Number of ML movies retrieved from DBpedia with their info is {}\".format(len(dbpedia_info_df)))\n",
    "print(\"Number of movies missing all features is {}\".format(pedia_info_no_features))\n",
    "print(\"Number of movies having all features is {}\".format(pedia_info_all_features))\n",
    "print(\"Number of movies missing ONLY the country feature is {}\".format(pedia_info_no_country))\n",
    "print(\"Number of movies missing ONLY the writer feature is {}\".format(pedia_info_no_writer))\n",
    "print(\"Number of movies missing ONLY the director feature is {}\".format(pedia_info_no_director))"
   ]
  },
  {
   "cell_type": "markdown",
   "metadata": {},
   "source": []
  },
  {
   "cell_type": "code",
   "execution_count": null,
   "metadata": {
    "scrolled": true
   },
   "outputs": [],
   "source": [
    "# Load DBpedia movies information from last query results\n",
    "#dbpedia_info_df= pd.read_csv(\"generated_dataset/dbpedia_movie_info_grouped.csv\")\n",
    "#dbpedia_info_df"
   ]
  },
  {
   "cell_type": "markdown",
   "metadata": {},
   "source": [
    "# Query DBpedia for the actors of the ML movies"
   ]
  },
  {
   "cell_type": "code",
   "execution_count": null,
   "metadata": {
    "scrolled": true
   },
   "outputs": [],
   "source": [
    "#uncomment either the query to refresh the data from the source or load the previously retrieved data from file\n",
    "endpoint = \"https://dbpedia.org/sparql\"\n",
    "return_format = XML\n",
    "request_method= POST\n",
    "chunk_size = 2000\n",
    "#movies_actors_results_df = q_helper.retrieve_data_for_movies_list(sparql_query.dbpedia_movies_actors_query,movies_list,chunk_size,'string',endpoint, return_format,request_method)\n",
    "movies_actors_df= movies_actors_results_df[0].copy()\n",
    "failed_movies_actors_list = movies_actors_results_df[1].copy()\n",
    "#save movies actors results to file\n",
    "movies_actors_df.to_csv(\"generated_dataset/dbpedia_movies_actors_query_raw_results.csv\",index=False)"
   ]
  },
  {
   "cell_type": "code",
   "execution_count": null,
   "metadata": {
    "scrolled": true
   },
   "outputs": [],
   "source": [
    "movies_actors_df= pd.read_csv(\"generated_dataset/dbpedia_movies_actors_query_raw_results.csv\")\n",
    "movies_actors_df"
   ]
  },
  {
   "cell_type": "code",
   "execution_count": null,
   "metadata": {
    "scrolled": true
   },
   "outputs": [],
   "source": [
    "\n",
    "#create movie id by extracting the dbpedia movie id from the link\n",
    "movies_actors_df['movie_id']= movies_actors_df.pedia_movie.str.split('http://dbpedia.org/resource/').str[1]\n",
    "movies_actors_df = movies_actors_df.fillna('NOT_FOUND')"
   ]
  },
  {
   "cell_type": "code",
   "execution_count": null,
   "metadata": {
    "scrolled": true
   },
   "outputs": [],
   "source": [
    "movies_actors_df"
   ]
  },
  {
   "cell_type": "code",
   "execution_count": null,
   "metadata": {
    "scrolled": true
   },
   "outputs": [],
   "source": [
    "#group the actors per movie and save data to file\n",
    "movies_actors_grouped = movies_actors_df.groupby(['movie_id'], as_index=False)\n",
    "#aggregate the actors in one column for each movie separated by |\n",
    "dbpedia_movies_actors_df = movies_actors_grouped.agg({'actor_name':lambda x: '|'.join(set(x))\n",
    "                                         })\n",
    "\n",
    "dbpedia_movies_actors_df.to_csv(\"generated_dataset/dbpedia_actors_grouped.csv\",index=False)\n"
   ]
  },
  {
   "cell_type": "code",
   "execution_count": null,
   "metadata": {
    "scrolled": true
   },
   "outputs": [],
   "source": [
    "dbpedia_movies_actors_df"
   ]
  },
  {
   "cell_type": "code",
   "execution_count": null,
   "metadata": {
    "scrolled": true
   },
   "outputs": [],
   "source": [
    "dbpedia_movies_actors_df.isnull().values.any()"
   ]
  },
  {
   "cell_type": "markdown",
   "metadata": {},
   "source": [
    "#group the actors per movie and save data to file\n",
    "movies_actors_grouped = movies_actors_df.groupby(['movie_id'], as_index=False)\n",
    "#aggregate the actors in one column for each movie separated by |\n",
    "dbpedia_movies_actors_df = movies_actors_grouped.agg({'actor_name':lambda x: '|'.join(set(x))\n",
    "                                         })\n",
    "#Group movies info results to extract the directors, writers, and titles\n",
    "movies_info_grouped = movies_info_df.groupby(['movie_id','title'], as_index=False)\n",
    "#aggregate the directors and directors in one column for each separated by |\n",
    "dbpedia_info_df = movies_info_grouped.agg({\n",
    "                                        'director_name':lambda x:  '|'.join(set(x)),\n",
    "                                        'writer_name':lambda x: '|'.join(set(x)),                                      \n",
    "                                        'country':lambda x: '|'.join(set(x))\n",
    "                                        })\n",
    "#merge dbpedia dataframes to create a combined yago dataset with the attributes, movie_id,title,actor_name,director_name,genre,country\n",
    "dbpedia_movies_df = dbpedia_info_df.merge(dbpedia_movies_actors_df, how=\"inner\", on=['movie_id'])\n",
    "dbpedia_movies_df.reset_index(drop= True)"
   ]
  },
  {
   "cell_type": "code",
   "execution_count": null,
   "metadata": {
    "scrolled": true
   },
   "outputs": [],
   "source": []
  },
  {
   "cell_type": "code",
   "execution_count": null,
   "metadata": {
    "scrolled": true
   },
   "outputs": [],
   "source": [
    "print(\"Number of ML movies found in DBpedia while querying for actors is {}\".format(len(dbpedia_movies_actors_df)))\n",
    "print(\"Number of movies retrieved from DBpedia and missing actors is {}\".format(dbpedia_movies_no_actors))"
   ]
  },
  {
   "cell_type": "code",
   "execution_count": 87,
   "metadata": {
    "scrolled": true
   },
   "outputs": [],
   "source": [
    "# Load DBpedia movies actors from last query results\n",
    "dbpedia_movies_actors_df= pd.read_csv(\"generated_dataset/dbpedia_actors_grouped.csv\")\n",
    "#dbpedia_movies_actors_df"
   ]
  },
  {
   "cell_type": "code",
   "execution_count": null,
   "metadata": {
    "scrolled": true
   },
   "outputs": [],
   "source": []
  },
  {
   "cell_type": "code",
   "execution_count": 89,
   "metadata": {
    "scrolled": true
   },
   "outputs": [
    {
     "data": {
      "text/html": [
       "<div>\n",
       "<style scoped>\n",
       "    .dataframe tbody tr th:only-of-type {\n",
       "        vertical-align: middle;\n",
       "    }\n",
       "\n",
       "    .dataframe tbody tr th {\n",
       "        vertical-align: top;\n",
       "    }\n",
       "\n",
       "    .dataframe thead th {\n",
       "        text-align: right;\n",
       "    }\n",
       "</style>\n",
       "<table border=\"1\" class=\"dataframe\">\n",
       "  <thead>\n",
       "    <tr style=\"text-align: right;\">\n",
       "      <th></th>\n",
       "      <th>movie_id</th>\n",
       "      <th>title</th>\n",
       "      <th>director_name</th>\n",
       "      <th>writer_name</th>\n",
       "      <th>country</th>\n",
       "      <th>actor_name</th>\n",
       "    </tr>\n",
       "  </thead>\n",
       "  <tbody>\n",
       "    <tr>\n",
       "      <th>0</th>\n",
       "      <td>$9.99</td>\n",
       "      <td>$9.99</td>\n",
       "      <td>Tatia Rosenthal</td>\n",
       "      <td>Etgar Keret|Tatia Rosenthal</td>\n",
       "      <td>Israel|Australia</td>\n",
       "      <td>Geoffrey Rush|Anthony LaPaglia</td>\n",
       "    </tr>\n",
       "    <tr>\n",
       "      <th>1</th>\n",
       "      <td>$_(film)</td>\n",
       "      <td>$</td>\n",
       "      <td>Richard Brooks</td>\n",
       "      <td>Richard Brooks</td>\n",
       "      <td>USA</td>\n",
       "      <td>Robert Webber|Gert Fröbe|Warren Beatty|Scott B...</td>\n",
       "    </tr>\n",
       "    <tr>\n",
       "      <th>2</th>\n",
       "      <td>'68_(film)</td>\n",
       "      <td>'68</td>\n",
       "      <td>Steven Kovacs</td>\n",
       "      <td>Steven Kovacs</td>\n",
       "      <td>United States</td>\n",
       "      <td>NOT_FOUND</td>\n",
       "    </tr>\n",
       "    <tr>\n",
       "      <th>3</th>\n",
       "      <td>'71_(film)</td>\n",
       "      <td>'71</td>\n",
       "      <td>Yann Demange</td>\n",
       "      <td>Gregory Burke</td>\n",
       "      <td>United Kingdom</td>\n",
       "      <td>Richard Dormer|Charlie Murphy (actress)|Sean H...</td>\n",
       "    </tr>\n",
       "    <tr>\n",
       "      <th>4</th>\n",
       "      <td>'Gator_Bait</td>\n",
       "      <td>'Gator Bait</td>\n",
       "      <td>Beverly Sebastion</td>\n",
       "      <td>Beverly Sebastion</td>\n",
       "      <td>United States</td>\n",
       "      <td>Claudia Jennings</td>\n",
       "    </tr>\n",
       "    <tr>\n",
       "      <th>...</th>\n",
       "      <td>...</td>\n",
       "      <td>...</td>\n",
       "      <td>...</td>\n",
       "      <td>...</td>\n",
       "      <td>...</td>\n",
       "      <td>...</td>\n",
       "    </tr>\n",
       "    <tr>\n",
       "      <th>40208</th>\n",
       "      <td>Zulu_(1964_film)</td>\n",
       "      <td>Zulu</td>\n",
       "      <td>Cy Endfield</td>\n",
       "      <td>John Prebble|Cy Endfield</td>\n",
       "      <td>United Kingdom\\n*United States</td>\n",
       "      <td>Ulla Jacobsson|Stanley Baker|James Booth|Micha...</td>\n",
       "    </tr>\n",
       "    <tr>\n",
       "      <th>40209</th>\n",
       "      <td>Zulu_(2013_film)</td>\n",
       "      <td>Zulu</td>\n",
       "      <td>Jérôme Salle</td>\n",
       "      <td>Jérôme Salle</td>\n",
       "      <td>France</td>\n",
       "      <td>Forest Whitaker|Orlando Bloom</td>\n",
       "    </tr>\n",
       "    <tr>\n",
       "      <th>40210</th>\n",
       "      <td>Zulu_Dawn</td>\n",
       "      <td>Zulu dawn</td>\n",
       "      <td>Douglas Hickox</td>\n",
       "      <td>Cy Endfield</td>\n",
       "      <td>United States</td>\n",
       "      <td>Bob Hoskins|Denholm Elliott|Peter O'Toole|Mich...</td>\n",
       "    </tr>\n",
       "    <tr>\n",
       "      <th>40211</th>\n",
       "      <td>Zus_&amp;_Zo</td>\n",
       "      <td>Zus &amp; Zo</td>\n",
       "      <td>Paula van der Oest</td>\n",
       "      <td>Paula van der Oest</td>\n",
       "      <td>Netherlands</td>\n",
       "      <td>Monic Hendrickx|Jacob Derwig|Halina Reijn</td>\n",
       "    </tr>\n",
       "    <tr>\n",
       "      <th>40212</th>\n",
       "      <td>Zvenigora</td>\n",
       "      <td>Zvenigora</td>\n",
       "      <td>Alexander Dovzhenko</td>\n",
       "      <td>Yuriy Tyutyunnyk|Alexander Dovzhenko</td>\n",
       "      <td>Soviet_Union</td>\n",
       "      <td>NOT_FOUND</td>\n",
       "    </tr>\n",
       "  </tbody>\n",
       "</table>\n",
       "<p>40213 rows × 6 columns</p>\n",
       "</div>"
      ],
      "text/plain": [
       "               movie_id        title        director_name  \\\n",
       "0                 $9.99        $9.99      Tatia Rosenthal   \n",
       "1              $_(film)            $       Richard Brooks   \n",
       "2            '68_(film)          '68        Steven Kovacs   \n",
       "3            '71_(film)          '71         Yann Demange   \n",
       "4           'Gator_Bait  'Gator Bait    Beverly Sebastion   \n",
       "...                 ...          ...                  ...   \n",
       "40208  Zulu_(1964_film)         Zulu          Cy Endfield   \n",
       "40209  Zulu_(2013_film)         Zulu         Jérôme Salle   \n",
       "40210         Zulu_Dawn    Zulu dawn       Douglas Hickox   \n",
       "40211          Zus_&_Zo     Zus & Zo   Paula van der Oest   \n",
       "40212         Zvenigora    Zvenigora  Alexander Dovzhenko   \n",
       "\n",
       "                                writer_name                         country  \\\n",
       "0               Etgar Keret|Tatia Rosenthal                Israel|Australia   \n",
       "1                            Richard Brooks                             USA   \n",
       "2                             Steven Kovacs                   United States   \n",
       "3                             Gregory Burke                  United Kingdom   \n",
       "4                         Beverly Sebastion                   United States   \n",
       "...                                     ...                             ...   \n",
       "40208              John Prebble|Cy Endfield  United Kingdom\\n*United States   \n",
       "40209                          Jérôme Salle                          France   \n",
       "40210                           Cy Endfield                   United States   \n",
       "40211                    Paula van der Oest                     Netherlands   \n",
       "40212  Yuriy Tyutyunnyk|Alexander Dovzhenko                    Soviet_Union   \n",
       "\n",
       "                                              actor_name  \n",
       "0                         Geoffrey Rush|Anthony LaPaglia  \n",
       "1      Robert Webber|Gert Fröbe|Warren Beatty|Scott B...  \n",
       "2                                              NOT_FOUND  \n",
       "3      Richard Dormer|Charlie Murphy (actress)|Sean H...  \n",
       "4                                       Claudia Jennings  \n",
       "...                                                  ...  \n",
       "40208  Ulla Jacobsson|Stanley Baker|James Booth|Micha...  \n",
       "40209                      Forest Whitaker|Orlando Bloom  \n",
       "40210  Bob Hoskins|Denholm Elliott|Peter O'Toole|Mich...  \n",
       "40211          Monic Hendrickx|Jacob Derwig|Halina Reijn  \n",
       "40212                                          NOT_FOUND  \n",
       "\n",
       "[40213 rows x 6 columns]"
      ]
     },
     "execution_count": 89,
     "metadata": {},
     "output_type": "execute_result"
    }
   ],
   "source": [
    "#merge dbpedia dataframes to create a combined yago dataset with the attributes, movie_id,title,actor_name,director_name,genre,country\n",
    "dbpedia_movies_df = dbpedia_info_df.merge(dbpedia_movies_actors_df, how=\"inner\", on=['movie_id'])\n",
    "\n",
    "dbpedia_movies_df.reset_index(drop= True)\n",
    "dbpedia_movies_df"
   ]
  },
  {
   "cell_type": "code",
   "execution_count": null,
   "metadata": {
    "scrolled": true
   },
   "outputs": [],
   "source": []
  },
  {
   "cell_type": "markdown",
   "metadata": {},
   "source": [
    "# DBpedia data statistics"
   ]
  },
  {
   "cell_type": "code",
   "execution_count": null,
   "metadata": {
    "scrolled": true
   },
   "outputs": [],
   "source": [
    "pedia_info_no_features = len(dbpedia_movies_df[\n",
    "                         ((dbpedia_movies_df.director_name == 'NOT_FOUND')\n",
    "                          & (dbpedia_movies_df.writer_name == 'NOT_FOUND')                          \n",
    "                          & (dbpedia_movies_df.country == 'NOT_FOUND')\n",
    "                          & (dbpedia_movies_df.actor_name == 'NOT_FOUND'))])\n",
    "\n",
    " \n",
    "pedia_info_all_features = len(dbpedia_movies_df[\n",
    "                              ((dbpedia_movies_df.director_name != 'NOT_FOUND')\n",
    "                              & (dbpedia_movies_df.writer_name != 'NOT_FOUND')                          \n",
    "                              & (dbpedia_movies_df.country != 'NOT_FOUND')\n",
    "                              & (dbpedia_movies_df.actor_name != 'NOT_FOUND'))])\n",
    "\n",
    "pedia_info_no_country = len(dbpedia_movies_df[\n",
    "                             ((dbpedia_movies_df.director_name != 'NOT_FOUND')\n",
    "                          &  (dbpedia_movies_df.writer_name != 'NOT_FOUND')                          \n",
    "                          &  (dbpedia_movies_df.country == 'NOT_FOUND')\n",
    "                          & (dbpedia_movies_df.actor_name !='NOT_FOUND'))])\n",
    "\n",
    "pedia_info_no_writer = len(dbpedia_movies_df[\n",
    "                             ((dbpedia_movies_df.director_name != 'NOT_FOUND')\n",
    "                          &  (dbpedia_movies_df.writer_name == 'NOT_FOUND')                          \n",
    "                          &  (dbpedia_movies_df.country != 'NOT_FOUND')\n",
    "                          & (dbpedia_movies_df.actor_name != 'NOT_FOUND'))])\n",
    "\n",
    "pedia_info_no_director = len(dbpedia_movies_df[\n",
    "                             ((dbpedia_movies_df.director_name == 'NOT_FOUND')\n",
    "                          &  (dbpedia_movies_df.writer_name != 'NOT_FOUND')                          \n",
    "                          &  (dbpedia_movies_df.country != 'NOT_FOUND')\n",
    "                          & (dbpedia_movies_df.actor_name != 'NOT_FOUND'))])\n",
    "\n",
    "pedia_info_no_actor = len(dbpedia_movies_df[\n",
    "                             ((dbpedia_movies_df.director_name != 'NOT_FOUND')\n",
    "                          &  (dbpedia_movies_df.writer_name != 'NOT_FOUND')                          \n",
    "                          &  (dbpedia_movies_df.country != 'NOT_FOUND')\n",
    "                          & (dbpedia_movies_df.actor_name == 'NOT_FOUND'))])\n"
   ]
  },
  {
   "cell_type": "code",
   "execution_count": null,
   "metadata": {
    "scrolled": true
   },
   "outputs": [],
   "source": [
    "print(\"Number of ML movies retrieved from DBpedia with their info is {}\".format(len(dbpedia_info_df)))\n",
    "print(\"Number of movies missing all features is {}\".format(pedia_info_no_features))\n",
    "print(\"Number of movies having all features is {}\".format(pedia_info_all_features))\n",
    "print(\"Number of movies missing ONLY the country feature is {}\".format(pedia_info_no_country))\n",
    "print(\"Number of movies missing ONLY the writer feature is {}\".format(pedia_info_no_writer))\n",
    "print(\"Number of movies missing ONLY the director feature is {}\".format(pedia_info_no_director))\n",
    "print(\"Number of movies missing ONLY the actor feature is {}\".format(pedia_info_no_actor))"
   ]
  },
  {
   "cell_type": "code",
   "execution_count": null,
   "metadata": {
    "scrolled": true
   },
   "outputs": [],
   "source": []
  },
  {
   "cell_type": "markdown",
   "metadata": {},
   "source": [
    "# Query YAGO for MovieLens Data"
   ]
  },
  {
   "cell_type": "code",
   "execution_count": null,
   "metadata": {
    "scrolled": true
   },
   "outputs": [],
   "source": []
  },
  {
   "cell_type": "code",
   "execution_count": null,
   "metadata": {
    "scrolled": true
   },
   "outputs": [],
   "source": []
  },
  {
   "cell_type": "code",
   "execution_count": null,
   "metadata": {
    "scrolled": true
   },
   "outputs": [],
   "source": [
    "#uncomment either the call to query yago to refresh the data or the load from file\n",
    "#endpoint = \"http://yago-knowledge.org/sparql\"\n",
    "endpoint=\"https://yago-knowledge.org/sparql/query\"\n",
    "return_format = JSON\n",
    "request_method= POST\n",
    "chunck_size = 150\n",
    "#movies_info_result_df1 = q_helper.retrieve_data_for_movies_list(sparql_query.yago_movie_info_query, movies_list, chunck_size,'string', endpoint, return_format, request_method)\n",
    "#movies_info_df = movies_info_result_df[0].copy()\n",
    "#failed_movies_info_list = movies_info_result_df[1].copy()\n",
    "#save raw results of movies info query to file\n",
    "#movies_info_df.to_csv(\"generated_dataset/yago_movie_info_query_raw_results.csv\",index=False)"
   ]
  },
  {
   "cell_type": "code",
   "execution_count": null,
   "metadata": {
    "scrolled": true
   },
   "outputs": [],
   "source": [
    "movies_info_df = pd.read_csv(\"generated_dataset/yago_movie_info_query_raw_results.csv\")"
   ]
  },
  {
   "cell_type": "code",
   "execution_count": null,
   "metadata": {
    "scrolled": true
   },
   "outputs": [],
   "source": []
  },
  {
   "cell_type": "code",
   "execution_count": null,
   "metadata": {
    "scrolled": true
   },
   "outputs": [],
   "source": [
    "movies_info_df"
   ]
  },
  {
   "cell_type": "code",
   "execution_count": null,
   "metadata": {
    "scrolled": true
   },
   "outputs": [],
   "source": [
    "movies_info_df = movies_info_df.fillna('NOT_FOUND')"
   ]
  },
  {
   "cell_type": "code",
   "execution_count": null,
   "metadata": {
    "scrolled": true
   },
   "outputs": [],
   "source": [
    "len(movies_info_df)\n",
    "movies_info_df['movie_id']= movies_info_df.yago_movie.str.split('http://yago-knowledge.org/resource/').str[1]\n",
    "movies_info_df"
   ]
  },
  {
   "cell_type": "code",
   "execution_count": null,
   "metadata": {
    "scrolled": true
   },
   "outputs": [],
   "source": []
  },
  {
   "cell_type": "code",
   "execution_count": null,
   "metadata": {
    "scrolled": true
   },
   "outputs": [],
   "source": [
    "#Group movies info results to extract the directors, writers, and titles\n",
    "movies_info_grouped = movies_info_df.groupby(['movie_id','title'], as_index=False)\n",
    "#aggregate the directors and directors in one column for each separated by |\n",
    "yago_info_df = movies_info_grouped.agg({\n",
    "                                        'director_name':lambda x: np.nan if x is None else '|'.join(set(x)),\n",
    "                                        'genre':lambda x: '|'.join(set(x)),                                      \n",
    "                                        'country':lambda x: '|'.join(set(x))\n",
    "                                        })\n",
    "#save grouped data to file\n",
    "yago_info_df.to_csv(\"generated_dataset/yago_movie_info_grouped.csv\", index=False)"
   ]
  },
  {
   "cell_type": "code",
   "execution_count": 90,
   "metadata": {
    "scrolled": true
   },
   "outputs": [],
   "source": [
    "yago_info_df= pd.read_csv(\"generated_dataset/yago_movie_info_grouped.csv\")"
   ]
  },
  {
   "cell_type": "code",
   "execution_count": null,
   "metadata": {
    "scrolled": true
   },
   "outputs": [],
   "source": [
    "yago_info_df"
   ]
  },
  {
   "cell_type": "code",
   "execution_count": null,
   "metadata": {
    "scrolled": true
   },
   "outputs": [],
   "source": [
    "duplicated_titles = yago_info_df[(yago_info_df.title.duplicated()== True)].title.values.tolist()"
   ]
  },
  {
   "cell_type": "code",
   "execution_count": null,
   "metadata": {
    "scrolled": true
   },
   "outputs": [],
   "source": [
    "yago_info_df[yago_info_df.title.isin(duplicated_titles)]"
   ]
  },
  {
   "cell_type": "code",
   "execution_count": null,
   "metadata": {
    "scrolled": true
   },
   "outputs": [],
   "source": [
    "x.sort_values(by=['title','movie_id'], inplace=True)\n",
    "x"
   ]
  },
  {
   "cell_type": "code",
   "execution_count": null,
   "metadata": {},
   "outputs": [],
   "source": [
    " yago_info_df[yago_info_df.movie_id.duplicated()== True]\n",
    "    "
   ]
  },
  {
   "cell_type": "code",
   "execution_count": null,
   "metadata": {
    "scrolled": true
   },
   "outputs": [],
   "source": [
    "yago_info_df[yago_info_df['title'] =='\\'Twas the Night Before Christmas']"
   ]
  },
  {
   "cell_type": "code",
   "execution_count": null,
   "metadata": {
    "scrolled": true
   },
   "outputs": [],
   "source": [
    "x"
   ]
  },
  {
   "cell_type": "code",
   "execution_count": null,
   "metadata": {
    "scrolled": true
   },
   "outputs": [],
   "source": [
    "print(\"Number of ML movies retrieved from YAGO with their info is {}\".format(len(yago_info_df)))"
   ]
  },
  {
   "cell_type": "markdown",
   "metadata": {},
   "source": [
    "# Load yago movies information"
   ]
  },
  {
   "cell_type": "code",
   "execution_count": null,
   "metadata": {
    "scrolled": true
   },
   "outputs": [],
   "source": [
    "yago_info_df= pd.read_csv(\"generated_dataset/yago_movie_info_grouped.csv\")\n",
    "yago_info_df"
   ]
  },
  {
   "cell_type": "code",
   "execution_count": null,
   "metadata": {
    "scrolled": true
   },
   "outputs": [],
   "source": []
  },
  {
   "cell_type": "markdown",
   "metadata": {},
   "source": [
    "# Query YAGO for the actors of the ML movies"
   ]
  },
  {
   "cell_type": "code",
   "execution_count": null,
   "metadata": {
    "scrolled": true
   },
   "outputs": [],
   "source": [
    "#uncomment either the query to refresh the data from the source or load the previously retrieved data from file\n",
    "#endpoint = \"https://yago-knowledge.org/sparql\"\n",
    "endpoint=\"http://lod2.openlinksw.com/sparql\"\n",
    "return_format = XML\n",
    "request_method= POST\n",
    "chunk_size = 2000\n",
    "#movies_actors_results_df = q_helper.retrieve_data_for_movies_list(sparql_query.yago_movies_actors_query,movies_list,chunk_size,'string',endpoint, return_format,request_method)\n",
    "movies_actors_df= movies_actors_results_df[0].copy()\n",
    "failed_movies_actors_list = movies_actors_results_df[1].copy()\n",
    "#save raw results of movies actors query to file\n",
    "movies_actors_df.to_csv(\"generated_dataset/yago_movie_info_actors_raw_results.csv\",index=False)"
   ]
  },
  {
   "cell_type": "markdown",
   "metadata": {},
   "source": [
    "# Load movies actors from last query results"
   ]
  },
  {
   "cell_type": "code",
   "execution_count": null,
   "metadata": {
    "scrolled": true
   },
   "outputs": [],
   "source": [
    "movies_actors_df= pd.read_csv(\"generated_dataset/yago_movie_actors_query_raw_results.csv\")\n",
    "movies_actors_df.describe"
   ]
  },
  {
   "cell_type": "code",
   "execution_count": null,
   "metadata": {
    "scrolled": true
   },
   "outputs": [],
   "source": []
  },
  {
   "cell_type": "code",
   "execution_count": null,
   "metadata": {
    "scrolled": true
   },
   "outputs": [],
   "source": []
  },
  {
   "cell_type": "code",
   "execution_count": null,
   "metadata": {
    "scrolled": true
   },
   "outputs": [],
   "source": [
    "movies_actors_df = movies_actors_df.fillna('NOT_FOUND')\n",
    "movies_actors_df['movie_id']= movies_actors_df.yago_movie.str.split('http://yago-knowledge.org/resource/').str[1]"
   ]
  },
  {
   "cell_type": "code",
   "execution_count": null,
   "metadata": {
    "scrolled": true
   },
   "outputs": [],
   "source": [
    "#group the actors per movie and save data to file\n",
    "movies_actors_grouped = movies_actors_df.groupby(['movie_id'], as_index=False)\n",
    "\n",
    "#aggregate the actors in one column for each movie separated by |\n",
    "yago_movies_actors_df = movies_actors_grouped.agg({'actor_name':lambda x: '|'.join(set(x))\n",
    "                                         })\n",
    "\n",
    "yago_movies_actors_df.to_csv(\"generated_dataset/yago_actors_grouped.csv\",index=False)\n"
   ]
  },
  {
   "cell_type": "code",
   "execution_count": null,
   "metadata": {
    "scrolled": true
   },
   "outputs": [],
   "source": [
    "yago_movies_actors_df.describe"
   ]
  },
  {
   "cell_type": "code",
   "execution_count": null,
   "metadata": {
    "scrolled": true
   },
   "outputs": [],
   "source": [
    "yago_movies_actors_df.isnull().values.any()"
   ]
  },
  {
   "cell_type": "code",
   "execution_count": null,
   "metadata": {
    "scrolled": true
   },
   "outputs": [],
   "source": [
    "print(\"Number of ML movies retrieved from LOD with their actors is {}\".format(len(dbpedia_movies_actors_df)))"
   ]
  },
  {
   "cell_type": "code",
   "execution_count": 92,
   "metadata": {
    "scrolled": true
   },
   "outputs": [],
   "source": [
    "yago_movies_actors_df = pd.read_csv(\"generated_dataset/yago_actors_grouped.csv\")"
   ]
  },
  {
   "cell_type": "markdown",
   "metadata": {},
   "source": [
    "# Merge the actors dataframe with the movies information to create one dataframe for YAGO movies"
   ]
  },
  {
   "cell_type": "code",
   "execution_count": 93,
   "metadata": {
    "scrolled": true
   },
   "outputs": [
    {
     "data": {
      "text/html": [
       "<div>\n",
       "<style scoped>\n",
       "    .dataframe tbody tr th:only-of-type {\n",
       "        vertical-align: middle;\n",
       "    }\n",
       "\n",
       "    .dataframe tbody tr th {\n",
       "        vertical-align: top;\n",
       "    }\n",
       "\n",
       "    .dataframe thead th {\n",
       "        text-align: right;\n",
       "    }\n",
       "</style>\n",
       "<table border=\"1\" class=\"dataframe\">\n",
       "  <thead>\n",
       "    <tr style=\"text-align: right;\">\n",
       "      <th></th>\n",
       "      <th>movie_id</th>\n",
       "      <th>title</th>\n",
       "      <th>director_name</th>\n",
       "      <th>genre</th>\n",
       "      <th>country</th>\n",
       "      <th>actor_name</th>\n",
       "    </tr>\n",
       "  </thead>\n",
       "  <tbody>\n",
       "    <tr>\n",
       "      <th>0</th>\n",
       "      <td>$9.99</td>\n",
       "      <td>$9.99</td>\n",
       "      <td>Etgar Keret|Tatia Rosenthal</td>\n",
       "      <td>NOT_FOUND</td>\n",
       "      <td>Israel|Australia</td>\n",
       "      <td>NOT_FOUND</td>\n",
       "    </tr>\n",
       "    <tr>\n",
       "      <th>1</th>\n",
       "      <td>'68_(film)</td>\n",
       "      <td>'68</td>\n",
       "      <td>Steven Kovacs</td>\n",
       "      <td>LGBT-related_film_Q20442589</td>\n",
       "      <td>United_States</td>\n",
       "      <td>Jan Němec|Neil Young</td>\n",
       "    </tr>\n",
       "    <tr>\n",
       "      <th>2</th>\n",
       "      <td>'71_(film)</td>\n",
       "      <td>'71</td>\n",
       "      <td>Yann Demange</td>\n",
       "      <td>Crime_film|Thriller_film|War_film|Action_film</td>\n",
       "      <td>United_Kingdom</td>\n",
       "      <td>Richard Dormer|David Wilmot|Liam McMahon|Sean ...</td>\n",
       "    </tr>\n",
       "    <tr>\n",
       "      <th>3</th>\n",
       "      <td>'96_(film)</td>\n",
       "      <td>96</td>\n",
       "      <td>NOT_FOUND</td>\n",
       "      <td>Romance_film</td>\n",
       "      <td>India</td>\n",
       "      <td>NOT_FOUND</td>\n",
       "    </tr>\n",
       "    <tr>\n",
       "      <th>4</th>\n",
       "      <td>'Gator_Bait</td>\n",
       "      <td>'Gator Bait</td>\n",
       "      <td>Beverly Sebastion</td>\n",
       "      <td>Thriller_film|Action_film</td>\n",
       "      <td>United_States</td>\n",
       "      <td>Claudia Jennings</td>\n",
       "    </tr>\n",
       "    <tr>\n",
       "      <th>...</th>\n",
       "      <td>...</td>\n",
       "      <td>...</td>\n",
       "      <td>...</td>\n",
       "      <td>...</td>\n",
       "      <td>...</td>\n",
       "      <td>...</td>\n",
       "    </tr>\n",
       "    <tr>\n",
       "      <th>54772</th>\n",
       "      <td>Édith_et_Marcel</td>\n",
       "      <td>Édith et Marcel</td>\n",
       "      <td>Claude Lelouch</td>\n",
       "      <td>Comedy-drama</td>\n",
       "      <td>France</td>\n",
       "      <td>Marc Berman|Marcel Cerdan Jr|Tanya Lopert|Mick...</td>\n",
       "    </tr>\n",
       "    <tr>\n",
       "      <th>54773</th>\n",
       "      <td>Ó_Paí,_Ó</td>\n",
       "      <td>Ó Paí, Ó</td>\n",
       "      <td>Monique Gardenberg</td>\n",
       "      <td>Musical_film|Comedy-drama</td>\n",
       "      <td>Brazil</td>\n",
       "      <td>Wagner Moura|Lázaro Ramos</td>\n",
       "    </tr>\n",
       "    <tr>\n",
       "      <th>54774</th>\n",
       "      <td>Ödipussi</td>\n",
       "      <td>Ödipussi</td>\n",
       "      <td>Vicco von Bülow</td>\n",
       "      <td>NOT_FOUND</td>\n",
       "      <td>Germany</td>\n",
       "      <td>Richard Lauffen|Udo Thomer|Evelyn Hamann|Katha...</td>\n",
       "    </tr>\n",
       "    <tr>\n",
       "      <th>54775</th>\n",
       "      <td>İksir</td>\n",
       "      <td>İksir</td>\n",
       "      <td>NOT_FOUND</td>\n",
       "      <td>NOT_FOUND</td>\n",
       "      <td>Turkey</td>\n",
       "      <td>Seda Güven|Keremcem</td>\n",
       "    </tr>\n",
       "    <tr>\n",
       "      <th>54776</th>\n",
       "      <td>Şabaniye</td>\n",
       "      <td>Şabaniye</td>\n",
       "      <td>Kartal Tibet</td>\n",
       "      <td>NOT_FOUND</td>\n",
       "      <td>Turkey</td>\n",
       "      <td>Aliye Rona|Kemal Sunal|Adile Naşit</td>\n",
       "    </tr>\n",
       "  </tbody>\n",
       "</table>\n",
       "<p>54777 rows × 6 columns</p>\n",
       "</div>"
      ],
      "text/plain": [
       "              movie_id            title                director_name  \\\n",
       "0                $9.99            $9.99  Etgar Keret|Tatia Rosenthal   \n",
       "1           '68_(film)              '68                Steven Kovacs   \n",
       "2           '71_(film)              '71                 Yann Demange   \n",
       "3           '96_(film)               96                    NOT_FOUND   \n",
       "4          'Gator_Bait      'Gator Bait            Beverly Sebastion   \n",
       "...                ...              ...                          ...   \n",
       "54772  Édith_et_Marcel  Édith et Marcel               Claude Lelouch   \n",
       "54773         Ó_Paí,_Ó         Ó Paí, Ó           Monique Gardenberg   \n",
       "54774         Ödipussi         Ödipussi              Vicco von Bülow   \n",
       "54775            İksir            İksir                    NOT_FOUND   \n",
       "54776         Şabaniye         Şabaniye                 Kartal Tibet   \n",
       "\n",
       "                                               genre           country  \\\n",
       "0                                          NOT_FOUND  Israel|Australia   \n",
       "1                        LGBT-related_film_Q20442589     United_States   \n",
       "2      Crime_film|Thriller_film|War_film|Action_film    United_Kingdom   \n",
       "3                                       Romance_film             India   \n",
       "4                          Thriller_film|Action_film     United_States   \n",
       "...                                              ...               ...   \n",
       "54772                                   Comedy-drama            France   \n",
       "54773                      Musical_film|Comedy-drama            Brazil   \n",
       "54774                                      NOT_FOUND           Germany   \n",
       "54775                                      NOT_FOUND            Turkey   \n",
       "54776                                      NOT_FOUND            Turkey   \n",
       "\n",
       "                                              actor_name  \n",
       "0                                              NOT_FOUND  \n",
       "1                                   Jan Němec|Neil Young  \n",
       "2      Richard Dormer|David Wilmot|Liam McMahon|Sean ...  \n",
       "3                                              NOT_FOUND  \n",
       "4                                       Claudia Jennings  \n",
       "...                                                  ...  \n",
       "54772  Marc Berman|Marcel Cerdan Jr|Tanya Lopert|Mick...  \n",
       "54773                          Wagner Moura|Lázaro Ramos  \n",
       "54774  Richard Lauffen|Udo Thomer|Evelyn Hamann|Katha...  \n",
       "54775                                Seda Güven|Keremcem  \n",
       "54776                 Aliye Rona|Kemal Sunal|Adile Naşit  \n",
       "\n",
       "[54777 rows x 6 columns]"
      ]
     },
     "execution_count": 93,
     "metadata": {},
     "output_type": "execute_result"
    }
   ],
   "source": [
    "#merge yago dataframes to create a combined yago dataset with the attributes, movie_id,title,actor_name,director_name,genre,country\n",
    "yago_movies_df = yago_info_df.merge(yago_movies_actors_df, how=\"inner\", on=['movie_id'])\n",
    "\n",
    "yago_movies_df.reset_index(drop= True)\n",
    "yago_movies_df\n"
   ]
  },
  {
   "cell_type": "code",
   "execution_count": null,
   "metadata": {
    "scrolled": true
   },
   "outputs": [],
   "source": []
  },
  {
   "cell_type": "code",
   "execution_count": null,
   "metadata": {
    "scrolled": true
   },
   "outputs": [],
   "source": []
  },
  {
   "cell_type": "code",
   "execution_count": 94,
   "metadata": {
    "scrolled": true
   },
   "outputs": [],
   "source": [
    "yago_info_no_features = len(yago_movies_df[\n",
    "                         ((yago_movies_df.director_name == 'NOT_FOUND')\n",
    "                          & (yago_movies_df.genre == 'NOT_FOUND')                          \n",
    "                          & (yago_movies_df.country == 'NOT_FOUND')\n",
    "                          & (yago_movies_df.actor_name == 'NOT_FOUND'))])\n",
    "\n",
    " \n",
    "yago_info_all_features = len(yago_movies_df[\n",
    "                              ((yago_movies_df.director_name != 'NOT_FOUND')\n",
    "                              & (yago_movies_df.genre != 'NOT_FOUND')                          \n",
    "                              & (yago_movies_df.country != 'NOT_FOUND')\n",
    "                              & (yago_movies_df.actor_name != 'NOT_FOUND'))])\n",
    "\n",
    "yago_info_no_country = len(yago_movies_df[\n",
    "                             ((yago_movies_df.director_name != 'NOT_FOUND')\n",
    "                          &  (yago_movies_df.genre != 'NOT_FOUND')                          \n",
    "                          &  (yago_movies_df.country == 'NOT_FOUND')\n",
    "                          & (yago_movies_df.actor_name !='NOT_FOUND'))])\n",
    "\n",
    "yago_info_no_genre = len(yago_movies_df[\n",
    "                             ((yago_movies_df.director_name != 'NOT_FOUND')\n",
    "                          &  (yago_movies_df.genre == 'NOT_FOUND')                          \n",
    "                          &  (yago_movies_df.country != 'NOT_FOUND')\n",
    "                          & (yago_movies_df.actor_name != 'NOT_FOUND'))])\n",
    "\n",
    "yago_info_no_director = len(yago_movies_df[\n",
    "                             ((yago_movies_df.director_name == 'NOT_FOUND')\n",
    "                          &  (yago_movies_df.genre != 'NOT_FOUND')                          \n",
    "                          &  (yago_movies_df.country != 'NOT_FOUND')\n",
    "                          & (yago_movies_df.actor_name != 'NOT_FOUND'))])\n",
    "\n",
    "yago_info_no_actor = len(yago_movies_df[\n",
    "                             ((yago_movies_df.director_name != 'NOT_FOUND')\n",
    "                          &  (yago_movies_df.genre != 'NOT_FOUND')                          \n",
    "                          &  (yago_movies_df.country != 'NOT_FOUND')\n",
    "                          & (yago_movies_df.actor_name == 'NOT_FOUND'))])\n"
   ]
  },
  {
   "cell_type": "code",
   "execution_count": 95,
   "metadata": {
    "scrolled": true
   },
   "outputs": [
    {
     "name": "stdout",
     "output_type": "stream",
     "text": [
      "Number of ML movies retrieved from YAGO with their info is 54789\n",
      "Number of movies missing all features is 474\n",
      "Number of movies having all features is 25226\n",
      "Number of movies missing ONLY the country feature is 421\n",
      "Number of movies missing ONLY the genre feature is 12722\n",
      "Number of movies missing ONLY the director feature is 2629\n",
      "Number of movies missing ONLY the actor feature is 2549\n"
     ]
    }
   ],
   "source": [
    "print(\"Number of ML movies retrieved from YAGO with their info is {}\".format(len(yago_info_df)))\n",
    "print(\"Number of movies missing all features is {}\".format(yago_info_no_features))\n",
    "print(\"Number of movies having all features is {}\".format(yago_info_all_features))\n",
    "print(\"Number of movies missing ONLY the country feature is {}\".format(yago_info_no_country))\n",
    "print(\"Number of movies missing ONLY the genre feature is {}\".format(yago_info_no_genre))\n",
    "print(\"Number of movies missing ONLY the director feature is {}\".format(yago_info_no_director))\n",
    "print(\"Number of movies missing ONLY the actor feature is {}\".format(yago_info_no_actor))"
   ]
  },
  {
   "cell_type": "code",
   "execution_count": null,
   "metadata": {
    "scrolled": true
   },
   "outputs": [],
   "source": [
    "\n"
   ]
  },
  {
   "cell_type": "code",
   "execution_count": null,
   "metadata": {
    "scrolled": true
   },
   "outputs": [],
   "source": []
  },
  {
   "cell_type": "code",
   "execution_count": 96,
   "metadata": {
    "scrolled": true
   },
   "outputs": [],
   "source": [
    "final_movies_df = yago_movies_df.merge(dbpedia_movies_df, how=\"inner\", on=['movie_id','title'])\n",
    "final_movies_df = final_movies_df.fillna('NOT_FOUND')\n",
    "final_movies_df.describe\n"
   ]
  },
  {
   "cell_type": "code",
   "execution_count": 83,
   "metadata": {
    "scrolled": true
   },
   "outputs": [],
   "source": [
    "#final_movies_df= pd.read_csv(\"generated_dataset/yago_pedia_ml_final_movies_list.csv\")"
   ]
  },
  {
   "cell_type": "code",
   "execution_count": 97,
   "metadata": {
    "scrolled": true
   },
   "outputs": [
    {
     "name": "stdout",
     "output_type": "stream",
     "text": [
      "<class 'pandas.core.frame.DataFrame'>\n",
      "Int64Index: 36358 entries, 0 to 36357\n",
      "Data columns (total 10 columns):\n",
      " #   Column           Non-Null Count  Dtype \n",
      "---  ------           --------------  ----- \n",
      " 0   movie_id         36358 non-null  object\n",
      " 1   title            36358 non-null  object\n",
      " 2   director_name_x  36358 non-null  object\n",
      " 3   genre            36358 non-null  object\n",
      " 4   country_x        36358 non-null  object\n",
      " 5   actor_name_x     36358 non-null  object\n",
      " 6   director_name_y  36358 non-null  object\n",
      " 7   writer_name      36358 non-null  object\n",
      " 8   country_y        36358 non-null  object\n",
      " 9   actor_name_y     36358 non-null  object\n",
      "dtypes: object(10)\n",
      "memory usage: 3.1+ MB\n"
     ]
    }
   ],
   "source": [
    "final_movies_df.info()"
   ]
  },
  {
   "cell_type": "code",
   "execution_count": null,
   "metadata": {
    "scrolled": true
   },
   "outputs": [],
   "source": []
  },
  {
   "cell_type": "code",
   "execution_count": 98,
   "metadata": {
    "scrolled": true
   },
   "outputs": [
    {
     "data": {
      "text/html": [
       "<div>\n",
       "<style scoped>\n",
       "    .dataframe tbody tr th:only-of-type {\n",
       "        vertical-align: middle;\n",
       "    }\n",
       "\n",
       "    .dataframe tbody tr th {\n",
       "        vertical-align: top;\n",
       "    }\n",
       "\n",
       "    .dataframe thead th {\n",
       "        text-align: right;\n",
       "    }\n",
       "</style>\n",
       "<table border=\"1\" class=\"dataframe\">\n",
       "  <thead>\n",
       "    <tr style=\"text-align: right;\">\n",
       "      <th></th>\n",
       "      <th>movie_id</th>\n",
       "      <th>title</th>\n",
       "      <th>director_name_x</th>\n",
       "      <th>genre</th>\n",
       "      <th>country_x</th>\n",
       "      <th>actor_name_x</th>\n",
       "      <th>director_name_y</th>\n",
       "      <th>writer_name</th>\n",
       "      <th>country_y</th>\n",
       "      <th>actor_name_y</th>\n",
       "    </tr>\n",
       "  </thead>\n",
       "  <tbody>\n",
       "    <tr>\n",
       "      <th>0</th>\n",
       "      <td>$9.99</td>\n",
       "      <td>$9.99</td>\n",
       "      <td>Etgar Keret|Tatia Rosenthal</td>\n",
       "      <td>NOT_FOUND</td>\n",
       "      <td>Israel|Australia</td>\n",
       "      <td>NOT_FOUND</td>\n",
       "      <td>Tatia Rosenthal</td>\n",
       "      <td>Etgar Keret|Tatia Rosenthal</td>\n",
       "      <td>Israel|Australia</td>\n",
       "      <td>Geoffrey Rush|Anthony LaPaglia</td>\n",
       "    </tr>\n",
       "    <tr>\n",
       "      <th>1</th>\n",
       "      <td>'68_(film)</td>\n",
       "      <td>'68</td>\n",
       "      <td>Steven Kovacs</td>\n",
       "      <td>LGBT-related_film_Q20442589</td>\n",
       "      <td>United_States</td>\n",
       "      <td>Jan Němec|Neil Young</td>\n",
       "      <td>Steven Kovacs</td>\n",
       "      <td>Steven Kovacs</td>\n",
       "      <td>United States</td>\n",
       "      <td>NOT_FOUND</td>\n",
       "    </tr>\n",
       "    <tr>\n",
       "      <th>2</th>\n",
       "      <td>'71_(film)</td>\n",
       "      <td>'71</td>\n",
       "      <td>Yann Demange</td>\n",
       "      <td>Crime_film|Thriller_film|War_film|Action_film</td>\n",
       "      <td>United_Kingdom</td>\n",
       "      <td>Richard Dormer|David Wilmot|Liam McMahon|Sean ...</td>\n",
       "      <td>Yann Demange</td>\n",
       "      <td>Gregory Burke</td>\n",
       "      <td>United Kingdom</td>\n",
       "      <td>Richard Dormer|Charlie Murphy (actress)|Sean H...</td>\n",
       "    </tr>\n",
       "    <tr>\n",
       "      <th>3</th>\n",
       "      <td>'Gator_Bait</td>\n",
       "      <td>'Gator Bait</td>\n",
       "      <td>Beverly Sebastion</td>\n",
       "      <td>Thriller_film|Action_film</td>\n",
       "      <td>United_States</td>\n",
       "      <td>Claudia Jennings</td>\n",
       "      <td>Beverly Sebastion</td>\n",
       "      <td>Beverly Sebastion</td>\n",
       "      <td>United States</td>\n",
       "      <td>Claudia Jennings</td>\n",
       "    </tr>\n",
       "    <tr>\n",
       "      <th>4</th>\n",
       "      <td>'Neath_Brooklyn_Bridge</td>\n",
       "      <td>'Neath Brooklyn Bridge</td>\n",
       "      <td>Wallace Fox</td>\n",
       "      <td>NOT_FOUND</td>\n",
       "      <td>United_States</td>\n",
       "      <td>Leo Gorcey|Gabriel Dell|Bobby Jordan|Huntz Hall</td>\n",
       "      <td>Wallace Fox</td>\n",
       "      <td>Harvey Gates</td>\n",
       "      <td>United States</td>\n",
       "      <td>Leo Gorcey|Gabriel Dell|Bobby Jordan|Huntz Hall</td>\n",
       "    </tr>\n",
       "    <tr>\n",
       "      <th>...</th>\n",
       "      <td>...</td>\n",
       "      <td>...</td>\n",
       "      <td>...</td>\n",
       "      <td>...</td>\n",
       "      <td>...</td>\n",
       "      <td>...</td>\n",
       "      <td>...</td>\n",
       "      <td>...</td>\n",
       "      <td>...</td>\n",
       "      <td>...</td>\n",
       "    </tr>\n",
       "    <tr>\n",
       "      <th>36353</th>\n",
       "      <td>Zozo</td>\n",
       "      <td>Zozo</td>\n",
       "      <td>Josef Fares</td>\n",
       "      <td>NOT_FOUND</td>\n",
       "      <td>United_Kingdom|Sweden|Lebanon</td>\n",
       "      <td>Carmen Lebbos</td>\n",
       "      <td>Josef Fares</td>\n",
       "      <td>Josef Fares</td>\n",
       "      <td>Sweden</td>\n",
       "      <td>Carmen Lebbos</td>\n",
       "    </tr>\n",
       "    <tr>\n",
       "      <th>36354</th>\n",
       "      <td>Zubeidaa</td>\n",
       "      <td>Zubeidaa</td>\n",
       "      <td>Shyam Benegal</td>\n",
       "      <td>Romance_film</td>\n",
       "      <td>India</td>\n",
       "      <td>Rekha|Karisma Kapoor|Farida Jalal|Amrish Puri</td>\n",
       "      <td>Shyam Benegal</td>\n",
       "      <td>Khalid Mohamed</td>\n",
       "      <td>NOT_FOUND</td>\n",
       "      <td>NOT_FOUND</td>\n",
       "    </tr>\n",
       "    <tr>\n",
       "      <th>36355</th>\n",
       "      <td>Zulu_(1964_film)</td>\n",
       "      <td>Zulu</td>\n",
       "      <td>Cy Endfield</td>\n",
       "      <td>Adventure_film|War_film</td>\n",
       "      <td>United_Kingdom</td>\n",
       "      <td>Ulla Jacobsson|Gary Bond|Stanley Baker|Mangosu...</td>\n",
       "      <td>Cy Endfield</td>\n",
       "      <td>John Prebble|Cy Endfield</td>\n",
       "      <td>United Kingdom\\n*United States</td>\n",
       "      <td>Ulla Jacobsson|Stanley Baker|James Booth|Micha...</td>\n",
       "    </tr>\n",
       "    <tr>\n",
       "      <th>36356</th>\n",
       "      <td>Zulu_(2013_film)</td>\n",
       "      <td>Zulu</td>\n",
       "      <td>Jérôme Salle</td>\n",
       "      <td>Crime_film</td>\n",
       "      <td>France</td>\n",
       "      <td>Orlando Bloom|Forest Whitaker|Tanya van Graan</td>\n",
       "      <td>Jérôme Salle</td>\n",
       "      <td>Jérôme Salle</td>\n",
       "      <td>France</td>\n",
       "      <td>Forest Whitaker|Orlando Bloom</td>\n",
       "    </tr>\n",
       "    <tr>\n",
       "      <th>36357</th>\n",
       "      <td>Zus_&amp;_Zo</td>\n",
       "      <td>Zus &amp; Zo</td>\n",
       "      <td>Paula van der Oest</td>\n",
       "      <td>Romantic_comedy</td>\n",
       "      <td>Netherlands</td>\n",
       "      <td>Monic Hendrickx|Jacob Derwig|Halina Reijn</td>\n",
       "      <td>Paula van der Oest</td>\n",
       "      <td>Paula van der Oest</td>\n",
       "      <td>Netherlands</td>\n",
       "      <td>Monic Hendrickx|Jacob Derwig|Halina Reijn</td>\n",
       "    </tr>\n",
       "  </tbody>\n",
       "</table>\n",
       "<p>36358 rows × 10 columns</p>\n",
       "</div>"
      ],
      "text/plain": [
       "                     movie_id                   title  \\\n",
       "0                       $9.99                   $9.99   \n",
       "1                  '68_(film)                     '68   \n",
       "2                  '71_(film)                     '71   \n",
       "3                 'Gator_Bait             'Gator Bait   \n",
       "4      'Neath_Brooklyn_Bridge  'Neath Brooklyn Bridge   \n",
       "...                       ...                     ...   \n",
       "36353                    Zozo                    Zozo   \n",
       "36354                Zubeidaa                Zubeidaa   \n",
       "36355        Zulu_(1964_film)                    Zulu   \n",
       "36356        Zulu_(2013_film)                    Zulu   \n",
       "36357                Zus_&_Zo                Zus & Zo   \n",
       "\n",
       "                   director_name_x  \\\n",
       "0      Etgar Keret|Tatia Rosenthal   \n",
       "1                    Steven Kovacs   \n",
       "2                     Yann Demange   \n",
       "3                Beverly Sebastion   \n",
       "4                      Wallace Fox   \n",
       "...                            ...   \n",
       "36353                  Josef Fares   \n",
       "36354                Shyam Benegal   \n",
       "36355                  Cy Endfield   \n",
       "36356                 Jérôme Salle   \n",
       "36357           Paula van der Oest   \n",
       "\n",
       "                                               genre  \\\n",
       "0                                          NOT_FOUND   \n",
       "1                        LGBT-related_film_Q20442589   \n",
       "2      Crime_film|Thriller_film|War_film|Action_film   \n",
       "3                          Thriller_film|Action_film   \n",
       "4                                          NOT_FOUND   \n",
       "...                                              ...   \n",
       "36353                                      NOT_FOUND   \n",
       "36354                                   Romance_film   \n",
       "36355                        Adventure_film|War_film   \n",
       "36356                                     Crime_film   \n",
       "36357                                Romantic_comedy   \n",
       "\n",
       "                           country_x  \\\n",
       "0                   Israel|Australia   \n",
       "1                      United_States   \n",
       "2                     United_Kingdom   \n",
       "3                      United_States   \n",
       "4                      United_States   \n",
       "...                              ...   \n",
       "36353  United_Kingdom|Sweden|Lebanon   \n",
       "36354                          India   \n",
       "36355                 United_Kingdom   \n",
       "36356                         France   \n",
       "36357                    Netherlands   \n",
       "\n",
       "                                            actor_name_x     director_name_y  \\\n",
       "0                                              NOT_FOUND     Tatia Rosenthal   \n",
       "1                                   Jan Němec|Neil Young       Steven Kovacs   \n",
       "2      Richard Dormer|David Wilmot|Liam McMahon|Sean ...        Yann Demange   \n",
       "3                                       Claudia Jennings   Beverly Sebastion   \n",
       "4        Leo Gorcey|Gabriel Dell|Bobby Jordan|Huntz Hall         Wallace Fox   \n",
       "...                                                  ...                 ...   \n",
       "36353                                      Carmen Lebbos         Josef Fares   \n",
       "36354      Rekha|Karisma Kapoor|Farida Jalal|Amrish Puri       Shyam Benegal   \n",
       "36355  Ulla Jacobsson|Gary Bond|Stanley Baker|Mangosu...         Cy Endfield   \n",
       "36356      Orlando Bloom|Forest Whitaker|Tanya van Graan        Jérôme Salle   \n",
       "36357          Monic Hendrickx|Jacob Derwig|Halina Reijn  Paula van der Oest   \n",
       "\n",
       "                       writer_name                       country_y  \\\n",
       "0      Etgar Keret|Tatia Rosenthal                Israel|Australia   \n",
       "1                    Steven Kovacs                   United States   \n",
       "2                    Gregory Burke                  United Kingdom   \n",
       "3                Beverly Sebastion                   United States   \n",
       "4                     Harvey Gates                   United States   \n",
       "...                            ...                             ...   \n",
       "36353                  Josef Fares                          Sweden   \n",
       "36354               Khalid Mohamed                       NOT_FOUND   \n",
       "36355     John Prebble|Cy Endfield  United Kingdom\\n*United States   \n",
       "36356                 Jérôme Salle                          France   \n",
       "36357           Paula van der Oest                     Netherlands   \n",
       "\n",
       "                                            actor_name_y  \n",
       "0                         Geoffrey Rush|Anthony LaPaglia  \n",
       "1                                              NOT_FOUND  \n",
       "2      Richard Dormer|Charlie Murphy (actress)|Sean H...  \n",
       "3                                       Claudia Jennings  \n",
       "4        Leo Gorcey|Gabriel Dell|Bobby Jordan|Huntz Hall  \n",
       "...                                                  ...  \n",
       "36353                                      Carmen Lebbos  \n",
       "36354                                          NOT_FOUND  \n",
       "36355  Ulla Jacobsson|Stanley Baker|James Booth|Micha...  \n",
       "36356                      Forest Whitaker|Orlando Bloom  \n",
       "36357          Monic Hendrickx|Jacob Derwig|Halina Reijn  \n",
       "\n",
       "[36358 rows x 10 columns]"
      ]
     },
     "execution_count": 98,
     "metadata": {},
     "output_type": "execute_result"
    }
   ],
   "source": [
    "final_movies_df"
   ]
  },
  {
   "cell_type": "code",
   "execution_count": 99,
   "metadata": {
    "scrolled": true
   },
   "outputs": [],
   "source": [
    "def select_values(to_keep_val, other_val):\n",
    "    if (str(to_keep_val) != \"NOT_FOUND\"):\n",
    "        return to_keep_val\n",
    "    else:\n",
    "        return other_val\n",
    "    \n",
    "    \n",
    "    \n"
   ]
  },
  {
   "cell_type": "code",
   "execution_count": 102,
   "metadata": {
    "scrolled": true
   },
   "outputs": [
    {
     "data": {
      "application/vnd.jupyter.widget-view+json": {
       "model_id": "e01cb02a9a73436e9ead4f444d08fa6b",
       "version_major": 2,
       "version_minor": 0
      },
      "text/plain": [
       "HBox(children=(HTML(value='progress bar'), FloatProgress(value=0.0, max=36358.0), HTML(value='')))"
      ]
     },
     "metadata": {},
     "output_type": "display_data"
    },
    {
     "name": "stdout",
     "output_type": "stream",
     "text": [
      "\n"
     ]
    },
    {
     "data": {
      "application/vnd.jupyter.widget-view+json": {
       "model_id": "791ecd5c040542cb88a11f9c1f3ed46f",
       "version_major": 2,
       "version_minor": 0
      },
      "text/plain": [
       "HBox(children=(HTML(value='progress bar'), FloatProgress(value=0.0, max=36358.0), HTML(value='')))"
      ]
     },
     "metadata": {},
     "output_type": "display_data"
    },
    {
     "name": "stdout",
     "output_type": "stream",
     "text": [
      "\n"
     ]
    }
   ],
   "source": [
    "#keep dbpedia value if both exist\n",
    "final_movies_df['actor_name'] = final_movies_df.progress_apply(lambda row: select_values(row.actor_name_y, row.actor_name_x), axis=1)\n",
    "#keep director from yago if exists in both\n",
    "final_movies_df['director_name'] = final_movies_df.progress_apply(lambda row: select_values(row.director_name_x, row.director_name_y), axis=1)\n",
    "#keep director from yago if exists in both\n",
    "final_movies_df['country'] = final_movies_df.progress_apply(lambda row: select_values(row.country_x, row.country_y), axis=1)"
   ]
  },
  {
   "cell_type": "code",
   "execution_count": 127,
   "metadata": {
    "scrolled": true
   },
   "outputs": [],
   "source": []
  },
  {
   "cell_type": "code",
   "execution_count": 105,
   "metadata": {
    "scrolled": true
   },
   "outputs": [
    {
     "data": {
      "text/html": [
       "<div>\n",
       "<style scoped>\n",
       "    .dataframe tbody tr th:only-of-type {\n",
       "        vertical-align: middle;\n",
       "    }\n",
       "\n",
       "    .dataframe tbody tr th {\n",
       "        vertical-align: top;\n",
       "    }\n",
       "\n",
       "    .dataframe thead th {\n",
       "        text-align: right;\n",
       "    }\n",
       "</style>\n",
       "<table border=\"1\" class=\"dataframe\">\n",
       "  <thead>\n",
       "    <tr style=\"text-align: right;\">\n",
       "      <th></th>\n",
       "      <th>director_name_x</th>\n",
       "      <th>director_name_y</th>\n",
       "      <th>director_name</th>\n",
       "    </tr>\n",
       "  </thead>\n",
       "  <tbody>\n",
       "    <tr>\n",
       "      <th>0</th>\n",
       "      <td>Etgar Keret|Tatia Rosenthal</td>\n",
       "      <td>Tatia Rosenthal</td>\n",
       "      <td>Etgar Keret|Tatia Rosenthal</td>\n",
       "    </tr>\n",
       "    <tr>\n",
       "      <th>1</th>\n",
       "      <td>Steven Kovacs</td>\n",
       "      <td>Steven Kovacs</td>\n",
       "      <td>Steven Kovacs</td>\n",
       "    </tr>\n",
       "    <tr>\n",
       "      <th>2</th>\n",
       "      <td>Yann Demange</td>\n",
       "      <td>Yann Demange</td>\n",
       "      <td>Yann Demange</td>\n",
       "    </tr>\n",
       "    <tr>\n",
       "      <th>3</th>\n",
       "      <td>Beverly Sebastion</td>\n",
       "      <td>Beverly Sebastion</td>\n",
       "      <td>Beverly Sebastion</td>\n",
       "    </tr>\n",
       "    <tr>\n",
       "      <th>4</th>\n",
       "      <td>Wallace Fox</td>\n",
       "      <td>Wallace Fox</td>\n",
       "      <td>Wallace Fox</td>\n",
       "    </tr>\n",
       "    <tr>\n",
       "      <th>5</th>\n",
       "      <td>Harry L. Fraser</td>\n",
       "      <td>Harry L. Fraser</td>\n",
       "      <td>Harry L. Fraser</td>\n",
       "    </tr>\n",
       "    <tr>\n",
       "      <th>6</th>\n",
       "      <td>Abel Ferrara</td>\n",
       "      <td>Abel Ferrara</td>\n",
       "      <td>Abel Ferrara</td>\n",
       "    </tr>\n",
       "    <tr>\n",
       "      <th>7</th>\n",
       "      <td>Scott Winant</td>\n",
       "      <td>Scott Winant</td>\n",
       "      <td>Scott Winant</td>\n",
       "    </tr>\n",
       "    <tr>\n",
       "      <th>8</th>\n",
       "      <td>Nick Castle</td>\n",
       "      <td>Nick Castle</td>\n",
       "      <td>Nick Castle</td>\n",
       "    </tr>\n",
       "    <tr>\n",
       "      <th>9</th>\n",
       "      <td>NOT_FOUND</td>\n",
       "      <td>Tim Kiley</td>\n",
       "      <td>Tim Kiley</td>\n",
       "    </tr>\n",
       "    <tr>\n",
       "      <th>10</th>\n",
       "      <td>Dennis Iliadis</td>\n",
       "      <td>Dennis Iliadis</td>\n",
       "      <td>Dennis Iliadis</td>\n",
       "    </tr>\n",
       "    <tr>\n",
       "      <th>11</th>\n",
       "      <td>Jim Abrahams</td>\n",
       "      <td>Jim Abrahams</td>\n",
       "      <td>Jim Abrahams</td>\n",
       "    </tr>\n",
       "    <tr>\n",
       "      <th>12</th>\n",
       "      <td>NOT_FOUND</td>\n",
       "      <td>Lee Eon-hee</td>\n",
       "      <td>Lee Eon-hee</td>\n",
       "    </tr>\n",
       "    <tr>\n",
       "      <th>13</th>\n",
       "      <td>NOT_FOUND</td>\n",
       "      <td>Gary Lennon</td>\n",
       "      <td>Gary Lennon</td>\n",
       "    </tr>\n",
       "    <tr>\n",
       "      <th>14</th>\n",
       "      <td>Umberto Lenzi</td>\n",
       "      <td>Umberto Lenzi</td>\n",
       "      <td>Umberto Lenzi</td>\n",
       "    </tr>\n",
       "    <tr>\n",
       "      <th>15</th>\n",
       "      <td>Bertrand Blier</td>\n",
       "      <td>Bertrand Blier</td>\n",
       "      <td>Bertrand Blier</td>\n",
       "    </tr>\n",
       "    <tr>\n",
       "      <th>16</th>\n",
       "      <td>Theo van Gogh</td>\n",
       "      <td>Theo van Gogh (film director)</td>\n",
       "      <td>Theo van Gogh</td>\n",
       "    </tr>\n",
       "    <tr>\n",
       "      <th>17</th>\n",
       "      <td>NOT_FOUND</td>\n",
       "      <td>NOT_FOUND</td>\n",
       "      <td>NOT_FOUND</td>\n",
       "    </tr>\n",
       "    <tr>\n",
       "      <th>18</th>\n",
       "      <td>Roland Emmerich</td>\n",
       "      <td>Roland Emmerich</td>\n",
       "      <td>Roland Emmerich</td>\n",
       "    </tr>\n",
       "    <tr>\n",
       "      <th>19</th>\n",
       "      <td>Robert Townsend</td>\n",
       "      <td>Robert Townsend (actor)</td>\n",
       "      <td>Robert Townsend</td>\n",
       "    </tr>\n",
       "    <tr>\n",
       "      <th>20</th>\n",
       "      <td>Sukumar</td>\n",
       "      <td>Sukumar (director)</td>\n",
       "      <td>Sukumar</td>\n",
       "    </tr>\n",
       "    <tr>\n",
       "      <th>21</th>\n",
       "      <td>Rabi Kinagi</td>\n",
       "      <td>Rabi Kinagi</td>\n",
       "      <td>Rabi Kinagi</td>\n",
       "    </tr>\n",
       "    <tr>\n",
       "      <th>22</th>\n",
       "      <td>Bent Hamer</td>\n",
       "      <td>Bent Hamer</td>\n",
       "      <td>Bent Hamer</td>\n",
       "    </tr>\n",
       "    <tr>\n",
       "      <th>23</th>\n",
       "      <td>NOT_FOUND</td>\n",
       "      <td>Colin Cairnes|Cameron Cairnes</td>\n",
       "      <td>Colin Cairnes|Cameron Cairnes</td>\n",
       "    </tr>\n",
       "    <tr>\n",
       "      <th>24</th>\n",
       "      <td>Partho Ghosh</td>\n",
       "      <td>Partho Ghosh</td>\n",
       "      <td>Partho Ghosh</td>\n",
       "    </tr>\n",
       "    <tr>\n",
       "      <th>25</th>\n",
       "      <td>NOT_FOUND</td>\n",
       "      <td>NOT_FOUND</td>\n",
       "      <td>NOT_FOUND</td>\n",
       "    </tr>\n",
       "    <tr>\n",
       "      <th>26</th>\n",
       "      <td>Henry Chan</td>\n",
       "      <td>Henry Chan</td>\n",
       "      <td>Henry Chan</td>\n",
       "    </tr>\n",
       "    <tr>\n",
       "      <th>27</th>\n",
       "      <td>Huseyn Erkenov</td>\n",
       "      <td>NOT_FOUND</td>\n",
       "      <td>Huseyn Erkenov</td>\n",
       "    </tr>\n",
       "    <tr>\n",
       "      <th>28</th>\n",
       "      <td>NOT_FOUND</td>\n",
       "      <td>Jenuse Mohamed</td>\n",
       "      <td>Jenuse Mohamed</td>\n",
       "    </tr>\n",
       "    <tr>\n",
       "      <th>29</th>\n",
       "      <td>Shin Jai-ho</td>\n",
       "      <td>NOT_FOUND</td>\n",
       "      <td>Shin Jai-ho</td>\n",
       "    </tr>\n",
       "    <tr>\n",
       "      <th>30</th>\n",
       "      <td>Eric Red</td>\n",
       "      <td>Eric Red</td>\n",
       "      <td>Eric Red</td>\n",
       "    </tr>\n",
       "    <tr>\n",
       "      <th>31</th>\n",
       "      <td>NOT_FOUND</td>\n",
       "      <td>Martin Andersen</td>\n",
       "      <td>Martin Andersen</td>\n",
       "    </tr>\n",
       "    <tr>\n",
       "      <th>32</th>\n",
       "      <td>Michael Davis</td>\n",
       "      <td>Michael Davis (director)</td>\n",
       "      <td>Michael Davis</td>\n",
       "    </tr>\n",
       "    <tr>\n",
       "      <th>33</th>\n",
       "      <td>Griff Furst</td>\n",
       "      <td>Griff Furst</td>\n",
       "      <td>Griff Furst</td>\n",
       "    </tr>\n",
       "    <tr>\n",
       "      <th>34</th>\n",
       "      <td>Tom Gries</td>\n",
       "      <td>Tom Gries</td>\n",
       "      <td>Tom Gries</td>\n",
       "    </tr>\n",
       "    <tr>\n",
       "      <th>35</th>\n",
       "      <td>NOT_FOUND</td>\n",
       "      <td>Marcus Koch</td>\n",
       "      <td>Marcus Koch</td>\n",
       "    </tr>\n",
       "    <tr>\n",
       "      <th>36</th>\n",
       "      <td>Masaharu Take</td>\n",
       "      <td>NOT_FOUND</td>\n",
       "      <td>Masaharu Take</td>\n",
       "    </tr>\n",
       "    <tr>\n",
       "      <th>37</th>\n",
       "      <td>Stephen Herek</td>\n",
       "      <td>Stephen Herek</td>\n",
       "      <td>Stephen Herek</td>\n",
       "    </tr>\n",
       "    <tr>\n",
       "      <th>38</th>\n",
       "      <td>NOT_FOUND</td>\n",
       "      <td>Randy Barbato|Fenton Bailey</td>\n",
       "      <td>Randy Barbato|Fenton Bailey</td>\n",
       "    </tr>\n",
       "    <tr>\n",
       "      <th>39</th>\n",
       "      <td>Kevin Lima</td>\n",
       "      <td>Kevin Lima</td>\n",
       "      <td>Kevin Lima</td>\n",
       "    </tr>\n",
       "    <tr>\n",
       "      <th>40</th>\n",
       "      <td>Umesh Shukla</td>\n",
       "      <td>Umesh Shukla</td>\n",
       "      <td>Umesh Shukla</td>\n",
       "    </tr>\n",
       "    <tr>\n",
       "      <th>41</th>\n",
       "      <td>Blake Edwards</td>\n",
       "      <td>Blake Edwards</td>\n",
       "      <td>Blake Edwards</td>\n",
       "    </tr>\n",
       "    <tr>\n",
       "      <th>42</th>\n",
       "      <td>Dan Trachtenberg</td>\n",
       "      <td>Dan Trachtenberg</td>\n",
       "      <td>Dan Trachtenberg</td>\n",
       "    </tr>\n",
       "    <tr>\n",
       "      <th>43</th>\n",
       "      <td>Timothy Hines</td>\n",
       "      <td>Timothy Hines</td>\n",
       "      <td>Timothy Hines</td>\n",
       "    </tr>\n",
       "    <tr>\n",
       "      <th>44</th>\n",
       "      <td>Brad Silberling</td>\n",
       "      <td>Brad Silberling</td>\n",
       "      <td>Brad Silberling</td>\n",
       "    </tr>\n",
       "    <tr>\n",
       "      <th>45</th>\n",
       "      <td>Ahmed Imamović</td>\n",
       "      <td>Ahmed Imamovic</td>\n",
       "      <td>Ahmed Imamović</td>\n",
       "    </tr>\n",
       "    <tr>\n",
       "      <th>46</th>\n",
       "      <td>NOT_FOUND</td>\n",
       "      <td>NOT_FOUND</td>\n",
       "      <td>NOT_FOUND</td>\n",
       "    </tr>\n",
       "    <tr>\n",
       "      <th>47</th>\n",
       "      <td>Rick Ray</td>\n",
       "      <td>Rick Ray</td>\n",
       "      <td>Rick Ray</td>\n",
       "    </tr>\n",
       "    <tr>\n",
       "      <th>48</th>\n",
       "      <td>Richard Fleischer</td>\n",
       "      <td>Richard Fleischer</td>\n",
       "      <td>Richard Fleischer</td>\n",
       "    </tr>\n",
       "    <tr>\n",
       "      <th>49</th>\n",
       "      <td>Leslie Greif</td>\n",
       "      <td>Leslie Greif</td>\n",
       "      <td>Leslie Greif</td>\n",
       "    </tr>\n",
       "  </tbody>\n",
       "</table>\n",
       "</div>"
      ],
      "text/plain": [
       "                director_name_x                director_name_y  \\\n",
       "0   Etgar Keret|Tatia Rosenthal                Tatia Rosenthal   \n",
       "1                 Steven Kovacs                  Steven Kovacs   \n",
       "2                  Yann Demange                   Yann Demange   \n",
       "3             Beverly Sebastion              Beverly Sebastion   \n",
       "4                   Wallace Fox                    Wallace Fox   \n",
       "5               Harry L. Fraser                Harry L. Fraser   \n",
       "6                  Abel Ferrara                   Abel Ferrara   \n",
       "7                  Scott Winant                   Scott Winant   \n",
       "8                   Nick Castle                    Nick Castle   \n",
       "9                     NOT_FOUND                      Tim Kiley   \n",
       "10               Dennis Iliadis                 Dennis Iliadis   \n",
       "11                 Jim Abrahams                   Jim Abrahams   \n",
       "12                    NOT_FOUND                    Lee Eon-hee   \n",
       "13                    NOT_FOUND                    Gary Lennon   \n",
       "14                Umberto Lenzi                  Umberto Lenzi   \n",
       "15               Bertrand Blier                 Bertrand Blier   \n",
       "16                Theo van Gogh  Theo van Gogh (film director)   \n",
       "17                    NOT_FOUND                      NOT_FOUND   \n",
       "18              Roland Emmerich                Roland Emmerich   \n",
       "19              Robert Townsend        Robert Townsend (actor)   \n",
       "20                      Sukumar             Sukumar (director)   \n",
       "21                  Rabi Kinagi                    Rabi Kinagi   \n",
       "22                   Bent Hamer                     Bent Hamer   \n",
       "23                    NOT_FOUND  Colin Cairnes|Cameron Cairnes   \n",
       "24                 Partho Ghosh                   Partho Ghosh   \n",
       "25                    NOT_FOUND                      NOT_FOUND   \n",
       "26                   Henry Chan                     Henry Chan   \n",
       "27               Huseyn Erkenov                      NOT_FOUND   \n",
       "28                    NOT_FOUND                 Jenuse Mohamed   \n",
       "29                  Shin Jai-ho                      NOT_FOUND   \n",
       "30                     Eric Red                       Eric Red   \n",
       "31                    NOT_FOUND                Martin Andersen   \n",
       "32                Michael Davis       Michael Davis (director)   \n",
       "33                  Griff Furst                    Griff Furst   \n",
       "34                    Tom Gries                      Tom Gries   \n",
       "35                    NOT_FOUND                    Marcus Koch   \n",
       "36                Masaharu Take                      NOT_FOUND   \n",
       "37                Stephen Herek                  Stephen Herek   \n",
       "38                    NOT_FOUND    Randy Barbato|Fenton Bailey   \n",
       "39                   Kevin Lima                     Kevin Lima   \n",
       "40                 Umesh Shukla                   Umesh Shukla   \n",
       "41                Blake Edwards                  Blake Edwards   \n",
       "42             Dan Trachtenberg               Dan Trachtenberg   \n",
       "43                Timothy Hines                  Timothy Hines   \n",
       "44              Brad Silberling                Brad Silberling   \n",
       "45               Ahmed Imamović                 Ahmed Imamovic   \n",
       "46                    NOT_FOUND                      NOT_FOUND   \n",
       "47                     Rick Ray                       Rick Ray   \n",
       "48            Richard Fleischer              Richard Fleischer   \n",
       "49                 Leslie Greif                   Leslie Greif   \n",
       "\n",
       "                    director_name  \n",
       "0     Etgar Keret|Tatia Rosenthal  \n",
       "1                   Steven Kovacs  \n",
       "2                    Yann Demange  \n",
       "3               Beverly Sebastion  \n",
       "4                     Wallace Fox  \n",
       "5                 Harry L. Fraser  \n",
       "6                    Abel Ferrara  \n",
       "7                    Scott Winant  \n",
       "8                     Nick Castle  \n",
       "9                       Tim Kiley  \n",
       "10                 Dennis Iliadis  \n",
       "11                   Jim Abrahams  \n",
       "12                    Lee Eon-hee  \n",
       "13                    Gary Lennon  \n",
       "14                  Umberto Lenzi  \n",
       "15                 Bertrand Blier  \n",
       "16                  Theo van Gogh  \n",
       "17                      NOT_FOUND  \n",
       "18                Roland Emmerich  \n",
       "19                Robert Townsend  \n",
       "20                        Sukumar  \n",
       "21                    Rabi Kinagi  \n",
       "22                     Bent Hamer  \n",
       "23  Colin Cairnes|Cameron Cairnes  \n",
       "24                   Partho Ghosh  \n",
       "25                      NOT_FOUND  \n",
       "26                     Henry Chan  \n",
       "27                 Huseyn Erkenov  \n",
       "28                 Jenuse Mohamed  \n",
       "29                    Shin Jai-ho  \n",
       "30                       Eric Red  \n",
       "31                Martin Andersen  \n",
       "32                  Michael Davis  \n",
       "33                    Griff Furst  \n",
       "34                      Tom Gries  \n",
       "35                    Marcus Koch  \n",
       "36                  Masaharu Take  \n",
       "37                  Stephen Herek  \n",
       "38    Randy Barbato|Fenton Bailey  \n",
       "39                     Kevin Lima  \n",
       "40                   Umesh Shukla  \n",
       "41                  Blake Edwards  \n",
       "42               Dan Trachtenberg  \n",
       "43                  Timothy Hines  \n",
       "44                Brad Silberling  \n",
       "45                 Ahmed Imamović  \n",
       "46                      NOT_FOUND  \n",
       "47                       Rick Ray  \n",
       "48              Richard Fleischer  \n",
       "49                   Leslie Greif  "
      ]
     },
     "execution_count": 105,
     "metadata": {},
     "output_type": "execute_result"
    }
   ],
   "source": [
    "final_movies_df[['director_name_x','director_name_y', 'director_name']].head(50)"
   ]
  },
  {
   "cell_type": "code",
   "execution_count": null,
   "metadata": {
    "scrolled": true
   },
   "outputs": [],
   "source": [
    "final_movies_df"
   ]
  },
  {
   "cell_type": "code",
   "execution_count": 129,
   "metadata": {
    "scrolled": true
   },
   "outputs": [],
   "source": [
    "\n",
    "all_movies_df = final_movies_df[['movie_id','title','actor_name','director_name','writer_name','country','genre']].copy()\n",
    "all_movies_df.to_csv(\"generated_dataset/yago_pedia_ml_final_movies_list.csv\",index= False)"
   ]
  },
  {
   "cell_type": "code",
   "execution_count": 107,
   "metadata": {
    "scrolled": true
   },
   "outputs": [
    {
     "data": {
      "text/html": [
       "<div>\n",
       "<style scoped>\n",
       "    .dataframe tbody tr th:only-of-type {\n",
       "        vertical-align: middle;\n",
       "    }\n",
       "\n",
       "    .dataframe tbody tr th {\n",
       "        vertical-align: top;\n",
       "    }\n",
       "\n",
       "    .dataframe thead th {\n",
       "        text-align: right;\n",
       "    }\n",
       "</style>\n",
       "<table border=\"1\" class=\"dataframe\">\n",
       "  <thead>\n",
       "    <tr style=\"text-align: right;\">\n",
       "      <th></th>\n",
       "      <th>movie_id</th>\n",
       "      <th>title</th>\n",
       "      <th>actor_name</th>\n",
       "      <th>director_name</th>\n",
       "      <th>writer_name</th>\n",
       "      <th>country</th>\n",
       "      <th>genre</th>\n",
       "    </tr>\n",
       "  </thead>\n",
       "  <tbody>\n",
       "    <tr>\n",
       "      <th>0</th>\n",
       "      <td>$9.99</td>\n",
       "      <td>$9.99</td>\n",
       "      <td>Geoffrey Rush|Anthony LaPaglia</td>\n",
       "      <td>Etgar Keret|Tatia Rosenthal</td>\n",
       "      <td>Etgar Keret|Tatia Rosenthal</td>\n",
       "      <td>Israel|Australia</td>\n",
       "      <td>NOT_FOUND</td>\n",
       "    </tr>\n",
       "    <tr>\n",
       "      <th>1</th>\n",
       "      <td>'68_(film)</td>\n",
       "      <td>'68</td>\n",
       "      <td>Jan Němec|Neil Young</td>\n",
       "      <td>Steven Kovacs</td>\n",
       "      <td>Steven Kovacs</td>\n",
       "      <td>United_States</td>\n",
       "      <td>LGBT-related_film_Q20442589</td>\n",
       "    </tr>\n",
       "    <tr>\n",
       "      <th>2</th>\n",
       "      <td>'71_(film)</td>\n",
       "      <td>'71</td>\n",
       "      <td>Richard Dormer|Charlie Murphy (actress)|Sean H...</td>\n",
       "      <td>Yann Demange</td>\n",
       "      <td>Gregory Burke</td>\n",
       "      <td>United_Kingdom</td>\n",
       "      <td>Crime_film|Thriller_film|War_film|Action_film</td>\n",
       "    </tr>\n",
       "    <tr>\n",
       "      <th>3</th>\n",
       "      <td>'Gator_Bait</td>\n",
       "      <td>'Gator Bait</td>\n",
       "      <td>Claudia Jennings</td>\n",
       "      <td>Beverly Sebastion</td>\n",
       "      <td>Beverly Sebastion</td>\n",
       "      <td>United_States</td>\n",
       "      <td>Thriller_film|Action_film</td>\n",
       "    </tr>\n",
       "    <tr>\n",
       "      <th>4</th>\n",
       "      <td>'Neath_Brooklyn_Bridge</td>\n",
       "      <td>'Neath Brooklyn Bridge</td>\n",
       "      <td>Leo Gorcey|Gabriel Dell|Bobby Jordan|Huntz Hall</td>\n",
       "      <td>Wallace Fox</td>\n",
       "      <td>Harvey Gates</td>\n",
       "      <td>United_States</td>\n",
       "      <td>NOT_FOUND</td>\n",
       "    </tr>\n",
       "    <tr>\n",
       "      <th>...</th>\n",
       "      <td>...</td>\n",
       "      <td>...</td>\n",
       "      <td>...</td>\n",
       "      <td>...</td>\n",
       "      <td>...</td>\n",
       "      <td>...</td>\n",
       "      <td>...</td>\n",
       "    </tr>\n",
       "    <tr>\n",
       "      <th>36353</th>\n",
       "      <td>Zozo</td>\n",
       "      <td>Zozo</td>\n",
       "      <td>Carmen Lebbos</td>\n",
       "      <td>Josef Fares</td>\n",
       "      <td>Josef Fares</td>\n",
       "      <td>United_Kingdom|Sweden|Lebanon</td>\n",
       "      <td>NOT_FOUND</td>\n",
       "    </tr>\n",
       "    <tr>\n",
       "      <th>36354</th>\n",
       "      <td>Zubeidaa</td>\n",
       "      <td>Zubeidaa</td>\n",
       "      <td>Rekha|Karisma Kapoor|Farida Jalal|Amrish Puri</td>\n",
       "      <td>Shyam Benegal</td>\n",
       "      <td>Khalid Mohamed</td>\n",
       "      <td>India</td>\n",
       "      <td>Romance_film</td>\n",
       "    </tr>\n",
       "    <tr>\n",
       "      <th>36355</th>\n",
       "      <td>Zulu_(1964_film)</td>\n",
       "      <td>Zulu</td>\n",
       "      <td>Ulla Jacobsson|Stanley Baker|James Booth|Micha...</td>\n",
       "      <td>Cy Endfield</td>\n",
       "      <td>John Prebble|Cy Endfield</td>\n",
       "      <td>United_Kingdom</td>\n",
       "      <td>Adventure_film|War_film</td>\n",
       "    </tr>\n",
       "    <tr>\n",
       "      <th>36356</th>\n",
       "      <td>Zulu_(2013_film)</td>\n",
       "      <td>Zulu</td>\n",
       "      <td>Forest Whitaker|Orlando Bloom</td>\n",
       "      <td>Jérôme Salle</td>\n",
       "      <td>Jérôme Salle</td>\n",
       "      <td>France</td>\n",
       "      <td>Crime_film</td>\n",
       "    </tr>\n",
       "    <tr>\n",
       "      <th>36357</th>\n",
       "      <td>Zus_&amp;_Zo</td>\n",
       "      <td>Zus &amp; Zo</td>\n",
       "      <td>Monic Hendrickx|Jacob Derwig|Halina Reijn</td>\n",
       "      <td>Paula van der Oest</td>\n",
       "      <td>Paula van der Oest</td>\n",
       "      <td>Netherlands</td>\n",
       "      <td>Romantic_comedy</td>\n",
       "    </tr>\n",
       "  </tbody>\n",
       "</table>\n",
       "<p>36358 rows × 7 columns</p>\n",
       "</div>"
      ],
      "text/plain": [
       "                     movie_id                   title  \\\n",
       "0                       $9.99                   $9.99   \n",
       "1                  '68_(film)                     '68   \n",
       "2                  '71_(film)                     '71   \n",
       "3                 'Gator_Bait             'Gator Bait   \n",
       "4      'Neath_Brooklyn_Bridge  'Neath Brooklyn Bridge   \n",
       "...                       ...                     ...   \n",
       "36353                    Zozo                    Zozo   \n",
       "36354                Zubeidaa                Zubeidaa   \n",
       "36355        Zulu_(1964_film)                    Zulu   \n",
       "36356        Zulu_(2013_film)                    Zulu   \n",
       "36357                Zus_&_Zo                Zus & Zo   \n",
       "\n",
       "                                              actor_name  \\\n",
       "0                         Geoffrey Rush|Anthony LaPaglia   \n",
       "1                                   Jan Němec|Neil Young   \n",
       "2      Richard Dormer|Charlie Murphy (actress)|Sean H...   \n",
       "3                                       Claudia Jennings   \n",
       "4        Leo Gorcey|Gabriel Dell|Bobby Jordan|Huntz Hall   \n",
       "...                                                  ...   \n",
       "36353                                      Carmen Lebbos   \n",
       "36354      Rekha|Karisma Kapoor|Farida Jalal|Amrish Puri   \n",
       "36355  Ulla Jacobsson|Stanley Baker|James Booth|Micha...   \n",
       "36356                      Forest Whitaker|Orlando Bloom   \n",
       "36357          Monic Hendrickx|Jacob Derwig|Halina Reijn   \n",
       "\n",
       "                     director_name                  writer_name  \\\n",
       "0      Etgar Keret|Tatia Rosenthal  Etgar Keret|Tatia Rosenthal   \n",
       "1                    Steven Kovacs                Steven Kovacs   \n",
       "2                     Yann Demange                Gregory Burke   \n",
       "3                Beverly Sebastion            Beverly Sebastion   \n",
       "4                      Wallace Fox                 Harvey Gates   \n",
       "...                            ...                          ...   \n",
       "36353                  Josef Fares                  Josef Fares   \n",
       "36354                Shyam Benegal               Khalid Mohamed   \n",
       "36355                  Cy Endfield     John Prebble|Cy Endfield   \n",
       "36356                 Jérôme Salle                 Jérôme Salle   \n",
       "36357           Paula van der Oest           Paula van der Oest   \n",
       "\n",
       "                             country  \\\n",
       "0                   Israel|Australia   \n",
       "1                      United_States   \n",
       "2                     United_Kingdom   \n",
       "3                      United_States   \n",
       "4                      United_States   \n",
       "...                              ...   \n",
       "36353  United_Kingdom|Sweden|Lebanon   \n",
       "36354                          India   \n",
       "36355                 United_Kingdom   \n",
       "36356                         France   \n",
       "36357                    Netherlands   \n",
       "\n",
       "                                               genre  \n",
       "0                                          NOT_FOUND  \n",
       "1                        LGBT-related_film_Q20442589  \n",
       "2      Crime_film|Thriller_film|War_film|Action_film  \n",
       "3                          Thriller_film|Action_film  \n",
       "4                                          NOT_FOUND  \n",
       "...                                              ...  \n",
       "36353                                      NOT_FOUND  \n",
       "36354                                   Romance_film  \n",
       "36355                        Adventure_film|War_film  \n",
       "36356                                     Crime_film  \n",
       "36357                                Romantic_comedy  \n",
       "\n",
       "[36358 rows x 7 columns]"
      ]
     },
     "execution_count": 107,
     "metadata": {},
     "output_type": "execute_result"
    }
   ],
   "source": [
    "all_movies_df"
   ]
  },
  {
   "cell_type": "code",
   "execution_count": null,
   "metadata": {
    "scrolled": true
   },
   "outputs": [],
   "source": [
    "#remove duplicated movie_id\n",
    "all_movies_df= all_movies_df[~all_movies_df.duplicated('movie_id')]\n",
    "all_movies_df"
   ]
  },
  {
   "cell_type": "code",
   "execution_count": null,
   "metadata": {
    "scrolled": true
   },
   "outputs": [],
   "source": [
    "all_movies_df.duplicated('movie_id').any().sum()"
   ]
  },
  {
   "cell_type": "code",
   "execution_count": 113,
   "metadata": {
    "scrolled": true
   },
   "outputs": [
    {
     "data": {
      "text/html": [
       "<div>\n",
       "<style scoped>\n",
       "    .dataframe tbody tr th:only-of-type {\n",
       "        vertical-align: middle;\n",
       "    }\n",
       "\n",
       "    .dataframe tbody tr th {\n",
       "        vertical-align: top;\n",
       "    }\n",
       "\n",
       "    .dataframe thead th {\n",
       "        text-align: right;\n",
       "    }\n",
       "</style>\n",
       "<table border=\"1\" class=\"dataframe\">\n",
       "  <thead>\n",
       "    <tr style=\"text-align: right;\">\n",
       "      <th></th>\n",
       "      <th>movie_id</th>\n",
       "      <th>title</th>\n",
       "      <th>actor_name</th>\n",
       "      <th>director_name</th>\n",
       "      <th>writer_name</th>\n",
       "      <th>country</th>\n",
       "      <th>genre</th>\n",
       "    </tr>\n",
       "  </thead>\n",
       "  <tbody>\n",
       "    <tr>\n",
       "      <th>0</th>\n",
       "      <td>$9.99</td>\n",
       "      <td>$9.99</td>\n",
       "      <td>Geoffrey Rush|Anthony LaPaglia</td>\n",
       "      <td>Etgar Keret|Tatia Rosenthal</td>\n",
       "      <td>Etgar Keret|Tatia Rosenthal</td>\n",
       "      <td>Israel|Australia</td>\n",
       "      <td>NOT_FOUND</td>\n",
       "    </tr>\n",
       "    <tr>\n",
       "      <th>1</th>\n",
       "      <td>'68_(film)</td>\n",
       "      <td>'68</td>\n",
       "      <td>Jan Němec|Neil Young</td>\n",
       "      <td>Steven Kovacs</td>\n",
       "      <td>Steven Kovacs</td>\n",
       "      <td>United_States</td>\n",
       "      <td>LGBT-related_film_Q20442589</td>\n",
       "    </tr>\n",
       "    <tr>\n",
       "      <th>2</th>\n",
       "      <td>'71_(film)</td>\n",
       "      <td>'71</td>\n",
       "      <td>Richard Dormer|Charlie Murphy (actress)|Sean H...</td>\n",
       "      <td>Yann Demange</td>\n",
       "      <td>Gregory Burke</td>\n",
       "      <td>United_Kingdom</td>\n",
       "      <td>Crime_film|Thriller_film|War_film|Action_film</td>\n",
       "    </tr>\n",
       "    <tr>\n",
       "      <th>3</th>\n",
       "      <td>'Gator_Bait</td>\n",
       "      <td>'Gator Bait</td>\n",
       "      <td>Claudia Jennings</td>\n",
       "      <td>Beverly Sebastion</td>\n",
       "      <td>Beverly Sebastion</td>\n",
       "      <td>United_States</td>\n",
       "      <td>Thriller_film|Action_film</td>\n",
       "    </tr>\n",
       "    <tr>\n",
       "      <th>4</th>\n",
       "      <td>'Neath_Brooklyn_Bridge</td>\n",
       "      <td>'Neath Brooklyn Bridge</td>\n",
       "      <td>Leo Gorcey|Gabriel Dell|Bobby Jordan|Huntz Hall</td>\n",
       "      <td>Wallace Fox</td>\n",
       "      <td>Harvey Gates</td>\n",
       "      <td>United_States</td>\n",
       "      <td>NOT_FOUND</td>\n",
       "    </tr>\n",
       "    <tr>\n",
       "      <th>...</th>\n",
       "      <td>...</td>\n",
       "      <td>...</td>\n",
       "      <td>...</td>\n",
       "      <td>...</td>\n",
       "      <td>...</td>\n",
       "      <td>...</td>\n",
       "      <td>...</td>\n",
       "    </tr>\n",
       "    <tr>\n",
       "      <th>36353</th>\n",
       "      <td>Zozo</td>\n",
       "      <td>Zozo</td>\n",
       "      <td>Carmen Lebbos</td>\n",
       "      <td>Josef Fares</td>\n",
       "      <td>Josef Fares</td>\n",
       "      <td>United_Kingdom|Sweden|Lebanon</td>\n",
       "      <td>NOT_FOUND</td>\n",
       "    </tr>\n",
       "    <tr>\n",
       "      <th>36354</th>\n",
       "      <td>Zubeidaa</td>\n",
       "      <td>Zubeidaa</td>\n",
       "      <td>Rekha|Karisma Kapoor|Farida Jalal|Amrish Puri</td>\n",
       "      <td>Shyam Benegal</td>\n",
       "      <td>Khalid Mohamed</td>\n",
       "      <td>India</td>\n",
       "      <td>Romance_film</td>\n",
       "    </tr>\n",
       "    <tr>\n",
       "      <th>36355</th>\n",
       "      <td>Zulu_(1964_film)</td>\n",
       "      <td>Zulu</td>\n",
       "      <td>Ulla Jacobsson|Stanley Baker|James Booth|Micha...</td>\n",
       "      <td>Cy Endfield</td>\n",
       "      <td>John Prebble|Cy Endfield</td>\n",
       "      <td>United_Kingdom</td>\n",
       "      <td>Adventure_film|War_film</td>\n",
       "    </tr>\n",
       "    <tr>\n",
       "      <th>36356</th>\n",
       "      <td>Zulu_(2013_film)</td>\n",
       "      <td>Zulu</td>\n",
       "      <td>Forest Whitaker|Orlando Bloom</td>\n",
       "      <td>Jérôme Salle</td>\n",
       "      <td>Jérôme Salle</td>\n",
       "      <td>France</td>\n",
       "      <td>Crime_film</td>\n",
       "    </tr>\n",
       "    <tr>\n",
       "      <th>36357</th>\n",
       "      <td>Zus_&amp;_Zo</td>\n",
       "      <td>Zus &amp; Zo</td>\n",
       "      <td>Monic Hendrickx|Jacob Derwig|Halina Reijn</td>\n",
       "      <td>Paula van der Oest</td>\n",
       "      <td>Paula van der Oest</td>\n",
       "      <td>Netherlands</td>\n",
       "      <td>Romantic_comedy</td>\n",
       "    </tr>\n",
       "  </tbody>\n",
       "</table>\n",
       "<p>36358 rows × 7 columns</p>\n",
       "</div>"
      ],
      "text/plain": [
       "                     movie_id                   title  \\\n",
       "0                       $9.99                   $9.99   \n",
       "1                  '68_(film)                     '68   \n",
       "2                  '71_(film)                     '71   \n",
       "3                 'Gator_Bait             'Gator Bait   \n",
       "4      'Neath_Brooklyn_Bridge  'Neath Brooklyn Bridge   \n",
       "...                       ...                     ...   \n",
       "36353                    Zozo                    Zozo   \n",
       "36354                Zubeidaa                Zubeidaa   \n",
       "36355        Zulu_(1964_film)                    Zulu   \n",
       "36356        Zulu_(2013_film)                    Zulu   \n",
       "36357                Zus_&_Zo                Zus & Zo   \n",
       "\n",
       "                                              actor_name  \\\n",
       "0                         Geoffrey Rush|Anthony LaPaglia   \n",
       "1                                   Jan Němec|Neil Young   \n",
       "2      Richard Dormer|Charlie Murphy (actress)|Sean H...   \n",
       "3                                       Claudia Jennings   \n",
       "4        Leo Gorcey|Gabriel Dell|Bobby Jordan|Huntz Hall   \n",
       "...                                                  ...   \n",
       "36353                                      Carmen Lebbos   \n",
       "36354      Rekha|Karisma Kapoor|Farida Jalal|Amrish Puri   \n",
       "36355  Ulla Jacobsson|Stanley Baker|James Booth|Micha...   \n",
       "36356                      Forest Whitaker|Orlando Bloom   \n",
       "36357          Monic Hendrickx|Jacob Derwig|Halina Reijn   \n",
       "\n",
       "                     director_name                  writer_name  \\\n",
       "0      Etgar Keret|Tatia Rosenthal  Etgar Keret|Tatia Rosenthal   \n",
       "1                    Steven Kovacs                Steven Kovacs   \n",
       "2                     Yann Demange                Gregory Burke   \n",
       "3                Beverly Sebastion            Beverly Sebastion   \n",
       "4                      Wallace Fox                 Harvey Gates   \n",
       "...                            ...                          ...   \n",
       "36353                  Josef Fares                  Josef Fares   \n",
       "36354                Shyam Benegal               Khalid Mohamed   \n",
       "36355                  Cy Endfield     John Prebble|Cy Endfield   \n",
       "36356                 Jérôme Salle                 Jérôme Salle   \n",
       "36357           Paula van der Oest           Paula van der Oest   \n",
       "\n",
       "                             country  \\\n",
       "0                   Israel|Australia   \n",
       "1                      United_States   \n",
       "2                     United_Kingdom   \n",
       "3                      United_States   \n",
       "4                      United_States   \n",
       "...                              ...   \n",
       "36353  United_Kingdom|Sweden|Lebanon   \n",
       "36354                          India   \n",
       "36355                 United_Kingdom   \n",
       "36356                         France   \n",
       "36357                    Netherlands   \n",
       "\n",
       "                                               genre  \n",
       "0                                          NOT_FOUND  \n",
       "1                        LGBT-related_film_Q20442589  \n",
       "2      Crime_film|Thriller_film|War_film|Action_film  \n",
       "3                          Thriller_film|Action_film  \n",
       "4                                          NOT_FOUND  \n",
       "...                                              ...  \n",
       "36353                                      NOT_FOUND  \n",
       "36354                                   Romance_film  \n",
       "36355                        Adventure_film|War_film  \n",
       "36356                                     Crime_film  \n",
       "36357                                Romantic_comedy  \n",
       "\n",
       "[36358 rows x 7 columns]"
      ]
     },
     "execution_count": 113,
     "metadata": {},
     "output_type": "execute_result"
    }
   ],
   "source": [
    "all_movies_df"
   ]
  },
  {
   "cell_type": "code",
   "execution_count": 125,
   "metadata": {
    "scrolled": true
   },
   "outputs": [],
   "source": [
    "all_features_missing = len(all_movies_df[((all_movies_df.actor_name == 'NOT_FOUND')\n",
    "                          & (all_movies_df.director_name == 'NOT_FOUND')\n",
    "                          & (all_movies_df.writer_name == 'NOT_FOUND')\n",
    "                          & (all_movies_df.genre == 'NOT_FOUND')\n",
    "                          & (all_movies_df.country == 'NOT_FOUND'))])\n",
    "\n",
    "complete_dataset= len(all_movies_df[((all_movies_df.actor_name != 'NOT_FOUND')\n",
    "                          & (all_movies_df.director_name != 'NOT_FOUND')\n",
    "                          & (all_movies_df.writer_name != 'NOT_FOUND')\n",
    "                          & (all_movies_df.genre != 'NOT_FOUND')\n",
    "                          & (all_movies_df.country != 'NOT_FOUND'))])\n",
    "\n",
    "missing_only_genre_dataset= len(all_movies_df[((all_movies_df.actor_name != 'NOT_FOUND')\n",
    "                          & (all_movies_df.director_name != 'NOT_FOUND')\n",
    "                          & (all_movies_df.writer_name != 'NOT_FOUND')\n",
    "                          & (all_movies_df.genre == 'NOT_FOUND')\n",
    "                          & (all_movies_df.country != 'NOT_FOUND'))])\n",
    "\n",
    "missing_only_actor_name_dataset= len(all_movies_df[((all_movies_df.actor_name == 'NOT_FOUND')\n",
    "                          & (all_movies_df.director_name != 'NOT_FOUND')\n",
    "                          & (all_movies_df.writer_name != 'NOT_FOUND')\n",
    "                          & (all_movies_df.genre != 'NOT_FOUND')\n",
    "                          & (all_movies_df.country != 'NOT_FOUND'))])\n",
    "\n",
    "missing_only_director_dataset= len(all_movies_df[((all_movies_df.actor_name != 'NOT_FOUND')\n",
    "                          & (all_movies_df.director_name == 'NOT_FOUND')\n",
    "                          & (all_movies_df.writer_name != 'NOT_FOUND')\n",
    "                          & (all_movies_df.genre != 'NOT_FOUND')\n",
    "                          & (all_movies_df.country != 'NOT_FOUND'))])\n",
    "\n",
    "missing_only_writer_dataset= len(all_movies_df[((all_movies_df.actor_name != 'NOT_FOUND')\n",
    "                          & (all_movies_df.director_name != 'NOT_FOUND')\n",
    "                          & (all_movies_df.writer_name == 'NOT_FOUND')\n",
    "                          & (all_movies_df.genre != 'NOT_FOUND')\n",
    "                          & (all_movies_df.country != 'NOT_FOUND'))])\n",
    "\n",
    "missing_only_country_dataset= len(all_movies_df[((all_movies_df.actor_name != 'NOT_FOUND')\n",
    "                          & (all_movies_df.director_name != 'NOT_FOUND')\n",
    "                          & (all_movies_df.writer_name != 'NOT_FOUND')\n",
    "                          & (all_movies_df.genre != 'NOT_FOUND')\n",
    "                          & (all_movies_df.country == 'NOT_FOUND'))])\n"
   ]
  },
  {
   "cell_type": "code",
   "execution_count": 126,
   "metadata": {
    "scrolled": true
   },
   "outputs": [
    {
     "name": "stdout",
     "output_type": "stream",
     "text": [
      "Number of ML movies retrieved from YAGO and DBpedia with their info is 36358\n",
      "Number of movies missing all features is 2\n",
      "Number of movies having all features is 19492\n",
      "Number of movies missing ONLY the country feature is 12\n",
      "Number of movies missing ONLY the genre feature is 7768\n",
      "Number of movies missing ONLY the director feature is 220\n",
      "Number of movies missing ONLY the actor feature is 599\n",
      "Number of movies missing ONLY the writer feature is 3438\n"
     ]
    }
   ],
   "source": [
    "print(\"Number of ML movies retrieved from YAGO and DBpedia with their info is {}\".format(len(all_movies_df)))\n",
    "print(\"Number of movies missing all features is {}\".format(all_features_missing))\n",
    "print(\"Number of movies having all features is {}\".format(complete_dataset))\n",
    "print(\"Number of movies missing ONLY the country feature is {}\".format(missing_only_country_dataset))\n",
    "print(\"Number of movies missing ONLY the genre feature is {}\".format(missing_only_genre_dataset))\n",
    "print(\"Number of movies missing ONLY the director feature is {}\".format(missing_only_director_dataset))\n",
    "print(\"Number of movies missing ONLY the actor feature is {}\".format(missing_only_actor_name_dataset))\n",
    "print(\"Number of movies missing ONLY the writer feature is {}\".format(missing_only_writer_dataset))"
   ]
  },
  {
   "cell_type": "code",
   "execution_count": null,
   "metadata": {
    "scrolled": true
   },
   "outputs": [],
   "source": []
  },
  {
   "cell_type": "code",
   "execution_count": 124,
   "metadata": {
    "scrolled": true
   },
   "outputs": [
    {
     "data": {
      "text/plain": [
       "19492"
      ]
     },
     "execution_count": 124,
     "metadata": {},
     "output_type": "execute_result"
    }
   ],
   "source": [
    "complete_dataset"
   ]
  },
  {
   "cell_type": "code",
   "execution_count": 120,
   "metadata": {
    "scrolled": true
   },
   "outputs": [
    {
     "data": {
      "text/plain": [
       "36358"
      ]
     },
     "execution_count": 120,
     "metadata": {},
     "output_type": "execute_result"
    }
   ],
   "source": [
    "len(all_movies_df)"
   ]
  }
 ],
 "metadata": {
  "kernelspec": {
   "display_name": "Python 3",
   "language": "python",
   "name": "python3"
  },
  "language_info": {
   "codemirror_mode": {
    "name": "ipython",
    "version": 3
   },
   "file_extension": ".py",
   "mimetype": "text/x-python",
   "name": "python",
   "nbconvert_exporter": "python",
   "pygments_lexer": "ipython3",
   "version": "3.9.0"
  }
 },
 "nbformat": 4,
 "nbformat_minor": 4
}
