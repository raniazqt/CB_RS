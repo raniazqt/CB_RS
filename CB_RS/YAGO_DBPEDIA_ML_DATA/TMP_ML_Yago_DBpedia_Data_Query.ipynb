{
 "cells": [
  {
   "cell_type": "code",
   "execution_count": null,
   "metadata": {
    "scrolled": true
   },
   "outputs": [],
   "source": [
    "#!/usr/bin/env python\n",
    "# -*- coding: latin-1 -*-\n",
    "import pandas as pd # pandas is a data manipulation library\n",
    "import numpy as np #provides numerical arrays and functions to manipulate the arrays efficiently\n",
    "import csv\n",
    "import logging\n",
    "from SPARQLWrapper import SPARQLWrapper,JSON, SPARQLWrapper2, POST,XML,GET\n",
    "from collections import defaultdict\n",
    "from tqdm.notebook import tqdm\n",
    "import query_helper_functions as q_helper\n",
    "import sparql_query as sparql_query\n",
    "import imp\n",
    "imp.reload(q_helper)\n",
    "imp.reload(sparql_query)\n"
   ]
  },
  {
   "cell_type": "code",
   "execution_count": null,
   "metadata": {
    "scrolled": true
   },
   "outputs": [],
   "source": [
    "\n",
    "logging.basicConfig(format='%(asctime)s : %(levelname)s : %(message)s', level=logging.INFO)\n",
    "tqdm.pandas(desc=\"progress bar\")\n"
   ]
  },
  {
   "cell_type": "code",
   "execution_count": null,
   "metadata": {
    "scrolled": true
   },
   "outputs": [],
   "source": [
    "ml_file_movies_df = pd.read_csv('../dataset/ml_movies.csv')"
   ]
  },
  {
   "cell_type": "code",
   "execution_count": null,
   "metadata": {
    "scrolled": true
   },
   "outputs": [],
   "source": [
    "ml_file_movies_df"
   ]
  },
  {
   "cell_type": "code",
   "execution_count": null,
   "metadata": {
    "scrolled": true
   },
   "outputs": [],
   "source": []
  },
  {
   "cell_type": "code",
   "execution_count": null,
   "metadata": {
    "scrolled": true
   },
   "outputs": [],
   "source": [
    "ml_file_movies_df[10:20]"
   ]
  },
  {
   "cell_type": "code",
   "execution_count": null,
   "metadata": {
    "scrolled": true
   },
   "outputs": [],
   "source": [
    "#clean titles in ml data\n",
    "#delete any record with empty title\n",
    "ml_file_movies_df= ml_file_movies_df.loc[~(ml_file_movies_df['title'].str==\"\")]\n",
    "# extract the year from the title and save it in a new column\n",
    "ml_file_movies_df['year'] =  ml_file_movies_df.title.str.extract(r'\\(([0-9]+)\\)')\n",
    "# remove any parentheses and text in between from the title\n",
    "ml_file_movies_df['title'] = ml_file_movies_df['title'].str.replace(r\"\\(.*\\)\",\"\")\n",
    "#remove white spaces from the title and convert it to lower case\n",
    "ml_file_movies_df.title = ml_file_movies_df.title.str.strip().str.lower()\n",
    "#remove double qoutation from title\n",
    "ml_file_movies_df['title'] = ml_file_movies_df['title'].str.replace(\"\\\"\",\"\")\n",
    "#move \"the\" from the end of the title to the begining\n",
    "ml_file_movies_df['title'] = ml_file_movies_df['title'].apply(lambda row: 'the ' + row.replace(\", the\", \"\") if \", the\" in row else row)"
   ]
  },
  {
   "cell_type": "code",
   "execution_count": null,
   "metadata": {
    "scrolled": true
   },
   "outputs": [],
   "source": [
    "ml_file_movies_df= ml_file_movies_df.loc[~(ml_file_movies_df['title'].isnull())]"
   ]
  },
  {
   "cell_type": "code",
   "execution_count": null,
   "metadata": {
    "scrolled": true
   },
   "outputs": [],
   "source": [
    "#copy thedata into new dataframe\n",
    "ml_movies_df = ml_file_movies_df.copy()\n",
    "ml_movies_df.describe"
   ]
  },
  {
   "cell_type": "code",
   "execution_count": null,
   "metadata": {
    "scrolled": true
   },
   "outputs": [],
   "source": [
    "# importing the string module\n",
    "import string\n",
    "# special characters\n",
    "special_chars = string.punctuation\n",
    "special_chars"
   ]
  },
  {
   "cell_type": "code",
   "execution_count": null,
   "metadata": {
    "scrolled": true
   },
   "outputs": [],
   "source": [
    "ml_movies_df[ml_movies_df.title.apply(lambda title: True if title in special_chars else False)]"
   ]
  },
  {
   "cell_type": "code",
   "execution_count": null,
   "metadata": {
    "scrolled": true
   },
   "outputs": [],
   "source": [
    "ml_movies_df[ml_movies_df['movieId']==115263].title"
   ]
  },
  {
   "cell_type": "code",
   "execution_count": null,
   "metadata": {
    "scrolled": true
   },
   "outputs": [],
   "source": [
    "ml_movies_df[ml_movies_df['title']==\"\"]"
   ]
  },
  {
   "cell_type": "code",
   "execution_count": null,
   "metadata": {
    "scrolled": true
   },
   "outputs": [],
   "source": [
    "movies_list = ml_movies_df['title'].values.tolist()"
   ]
  },
  {
   "cell_type": "code",
   "execution_count": null,
   "metadata": {
    "scrolled": true
   },
   "outputs": [],
   "source": [
    "print(\"Number of movies from MovieLens dataset is {} \".format(len(movies_list)))"
   ]
  },
  {
   "cell_type": "markdown",
   "metadata": {},
   "source": [
    "# Query DBPedia for MovieLens Data"
   ]
  },
  {
   "cell_type": "code",
   "execution_count": null,
   "metadata": {
    "scrolled": true
   },
   "outputs": [],
   "source": [
    "#uncomment either the call to query lod to refresh the data or the load from file\n",
    "endpoint = \"https://dbpedia.org/sparql\"\n",
    "return_format = XML\n",
    "request_method= POST\n",
    "chunck_size = 2000\n",
    "#movies_info_result_df = q_helper.retrieve_data_for_movies_list(sparql_query.dbpedia_movies_info_query, movies_list, chunck_size,'string', endpoint, return_format, request_method)\n",
    "movies_info_df = movies_info_result_df[0].copy()\n",
    "failed_movies_info_list = movies_info_result_df[1].copy()\n",
    "#save raw results of movies info query to file\n",
    "movies_info_df.to_csv(\"generated_dataset/dbpedia_movie_info_query_raw_results.csv\",index=False)"
   ]
  },
  {
   "cell_type": "code",
   "execution_count": null,
   "metadata": {
    "scrolled": true
   },
   "outputs": [],
   "source": [
    "movies_info_df['movie_id']= movies_info_df.pedia_movie.str.split('http://dbpedia.org/resource/').str[1]\n",
    "\n",
    "movies_info_df = movies_info_df.fillna('NOT_FOUND')\n",
    "movies_info_df['country']= movies_info_df['country'].apply(lambda country: \n",
    "                                                 country.split('http://dbpedia.org/resource/')[1] if 'dbpedia.org/resource/' in country else country )\n",
    "\n"
   ]
  },
  {
   "cell_type": "code",
   "execution_count": null,
   "metadata": {
    "scrolled": true
   },
   "outputs": [],
   "source": []
  },
  {
   "cell_type": "code",
   "execution_count": null,
   "metadata": {
    "scrolled": true
   },
   "outputs": [],
   "source": [
    "#Group movies info results to extract the directors, writers, and titles\n",
    "movies_info_grouped = movies_info_df.groupby(['movie_id','title'], as_index=False)\n",
    "#aggregate the directors and directors in one column for each separated by |\n",
    "dbpedia_info_df = movies_info_grouped.agg({\n",
    "                                        'director_name':lambda x:  '|'.join(set(x)),\n",
    "                                        'writer_name':lambda x: '|'.join(set(x)),                                      \n",
    "                                        'country':lambda x: '|'.join(set(x))\n",
    "                                        })\n",
    "#save grouped data to file\n",
    "dbpedia_info_df.to_csv(\"generated_dataset/dbpedia_movie_info_grouped.csv\", index=False)"
   ]
  },
  {
   "cell_type": "code",
   "execution_count": null,
   "metadata": {
    "scrolled": true
   },
   "outputs": [],
   "source": [
    "dbpedia_info_df"
   ]
  },
  {
   "cell_type": "code",
   "execution_count": null,
   "metadata": {
    "scrolled": true
   },
   "outputs": [],
   "source": []
  },
  {
   "cell_type": "markdown",
   "metadata": {},
   "source": [
    "# Data analysis for the retrieved movies info (director, writer, country) from DBpedia"
   ]
  },
  {
   "cell_type": "code",
   "execution_count": null,
   "metadata": {
    "scrolled": true
   },
   "outputs": [],
   "source": [
    "pedia_info_no_features = len(dbpedia_info_df[\n",
    "                         ((dbpedia_info_df.director_name == 'NOT_FOUND')\n",
    "                          & (dbpedia_info_df.writer_name == 'NOT_FOUND')                          \n",
    "                          & (dbpedia_info_df.country == 'NOT_FOUND'))])\n",
    "\n",
    " \n",
    "pedia_info_all_features = len(dbpedia_info_df[\n",
    "                              ((dbpedia_info_df.director_name != 'NOT_FOUND')\n",
    "                              & (dbpedia_info_df.writer_name != 'NOT_FOUND')                          \n",
    "                              & (dbpedia_info_df.country != 'NOT_FOUND'))])\n",
    "\n",
    "pedia_info_no_country = len(dbpedia_info_df[\n",
    "                             ((dbpedia_info_df.director_name != 'NOT_FOUND')\n",
    "                          &  (dbpedia_info_df.writer_name != 'NOT_FOUND')                          \n",
    "                          &  (dbpedia_info_df.country == 'NOT_FOUND'))])\n",
    "\n",
    "pedia_info_no_writer = len(dbpedia_info_df[\n",
    "                             ((dbpedia_info_df.director_name != 'NOT_FOUND')\n",
    "                          &  (dbpedia_info_df.writer_name == 'NOT_FOUND')                          \n",
    "                          &  (dbpedia_info_df.country != 'NOT_FOUND'))])\n",
    "\n",
    "pedia_info_no_director = len(dbpedia_info_df[\n",
    "                             ((dbpedia_info_df.director_name == 'NOT_FOUND')\n",
    "                          &  (dbpedia_info_df.writer_name != 'NOT_FOUND')                          \n",
    "                          &  (dbpedia_info_df.country != 'NOT_FOUND'))])\n"
   ]
  },
  {
   "cell_type": "code",
   "execution_count": null,
   "metadata": {
    "scrolled": true
   },
   "outputs": [],
   "source": [
    "print(\"Number of ML movies retrieved from DBpedia with their info is {}\".format(len(dbpedia_info_df)))\n",
    "print(\"Number of movies missing all features is {}\".format(pedia_info_no_features))\n",
    "print(\"Number of movies having all features is {}\".format(pedia_info_all_features))\n",
    "print(\"Number of movies missing ONLY the country feature is {}\".format(pedia_info_no_country))\n",
    "print(\"Number of movies missing ONLY the writer feature is {}\".format(pedia_info_no_writer))\n",
    "print(\"Number of movies missing ONLY the director feature is {}\".format(pedia_info_no_director))"
   ]
  },
  {
   "cell_type": "markdown",
   "metadata": {},
   "source": []
  },
  {
   "cell_type": "code",
   "execution_count": null,
   "metadata": {
    "scrolled": true
   },
   "outputs": [],
   "source": [
    "# Load DBpedia movies information from last query results\n",
    "#dbpedia_info_df= pd.read_csv(\"generated_dataset/dbpedia_movie_info_grouped.csv\")\n",
    "#dbpedia_info_df"
   ]
  },
  {
   "cell_type": "markdown",
   "metadata": {},
   "source": [
    "# Query DBpedia for the actors of the ML movies"
   ]
  },
  {
   "cell_type": "code",
   "execution_count": null,
   "metadata": {
    "scrolled": true
   },
   "outputs": [],
   "source": [
    "#uncomment either the query to refresh the data from the source or load the previously retrieved data from file\n",
    "endpoint = \"https://dbpedia.org/sparql\"\n",
    "return_format = XML\n",
    "request_method= POST\n",
    "chunk_size = 2000\n",
    "movies_actors_results_df = q_helper.retrieve_data_for_movies_list(sparql_query.dbpedia_movies_actors_query,movies_list,chunk_size,'string',endpoint, return_format,request_method)\n",
    "movies_actors_df= movies_actors_results_df[0].copy()\n",
    "failed_movies_actors_list = movies_actors_results_df[1].copy()\n",
    "#save movies actors results to file\n",
    "movies_actors_df.to_csv(\"generated_dataset/dbpedia_movies_actors_query_raw_results.csv\",index=False)"
   ]
  },
  {
   "cell_type": "code",
   "execution_count": null,
   "metadata": {
    "scrolled": true
   },
   "outputs": [],
   "source": [
    "movies_actors_df"
   ]
  },
  {
   "cell_type": "code",
   "execution_count": null,
   "metadata": {
    "scrolled": true
   },
   "outputs": [],
   "source": [
    "\n",
    "#create movie id by extracting the dbpedia movie id from the link\n",
    "movies_actors_df['movie_id']= movies_actors_df.pedia_movie.str.split('http://dbpedia.org/resource/').str[1]\n",
    "movies_actors_df = movies_actors_df.fillna('NOT_FOUND')"
   ]
  },
  {
   "cell_type": "code",
   "execution_count": null,
   "metadata": {
    "scrolled": true
   },
   "outputs": [],
   "source": [
    "movies_actors_df"
   ]
  },
  {
   "cell_type": "code",
   "execution_count": null,
   "metadata": {
    "scrolled": true
   },
   "outputs": [],
   "source": [
    "#group the actors per movie and save data to file\n",
    "movies_actors_grouped = movies_actors_df.groupby(['movie_id'], as_index=False)\n",
    "\n",
    "#aggregate the actors in one column for each movie separated by |\n",
    "dbpedia_movies_actors_df = movies_actors_grouped.agg({'actor_name':lambda x: '|'.join(set(x))\n",
    "                                         })\n",
    "\n",
    "dbpedia_movies_actors_df.to_csv(\"generated_dataset/dbpedia_actors_grouped.csv\",index=False)\n"
   ]
  },
  {
   "cell_type": "code",
   "execution_count": null,
   "metadata": {
    "scrolled": true
   },
   "outputs": [],
   "source": [
    "dbpedia_movies_actors_df.describe"
   ]
  },
  {
   "cell_type": "code",
   "execution_count": null,
   "metadata": {
    "scrolled": true
   },
   "outputs": [],
   "source": [
    "dbpedia_movies_actors_df.isnull().values.any()"
   ]
  },
  {
   "cell_type": "code",
   "execution_count": null,
   "metadata": {
    "scrolled": true
   },
   "outputs": [],
   "source": []
  },
  {
   "cell_type": "code",
   "execution_count": null,
   "metadata": {
    "scrolled": true
   },
   "outputs": [],
   "source": [
    "dbpedia_movies_no_actors = len(dbpedia_movies_actors_df[(dbpedia_movies_actors_df.actor_name == 'NOT_FOUND')])\n"
   ]
  },
  {
   "cell_type": "code",
   "execution_count": null,
   "metadata": {
    "scrolled": true
   },
   "outputs": [],
   "source": [
    "print(\"Number of ML movies found in DBpedia while querying for actors is {}\".format(len(dbpedia_movies_actors_df)))\n",
    "print(\"Number of movies retrieved from DBpedia and missing actors is {}\".format(dbpedia_movies_no_actors))"
   ]
  },
  {
   "cell_type": "code",
   "execution_count": null,
   "metadata": {
    "scrolled": true
   },
   "outputs": [],
   "source": [
    "# Load DBpedia movies actors from last query results\n",
    "#dbpedia_movies_actors_df= pd.read_csv(\"generated_dataset/dbpedia_actors_grouped.csv\")\n",
    "#dbpedia_movies_actors_df"
   ]
  },
  {
   "cell_type": "code",
   "execution_count": null,
   "metadata": {
    "scrolled": true
   },
   "outputs": [],
   "source": []
  },
  {
   "cell_type": "code",
   "execution_count": null,
   "metadata": {
    "scrolled": true
   },
   "outputs": [],
   "source": [
    "#merge dbpedia dataframes to create a combined yago dataset with the attributes, movie_id,title,actor_name,director_name,genre,country\n",
    "dbpedia_movies_df = dbpedia_info_df.merge(dbpedia_movies_actors_df, how=\"inner\", on=['movie_id'])\n",
    "\n",
    "dbpedia_movies_df.reset_index(drop= True)\n",
    "dbpedia_movies_df"
   ]
  },
  {
   "cell_type": "code",
   "execution_count": null,
   "metadata": {
    "scrolled": true
   },
   "outputs": [],
   "source": []
  },
  {
   "cell_type": "code",
   "execution_count": null,
   "metadata": {
    "scrolled": true
   },
   "outputs": [],
   "source": []
  },
  {
   "cell_type": "code",
   "execution_count": null,
   "metadata": {
    "scrolled": true
   },
   "outputs": [],
   "source": []
  },
  {
   "cell_type": "markdown",
   "metadata": {},
   "source": [
    "# Query YAGO for MovieLens Data"
   ]
  },
  {
   "cell_type": "code",
   "execution_count": null,
   "metadata": {
    "scrolled": true
   },
   "outputs": [],
   "source": [
    "def retrieve_data_for_movies_list(query, search_list, chunck_size, search_data_type, endpoint, return_format,request_method):\n",
    "    \n",
    "    data_chunck = [movie.strip().lower() for movie in search_list]\n",
    "    final_search_list = '\\\"\"\"' + '\\\"\"\",\\\"\"\"'.join(data_chunck) + '\\\"\"\"' \n",
    "    sparql = SPARQLWrapper2(\"https://yago-knowledge.org/sparql/query\")  \n",
    "    #sparql.setReturnFormat(JSON)\n",
    "    #sparql.setRequestMethod(POST)\n",
    "    sparql.setQuery(query%final_search_list) \n",
    "    results = sparql.query()\n",
    "   # results = execute_query_for_movies_list(query,final_search_list,endpoint, return_format,request_method)       \n",
    "    print(results)\n",
    "\n",
    "    return results\n",
    "results = retrieve_data_for_movies_list(sparql_query.yago_movie_info_query, movies_list[0:5], chunck_size,'string', endpoint, return_format, request_method)"
   ]
  },
  {
   "cell_type": "code",
   "execution_count": null,
   "metadata": {
    "scrolled": true
   },
   "outputs": [],
   "source": [
    "def get_sparql_dataframe(result):\n",
    "    \"\"\"\n",
    "    Helper function to convert SPARQL results into a Pandas data frame.\n",
    "    \"\"\"\n",
    "    processed_results = result.fullResult\n",
    "    processed_results\n",
    "    cols = processed_results['head']['vars']\n",
    "   # print(cols)\n",
    "\n",
    "    out = []\n",
    "    for row in processed_results['results']['bindings']:\n",
    "        item = []\n",
    "        for c in cols:\n",
    "            item.append(row.get(c, {}).get('value'))\n",
    "        out.append(item)\n",
    "\n",
    "    return pd.DataFrame(out, columns=cols)\n",
    "\n",
    "#function to retrieve the actors for list of movies\n",
    "def execute_query(query, endpoint, return_format):\n",
    "    sparql = SPARQLWrapper2(endpoint)  \n",
    "    sparql.setQuery(query) \n",
    "    sparql.setReturnFormat(return_format)   \n",
    "    sparql.setMethod(POST)\n",
    "  \n",
    "    results = sparql.query()\n",
    "    return results\n",
    "\n",
    "def execute_query_for_movies_list(query,movies_list, endpoint,return_format,request_method):\n",
    "    sparql = SPARQLWrapper2(endpoint)  \n",
    "    sparql.setQuery(query%movies_list) \n",
    "   # print(sparql.queryString)\n",
    "    sparql.setReturnFormat(return_format)   \n",
    "    sparql.setMethod(request_method)\n",
    "   # print(sparql)\n",
    "    results = sparql.query()\n",
    "    \n",
    "    return results\n"
   ]
  },
  {
   "cell_type": "code",
   "execution_count": null,
   "metadata": {
    "scrolled": true
   },
   "outputs": [],
   "source": [
    "#uncomment either the call to query yago to refresh the data or the load from file\n",
    "#endpoint = \"http://yago-knowledge.org/sparql\"\n",
    "endpoint=\"https://yago-knowledge.org/sparql/query\"\n",
    "return_format = JSON\n",
    "request_method= POST\n",
    "chunck_size = 500\n",
    "movies_info_result_df1 = q_helper.retrieve_data_for_movies_list(sparql_query.yago_movie_info_query, movies_list, chunck_size,'string', endpoint, return_format, request_method)\n",
    "movies_info_df1 = movies_info_result_df[0].copy()\n",
    "failed_movies_info_list = movies_info_result_df[1].copy()\n",
    "#save raw results of movies info query to file\n",
    "#movies_info_df.to_csv(\"generated_dataset/yago_movie_info_query_raw_results.csv\",index=False)"
   ]
  },
  {
   "cell_type": "code",
   "execution_count": null,
   "metadata": {
    "scrolled": true
   },
   "outputs": [],
   "source": []
  },
  {
   "cell_type": "code",
   "execution_count": null,
   "metadata": {
    "scrolled": true
   },
   "outputs": [],
   "source": [
    "movies_info_df = movies_info_df.fillna('NOT_FOUND')"
   ]
  },
  {
   "cell_type": "code",
   "execution_count": null,
   "metadata": {
    "scrolled": true
   },
   "outputs": [],
   "source": [
    "movies_info_df.info()"
   ]
  },
  {
   "cell_type": "code",
   "execution_count": null,
   "metadata": {
    "scrolled": true
   },
   "outputs": [],
   "source": [
    "#Group movies info results to extract the directors, writers, and titles\n",
    "movies_info_grouped = movies_info_df.groupby(['movie_id','title'], as_index=False)\n",
    "#aggregate the directors and directors in one column for each separated by |\n",
    "yago_info_df = movies_info_grouped.agg({\n",
    "                                        'director_name':lambda x: np.nan if x is None else '|'.join(set(x)),\n",
    "                                        'genre':lambda x: '|'.join(set(x)),                                      \n",
    "                                        'country':lambda x: '|'.join(set(x))\n",
    "                                        })\n",
    "#save grouped data to file\n",
    "yago_info_df.to_csv(\"generated_dataset/yago_movie_info_grouped.csv\", index=False)"
   ]
  },
  {
   "cell_type": "code",
   "execution_count": null,
   "metadata": {
    "scrolled": true
   },
   "outputs": [],
   "source": [
    "yago_info_df.describe"
   ]
  },
  {
   "cell_type": "code",
   "execution_count": null,
   "metadata": {
    "scrolled": true
   },
   "outputs": [],
   "source": [
    "print(\"Number of ML movies retrieved from YAGO with their info is {}\".format(len(yago_info_df)))"
   ]
  },
  {
   "cell_type": "markdown",
   "metadata": {},
   "source": [
    "# Load yago movies information"
   ]
  },
  {
   "cell_type": "code",
   "execution_count": null,
   "metadata": {
    "scrolled": true
   },
   "outputs": [],
   "source": [
    "yago_info_df= pd.read_csv(\"generated_dataset/yago_movie_info_grouped.csv\")\n",
    "yago_info_df"
   ]
  },
  {
   "cell_type": "code",
   "execution_count": null,
   "metadata": {
    "scrolled": true
   },
   "outputs": [],
   "source": []
  },
  {
   "cell_type": "markdown",
   "metadata": {},
   "source": [
    "# Query YAGO for the actors of the ML movies"
   ]
  },
  {
   "cell_type": "code",
   "execution_count": 39,
   "metadata": {
    "scrolled": true
   },
   "outputs": [],
   "source": [
    "#uncomment either the query to refresh the data from the source or load the previously retrieved data from file\n",
    "#endpoint = \"https://yago-knowledge.org/sparql\"\n",
    "endpoint=\"https://yago-knowledge.org/sparql/query\"\n",
    "return_format = JSON\n",
    "request_method= POST\n",
    "chunk_size = 200\n",
    "#movies_actors_results_df = q_helper.retrieve_data_for_movies_list(sparql_query.yago_movies_actors_query,movies_list,chunk_size,'string',endpoint, return_format,request_method)\n",
    "movies_actors_df= movies_actors_results_df[0].copy()\n",
    "failed_movies_actors_list = movies_actors_results_df[1].copy()\n",
    "#save raw results of movies actors query to file\n",
    "movies_actors_df.to_csv(\"generated_dataset/yago_movie_actors_query_raw_results.csv\",index=False)"
   ]
  },
  {
   "cell_type": "code",
   "execution_count": 55,
   "metadata": {
    "scrolled": true
   },
   "outputs": [],
   "source": [
    "movies_actors_df.to_csv(\"generated_dataset/yago_movie_actors_query_raw_results_COMPLETE.csv\",index=False)"
   ]
  },
  {
   "cell_type": "code",
   "execution_count": 36,
   "metadata": {
    "scrolled": true
   },
   "outputs": [],
   "source": [
    "failed_list = [movie.replace('\"\"\"', \"\") for movie in failed_movies_actors_list]\n",
    "len(failed_list)"
   ]
  },
  {
   "cell_type": "code",
   "execution_count": 38,
   "metadata": {
    "scrolled": true
   },
   "outputs": [
    {
     "name": "stdout",
     "output_type": "stream",
     "text": [
      "Searching by movie title\n",
      "Processing movies between 0 200\n",
      "\n",
      "Results data frame length = 2768 \n",
      "\n",
      "Searching by movie title\n",
      "Processing movies between 200 400\n",
      "\n",
      "Results data frame length = 5823 \n",
      "\n",
      "Searching by movie title\n",
      "Processing movies between 400 600\n",
      "\n",
      "Results data frame length = 8400 \n",
      "\n",
      "Searching by movie title\n",
      "Processing movies between 600 800\n",
      "\n",
      "Results data frame length = 11196 \n",
      "\n",
      "Searching by movie title\n",
      "Processing movies between 800 1000\n",
      "\n",
      "Results data frame length = 13931 \n",
      "\n",
      "Searching by movie title\n",
      "Processing movies between 1000 1053\n",
      "\n",
      "Results data frame length = 14626 \n",
      "\n"
     ]
    }
   ],
   "source": [
    "second_movies_actors_results_df = q_helper.retrieve_data_for_movies_list(sparql_query.yago_movies_actors_query,failed_list,chunk_size,'string',endpoint, return_format,request_method)"
   ]
  },
  {
   "cell_type": "code",
   "execution_count": 54,
   "metadata": {},
   "outputs": [
    {
     "data": {
      "text/html": [
       "<div>\n",
       "<style scoped>\n",
       "    .dataframe tbody tr th:only-of-type {\n",
       "        vertical-align: middle;\n",
       "    }\n",
       "\n",
       "    .dataframe tbody tr th {\n",
       "        vertical-align: top;\n",
       "    }\n",
       "\n",
       "    .dataframe thead th {\n",
       "        text-align: right;\n",
       "    }\n",
       "</style>\n",
       "<table border=\"1\" class=\"dataframe\">\n",
       "  <thead>\n",
       "    <tr style=\"text-align: right;\">\n",
       "      <th></th>\n",
       "      <th>yago_movie</th>\n",
       "      <th>title</th>\n",
       "      <th>actor_name</th>\n",
       "    </tr>\n",
       "  </thead>\n",
       "  <tbody>\n",
       "    <tr>\n",
       "      <th>0</th>\n",
       "      <td>http://yago-knowledge.org/resource/Smoke_(film)</td>\n",
       "      <td>Smoke</td>\n",
       "      <td>Ashley Judd</td>\n",
       "    </tr>\n",
       "    <tr>\n",
       "      <th>1</th>\n",
       "      <td>http://yago-knowledge.org/resource/Leaving_Las...</td>\n",
       "      <td>Leaving Las Vegas</td>\n",
       "      <td>Carey Lowell</td>\n",
       "    </tr>\n",
       "    <tr>\n",
       "      <th>2</th>\n",
       "      <td>http://yago-knowledge.org/resource/Leaving_Las...</td>\n",
       "      <td>Leaving Las Vegas</td>\n",
       "      <td>Danny Huston</td>\n",
       "    </tr>\n",
       "    <tr>\n",
       "      <th>3</th>\n",
       "      <td>http://yago-knowledge.org/resource/Happy_Gilmore</td>\n",
       "      <td>Happy Gilmore</td>\n",
       "      <td>Adam Sandler</td>\n",
       "    </tr>\n",
       "    <tr>\n",
       "      <th>4</th>\n",
       "      <td>http://yago-knowledge.org/resource/Happiness_I...</td>\n",
       "      <td>Happiness Is in the Field</td>\n",
       "      <td>Alexandra London</td>\n",
       "    </tr>\n",
       "    <tr>\n",
       "      <th>...</th>\n",
       "      <td>...</td>\n",
       "      <td>...</td>\n",
       "      <td>...</td>\n",
       "    </tr>\n",
       "    <tr>\n",
       "      <th>690</th>\n",
       "      <td>http://yago-knowledge.org/resource/Shock_to_th...</td>\n",
       "      <td>Shock to the System</td>\n",
       "      <td>NOT_FOUND</td>\n",
       "    </tr>\n",
       "    <tr>\n",
       "      <th>691</th>\n",
       "      <td>http://yago-knowledge.org/resource/A_(1965_film)</td>\n",
       "      <td>A</td>\n",
       "      <td>NOT_FOUND</td>\n",
       "    </tr>\n",
       "    <tr>\n",
       "      <th>692</th>\n",
       "      <td>http://yago-knowledge.org/resource/Joan_of_Arc...</td>\n",
       "      <td>Joan of Arc</td>\n",
       "      <td>NOT_FOUND</td>\n",
       "    </tr>\n",
       "    <tr>\n",
       "      <th>693</th>\n",
       "      <td>http://yago-knowledge.org/resource/Joan_of_Arc...</td>\n",
       "      <td>Joan of Arc</td>\n",
       "      <td>NOT_FOUND</td>\n",
       "    </tr>\n",
       "    <tr>\n",
       "      <th>694</th>\n",
       "      <td>http://yago-knowledge.org/resource/A_(1998_Jap...</td>\n",
       "      <td>A</td>\n",
       "      <td>NOT_FOUND</td>\n",
       "    </tr>\n",
       "  </tbody>\n",
       "</table>\n",
       "<p>495380 rows × 3 columns</p>\n",
       "</div>"
      ],
      "text/plain": [
       "                                            yago_movie  \\\n",
       "0      http://yago-knowledge.org/resource/Smoke_(film)   \n",
       "1    http://yago-knowledge.org/resource/Leaving_Las...   \n",
       "2    http://yago-knowledge.org/resource/Leaving_Las...   \n",
       "3     http://yago-knowledge.org/resource/Happy_Gilmore   \n",
       "4    http://yago-knowledge.org/resource/Happiness_I...   \n",
       "..                                                 ...   \n",
       "690  http://yago-knowledge.org/resource/Shock_to_th...   \n",
       "691   http://yago-knowledge.org/resource/A_(1965_film)   \n",
       "692  http://yago-knowledge.org/resource/Joan_of_Arc...   \n",
       "693  http://yago-knowledge.org/resource/Joan_of_Arc...   \n",
       "694  http://yago-knowledge.org/resource/A_(1998_Jap...   \n",
       "\n",
       "                         title        actor_name  \n",
       "0                        Smoke       Ashley Judd  \n",
       "1            Leaving Las Vegas      Carey Lowell  \n",
       "2            Leaving Las Vegas      Danny Huston  \n",
       "3                Happy Gilmore      Adam Sandler  \n",
       "4    Happiness Is in the Field  Alexandra London  \n",
       "..                         ...               ...  \n",
       "690        Shock to the System         NOT_FOUND  \n",
       "691                          A         NOT_FOUND  \n",
       "692                Joan of Arc         NOT_FOUND  \n",
       "693                Joan of Arc         NOT_FOUND  \n",
       "694                          A         NOT_FOUND  \n",
       "\n",
       "[495380 rows x 3 columns]"
      ]
     },
     "execution_count": 54,
     "metadata": {},
     "output_type": "execute_result"
    }
   ],
   "source": [
    "movies_actors_df"
   ]
  },
  {
   "cell_type": "code",
   "execution_count": null,
   "metadata": {},
   "outputs": [],
   "source": [
    "#movies_actors_results_df = q_helper.retrieve_data_for_movies_list(sparql_query.yago_movies_actors_query,movies_list,chunk_size,'string',endpoint, return_format,request_method)"
   ]
  },
  {
   "cell_type": "code",
   "execution_count": 53,
   "metadata": {
    "scrolled": true
   },
   "outputs": [],
   "source": [
    "movies_actors_df = movies_actors_df.fillna('NOT_FOUND')"
   ]
  },
  {
   "cell_type": "code",
   "execution_count": null,
   "metadata": {
    "scrolled": true
   },
   "outputs": [],
   "source": [
    "#group the actors per movie and save data to file\n",
    "movies_actors_grouped = movies_actors_df.groupby(['title'], as_index=False)\n",
    "\n",
    "#aggregate the actors in one column for each movie separated by |\n",
    "yago_movies_actors_df = movies_actors_grouped.agg({'actor_name':lambda x: '|'.join(set(x))\n",
    "                                         })\n",
    "\n",
    "yago_movies_actors_df.to_csv(\"generated_dataset/yago_actors_grouped.csv\",index=False)\n"
   ]
  },
  {
   "cell_type": "code",
   "execution_count": null,
   "metadata": {
    "scrolled": true
   },
   "outputs": [],
   "source": [
    "yago_movies_actors_df.describe"
   ]
  },
  {
   "cell_type": "code",
   "execution_count": null,
   "metadata": {
    "scrolled": true
   },
   "outputs": [],
   "source": [
    "yago_movies_actors_df.isnull().values.any()"
   ]
  },
  {
   "cell_type": "code",
   "execution_count": null,
   "metadata": {
    "scrolled": true
   },
   "outputs": [],
   "source": [
    "print(\"Number of ML movies retrieved from LOD with their actors is {}\".format(len(dbpedia_movies_actors_df)))"
   ]
  },
  {
   "cell_type": "markdown",
   "metadata": {},
   "source": [
    "# Load movies actors from last query results"
   ]
  },
  {
   "cell_type": "code",
   "execution_count": null,
   "metadata": {
    "scrolled": true
   },
   "outputs": [],
   "source": [
    "yago_movies_actors_df= pd.read_csv(\"generated_dataset/yago_actors_grouped.csv\")\n",
    "yago_movies_actors_df"
   ]
  },
  {
   "cell_type": "markdown",
   "metadata": {},
   "source": [
    "# Merge the actors dataframe with the movies information to create one dataframe for YAGO movies"
   ]
  },
  {
   "cell_type": "code",
   "execution_count": null,
   "metadata": {
    "scrolled": true
   },
   "outputs": [],
   "source": [
    "#merge yago dataframes to create a combined yago dataset with the attributes, movie_id,title,actor_name,director_name,genre,country\n",
    "yago_movies_df = yago_info_df.merge(yago_movies_actors_df, how=\"inner\", on=['movie_id'])\n",
    "\n",
    "yago_movies_df.reset_index(drop= True)\n",
    "yago_movies_df"
   ]
  },
  {
   "cell_type": "code",
   "execution_count": null,
   "metadata": {
    "scrolled": true
   },
   "outputs": [],
   "source": [
    "final_movies_df = yago_movies_df.merge(dbpedia_movies_df, how=\"outer\", on=['movie_id','title'])\n",
    "final_movies_df = final_movies_df.fillna('NOT_FOUND')\n",
    "final_movies_df.describe"
   ]
  },
  {
   "cell_type": "code",
   "execution_count": null,
   "metadata": {
    "scrolled": true
   },
   "outputs": [],
   "source": []
  },
  {
   "cell_type": "code",
   "execution_count": null,
   "metadata": {
    "scrolled": true
   },
   "outputs": [],
   "source": []
  },
  {
   "cell_type": "code",
   "execution_count": null,
   "metadata": {
    "scrolled": true
   },
   "outputs": [],
   "source": [
    "\n"
   ]
  },
  {
   "cell_type": "code",
   "execution_count": null,
   "metadata": {
    "scrolled": true
   },
   "outputs": [],
   "source": []
  },
  {
   "cell_type": "code",
   "execution_count": null,
   "metadata": {
    "scrolled": true
   },
   "outputs": [],
   "source": []
  },
  {
   "cell_type": "code",
   "execution_count": null,
   "metadata": {
    "scrolled": true
   },
   "outputs": [],
   "source": []
  },
  {
   "cell_type": "code",
   "execution_count": null,
   "metadata": {
    "scrolled": true
   },
   "outputs": [],
   "source": [
    "to_keep_val = \"NOT_FOUND\"\n",
    "other_val = \"other_val\"\n",
    "\n",
    "def select_values(to_keep_val, other_val):\n",
    "    if (str(to_keep_val) != \"NOT_FOUND\"):\n",
    "        return to_keep_val\n",
    "    else:\n",
    "        return other_val\n",
    "    \n",
    "select_values(to_keep_val, other_val)\n",
    "\n",
    "\n",
    "final_movies_df['actor_name'] = final_movies_df.progress_apply(lambda row: select_values(row.actor_name_y, row.actor_name_x), axis=1)\n",
    "final_movies_df['director_name'] = final_movies_df.progress_apply(lambda row: select_values(row.director_name_x, row.director_name_y), axis=1)\n",
    "final_movies_df['country'] = final_movies_df.progress_apply(lambda row: select_values(row.country_x, row.country_y), axis=1)"
   ]
  },
  {
   "cell_type": "code",
   "execution_count": null,
   "metadata": {
    "scrolled": true
   },
   "outputs": [],
   "source": [
    "final_movies_df[['actor_name_x','actor_name_y', 'actor_name']].head(50)"
   ]
  },
  {
   "cell_type": "code",
   "execution_count": null,
   "metadata": {
    "scrolled": true
   },
   "outputs": [],
   "source": [
    "final_movies_df[['director_name_x','director_name_y', 'director_name']].head(50)"
   ]
  },
  {
   "cell_type": "code",
   "execution_count": null,
   "metadata": {
    "scrolled": true
   },
   "outputs": [],
   "source": [
    "final_movies_df"
   ]
  },
  {
   "cell_type": "code",
   "execution_count": null,
   "metadata": {
    "scrolled": true
   },
   "outputs": [],
   "source": [
    "all_movies_df = final_movies_df[['movie_id','title','actor_name','director_name','writer_name','country','genre']].copy()"
   ]
  },
  {
   "cell_type": "code",
   "execution_count": null,
   "metadata": {
    "scrolled": true
   },
   "outputs": [],
   "source": [
    "all_movies_df"
   ]
  },
  {
   "cell_type": "code",
   "execution_count": null,
   "metadata": {
    "scrolled": true
   },
   "outputs": [],
   "source": [
    "#remove duplicated movie_id\n",
    "all_movies_df= all_movies_df[~all_movies_df.duplicated('movie_id')]\n",
    "all_movies_df"
   ]
  },
  {
   "cell_type": "code",
   "execution_count": null,
   "metadata": {
    "scrolled": true
   },
   "outputs": [],
   "source": [
    "all_movies_df.duplicated('movie_id').any().sum()"
   ]
  },
  {
   "cell_type": "code",
   "execution_count": null,
   "metadata": {
    "scrolled": true
   },
   "outputs": [],
   "source": [
    "all_movies_df = all_movies_df[~((all_movies_df.actor_name == 'NOT_FOUND')\n",
    "                          & (all_movies_df.director_name == 'NOT_FOUND')\n",
    "                          & (all_movies_df.writer_name == 'NOT_FOUND')\n",
    "                          & (all_movies_df.genre == 'NOT_FOUND')\n",
    "                          & (all_movies_df.country == 'NOT_FOUND'))]\n",
    "all_movies_df"
   ]
  },
  {
   "cell_type": "code",
   "execution_count": null,
   "metadata": {
    "scrolled": true
   },
   "outputs": [],
   "source": []
  },
  {
   "cell_type": "code",
   "execution_count": null,
   "metadata": {
    "scrolled": true
   },
   "outputs": [],
   "source": [
    "complete_dataset= all_movies_df[((all_movies_df.actor_name != 'NOT_FOUND')\n",
    "                          & (all_movies_df.director_name != 'NOT_FOUND')\n",
    "                          & (all_movies_df.writer_name != 'NOT_FOUND')\n",
    "                          & (all_movies_df.genre != 'NOT_FOUND')\n",
    "                          & (all_movies_df.country != 'NOT_FOUND'))]\n",
    "complete_dataset"
   ]
  },
  {
   "cell_type": "code",
   "execution_count": null,
   "metadata": {
    "scrolled": true
   },
   "outputs": [],
   "source": [
    "missing_only_genre_dataset= all_movies_df[((all_movies_df.actor_name == 'NOT_FOUND')\n",
    "                          & (all_movies_df.director_name != 'NOT_FOUND')\n",
    "                          & (all_movies_df.writer_name != 'NOT_FOUND')\n",
    "                          & (all_movies_df.genre != 'NOT_FOUND')\n",
    "                          & (all_movies_df.country != 'NOT_FOUND'))]\n",
    "missing_only_genre_dataset"
   ]
  },
  {
   "cell_type": "code",
   "execution_count": null,
   "metadata": {
    "scrolled": true
   },
   "outputs": [],
   "source": [
    "all_movies_df"
   ]
  }
 ],
 "metadata": {
  "kernelspec": {
   "display_name": "Python 3",
   "language": "python",
   "name": "python3"
  },
  "language_info": {
   "codemirror_mode": {
    "name": "ipython",
    "version": 3
   },
   "file_extension": ".py",
   "mimetype": "text/x-python",
   "name": "python",
   "nbconvert_exporter": "python",
   "pygments_lexer": "ipython3",
   "version": "3.9.0"
  }
 },
 "nbformat": 4,
 "nbformat_minor": 4
}
