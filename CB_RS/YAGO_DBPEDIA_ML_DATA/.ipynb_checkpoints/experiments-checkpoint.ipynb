{
 "cells": [
  {
   "cell_type": "code",
   "execution_count": null,
   "metadata": {},
   "outputs": [],
   "source": [
    "#!/usr/bin/env python\n",
    "# -*- coding: latin-1 -*-\n",
    "import pandas as pd # pandas is a data manipulation library\n",
    "import numpy as np #provides numerical arrays and functions to manipulate the arrays efficiently\n",
    "import logging\n",
    "import difflib\n",
    "import Levenshtein as lev\n",
    "from tqdm.notebook import tqdm\n",
    "import multiprocessing\n",
    "from gensim.models import Doc2Vec\n",
    "import gensim.models.doc2vec\n",
    "import gensim\n",
    "from gensim.models.doc2vec import Doc2Vec, TaggedDocument\n",
    "import seaborn as sns\n",
    "import matplotlib.pyplot as plt\n",
    "import scipy\n",
    "from scipy import spatial\n",
    "import re\n",
    "import movies_df_helper_functions as helper_fn\n",
    "import evaluation_helper_functions as eval_fn\n",
    "import random\n",
    "import imp\n",
    "import itertools\n",
    "from sklearn.manifold import TSNE\n",
    "from sklearn.cluster import AffinityPropagation\n",
    "from nltk.translate.bleu_score import sentence_bleu\n",
    "from nltk.translate.bleu_score import SmoothingFunction\n",
    "import html\n",
    "import csv\n",
    "#from sklearn.manifold import TSNE\n",
    "\n",
    "from tabulate import tabulate\n",
    "import decimal\n",
    "\n",
    "imp.reload(eval_fn)\n",
    "imp.reload(helper_fn)\n",
    "%matplotlib inline"
   ]
  },
  {
   "cell_type": "code",
   "execution_count": null,
   "metadata": {},
   "outputs": [],
   "source": [
    "#load train data\n",
    "train_data_df = pd.read_csv('models/baseline_exp/train_data.csv')\n",
    "#load genres test data\n",
    "genres_sample_df = pd.read_csv('test_data/genres_sample_movies_id_list.csv')\n",
    "#load all genres lists df\n",
    "genres_df = pd.read_csv('test_data/movies_by_genre.csv')\n",
    "#load all sequel and mixed data for plotting\n",
    "sequel_sampled_data_df = pd.read_csv('test_data/sequel_and_sampled_titles_df.csv')"
   ]
  },
  {
   "cell_type": "code",
   "execution_count": null,
   "metadata": {},
   "outputs": [],
   "source": [
    "#load model\n",
    "model = Doc2Vec.load('models/exp1/model')"
   ]
  },
  {
   "cell_type": "code",
   "execution_count": null,
   "metadata": {},
   "outputs": [],
   "source": [
    "def assign_genre(genre_df, movie_id):\n",
    "    romantic_comedy= genre_df.romantic_comedy.values.tolist()\n",
    "    drama = genre_df.drama.values.tolist()\n",
    "    adventure = genre_df.adventure.values.tolist()\n",
    "    crime = genre_df.crime.values.tolist()\n",
    "    action = genre_df.action.values.tolist()\n",
    "    \n",
    "    if movie_id in romantic_comedy:\n",
    "        return 'Romantic_Comedy'\n",
    "    else:\n",
    "        if movie_id in drama:\n",
    "            return 'Drama'\n",
    "        else: \n",
    "            if movie_id in adventure:\n",
    "                return 'Adventure'\n",
    "            else: \n",
    "                if movie_id in crime:\n",
    "                    return 'Crime'\n",
    "                else: \n",
    "                    if movie_id in action: return 'Action'\n",
    "                    else: \n",
    "                        return 'Unkown'"
   ]
  },
  {
   "cell_type": "code",
   "execution_count": null,
   "metadata": {},
   "outputs": [],
   "source": [
    "train_data_df"
   ]
  },
  {
   "cell_type": "raw",
   "metadata": {},
   "source": []
  },
  {
   "cell_type": "code",
   "execution_count": null,
   "metadata": {},
   "outputs": [],
   "source": [
    "#Clean train_data_df\n",
    "#remove the square brackets saved when generating the test data.It i snot a bug. Data can't be saved without as they act as a column separator in the csv file\n",
    "train_data_df['actor_name'] = train_data_df.actor_name.apply(lambda actor: actor.replace('[','').replace(']','').replace(\"'\", \"\") )\n",
    "train_data_df['director_name'] = train_data_df.director_name.apply(lambda director: director.replace('[','').replace(']','').replace(\"'\", \"\") )\n",
    "train_data_df['writer_name'] = train_data_df.writer_name.apply(lambda writer: writer.replace('[','').replace(']','').replace(\"'\", \"\") )\n",
    "train_data_df['country'] = train_data_df.country.apply(lambda country: country.replace('[','').replace(']','').replace(\"'\", \"\") )\n",
    "train_data_df['genre'] = train_data_df.genre.apply(lambda genre: genre.replace('[','').replace(']','').replace(\"'\", \"\") )\n",
    "\n",
    "train_data_df['actor_name'] = train_data_df.actor_name.apply(lambda actor: actor.split(',') )\n",
    "train_data_df['director_name'] = train_data_df.director_name.apply(lambda director: director.split(',') )\n",
    "train_data_df['writer_name'] = train_data_df.writer_name.apply(lambda writer: writer.split(',') )\n",
    "train_data_df['country'] = train_data_df.country.apply(lambda country: country.split(',') )\n",
    "train_data_df['genre'] = train_data_df.genre.apply(lambda genre: genre.split(',') )"
   ]
  },
  {
   "cell_type": "code",
   "execution_count": null,
   "metadata": {},
   "outputs": [],
   "source": [
    "train_data_df['actor_name'] = train_data_df.actor_name.apply(lambda actor: [a.strip() for a in actor])\n",
    "train_data_df['director_name'] = train_data_df.director_name.apply(lambda director: [d.strip() for d in director])\n",
    "train_data_df['writer_name'] = train_data_df.writer_name.apply(lambda writer: [w.strip() for w in writer] )\n",
    "train_data_df['country'] = train_data_df.country.apply(lambda country: [c.strip() for c in country] )\n",
    "train_data_df['genre'] = train_data_df.genre.apply(lambda genre: [g.strip() for g in genre])\n",
    "\n",
    "\n",
    "train_data_df[train_data_df['movie_id'] == 'agony_(film)'].values"
   ]
  },
  {
   "cell_type": "code",
   "execution_count": null,
   "metadata": {},
   "outputs": [],
   "source": [
    "train_data_df"
   ]
  },
  {
   "cell_type": "code",
   "execution_count": null,
   "metadata": {},
   "outputs": [],
   "source": [
    "#create dictionary with the movie_id and title\n",
    "movies_dict= dict(zip(train_data_df.movie_id, train_data_df.title))\n"
   ]
  },
  {
   "cell_type": "code",
   "execution_count": null,
   "metadata": {
    "scrolled": true
   },
   "outputs": [],
   "source": []
  },
  {
   "cell_type": "markdown",
   "metadata": {},
   "source": [
    "# Manual Validation"
   ]
  },
  {
   "cell_type": "code",
   "execution_count": null,
   "metadata": {},
   "outputs": [],
   "source": [
    "#Manual check\n",
    "#movie_id = 'godzilla_vs._biollante'\n",
    "movie_id = 'the_bunker_(2001_film)'\n",
    "movie_id= 'just_go_with_it'\n",
    "#movie_id='agony_(film)'\n",
    "#movie_id= 'harry_potter_and_the_half-blood_prince_(film)'\n",
    "#movie_id = 'toy_story_4'\n",
    "#movie_id = 'tsar_(film)'\n",
    "#movie_id='high_school_musical_3:_senior_year'\n",
    "#movie_id= 'hook_(film)'\n",
    "#movie_id=\"destiny_(1997_film)\"\n",
    "movie_id=\"blade:_trinity\"\n",
    "\n",
    "similar_movies = model.docvecs.most_similar(movie_id, topn=10)\n",
    "sim_movies_list = [sim[0] for sim in similar_movies]\n",
    "\n",
    "sim_df= pd.DataFrame(columns=['Title','Similarity Ratio'])\n",
    "\n",
    "for sim in similar_movies:\n",
    "    #title = helper_fn.find_movie_title_by_id(sim[0], train_data_df)\n",
    "    data = {'Title':  [sim[0]],'Similarity Ratio': [sim[1]]}\n",
    "    tmp_df = pd.DataFrame(data, columns=['Title','Similarity Ratio'])\n",
    "    sim_df = pd.concat([sim_df, tmp_df])   \n",
    "\n",
    "common_features_df = eval_fn.get_common_attrs_cnt_for_sim_list(train_data_df, sim_movies_list, movie_id) \n",
    "\n",
    "result_df = sim_df.merge(common_features_df, left_on= ['Title'], right_on=['Title'], how='inner')\n",
    "\n",
    "result_df.Title= result_df.Title.map(lambda t: (helper_fn.find_movie_title_by_id(t, train_data_df).values[0]).capitalize())\n",
    "\n",
    "query_movie_title = helper_fn.find_movie_title_by_id(movie_id, train_data_df).values[0].capitalize()\n",
    "print(\"\\n\")\n",
    "print(\"Similarity for the movie title \\\"{}\\\"\".format(query_movie_title))\n",
    "display(tabulate(result_df, headers=result_df.columns,tablefmt='html', showindex=False))\n"
   ]
  },
  {
   "cell_type": "code",
   "execution_count": null,
   "metadata": {},
   "outputs": [],
   "source": [
    "eval_fn.find_common_attrs(train_data_df, movie_id, 'blade_(film)')"
   ]
  },
  {
   "cell_type": "code",
   "execution_count": null,
   "metadata": {},
   "outputs": [],
   "source": []
  },
  {
   "cell_type": "code",
   "execution_count": null,
   "metadata": {},
   "outputs": [],
   "source": [
    "#Find the count of every feature\n",
    "sim_movies_deails_df = train_data_df.loc[train_data_df.apply(lambda movie: True if movie.movie_id in sim_movies_list else False, axis=1)]\n",
    "\n",
    "sim_movies_deails_df.apply(lambda movie: len(movie.actor_name), axis=1)\n",
    "\n",
    "movie_record = train_data_df[train_data_df.movie_id == movie_id]\n",
    "\n",
    "def find_feature_cnt_for_movie(movie_record, col):\n",
    "    col_list = movie_record[col].to_list()\n",
    "    if col_list is not None:\n",
    "        return len(col_list[0])\n",
    "    else:\n",
    "        return 0\n",
    "\n",
    "actors = find_feature_cnt_for_movie(movie_record, 'actor_name')\n",
    "\n",
    "actors"
   ]
  },
  {
   "cell_type": "code",
   "execution_count": null,
   "metadata": {
    "scrolled": true
   },
   "outputs": [],
   "source": [
    "for s in similar_movies:\n",
    "    print(s[1])\n",
    "    "
   ]
  },
  {
   "cell_type": "code",
   "execution_count": null,
   "metadata": {},
   "outputs": [],
   "source": []
  },
  {
   "cell_type": "markdown",
   "metadata": {},
   "source": [
    "# Visualization"
   ]
  },
  {
   "cell_type": "code",
   "execution_count": null,
   "metadata": {},
   "outputs": [],
   "source": [
    "#prepare data from the same movies used in the manual check\n",
    "test_movies_list= ['godzilla_vs._biollante'\n",
    "        ,'the_bunker_(2001_film)'\n",
    "        ,'just_go_with_it'\n",
    "        ,'agony_(film)'\n",
    "        ,'harry_potter_and_the_half-blood_prince_(film)'\n",
    "        ,'toy_story_4'\n",
    "        ,'tsar_(film)'\n",
    "        ,'high_school_musical_3:_senior_year'\n",
    "        , 'hook_(film)'\n",
    "        ,\"destiny_(1997_film)\"\n",
    "        ]"
   ]
  },
  {
   "cell_type": "code",
   "execution_count": null,
   "metadata": {},
   "outputs": [],
   "source": []
  },
  {
   "cell_type": "code",
   "execution_count": null,
   "metadata": {},
   "outputs": [],
   "source": [
    "#query each movie for most similar list\n",
    "#save each query movie and the result in a dictionary\n",
    "#for each group, retrieve actors for all the movies in the list\n",
    "\n",
    "group_by_q_movie=[]\n",
    "all_groups_actors=[]\n",
    "for movie_id in test_movies_list:\n",
    "    sims= model.docvecs.most_similar(movie_id,topn=5)\n",
    "    g_movies=[]\n",
    "    for s in sims:\n",
    "        g_movies.append(s[0])\n",
    "    group = {'g_id':movie_id, 'g_movies':g_movies}\n",
    "    group_by_q_movie.append(group)\n",
    "    \n",
    "    \n",
    "for group in group_by_q_movie:\n",
    "    query_movie_id = group['g_id']\n",
    "    sim_movies_id_list = group['g_movies']\n",
    "    group_actors=[]\n",
    "    group_movies=[]\n",
    "    actors = helper_fn.find_actors_by_movie_id(query_movie_id, train_data_df)\n",
    "    \n",
    "    group_actors = group_actors + actors[0]\n",
    "    #print(group_actors)\n",
    "    group_movies.append(query_movie_id)    \n",
    "   # print(\"group ID {}\".format(query_movie_id))\n",
    "    \n",
    "    for movie_id in sim_movies_id_list:\n",
    "        #print(\"sim movie id {} :\".format(movie_id))\n",
    "        actors = helper_fn.find_actors_by_movie_id(movie_id, train_data_df)\n",
    "        group_actors = group_actors + actors[0]\n",
    "        group_movies.append(movie_id)\n",
    "        #print(group_actors)\n",
    "    all_groups_actors.append({'g_id':query_movie_id, 'g_movies':group_movies, 'g_actors':group_actors})\n",
    "\n",
    "\n",
    "group_actors_df = pd.DataFrame(data= {'movie_id':[g['g_id'] for g in all_groups_actors], \n",
    "                'movies_list':[g['g_movies'] for g in all_groups_actors],\n",
    "               'actors_list':[g['g_actors'] for g in all_groups_actors]\n",
    "               })\n",
    "\n",
    "\n",
    "\n",
    "#display(group_actors_df)\n",
    "\n",
    "data_target_list=[]\n",
    "movies_target_list=[]\n",
    "actors_target_list=[]\n",
    "\n",
    "for group in all_groups_actors:\n",
    "    movies_target_list = movies_target_list + list(itertools.product([group['g_id']], group['g_movies']))\n",
    "print(len(movies_target_list))\n",
    "x_movies_df= pd.DataFrame(data= list(set(movies_target_list)), columns=['Y','X'])\n",
    "x_movies_df['type']= 'movie'\n",
    "\n",
    "    \n",
    "for group in all_groups_actors:\n",
    "    actors_target_list = actors_target_list + list(itertools.product([group['g_id']], group['g_actors']))\n",
    "print(len(actors_target_list))\n",
    "x_actors_df= pd.DataFrame(data= list(set(actors_target_list)), columns=['Y','X'])\n",
    "x_actors_df['type']= 'actor'\n",
    "\n",
    "final_df = x_actors_df.append(x_movies_df)"
   ]
  },
  {
   "cell_type": "code",
   "execution_count": null,
   "metadata": {},
   "outputs": [],
   "source": [
    "###Visualization\n",
    "print(len(final_df))\n",
    "\n",
    "final_df.reset_index(drop=True, inplace= True)\n",
    "y=[]\n",
    "data_X = []\n",
    "type_x =[]\n",
    "final_df['title']= final_df.apply(lambda row: helper_fn.find_movie_title_by_id(row.Y,train_data_df).values[0], axis=1)\n",
    "final_df['title'] = final_df['title'].str.capitalize()\n",
    "#y_vec = [model[tag] for tag in y]\n",
    "\n",
    "doctags= model.docvecs.doctags\n",
    "vocab = model.wv.vocab\n",
    "final_df = final_df.sample(frac=1)\n",
    "plt.rcParams[\"figure.figsize\"] = [8,6]\n",
    "data_X_vec=[]\n",
    "for tag in final_df['X'].values :                \n",
    "    if tag in doctags:\n",
    "        tag_vec= model[tag] \n",
    "    else:\n",
    "        if tag in vocab:\n",
    "            tag_vec= model.wv[tag] \n",
    "        else:\n",
    "            tag_vec=[0]*50\n",
    "    data_X_vec.append(tag_vec)\n",
    "final_df['X_vec']=data_X_vec\n",
    "\n",
    "tsne=  TSNE(perplexity= 50, n_components=2, init='pca', n_iter=7000, random_state=23)\n",
    "\n",
    "tsne_obj= tsne.fit_transform(final_df.X_vec.to_list())\n",
    "\n",
    "\n",
    "\n",
    "tsne_df = pd.DataFrame({'X':tsne_obj[:,0],\n",
    "                        'Y':tsne_obj[:,1],\n",
    "                        'movie':final_df.title.to_list(),\n",
    "                         'X_type':final_df.type.to_list()})\n",
    "\n",
    "#sns.set(rc={'figure.figsize':(11.7,8.27)})\n",
    "\n",
    "\n",
    "#movies_only=tsne_df[tsne_df['X_type']=='actor']"
   ]
  },
  {
   "cell_type": "code",
   "execution_count": null,
   "metadata": {},
   "outputs": [],
   "source": [
    "sns.set_context('paper')\n",
    "palette=['purple','red','orange','brown','blue','dodgerblue','green','lightgreen','darkcyan', 'black']\n",
    "g = sns.scatterplot(x=\"X\", y=\"Y\", data=tsne_df, palette= palette, hue=\"movie\");\n",
    "\n",
    "tsne_df.apply(lambda point: g.scatter(point['X'], point['Y'], marker=find_marker(point['X_type'])), axis=1)\n",
    "\n",
    "              \n",
    "\n",
    "\n",
    "\n",
    "g.legend(loc='center left', bbox_to_anchor=(1.00, 0.5), ncol=1)\n"
   ]
  },
  {
   "cell_type": "code",
   "execution_count": null,
   "metadata": {},
   "outputs": [],
   "source": [
    "def find_marker(type_X):\n",
    "    if type_X == 'movie':\n",
    "        return \"o\"\n",
    "    else:\n",
    "        if type_X == 'actor':\n",
    "            return \"s\""
   ]
  },
  {
   "cell_type": "code",
   "execution_count": null,
   "metadata": {},
   "outputs": [],
   "source": [
    "movie_id='agony_(film)'\n",
    "sims= model.docvecs.most_similar(movie_id,topn=5)\n",
    "eval_fn.calculate_BLEU_score(movie_id, sims,train_data_df)"
   ]
  },
  {
   "cell_type": "code",
   "execution_count": null,
   "metadata": {},
   "outputs": [],
   "source": []
  },
  {
   "cell_type": "code",
   "execution_count": null,
   "metadata": {},
   "outputs": [],
   "source": [
    "#visialize movies grouped by the query movie_id- for each movie in the test set, generate the sim list and save them in a dict with the query movie as the key\n",
    "#for each group, plot the query movie and the sim list using distinct color\n",
    "#generate similarity list for each movie in the test set\n",
    "vis_group_by_q_movie=[]\n",
    "for movie_id in test_movies_list:\n",
    "    sims= model.docvecs.most_similar(movie_id)\n",
    "    g_movies=[]\n",
    "    for s in sims:\n",
    "        g_movies.append(s[0])\n",
    "    group = {'g_id':movie_id, 'g_movies':g_movies}\n",
    "    vis_group_by_q_movie.append(group)\n",
    "#print(vis_group_by_q_movie)    \n",
    "\n",
    "data_target_list=[]\n",
    "for group in vis_group_by_q_movie:\n",
    "    data_target_list = data_target_list + list(itertools.product([group['g_id']], group['g_movies']))\n",
    "y=[]\n",
    "data_X = []\n",
    "\n",
    "#print(data_target_list)\n",
    "\n",
    "for pair in data_target_list:\n",
    "    title = helper_fn.find_movie_title_by_id(pair[0],train_data_df)\n",
    "    y.append(title.values[0].capitalize())\n",
    "    data_X.append(pair[1])\n",
    "\n",
    "\n",
    "#y_vec = [model[tag] for tag in y]\n",
    "data_X_vec = [model[tag] for tag in data_X]\n",
    "\n",
    "#tsne = TSNE(n_components=2, random_state=0)\n",
    "tsne=  TSNE(perplexity= 5, n_components=2, init='pca', n_iter=5000, random_state=23)\n",
    "\n",
    "tsne_obj= tsne.fit_transform(data_X_vec)\n",
    "\n",
    "tsne_df = pd.DataFrame({'X':tsne_obj[:,0],\n",
    "                        'Y':tsne_obj[:,1],\n",
    "                        'movie':y})\n",
    "sns.scatterplot(x=\"X\", y=\"Y\",\n",
    "              data=tsne_df, );\n",
    "\n",
    "g=sns.scatterplot(x=\"X\", y=\"Y\",\n",
    "              hue=\"movie\",\n",
    "              palette=['purple','red','orange','brown','blue',\n",
    "                       'dodgerblue','green','lightgreen','darkcyan', 'black'],\n",
    "              legend='full',\n",
    "              data=tsne_df);\n",
    "#g.set_xlim(-600, 800)\n",
    "#g.set_ylim(-800, 600)\n",
    "\n",
    "g.legend(loc='center left', bbox_to_anchor=(1.00, 0.5), ncol=1)"
   ]
  },
  {
   "cell_type": "code",
   "execution_count": null,
   "metadata": {},
   "outputs": [],
   "source": [
    "def split_list(col):\n",
    "    "
   ]
  },
  {
   "cell_type": "code",
   "execution_count": null,
   "metadata": {},
   "outputs": [],
   "source": [
    "#further analysis to the results in visualizing the 10 movies and their simialr ones\n",
    "#get list of genres for each group\n",
    "\n",
    "all_group_genres_list = []\n",
    "for group in vis_group_by_q_movie: \n",
    "    group_genres_list=[]\n",
    "    id_genres_list = []\n",
    "    #genres for the query movie\n",
    "    movie_genres = helper_fn.find_movie_genre_by_id(group['g_id'], train_data_df)\n",
    "    id_genres_list = id_genres_list + movie_genres.to_list()[0]\n",
    "    \n",
    "    for movie_id in group['g_movies']:\n",
    "        movie_genres = helper_fn.find_movie_genre_by_id(movie_id, train_data_df)\n",
    "        group_genres_list = group_genres_list + movie_genres.tolist()[0]\n",
    "     #   print(group_genres_list[0])\n",
    "    g_genres={'g_id':group['g_id'], 'q_genres':id_genres_list,'g_genres': list(set(group_genres_list))}\n",
    "    all_group_genres_list.append(g_genres)\n",
    "\n",
    "group_genres_df = pd.DataFrame(data= {'movie_id':[g['g_id'] for g in all_group_genres_list]\n",
    "                                      ,'q_genres':[g['q_genres'] for g in all_group_genres_list]\n",
    "                                      ,'genres_list':[g['g_genres'] for g in all_group_genres_list]})\n",
    "\n",
    "group_genres_df['q_genres'] = group_genres_df.apply(lambda row: '|'.join(row['q_genres']), axis=1)\n",
    "group_genres_df['genres_list'] = group_genres_df.apply(lambda row: '|'.join(row['genres_list']), axis=1)\n",
    "display(tabulate(group_genres_df, headers=['Query Movie', \"Query Movie Genres\", \"Similar movies genres\"],tablefmt='html', showindex=False))\n",
    "group_genres_df.to_excel(\"models/exp1/sim_gen_list.xlsx\", index=False)\n",
    "#group_genres_df"
   ]
  },
  {
   "cell_type": "code",
   "execution_count": null,
   "metadata": {},
   "outputs": [],
   "source": []
  },
  {
   "cell_type": "code",
   "execution_count": null,
   "metadata": {},
   "outputs": [],
   "source": []
  },
  {
   "cell_type": "code",
   "execution_count": null,
   "metadata": {},
   "outputs": [],
   "source": []
  },
  {
   "cell_type": "code",
   "execution_count": null,
   "metadata": {},
   "outputs": [],
   "source": [
    "len(vis_genres_sample_df)"
   ]
  },
  {
   "cell_type": "markdown",
   "metadata": {},
   "source": [
    "#visualize movies by genre"
   ]
  },
  {
   "cell_type": "code",
   "execution_count": null,
   "metadata": {},
   "outputs": [],
   "source": [
    "y=[]\n",
    "data_X = []\n",
    "\n",
    "#print(data_target_list)\n",
    "\n",
    "#genres_sample_df contains movies from the genres 'Romantic_Comedy','Drama','Adventure','Crime','Action','Unknown'\n",
    "\n",
    "vis_genres_sample_df = genres_sample_df.copy()\n",
    "\n",
    "vis_genres_sample_df['data_X_vec']= vis_genres_sample_df.apply(lambda movie:model[movie.movie_id], axis=1)\n",
    "vis_genres_sample_df['y']= vis_genres_sample_df.apply(lambda movie: assign_genre(genres_df, movie.movie_id), axis=1)\n",
    "\n",
    "data_X_vec = list(vis_genres_sample_df['data_X_vec'].values)\n",
    "y = vis_genres_sample_df['y']\n",
    "tsne=  TSNE(perplexity= 5, n_components=2, init='pca', n_iter=5000, random_state=23)\n",
    "tsne_obj= tsne.fit_transform(data_X_vec)\n",
    "tsne_df = pd.DataFrame({'X':tsne_obj[:,0],\n",
    "                        'Y':tsne_obj[:,1],\n",
    "                        'movie':y})\n",
    "tsne_df.head()\n",
    "sns.scatterplot(x=\"X\", y=\"Y\",\n",
    "              data=tsne_df);\n",
    "\n",
    "g=sns.scatterplot(x=\"X\", y=\"Y\",\n",
    "              hue=\"movie\",\n",
    "         #     palette=['purple','red','orange','brown','blue','black'],\n",
    "              legend='full',\n",
    "              data=tsne_df);\n",
    "g.legend(loc='center left', bbox_to_anchor=(1.00, 0.5), ncol=1)"
   ]
  },
  {
   "cell_type": "code",
   "execution_count": null,
   "metadata": {},
   "outputs": [],
   "source": [
    "#plot sequel movies with some noise data\n",
    "\n",
    "def tsne_plot_doc2vec(model, samples,movies_dict,height, width):\n",
    "    \"Creates and TSNE model and plots it\"\n",
    "    labels = []\n",
    "    tokens = []\n",
    "    \n",
    "\n",
    "    for doc in samples:\n",
    "        tokens.append(model[doc])\n",
    "        labels.append(movies_dict[doc])\n",
    "    \n",
    "    tsne_model = TSNE(perplexity=40, n_components=2, init='pca', n_iter=2500, random_state=23)\n",
    "    new_values = tsne_model.fit_transform(tokens)\n",
    "\n",
    "    x = []\n",
    "    y = []\n",
    "    for value in new_values:\n",
    "        x.append(value[0])\n",
    "        y.append(value[1])\n",
    "        \n",
    "    plt.figure(figsize=(height, width)) \n",
    "    for i in range(len(x)):\n",
    "        plt.scatter(x[i],y[i])\n",
    "        plt.annotate(labels[i],\n",
    "                     xy=(x[i], y[i]),\n",
    "                     xytext=(5, 2),\n",
    "                     textcoords='offset points',\n",
    "                     ha='right',\n",
    "                     va='bottom')\n",
    "   # plt.xlim(-4.0, -1.0)\n",
    "\n",
    " #  \n",
    "    plt.show()\n",
    "    plt.savefig('movies_labels_large.png',  bbox_inches='tight')\n",
    "    plt.close() \n",
    "    "
   ]
  },
  {
   "cell_type": "code",
   "execution_count": null,
   "metadata": {},
   "outputs": [],
   "source": [
    "len(sequel_sampled_data_df)\n",
    "fig = tsne_plot_doc2vec(model, sequel_sampled_data_df[0:40].movie_id,movies_dict,10, 10)"
   ]
  },
  {
   "cell_type": "code",
   "execution_count": null,
   "metadata": {},
   "outputs": [],
   "source": [
    "def tsne_plot_doc2vec_categorized(model, samples,movies_dict, w,h):\n",
    "    \"Creates and TSNE model and plots it\"\n",
    "    labels = []\n",
    "    tokens = []\n",
    "    colors = []\n",
    "    \n",
    "\n",
    "    for doc in samples:\n",
    "        tokens.append(model[doc])\n",
    "        labels.append(movies_dict[doc])\n",
    "        colors.append(assign_color(genres_df, doc))\n",
    "    \n",
    "    tsne_model = TSNE(perplexity=50, n_components=2, init='pca', n_iter=2500, random_state=23)\n",
    "    new_values = tsne_model.fit_transform(tokens)\n",
    "\n",
    "    x = []\n",
    "    y = []\n",
    "    for value in new_values:\n",
    "        x.append(value[0])\n",
    "        y.append(value[1])\n",
    "        \n",
    "    plt.figure(figsize=(w, h)) \n",
    "    for i in range(len(x)):\n",
    "        plt.scatter(x[i],y[i],color= colors[i][0] )\n",
    "        plt.annotate('', #labels[i],\n",
    "                     xy=(x[i], y[i], ),\n",
    "                     xytext=(5, 2),\n",
    "                     textcoords='offset points',\n",
    "                     ha='right',\n",
    "                     va='bottom')\n",
    "   # plt.xlim(-4.0, -1.0)\n",
    "  #  display(HTML(\"<b>%d words most similar to '%s'</b>\" % (n,word)))\n",
    "    plt.title('Movies Distribution by Genre')\n",
    "    plt.legend( labels=['Romantic_Comedy','Drama','Adventure','Crime','Action','Unknown'])\n",
    "    plt.savefig('movies_genre.png')\n",
    "   # plt.show(block=False)\n",
    "    plt.show()"
   ]
  },
  {
   "cell_type": "code",
   "execution_count": null,
   "metadata": {},
   "outputs": [],
   "source": [
    "tsne_plot_doc2vec(model, set(genre_samples[0:3000]), movies_dict)"
   ]
  },
  {
   "cell_type": "markdown",
   "metadata": {},
   "source": [
    "# Calculate the ranking score for a model"
   ]
  },
  {
   "cell_type": "code",
   "execution_count": null,
   "metadata": {},
   "outputs": [],
   "source": [
    "#prepare test data\n",
    "test_titles = []\n",
    "test_titles= ['shrek','star trek','blade','toy story 4','pitch perfect','harry potter','godzilla','paddington','x-men']\n",
    "test_data= eval_fn.build_movie_sequel_test_data(train_data_df, test_titles)\n",
    "\n",
    "rank_score= eval_fn.calculate_rank_score(model, test_data,5)"
   ]
  },
  {
   "cell_type": "code",
   "execution_count": null,
   "metadata": {},
   "outputs": [],
   "source": [
    "rank_score_list = eval_fn.calculate_rank_score(model,test_data,5)\n",
    "group_rank_df = pd.DataFrame(data= {'group_id':[g['group_id'] for g in rank_score_list], 'score':[g['group_score'] for g in rank_score_list]})\n",
    "\n",
    "group_rank_df.append(group_rank_df.sum(numeric_only=True), ignore_index=True)\n",
    "group_rank_df.loc['Column_Total']= group_rank_df.sum(numeric_only=True, axis=0)\n",
    "#group_rank_df.Group.apply(lambda g: )\n",
    "display(tabulate(group_rank_df, headers=['Group', \"Rank Score\"],tablefmt='html', showindex=False))"
   ]
  },
  {
   "cell_type": "code",
   "execution_count": null,
   "metadata": {},
   "outputs": [],
   "source": [
    "model.docvecs.most_similar('blade:_trinity')"
   ]
  },
  {
   "cell_type": "code",
   "execution_count": null,
   "metadata": {},
   "outputs": [],
   "source": [
    "test_data[2]"
   ]
  },
  {
   "cell_type": "code",
   "execution_count": null,
   "metadata": {},
   "outputs": [],
   "source": [
    "display(tabulate(helper_fn.find_movie_by_id('blades_of_blood', train_data_df), tablefmt=\"html\"))"
   ]
  },
  {
   "cell_type": "code",
   "execution_count": null,
   "metadata": {},
   "outputs": [],
   "source": [
    "display(tabulate(helper_fn.find_movie_by_id('blade:_trinity', train_data_df), tablefmt=\"html\"))"
   ]
  },
  {
   "cell_type": "code",
   "execution_count": null,
   "metadata": {},
   "outputs": [],
   "source": [
    "test_data"
   ]
  },
  {
   "cell_type": "code",
   "execution_count": null,
   "metadata": {},
   "outputs": [],
   "source": [
    "eval_fn.calculate_BLEU_score('blade:_trinity', test_data[2], train_data_df, 5)"
   ]
  },
  {
   "cell_type": "code",
   "execution_count": null,
   "metadata": {},
   "outputs": [],
   "source": [
    "imp.reload(eval_fn)"
   ]
  },
  {
   "cell_type": "code",
   "execution_count": null,
   "metadata": {},
   "outputs": [],
   "source": []
  },
  {
   "cell_type": "code",
   "execution_count": null,
   "metadata": {},
   "outputs": [],
   "source": [
    "from yellowbrick.text import TSNEVisualizer\n",
    "from yellowbrick.datasets import load_hobbies\n",
    "\n",
    "# Load the data and create document vectors\n",
    "labels = []\n",
    "tokens = []\n",
    "colors = []\n",
    "\n",
    "X =[]\n",
    "y = []\n",
    "for doc in genre_samples[0:100]:\n",
    "    X.append(model[doc])\n",
    "    labels.append(movies_dict[doc])\n",
    "    y.append(assign_color(genres_df, doc)[1])\n",
    "print(len(X))\n",
    "print(len(y))\n",
    "\n",
    "# Create the visualizer and draw the vectors\n",
    "tsne = TSNEVisualizer(labels=['Romantic_Comedy','Drama','Adventure','Crime','Unknown'])\n",
    "tsne_model = TSNE(perplexity=50, n_components=2, init='pca', n_iter=2500, random_state=23)\n",
    "tsne.fit_transform(X, y)\n",
    "\n",
    "tsne.show()"
   ]
  },
  {
   "cell_type": "code",
   "execution_count": null,
   "metadata": {},
   "outputs": [],
   "source": []
  },
  {
   "cell_type": "code",
   "execution_count": null,
   "metadata": {},
   "outputs": [],
   "source": [
    "genre_samples= genres_sample_df.movie_id.values.tolist()\n",
    "len(genre_samples)"
   ]
  },
  {
   "cell_type": "code",
   "execution_count": null,
   "metadata": {
    "scrolled": true
   },
   "outputs": [],
   "source": [
    "genre_samples"
   ]
  },
  {
   "cell_type": "code",
   "execution_count": null,
   "metadata": {},
   "outputs": [],
   "source": [
    "tsne_plot_doc2vec(model, set(genre_samples[0:100]), movies_dict)"
   ]
  },
  {
   "cell_type": "code",
   "execution_count": 131,
   "metadata": {},
   "outputs": [],
   "source": [
    "def find_movies_by_col_value(col_name, col_value, train_data_df):\n",
    "    df= train_data_df.loc[train_data_df.apply(lambda row: True if col_value in row[col_name] else False, axis=1)]\n",
    "    return df.movie_id\n",
    "    "
   ]
  },
  {
   "cell_type": "code",
   "execution_count": 166,
   "metadata": {
    "scrolled": true
   },
   "outputs": [],
   "source": [
    "#identify directors that have the most movies\n",
    "movies_director_dict={}\n",
    "x=train_data_df.director_name\n",
    "directors_list=[]\n",
    "for d in x:\n",
    "    for i in d:\n",
    "        directors_list.append(i)\n",
    "\n",
    "occurence_count = Counter(directors_list) \n",
    "directors_count= occurence_count.most_common()\n",
    "\n",
    "directors_list = list(set(directors_list))\n",
    "\n",
    "random.seed= 50\n",
    "random.shuffle(directors_list)\n",
    "directors_list = random.sample(directors_list, 500)\n",
    "\n",
    "for director in directors_list:\n",
    "    director= director\n",
    "    movies_director_dict[director] = find_movies_by_col_value('director_name', director, train_data_df)    "
   ]
  },
  {
   "cell_type": "code",
   "execution_count": 167,
   "metadata": {
    "scrolled": true
   },
   "outputs": [],
   "source": [
    "data_target_list=[]\n",
    "for key in movies_director_dict:\n",
    "    for val in movies_director_dict[key]:\n",
    "        data_target_list.append((key,val))\n",
    "#print(data_target_list)   \n",
    "y=[]\n",
    "data_X = []\n",
    "\n",
    "for pair in data_target_list:\n",
    "    y.append(pair[0])\n",
    "    data_X.append(pair[1])\n",
    "\n",
    "data_X_vec = [model[tag] for tag in data_X]\n",
    "\n",
    "tsne=  TSNE(perplexity= 50, n_components=2, init='pca', n_iter=5000, random_state=23)\n",
    "tsne_obj= tsne.fit_transform(data_X_vec)"
   ]
  },
  {
   "cell_type": "code",
   "execution_count": 175,
   "metadata": {},
   "outputs": [
    {
     "data": {
      "image/png": "[encoded data removed]",
      "text/plain": [
       "<Figure size 432x288 with 1 Axes>"
      ]
     },
     "metadata": {
      "needs_background": "light"
     },
     "output_type": "display_data"
    }
   ],
   "source": [
    "tsne_df = pd.DataFrame({'X':tsne_obj[:,0],\n",
    "                        'Y':tsne_obj[:,1],\n",
    "                        'director':y})\n",
    "g=sns.scatterplot(x=\"X\", y=\"Y\",\n",
    "              hue=\"director\",\n",
    "            #  palette=['purple','red','orange'],\n",
    "              legend= False,            \n",
    "              data=tsne_df);\n",
    "g.set_title(\"Movies grouped by directors\")\n",
    "\n",
    "sns.set_context('notebook')\n",
    "#g.set_xlim(-600, 800)\n",
    "#g.set_ylim(-800, 600)\n",
    "g.figure.savefig(\"plot_directors.png\")\n",
    "\n",
    "\n",
    "#g.legend(loc='center left', bbox_to_anchor=(1.00, 0.5), ncol=1)"
   ]
  },
  {
   "cell_type": "code",
   "execution_count": 176,
   "metadata": {
    "scrolled": true
   },
   "outputs": [],
   "source": [
    "#identify actors\n",
    "\n",
    "x=train_data_df.actor_name\n",
    "val_list=[]\n",
    "movies_val_dict={}\n",
    "\n",
    "for d in x:\n",
    "    for i in d:\n",
    "        val_list.append(i)\n",
    "\n",
    "\n",
    "val_list = list(set(val_list))\n",
    "random.seed= 50\n",
    "random.shuffle(val_list)\n",
    "val_list = random.sample(val_list, 500)\n",
    "\n",
    "for val in val_list:\n",
    "    movies_val_dict[val] = find_movies_by_col_value('actor_name', val, train_data_df)"
   ]
  },
  {
   "cell_type": "code",
   "execution_count": 177,
   "metadata": {
    "scrolled": true
   },
   "outputs": [],
   "source": [
    "\n",
    "data_target_list=[]\n",
    "for key in movies_director_dict:\n",
    "    for val in movies_director_dict[key]:\n",
    "        data_target_list.append((key,val))\n",
    "y=[]\n",
    "data_X = []\n",
    "\n",
    "for pair in data_target_list:\n",
    "    y.append(pair[0])\n",
    "    data_X.append(pair[1])\n",
    "\n",
    "data_X_vec = [model[tag] for tag in data_X]\n",
    "sns.set_context('notebook')\n",
    "\n",
    "tsne=  TSNE(perplexity= 50, n_components=2, init='pca', n_iter=5000, random_state=23)\n",
    "\n",
    "tsne_obj= tsne.fit_transform(data_X_vec)"
   ]
  },
  {
   "cell_type": "code",
   "execution_count": 178,
   "metadata": {},
   "outputs": [
    {
     "data": {
      "image/png": "[encoded data removed]",
      "text/plain": [
       "<Figure size 432x288 with 1 Axes>"
      ]
     },
     "metadata": {
      "needs_background": "light"
     },
     "output_type": "display_data"
    }
   ],
   "source": [
    "tsne_df = pd.DataFrame({'X':tsne_obj[:,0],\n",
    "                        'Y':tsne_obj[:,1],\n",
    "                        'actor':y})\n",
    "\n",
    "g=sns.scatterplot(x=\"X\", y=\"Y\",\n",
    "              hue=\"actor\",\n",
    "            #  palette=['purple','red','orange'],\n",
    "              legend= False,            \n",
    "              data=tsne_df);\n",
    "g.set_title(\"Movies grouped by actors\")\n",
    "#g.set_xlim(-600, 800)\n",
    "#g.set_ylim(-800, 600)\n",
    "g.figure.savefig(\"plot_actors.png\")\n",
    "\n",
    "\n",
    "#g.legend(loc='center left', bbox_to_anchor=(1.00, 0.5), ncol=1)"
   ]
  },
  {
   "cell_type": "code",
   "execution_count": null,
   "metadata": {
    "scrolled": true
   },
   "outputs": [],
   "source": [
    "#identify writers\n",
    "\n",
    "x=train_data_df.writer_name\n",
    "val_list=[]\n",
    "for d in x:\n",
    "    for i in d:\n",
    "        val_list.append(i)\n",
    "movies_val_dict={}\n",
    "\n",
    "val_list = list(set(val_list))\n",
    "random.seed= 50\n",
    "random.shuffle(val_list)\n",
    "\n",
    "for val in val_list:\n",
    "    movies_val_dict[val] = find_movies_by_col_value('writer_name', val, train_data_df)    "
   ]
  },
  {
   "cell_type": "code",
   "execution_count": 164,
   "metadata": {
    "scrolled": true
   },
   "outputs": [
    {
     "data": {
      "text/plain": [
       "600"
      ]
     },
     "execution_count": 164,
     "metadata": {},
     "output_type": "execute_result"
    }
   ],
   "source": []
  },
  {
   "cell_type": "code",
   "execution_count": null,
   "metadata": {
    "scrolled": true
   },
   "outputs": [],
   "source": [
    "\n",
    "data_target_list=[]\n",
    "for key in movies_director_dict:\n",
    "    for val in movies_director_dict[key]:\n",
    "        data_target_list.append((key,val))\n",
    "#print(data_target_list)   \n",
    "y=[]\n",
    "data_X = []\n",
    "\n",
    "for pair in data_target_list:\n",
    "    y.append(pair[0])\n",
    "    data_X.append(pair[1])\n",
    "\n",
    "data_X_vec = [model[tag] for tag in data_X]\n",
    "sns.set_context('paper')\n",
    "\n",
    "#tsne = TSNE(n_components=2, random_state=0)\n",
    "tsne=  TSNE(perplexity= 50, n_components=2, init='pca', n_iter=5000, random_state=23)\n",
    "\n",
    "tsne_obj= tsne.fit_transform(data_X_vec)"
   ]
  },
  {
   "cell_type": "code",
   "execution_count": null,
   "metadata": {},
   "outputs": [],
   "source": [
    "tsne_df = pd.DataFrame({'X':tsne_obj[:,0],\n",
    "                        'Y':tsne_obj[:,1],\n",
    "                        'actor':y})\n",
    "\n",
    "g=sns.scatterplot(x=\"X\", y=\"Y\",\n",
    "              hue=\"actor\",\n",
    "            #  palette=['purple','red','orange'],\n",
    "              legend= False,            \n",
    "              data=tsne_df);\n",
    "g.set_title(\"Movies grouped by writers\")\n",
    "#g.set_xlim(-600, 800)\n",
    "#g.set_ylim(-800, 600)\n",
    "g.figure.savefig(\"plot1.png\")\n",
    "\n",
    "\n",
    "#g.legend(loc='center left', bbox_to_anchor=(1.00, 0.5), ncol=1)"
   ]
  },
  {
   "cell_type": "code",
   "execution_count": null,
   "metadata": {
    "scrolled": true
   },
   "outputs": [],
   "source": [
    "#identify writers\n",
    "\n",
    "def plot_movies_by_feature(col_name, train_data_df):\n",
    "    x=train_data_df[col_name]\n",
    "    val_list=[]\n",
    "    for d in x:\n",
    "        for i in d:\n",
    "            val_list.append(i)\n",
    "    movies_val_dict={}\n",
    "\n",
    "    val_list = list(set(val_list))\n",
    "    random.seed= 50\n",
    "    random.shuffle(val_list)\n",
    "\n",
    "    for val in val_list:\n",
    "        movies_val_dict[val] = find_movies_by_col_value(col_name, val, train_data_df)    \n",
    "    \n",
    "    data_target_list=[]\n",
    "    for key in movies_director_dict:\n",
    "        for val in movies_director_dict[key]:\n",
    "            data_target_list.append((key,val))\n",
    "    y=[]\n",
    "    data_X = []\n",
    "\n",
    "    for pair in data_target_list:\n",
    "        y.append(pair[0])\n",
    "        data_X.append(pair[1])\n",
    "\n",
    "    data_X_vec = [model[tag] for tag in data_X]\n",
    "    sns.set_context('notebook')\n",
    "    tsne=  TSNE(perplexity= 50, n_components=2, init='pca', n_iter=5000, random_state=23)\n",
    "    tsne_obj= tsne.fit_transform(data_X_vec)\n",
    "    tsne_df = pd.DataFrame({'X':tsne_obj[:,0],\n",
    "                        'Y':tsne_obj[:,1],\n",
    "                        col_name:y})\n",
    "    return tsne_df\n",
    "\n",
    "def draw_plot(tsne_df, col_name, filename):\n",
    "    g=sns.scatterplot(x=\"X\", y=\"Y\",\n",
    "                  hue=\"col_name\",\n",
    "                #  palette=['purple','red','orange'],\n",
    "                  legend= False,            \n",
    "                  data=tsne_df);\n",
    "    g.set_title(\"Movies grouped by writers\")\n",
    "    #g.set_xlim(-600, 800)\n",
    "    #g.set_ylim(-800, 600)\n",
    "    g.figure.savefig(filename)\n",
    "        \n",
    "    "
   ]
  },
  {
   "cell_type": "code",
   "execution_count": 164,
   "metadata": {
    "scrolled": true
   },
   "outputs": [
    {
     "data": {
      "text/plain": [
       "600"
      ]
     },
     "execution_count": 164,
     "metadata": {},
     "output_type": "execute_result"
    }
   ],
   "source": []
  },
  {
   "cell_type": "code",
   "execution_count": null,
   "metadata": {
    "scrolled": true
   },
   "outputs": [],
   "source": [
    "\n"
   ]
  },
  {
   "cell_type": "code",
   "execution_count": null,
   "metadata": {},
   "outputs": [],
   "source": [
    "\n",
    "\n",
    "\n",
    "#g.legend(loc='center left', bbox_to_anchor=(1.00, 0.5), ncol=1)"
   ]
  },
  {
   "cell_type": "code",
   "execution_count": null,
   "metadata": {},
   "outputs": [],
   "source": [
    "def show_closest_line(similar_movies, query_movie, n):\n",
    "   # display(html.HTML(\"<b>%d words most similar to '%s'</b>\" % (n, query_movie)))\n",
    "    \n",
    "    tops = similar_movies\n",
    "    \n",
    "    items = [item[0] for item in tops]\n",
    "    sims = [item[1] for i,item in enumerate(tops)]\n",
    "    \n",
    "    fig = plt.figure(num=None, figsize=(10, 6), dpi=80, facecolor='w', edgecolor='k')\n",
    "    ax = fig.add_subplot(111)\n",
    "\n",
    "    \n",
    "    plt.xticks(range(n), [i+1 for i in range(n)])\n",
    "    plt.xlabel('Rank')\n",
    "    plt.ylabel('Similarity')\n",
    "    plt.xlim(-1,n)\n",
    "\n",
    "    \n",
    "    ax.plot(sims, color=\"purple\", alpha=0.5)\n",
    "    \n",
    "    for item, x, y in zip(items, range(n), sims):\n",
    "        ax.annotate( item, xy=(x, y), xytext=(20, -7), textcoords='offset points', \n",
    "                     ha='right', va='bottom', color='orange', fontsize=14 )\n",
    "\n",
    "    \n",
    "    \n",
    "    \n",
    "    plt.show()"
   ]
  }
 ],
 "metadata": {
  "kernelspec": {
   "display_name": "Python 3",
   "language": "python",
   "name": "python3"
  },
  "language_info": {
   "codemirror_mode": {
    "name": "ipython",
    "version": 3
   },
   "file_extension": ".py",
   "mimetype": "text/x-python",
   "name": "python",
   "nbconvert_exporter": "python",
   "pygments_lexer": "ipython3",
   "version": "3.9.0"
  }
 },
 "nbformat": 4,
 "nbformat_minor": 4
}
