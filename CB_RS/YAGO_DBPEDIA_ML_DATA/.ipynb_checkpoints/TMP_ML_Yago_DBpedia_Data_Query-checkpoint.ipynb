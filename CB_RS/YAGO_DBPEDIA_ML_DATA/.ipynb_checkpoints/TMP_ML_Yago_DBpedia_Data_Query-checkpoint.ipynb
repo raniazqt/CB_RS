{
 "cells": [
  {
   "cell_type": "code",
   "execution_count": 106,
   "metadata": {
    "scrolled": true
   },
   "outputs": [
    {
     "data": {
      "text/plain": [
       "<module 'sparql_query' from 'C:\\\\Users\\\\rania\\\\OneDrive\\\\AI Master\\\\Project\\\\Python_Code\\\\Final_Code\\\\modules\\\\sparql_query.py'>"
      ]
     },
     "execution_count": 106,
     "metadata": {},
     "output_type": "execute_result"
    }
   ],
   "source": [
    "#!/usr/bin/env python\n",
    "# -*- coding: latin-1 -*-\n",
    "import pandas as pd # pandas is a data manipulation library\n",
    "import numpy as np #provides numerical arrays and functions to manipulate the arrays efficiently\n",
    "import csv\n",
    "import logging\n",
    "from SPARQLWrapper import SPARQLWrapper,JSON, SPARQLWrapper2, POST,XML,GET\n",
    "from collections import defaultdict\n",
    "from tqdm.notebook import tqdm\n",
    "import query_helper_functions as q_helper\n",
    "import sparql_query as sparql_query\n",
    "import imp\n",
    "imp.reload(q_helper)\n",
    "imp.reload(sparql_query)\n"
   ]
  },
  {
   "cell_type": "code",
   "execution_count": 11,
   "metadata": {
    "scrolled": true
   },
   "outputs": [
    {
     "name": "stderr",
     "output_type": "stream",
     "text": [
      "d:\\programs\\python39\\lib\\site-packages\\tqdm\\std.py:703: FutureWarning: The Panel class is removed from pandas. Accessing it from the top-level namespace will also be removed in the next version\n",
      "  from pandas import Panel\n"
     ]
    }
   ],
   "source": [
    "\n",
    "logging.basicConfig(format='%(asctime)s : %(levelname)s : %(message)s', level=logging.INFO)\n",
    "tqdm.pandas(desc=\"progress bar\")\n"
   ]
  },
  {
   "cell_type": "code",
   "execution_count": 12,
   "metadata": {
    "scrolled": true
   },
   "outputs": [],
   "source": [
    "ml_file_movies_df = pd.read_csv('../dataset/ml_movies.csv')"
   ]
  },
  {
   "cell_type": "code",
   "execution_count": null,
   "metadata": {
    "scrolled": true
   },
   "outputs": [],
   "source": [
    "ml_file_movies_df"
   ]
  },
  {
   "cell_type": "code",
   "execution_count": null,
   "metadata": {
    "scrolled": true
   },
   "outputs": [],
   "source": []
  },
  {
   "cell_type": "code",
   "execution_count": 13,
   "metadata": {
    "scrolled": true
   },
   "outputs": [
    {
     "data": {
      "text/html": [
       "<div>\n",
       "<style scoped>\n",
       "    .dataframe tbody tr th:only-of-type {\n",
       "        vertical-align: middle;\n",
       "    }\n",
       "\n",
       "    .dataframe tbody tr th {\n",
       "        vertical-align: top;\n",
       "    }\n",
       "\n",
       "    .dataframe thead th {\n",
       "        text-align: right;\n",
       "    }\n",
       "</style>\n",
       "<table border=\"1\" class=\"dataframe\">\n",
       "  <thead>\n",
       "    <tr style=\"text-align: right;\">\n",
       "      <th></th>\n",
       "      <th>movieId</th>\n",
       "      <th>title</th>\n",
       "      <th>genres</th>\n",
       "    </tr>\n",
       "  </thead>\n",
       "  <tbody>\n",
       "    <tr>\n",
       "      <th>10</th>\n",
       "      <td>11</td>\n",
       "      <td>American President, The (1995)</td>\n",
       "      <td>Comedy|Drama|Romance</td>\n",
       "    </tr>\n",
       "    <tr>\n",
       "      <th>11</th>\n",
       "      <td>12</td>\n",
       "      <td>Dracula: Dead and Loving It (1995)</td>\n",
       "      <td>Comedy|Horror</td>\n",
       "    </tr>\n",
       "    <tr>\n",
       "      <th>12</th>\n",
       "      <td>13</td>\n",
       "      <td>Balto (1995)</td>\n",
       "      <td>Adventure|Animation|Children</td>\n",
       "    </tr>\n",
       "    <tr>\n",
       "      <th>13</th>\n",
       "      <td>14</td>\n",
       "      <td>Nixon (1995)</td>\n",
       "      <td>Drama</td>\n",
       "    </tr>\n",
       "    <tr>\n",
       "      <th>14</th>\n",
       "      <td>15</td>\n",
       "      <td>Cutthroat Island (1995)</td>\n",
       "      <td>Action|Adventure|Romance</td>\n",
       "    </tr>\n",
       "    <tr>\n",
       "      <th>15</th>\n",
       "      <td>16</td>\n",
       "      <td>Casino (1995)</td>\n",
       "      <td>Crime|Drama</td>\n",
       "    </tr>\n",
       "    <tr>\n",
       "      <th>16</th>\n",
       "      <td>17</td>\n",
       "      <td>Sense and Sensibility (1995)</td>\n",
       "      <td>Drama|Romance</td>\n",
       "    </tr>\n",
       "    <tr>\n",
       "      <th>17</th>\n",
       "      <td>18</td>\n",
       "      <td>Four Rooms (1995)</td>\n",
       "      <td>Comedy</td>\n",
       "    </tr>\n",
       "    <tr>\n",
       "      <th>18</th>\n",
       "      <td>19</td>\n",
       "      <td>Ace Ventura: When Nature Calls (1995)</td>\n",
       "      <td>Comedy</td>\n",
       "    </tr>\n",
       "    <tr>\n",
       "      <th>19</th>\n",
       "      <td>20</td>\n",
       "      <td>Money Train (1995)</td>\n",
       "      <td>Action|Comedy|Crime|Drama|Thriller</td>\n",
       "    </tr>\n",
       "  </tbody>\n",
       "</table>\n",
       "</div>"
      ],
      "text/plain": [
       "    movieId                                  title  \\\n",
       "10       11         American President, The (1995)   \n",
       "11       12     Dracula: Dead and Loving It (1995)   \n",
       "12       13                           Balto (1995)   \n",
       "13       14                           Nixon (1995)   \n",
       "14       15                Cutthroat Island (1995)   \n",
       "15       16                          Casino (1995)   \n",
       "16       17           Sense and Sensibility (1995)   \n",
       "17       18                      Four Rooms (1995)   \n",
       "18       19  Ace Ventura: When Nature Calls (1995)   \n",
       "19       20                     Money Train (1995)   \n",
       "\n",
       "                                genres  \n",
       "10                Comedy|Drama|Romance  \n",
       "11                       Comedy|Horror  \n",
       "12        Adventure|Animation|Children  \n",
       "13                               Drama  \n",
       "14            Action|Adventure|Romance  \n",
       "15                         Crime|Drama  \n",
       "16                       Drama|Romance  \n",
       "17                              Comedy  \n",
       "18                              Comedy  \n",
       "19  Action|Comedy|Crime|Drama|Thriller  "
      ]
     },
     "execution_count": 13,
     "metadata": {},
     "output_type": "execute_result"
    }
   ],
   "source": [
    "ml_file_movies_df[10:20]"
   ]
  },
  {
   "cell_type": "code",
   "execution_count": 28,
   "metadata": {
    "scrolled": true
   },
   "outputs": [],
   "source": [
    "#clean titles in ml data\n",
    "#delete any record with empty title\n",
    "ml_file_movies_df= ml_file_movies_df.loc[~(ml_movies_df['title']==\"\")]\n",
    "# extract the year from the title and save it in a new column\n",
    "ml_file_movies_df['year'] =  ml_file_movies_df.title.str.extract(r'\\(([0-9]+)\\)')\n",
    "# remove any parentheses and text in between from the title\n",
    "ml_file_movies_df['title'] = ml_file_movies_df['title'].str.replace(r\"\\(.*\\)\",\"\")\n",
    "#remove white spaces from the title and convert it to lower case\n",
    "ml_file_movies_df.title = ml_file_movies_df.title.str.strip().str.lower()\n",
    "#remove double qoutation from title\n",
    "ml_file_movies_df['title'] = ml_file_movies_df['title'].str.replace(\"\\\"\",\"\")\n",
    "#move \"the\" from the end of the title to the begining\n",
    "ml_file_movies_df['title'] = ml_file_movies_df['title'].apply(lambda row: 'the ' + row.replace(\", the\", \"\") if \", the\" in row else row)"
   ]
  },
  {
   "cell_type": "code",
   "execution_count": null,
   "metadata": {
    "scrolled": true
   },
   "outputs": [],
   "source": []
  },
  {
   "cell_type": "code",
   "execution_count": 29,
   "metadata": {
    "scrolled": true
   },
   "outputs": [
    {
     "data": {
      "text/plain": [
       "<bound method NDFrame.describe of        movieId                        title  \\\n",
       "0            1                    toy story   \n",
       "1            2                      jumanji   \n",
       "2            3             grumpier old men   \n",
       "3            4            waiting to exhale   \n",
       "4            5  father of the bride part ii   \n",
       "...        ...                          ...   \n",
       "62418   209157                           we   \n",
       "62419   209159           window of the soul   \n",
       "62420   209163                    bad poems   \n",
       "62421   209169                 a girl thing   \n",
       "62422   209171      women of devil's island   \n",
       "\n",
       "                                            genres year  \n",
       "0      Adventure|Animation|Children|Comedy|Fantasy  NaN  \n",
       "1                       Adventure|Children|Fantasy  NaN  \n",
       "2                                   Comedy|Romance  NaN  \n",
       "3                             Comedy|Drama|Romance  NaN  \n",
       "4                                           Comedy  NaN  \n",
       "...                                            ...  ...  \n",
       "62418                                        Drama  NaN  \n",
       "62419                                  Documentary  NaN  \n",
       "62420                                 Comedy|Drama  NaN  \n",
       "62421                           (no genres listed)  NaN  \n",
       "62422                       Action|Adventure|Drama  NaN  \n",
       "\n",
       "[62416 rows x 4 columns]>"
      ]
     },
     "execution_count": 29,
     "metadata": {},
     "output_type": "execute_result"
    }
   ],
   "source": [
    "#copy thedata into new dataframe\n",
    "ml_movies_df = ml_file_movies_df.copy()\n",
    "ml_movies_df.describe"
   ]
  },
  {
   "cell_type": "code",
   "execution_count": 20,
   "metadata": {
    "scrolled": true
   },
   "outputs": [
    {
     "data": {
      "text/plain": [
       "'!\"#$%&\\'()*+,-./:;<=>?@[\\\\]^_`{|}~'"
      ]
     },
     "execution_count": 20,
     "metadata": {},
     "output_type": "execute_result"
    }
   ],
   "source": [
    "# importing the string module\n",
    "import string\n",
    "# special characters\n",
    "special_chars = string.punctuation\n",
    "special_chars"
   ]
  },
  {
   "cell_type": "code",
   "execution_count": 30,
   "metadata": {
    "scrolled": true
   },
   "outputs": [
    {
     "data": {
      "text/html": [
       "<div>\n",
       "<style scoped>\n",
       "    .dataframe tbody tr th:only-of-type {\n",
       "        vertical-align: middle;\n",
       "    }\n",
       "\n",
       "    .dataframe tbody tr th {\n",
       "        vertical-align: top;\n",
       "    }\n",
       "\n",
       "    .dataframe thead th {\n",
       "        text-align: right;\n",
       "    }\n",
       "</style>\n",
       "<table border=\"1\" class=\"dataframe\">\n",
       "  <thead>\n",
       "    <tr style=\"text-align: right;\">\n",
       "      <th></th>\n",
       "      <th>movieId</th>\n",
       "      <th>title</th>\n",
       "      <th>genres</th>\n",
       "      <th>year</th>\n",
       "    </tr>\n",
       "  </thead>\n",
       "  <tbody>\n",
       "    <tr>\n",
       "      <th>16130</th>\n",
       "      <td>85177</td>\n",
       "      <td>$</td>\n",
       "      <td>Comedy|Crime|Drama</td>\n",
       "      <td>NaN</td>\n",
       "    </tr>\n",
       "  </tbody>\n",
       "</table>\n",
       "</div>"
      ],
      "text/plain": [
       "       movieId title              genres year\n",
       "16130    85177     $  Comedy|Crime|Drama  NaN"
      ]
     },
     "execution_count": 30,
     "metadata": {},
     "output_type": "execute_result"
    }
   ],
   "source": [
    "ml_movies_df[ml_movies_df.title.apply(lambda title: True if title in special_chars else False)]"
   ]
  },
  {
   "cell_type": "code",
   "execution_count": 23,
   "metadata": {
    "scrolled": true
   },
   "outputs": [],
   "source": [
    "ml_movies_df[ml_movies_df['movieId']==115263]"
   ]
  },
  {
   "cell_type": "code",
   "execution_count": 24,
   "metadata": {
    "scrolled": true
   },
   "outputs": [
    {
     "data": {
      "text/html": [
       "<div>\n",
       "<style scoped>\n",
       "    .dataframe tbody tr th:only-of-type {\n",
       "        vertical-align: middle;\n",
       "    }\n",
       "\n",
       "    .dataframe tbody tr th {\n",
       "        vertical-align: top;\n",
       "    }\n",
       "\n",
       "    .dataframe thead th {\n",
       "        text-align: right;\n",
       "    }\n",
       "</style>\n",
       "<table border=\"1\" class=\"dataframe\">\n",
       "  <thead>\n",
       "    <tr style=\"text-align: right;\">\n",
       "      <th></th>\n",
       "      <th>movieId</th>\n",
       "      <th>title</th>\n",
       "      <th>genres</th>\n",
       "      <th>year</th>\n",
       "    </tr>\n",
       "  </thead>\n",
       "  <tbody>\n",
       "    <tr>\n",
       "      <th>13495</th>\n",
       "      <td>69757</td>\n",
       "      <td></td>\n",
       "      <td>Comedy|Drama|Romance</td>\n",
       "      <td>500</td>\n",
       "    </tr>\n",
       "    <tr>\n",
       "      <th>15292</th>\n",
       "      <td>80729</td>\n",
       "      <td></td>\n",
       "      <td>Comedy|Drama</td>\n",
       "      <td>2009</td>\n",
       "    </tr>\n",
       "    <tr>\n",
       "      <th>22515</th>\n",
       "      <td>115263</td>\n",
       "      <td></td>\n",
       "      <td>Documentary</td>\n",
       "      <td>2011</td>\n",
       "    </tr>\n",
       "    <tr>\n",
       "      <th>34557</th>\n",
       "      <td>145733</td>\n",
       "      <td></td>\n",
       "      <td>Adventure|Children</td>\n",
       "      <td>2011</td>\n",
       "    </tr>\n",
       "    <tr>\n",
       "      <th>35125</th>\n",
       "      <td>147033</td>\n",
       "      <td></td>\n",
       "      <td>Documentary|Thriller</td>\n",
       "      <td>2015</td>\n",
       "    </tr>\n",
       "    <tr>\n",
       "      <th>40668</th>\n",
       "      <td>160010</td>\n",
       "      <td></td>\n",
       "      <td>Documentary</td>\n",
       "      <td>2015</td>\n",
       "    </tr>\n",
       "    <tr>\n",
       "      <th>56000</th>\n",
       "      <td>193219</td>\n",
       "      <td></td>\n",
       "      <td>Comedy|Romance</td>\n",
       "      <td>2018</td>\n",
       "    </tr>\n",
       "  </tbody>\n",
       "</table>\n",
       "</div>"
      ],
      "text/plain": [
       "       movieId title                genres  year\n",
       "13495    69757        Comedy|Drama|Romance   500\n",
       "15292    80729                Comedy|Drama  2009\n",
       "22515   115263                 Documentary  2011\n",
       "34557   145733          Adventure|Children  2011\n",
       "35125   147033        Documentary|Thriller  2015\n",
       "40668   160010                 Documentary  2015\n",
       "56000   193219              Comedy|Romance  2018"
      ]
     },
     "execution_count": 24,
     "metadata": {},
     "output_type": "execute_result"
    }
   ],
   "source": [
    "ml_movies_df[ml_movies_df['title']==\"\"]"
   ]
  },
  {
   "cell_type": "code",
   "execution_count": 31,
   "metadata": {
    "scrolled": true
   },
   "outputs": [],
   "source": [
    "movies_list = ml_movies_df['title'].values.tolist()"
   ]
  },
  {
   "cell_type": "code",
   "execution_count": 32,
   "metadata": {
    "scrolled": true
   },
   "outputs": [
    {
     "name": "stdout",
     "output_type": "stream",
     "text": [
      "Number of movies from MovieLens dataset is 62416 \n"
     ]
    }
   ],
   "source": [
    "print(\"Number of movies from MovieLens dataset is {} \".format(len(movies_list)))"
   ]
  },
  {
   "cell_type": "markdown",
   "metadata": {},
   "source": [
    "# Query DBPedia for MovieLens Data"
   ]
  },
  {
   "cell_type": "code",
   "execution_count": 61,
   "metadata": {
    "scrolled": true
   },
   "outputs": [],
   "source": [
    "#uncomment either the call to query lod to refresh the data or the load from file\n",
    "endpoint = \"https://dbpedia.org/sparql\"\n",
    "return_format = XML\n",
    "request_method= POST\n",
    "chunck_size = 2000\n",
    "#movies_info_result_df = q_helper.retrieve_data_for_movies_list(sparql_query.dbpedia_movies_info_query, movies_list, chunck_size,'string', endpoint, return_format, request_method)\n",
    "movies_info_df = movies_info_result_df[0].copy()\n",
    "failed_movies_info_list = movies_info_result_df[1].copy()\n",
    "#save raw results of movies info query to file\n",
    "movies_info_df.to_csv(\"generated_dataset/dbpedia_movie_info_query_raw_results.csv\",index=False)"
   ]
  },
  {
   "cell_type": "code",
   "execution_count": 38,
   "metadata": {
    "scrolled": true
   },
   "outputs": [],
   "source": [
    "movies_info_df['movie_id']= movies_info_df.pedia_movie.str.split('http://dbpedia.org/resource/').str[1]\n",
    "\n",
    "movies_info_df = movies_info_df.fillna('NOT_FOUND')\n",
    "movies_info_df['country']= movies_info_df['country'].apply(lambda country: \n",
    "                                                 country.split('http://dbpedia.org/resource/')[1] if 'dbpedia.org/resource/' in country else country )\n",
    "\n"
   ]
  },
  {
   "cell_type": "code",
   "execution_count": null,
   "metadata": {
    "scrolled": true
   },
   "outputs": [],
   "source": []
  },
  {
   "cell_type": "code",
   "execution_count": 48,
   "metadata": {
    "scrolled": true
   },
   "outputs": [],
   "source": [
    "#Group movies info results to extract the directors, writers, and titles\n",
    "movies_info_grouped = movies_info_df.groupby(['movie_id','title'], as_index=False)\n",
    "#aggregate the directors and directors in one column for each separated by |\n",
    "dbpedia_info_df = movies_info_grouped.agg({\n",
    "                                        'director_name':lambda x:  '|'.join(set(x)),\n",
    "                                        'writer_name':lambda x: '|'.join(set(x)),                                      \n",
    "                                        'country':lambda x: '|'.join(set(x))\n",
    "                                        })\n",
    "#save grouped data to file\n",
    "dbpedia_info_df.to_csv(\"generated_dataset/dbpedia_movie_info_grouped.csv\", index=False)"
   ]
  },
  {
   "cell_type": "code",
   "execution_count": 40,
   "metadata": {
    "scrolled": true
   },
   "outputs": [
    {
     "data": {
      "text/html": [
       "<div>\n",
       "<style scoped>\n",
       "    .dataframe tbody tr th:only-of-type {\n",
       "        vertical-align: middle;\n",
       "    }\n",
       "\n",
       "    .dataframe tbody tr th {\n",
       "        vertical-align: top;\n",
       "    }\n",
       "\n",
       "    .dataframe thead th {\n",
       "        text-align: right;\n",
       "    }\n",
       "</style>\n",
       "<table border=\"1\" class=\"dataframe\">\n",
       "  <thead>\n",
       "    <tr style=\"text-align: right;\">\n",
       "      <th></th>\n",
       "      <th>movie_id</th>\n",
       "      <th>title</th>\n",
       "      <th>director_name</th>\n",
       "      <th>writer_name</th>\n",
       "      <th>country</th>\n",
       "    </tr>\n",
       "  </thead>\n",
       "  <tbody>\n",
       "    <tr>\n",
       "      <th>0</th>\n",
       "      <td>$9.99</td>\n",
       "      <td>$9.99</td>\n",
       "      <td>Tatia Rosenthal</td>\n",
       "      <td>Tatia Rosenthal|Etgar Keret</td>\n",
       "      <td>Israel|Australia</td>\n",
       "    </tr>\n",
       "    <tr>\n",
       "      <th>1</th>\n",
       "      <td>$_(film)</td>\n",
       "      <td>$</td>\n",
       "      <td>Richard Brooks</td>\n",
       "      <td>Richard Brooks</td>\n",
       "      <td>USA</td>\n",
       "    </tr>\n",
       "    <tr>\n",
       "      <th>2</th>\n",
       "      <td>'68_(film)</td>\n",
       "      <td>'68</td>\n",
       "      <td>Steven Kovacs</td>\n",
       "      <td>Steven Kovacs</td>\n",
       "      <td>United States</td>\n",
       "    </tr>\n",
       "    <tr>\n",
       "      <th>3</th>\n",
       "      <td>'71_(film)</td>\n",
       "      <td>'71</td>\n",
       "      <td>Yann Demange</td>\n",
       "      <td>Gregory Burke</td>\n",
       "      <td>United Kingdom</td>\n",
       "    </tr>\n",
       "    <tr>\n",
       "      <th>4</th>\n",
       "      <td>'Gator_Bait</td>\n",
       "      <td>'Gator Bait</td>\n",
       "      <td>Beverly Sebastion</td>\n",
       "      <td>Beverly Sebastion</td>\n",
       "      <td>United States</td>\n",
       "    </tr>\n",
       "    <tr>\n",
       "      <th>...</th>\n",
       "      <td>...</td>\n",
       "      <td>...</td>\n",
       "      <td>...</td>\n",
       "      <td>...</td>\n",
       "      <td>...</td>\n",
       "    </tr>\n",
       "    <tr>\n",
       "      <th>40282</th>\n",
       "      <td>Zulu_(1964_film)</td>\n",
       "      <td>Zulu</td>\n",
       "      <td>Cy Endfield</td>\n",
       "      <td>Cy Endfield|John Prebble</td>\n",
       "      <td>United Kingdom\\n*United States</td>\n",
       "    </tr>\n",
       "    <tr>\n",
       "      <th>40283</th>\n",
       "      <td>Zulu_(2013_film)</td>\n",
       "      <td>Zulu</td>\n",
       "      <td>Jérôme Salle</td>\n",
       "      <td>Jérôme Salle</td>\n",
       "      <td>France</td>\n",
       "    </tr>\n",
       "    <tr>\n",
       "      <th>40284</th>\n",
       "      <td>Zulu_Dawn</td>\n",
       "      <td>Zulu dawn</td>\n",
       "      <td>Douglas Hickox</td>\n",
       "      <td>Cy Endfield</td>\n",
       "      <td>United States</td>\n",
       "    </tr>\n",
       "    <tr>\n",
       "      <th>40285</th>\n",
       "      <td>Zus_&amp;_Zo</td>\n",
       "      <td>Zus &amp; Zo</td>\n",
       "      <td>Paula van der Oest</td>\n",
       "      <td>Paula van der Oest</td>\n",
       "      <td>Netherlands</td>\n",
       "    </tr>\n",
       "    <tr>\n",
       "      <th>40286</th>\n",
       "      <td>Zvenigora</td>\n",
       "      <td>Zvenigora</td>\n",
       "      <td>Alexander Dovzhenko</td>\n",
       "      <td>Alexander Dovzhenko|Yuriy Tyutyunnyk</td>\n",
       "      <td>Soviet_Union</td>\n",
       "    </tr>\n",
       "  </tbody>\n",
       "</table>\n",
       "<p>40287 rows × 5 columns</p>\n",
       "</div>"
      ],
      "text/plain": [
       "               movie_id        title        director_name  \\\n",
       "0                 $9.99        $9.99      Tatia Rosenthal   \n",
       "1              $_(film)            $       Richard Brooks   \n",
       "2            '68_(film)          '68        Steven Kovacs   \n",
       "3            '71_(film)          '71         Yann Demange   \n",
       "4           'Gator_Bait  'Gator Bait    Beverly Sebastion   \n",
       "...                 ...          ...                  ...   \n",
       "40282  Zulu_(1964_film)         Zulu          Cy Endfield   \n",
       "40283  Zulu_(2013_film)         Zulu         Jérôme Salle   \n",
       "40284         Zulu_Dawn    Zulu dawn       Douglas Hickox   \n",
       "40285          Zus_&_Zo     Zus & Zo   Paula van der Oest   \n",
       "40286         Zvenigora    Zvenigora  Alexander Dovzhenko   \n",
       "\n",
       "                                writer_name                         country  \n",
       "0               Tatia Rosenthal|Etgar Keret                Israel|Australia  \n",
       "1                            Richard Brooks                             USA  \n",
       "2                             Steven Kovacs                   United States  \n",
       "3                             Gregory Burke                  United Kingdom  \n",
       "4                         Beverly Sebastion                   United States  \n",
       "...                                     ...                             ...  \n",
       "40282              Cy Endfield|John Prebble  United Kingdom\\n*United States  \n",
       "40283                          Jérôme Salle                          France  \n",
       "40284                           Cy Endfield                   United States  \n",
       "40285                    Paula van der Oest                     Netherlands  \n",
       "40286  Alexander Dovzhenko|Yuriy Tyutyunnyk                    Soviet_Union  \n",
       "\n",
       "[40287 rows x 5 columns]"
      ]
     },
     "execution_count": 40,
     "metadata": {},
     "output_type": "execute_result"
    }
   ],
   "source": [
    "dbpedia_info_df"
   ]
  },
  {
   "cell_type": "code",
   "execution_count": null,
   "metadata": {
    "scrolled": true
   },
   "outputs": [],
   "source": []
  },
  {
   "cell_type": "markdown",
   "metadata": {},
   "source": [
    "# Data analysis for the retrieved movies info (director, writer, country) from DBpedia"
   ]
  },
  {
   "cell_type": "code",
   "execution_count": 58,
   "metadata": {
    "scrolled": true
   },
   "outputs": [],
   "source": [
    "pedia_info_no_features = len(dbpedia_info_df[\n",
    "                         ((dbpedia_info_df.director_name == 'NOT_FOUND')\n",
    "                          & (dbpedia_info_df.writer_name == 'NOT_FOUND')                          \n",
    "                          & (dbpedia_info_df.country == 'NOT_FOUND'))])\n",
    "\n",
    " \n",
    "pedia_info_all_features = len(dbpedia_info_df[\n",
    "                              ((dbpedia_info_df.director_name != 'NOT_FOUND')\n",
    "                              & (dbpedia_info_df.writer_name != 'NOT_FOUND')                          \n",
    "                              & (dbpedia_info_df.country != 'NOT_FOUND'))])\n",
    "\n",
    "pedia_info_no_country = len(dbpedia_info_df[\n",
    "                             ((dbpedia_info_df.director_name != 'NOT_FOUND')\n",
    "                          &  (dbpedia_info_df.writer_name != 'NOT_FOUND')                          \n",
    "                          &  (dbpedia_info_df.country == 'NOT_FOUND'))])\n",
    "\n",
    "pedia_info_no_writer = len(dbpedia_info_df[\n",
    "                             ((dbpedia_info_df.director_name != 'NOT_FOUND')\n",
    "                          &  (dbpedia_info_df.writer_name == 'NOT_FOUND')                          \n",
    "                          &  (dbpedia_info_df.country != 'NOT_FOUND'))])\n",
    "\n",
    "pedia_info_no_director = len(dbpedia_info_df[\n",
    "                             ((dbpedia_info_df.director_name == 'NOT_FOUND')\n",
    "                          &  (dbpedia_info_df.writer_name != 'NOT_FOUND')                          \n",
    "                          &  (dbpedia_info_df.country != 'NOT_FOUND'))])\n"
   ]
  },
  {
   "cell_type": "code",
   "execution_count": 64,
   "metadata": {
    "scrolled": true
   },
   "outputs": [
    {
     "name": "stdout",
     "output_type": "stream",
     "text": [
      "Number of ML movies retrieved from DBpedia with their info is 40287\n",
      "Number of movies missing all features is 289\n",
      "Number of movies having all features is 29458\n",
      "Number of movies missing ONLY the country feature is 1559\n",
      "Number of movies missing ONLY the writer feature is 5807\n",
      "Number of movies missing ONLY the director feature is 731\n"
     ]
    }
   ],
   "source": [
    "print(\"Number of ML movies retrieved from DBpedia with their info is {}\".format(len(dbpedia_info_df)))\n",
    "print(\"Number of movies missing all features is {}\".format(pedia_info_no_features))\n",
    "print(\"Number of movies having all features is {}\".format(pedia_info_all_features))\n",
    "print(\"Number of movies missing ONLY the country feature is {}\".format(pedia_info_no_country))\n",
    "print(\"Number of movies missing ONLY the writer feature is {}\".format(pedia_info_no_writer))\n",
    "print(\"Number of movies missing ONLY the director feature is {}\".format(pedia_info_no_director))"
   ]
  },
  {
   "cell_type": "markdown",
   "metadata": {},
   "source": []
  },
  {
   "cell_type": "code",
   "execution_count": null,
   "metadata": {
    "scrolled": true
   },
   "outputs": [],
   "source": [
    "# Load DBpedia movies information from last query results\n",
    "#dbpedia_info_df= pd.read_csv(\"generated_dataset/dbpedia_movie_info_grouped.csv\")\n",
    "#dbpedia_info_df"
   ]
  },
  {
   "cell_type": "markdown",
   "metadata": {},
   "source": [
    "# Query DBpedia for the actors of the ML movies"
   ]
  },
  {
   "cell_type": "code",
   "execution_count": 67,
   "metadata": {
    "scrolled": true
   },
   "outputs": [
    {
     "name": "stdout",
     "output_type": "stream",
     "text": [
      "Searching by movie title\n",
      "Processing movies between 0 2000\n",
      "\n",
      "Results data frame length = 10000 \n",
      "\n",
      "Searching by movie title\n",
      "Processing movies between 2000 4000\n",
      "\n",
      "Results data frame length = 20000 \n",
      "\n",
      "Searching by movie title\n",
      "Processing movies between 4000 6000\n",
      "\n",
      "Results data frame length = 29465 \n",
      "\n",
      "Searching by movie title\n",
      "Processing movies between 6000 8000\n",
      "\n",
      "Results data frame length = 38804 \n",
      "\n",
      "Searching by movie title\n",
      "Processing movies between 8000 10000\n",
      "\n",
      "Results data frame length = 47471 \n",
      "\n",
      "Searching by movie title\n",
      "Processing movies between 10000 12000\n",
      "\n",
      "Results data frame length = 56493 \n",
      "\n",
      "Searching by movie title\n",
      "Processing movies between 12000 14000\n",
      "\n",
      "Results data frame length = 64621 \n",
      "\n",
      "Searching by movie title\n",
      "Processing movies between 14000 16000\n",
      "\n",
      "Results data frame length = 72383 \n",
      "\n",
      "Searching by movie title\n",
      "Processing movies between 16000 18000\n",
      "\n",
      "Results data frame length = 79556 \n",
      "\n",
      "Searching by movie title\n",
      "Processing movies between 18000 20000\n",
      "\n",
      "Results data frame length = 86005 \n",
      "\n",
      "Searching by movie title\n",
      "Processing movies between 20000 22000\n",
      "\n",
      "Results data frame length = 92725 \n",
      "\n",
      "Searching by movie title\n",
      "Processing movies between 22000 24000\n",
      "\n",
      "Results data frame length = 99065 \n",
      "\n",
      "Searching by movie title\n",
      "Processing movies between 24000 26000\n",
      "\n",
      "Results data frame length = 106138 \n",
      "\n",
      "Searching by movie title\n",
      "Processing movies between 26000 28000\n",
      "\n",
      "Results data frame length = 111385 \n",
      "\n",
      "Searching by movie title\n",
      "Processing movies between 28000 30000\n",
      "\n",
      "Results data frame length = 116641 \n",
      "\n",
      "Searching by movie title\n",
      "Processing movies between 30000 32000\n",
      "\n",
      "Results data frame length = 121464 \n",
      "\n",
      "Searching by movie title\n",
      "Processing movies between 32000 34000\n",
      "\n",
      "Results data frame length = 126434 \n",
      "\n",
      "Searching by movie title\n",
      "Processing movies between 34000 36000\n",
      "\n",
      "Results data frame length = 131453 \n",
      "\n",
      "Searching by movie title\n",
      "Processing movies between 36000 38000\n",
      "\n",
      "Results data frame length = 136191 \n",
      "\n",
      "Searching by movie title\n",
      "Processing movies between 38000 40000\n",
      "\n",
      "Results data frame length = 140811 \n",
      "\n",
      "Searching by movie title\n",
      "Processing movies between 40000 42000\n",
      "\n",
      "Results data frame length = 145755 \n",
      "\n",
      "Searching by movie title\n",
      "Processing movies between 42000 44000\n",
      "\n",
      "Results data frame length = 150180 \n",
      "\n",
      "Searching by movie title\n",
      "Processing movies between 44000 46000\n",
      "\n",
      "Results data frame length = 153951 \n",
      "\n",
      "Searching by movie title\n",
      "Processing movies between 46000 48000\n",
      "\n",
      "Results data frame length = 157701 \n",
      "\n",
      "Searching by movie title\n",
      "Processing movies between 48000 50000\n",
      "\n",
      "Results data frame length = 161199 \n",
      "\n",
      "Searching by movie title\n",
      "Processing movies between 50000 52000\n",
      "\n",
      "Results data frame length = 164487 \n",
      "\n",
      "Searching by movie title\n",
      "Processing movies between 52000 54000\n",
      "\n",
      "Results data frame length = 167952 \n",
      "\n",
      "Searching by movie title\n",
      "Processing movies between 54000 56000\n",
      "\n",
      "Results data frame length = 171024 \n",
      "\n",
      "Searching by movie title\n",
      "Processing movies between 56000 58000\n",
      "\n",
      "Results data frame length = 173765 \n",
      "\n",
      "Searching by movie title\n",
      "Processing movies between 58000 60000\n",
      "\n",
      "Results data frame length = 176453 \n",
      "\n",
      "Searching by movie title\n",
      "Processing movies between 60000 62000\n",
      "\n",
      "Results data frame length = 179367 \n",
      "\n",
      "Searching by movie title\n",
      "Processing movies between 62000 62416\n",
      "\n",
      "Results data frame length = 179760 \n",
      "\n"
     ]
    }
   ],
   "source": [
    "#uncomment either the query to refresh the data from the source or load the previously retrieved data from file\n",
    "endpoint = \"https://dbpedia.org/sparql\"\n",
    "return_format = XML\n",
    "request_method= POST\n",
    "chunk_size = 2000\n",
    "movies_actors_results_df = q_helper.retrieve_data_for_movies_list(sparql_query.dbpedia_movies_actors_query,movies_list,chunk_size,'string',endpoint, return_format,request_method)\n",
    "movies_actors_df= movies_actors_results_df[0].copy()\n",
    "failed_movies_actors_list = movies_actors_results_df[1].copy()\n",
    "#save movies actors results to file\n",
    "movies_actors_df.to_csv(\"generated_dataset/dbpedia_movies_actors_query_raw_results.csv\",index=False)"
   ]
  },
  {
   "cell_type": "code",
   "execution_count": 68,
   "metadata": {
    "scrolled": true
   },
   "outputs": [
    {
     "data": {
      "text/html": [
       "<div>\n",
       "<style scoped>\n",
       "    .dataframe tbody tr th:only-of-type {\n",
       "        vertical-align: middle;\n",
       "    }\n",
       "\n",
       "    .dataframe tbody tr th {\n",
       "        vertical-align: top;\n",
       "    }\n",
       "\n",
       "    .dataframe thead th {\n",
       "        text-align: right;\n",
       "    }\n",
       "</style>\n",
       "<table border=\"1\" class=\"dataframe\">\n",
       "  <thead>\n",
       "    <tr style=\"text-align: right;\">\n",
       "      <th></th>\n",
       "      <th>pedia_movie</th>\n",
       "      <th>title</th>\n",
       "      <th>actor_name</th>\n",
       "    </tr>\n",
       "  </thead>\n",
       "  <tbody>\n",
       "    <tr>\n",
       "      <th>0</th>\n",
       "      <td>http://dbpedia.org/resource/Heat_(1995_film)</td>\n",
       "      <td>Heat</td>\n",
       "      <td>Al Pacino</td>\n",
       "    </tr>\n",
       "    <tr>\n",
       "      <th>1</th>\n",
       "      <td>http://dbpedia.org/resource/Miller's_Crossing</td>\n",
       "      <td>Miller's Crossing</td>\n",
       "      <td>Albert Finney</td>\n",
       "    </tr>\n",
       "    <tr>\n",
       "      <th>2</th>\n",
       "      <td>http://dbpedia.org/resource/Multiplicity_(film)</td>\n",
       "      <td>Multiplicity</td>\n",
       "      <td>Andie MacDowell</td>\n",
       "    </tr>\n",
       "    <tr>\n",
       "      <th>3</th>\n",
       "      <td>http://dbpedia.org/resource/Evita_(1996_film)</td>\n",
       "      <td>Evita</td>\n",
       "      <td>Antonio Banderas</td>\n",
       "    </tr>\n",
       "    <tr>\n",
       "      <th>4</th>\n",
       "      <td>http://dbpedia.org/resource/Heat_(1995_film)</td>\n",
       "      <td>Heat</td>\n",
       "      <td>Ashley Judd</td>\n",
       "    </tr>\n",
       "    <tr>\n",
       "      <th>...</th>\n",
       "      <td>...</td>\n",
       "      <td>...</td>\n",
       "      <td>...</td>\n",
       "    </tr>\n",
       "    <tr>\n",
       "      <th>388</th>\n",
       "      <td>http://dbpedia.org/resource/Instinct_(1930_film)</td>\n",
       "      <td>Instinct</td>\n",
       "      <td>None</td>\n",
       "    </tr>\n",
       "    <tr>\n",
       "      <th>389</th>\n",
       "      <td>http://dbpedia.org/resource/Seventeen_(1940_film)</td>\n",
       "      <td>Seventeen</td>\n",
       "      <td>Otto Kruger</td>\n",
       "    </tr>\n",
       "    <tr>\n",
       "      <th>390</th>\n",
       "      <td>http://dbpedia.org/resource/Seventeen_(1940_film)</td>\n",
       "      <td>Seventeen</td>\n",
       "      <td>Jackie Cooper</td>\n",
       "    </tr>\n",
       "    <tr>\n",
       "      <th>391</th>\n",
       "      <td>http://dbpedia.org/resource/Seventeen_(1940_film)</td>\n",
       "      <td>Seventeen</td>\n",
       "      <td>Ann Shoemaker</td>\n",
       "    </tr>\n",
       "    <tr>\n",
       "      <th>392</th>\n",
       "      <td>http://dbpedia.org/resource/Seventeen_(1940_film)</td>\n",
       "      <td>Seventeen</td>\n",
       "      <td>Betty Field</td>\n",
       "    </tr>\n",
       "  </tbody>\n",
       "</table>\n",
       "<p>179760 rows × 3 columns</p>\n",
       "</div>"
      ],
      "text/plain": [
       "                                           pedia_movie              title  \\\n",
       "0         http://dbpedia.org/resource/Heat_(1995_film)               Heat   \n",
       "1        http://dbpedia.org/resource/Miller's_Crossing  Miller's Crossing   \n",
       "2      http://dbpedia.org/resource/Multiplicity_(film)       Multiplicity   \n",
       "3        http://dbpedia.org/resource/Evita_(1996_film)              Evita   \n",
       "4         http://dbpedia.org/resource/Heat_(1995_film)               Heat   \n",
       "..                                                 ...                ...   \n",
       "388   http://dbpedia.org/resource/Instinct_(1930_film)           Instinct   \n",
       "389  http://dbpedia.org/resource/Seventeen_(1940_film)          Seventeen   \n",
       "390  http://dbpedia.org/resource/Seventeen_(1940_film)          Seventeen   \n",
       "391  http://dbpedia.org/resource/Seventeen_(1940_film)          Seventeen   \n",
       "392  http://dbpedia.org/resource/Seventeen_(1940_film)          Seventeen   \n",
       "\n",
       "           actor_name  \n",
       "0           Al Pacino  \n",
       "1       Albert Finney  \n",
       "2     Andie MacDowell  \n",
       "3    Antonio Banderas  \n",
       "4         Ashley Judd  \n",
       "..                ...  \n",
       "388              None  \n",
       "389       Otto Kruger  \n",
       "390     Jackie Cooper  \n",
       "391     Ann Shoemaker  \n",
       "392       Betty Field  \n",
       "\n",
       "[179760 rows x 3 columns]"
      ]
     },
     "execution_count": 68,
     "metadata": {},
     "output_type": "execute_result"
    }
   ],
   "source": [
    "movies_actors_df"
   ]
  },
  {
   "cell_type": "code",
   "execution_count": 69,
   "metadata": {
    "scrolled": true
   },
   "outputs": [],
   "source": [
    "\n",
    "#create movie id by extracting the dbpedia movie id from the link\n",
    "movies_actors_df['movie_id']= movies_actors_df.pedia_movie.str.split('http://dbpedia.org/resource/').str[1]\n",
    "movies_actors_df = movies_actors_df.fillna('NOT_FOUND')"
   ]
  },
  {
   "cell_type": "code",
   "execution_count": 70,
   "metadata": {
    "scrolled": true
   },
   "outputs": [
    {
     "data": {
      "text/html": [
       "<div>\n",
       "<style scoped>\n",
       "    .dataframe tbody tr th:only-of-type {\n",
       "        vertical-align: middle;\n",
       "    }\n",
       "\n",
       "    .dataframe tbody tr th {\n",
       "        vertical-align: top;\n",
       "    }\n",
       "\n",
       "    .dataframe thead th {\n",
       "        text-align: right;\n",
       "    }\n",
       "</style>\n",
       "<table border=\"1\" class=\"dataframe\">\n",
       "  <thead>\n",
       "    <tr style=\"text-align: right;\">\n",
       "      <th></th>\n",
       "      <th>pedia_movie</th>\n",
       "      <th>title</th>\n",
       "      <th>actor_name</th>\n",
       "      <th>movie_id</th>\n",
       "    </tr>\n",
       "  </thead>\n",
       "  <tbody>\n",
       "    <tr>\n",
       "      <th>0</th>\n",
       "      <td>http://dbpedia.org/resource/Heat_(1995_film)</td>\n",
       "      <td>Heat</td>\n",
       "      <td>Al Pacino</td>\n",
       "      <td>Heat_(1995_film)</td>\n",
       "    </tr>\n",
       "    <tr>\n",
       "      <th>1</th>\n",
       "      <td>http://dbpedia.org/resource/Miller's_Crossing</td>\n",
       "      <td>Miller's Crossing</td>\n",
       "      <td>Albert Finney</td>\n",
       "      <td>Miller's_Crossing</td>\n",
       "    </tr>\n",
       "    <tr>\n",
       "      <th>2</th>\n",
       "      <td>http://dbpedia.org/resource/Multiplicity_(film)</td>\n",
       "      <td>Multiplicity</td>\n",
       "      <td>Andie MacDowell</td>\n",
       "      <td>Multiplicity_(film)</td>\n",
       "    </tr>\n",
       "    <tr>\n",
       "      <th>3</th>\n",
       "      <td>http://dbpedia.org/resource/Evita_(1996_film)</td>\n",
       "      <td>Evita</td>\n",
       "      <td>Antonio Banderas</td>\n",
       "      <td>Evita_(1996_film)</td>\n",
       "    </tr>\n",
       "    <tr>\n",
       "      <th>4</th>\n",
       "      <td>http://dbpedia.org/resource/Heat_(1995_film)</td>\n",
       "      <td>Heat</td>\n",
       "      <td>Ashley Judd</td>\n",
       "      <td>Heat_(1995_film)</td>\n",
       "    </tr>\n",
       "    <tr>\n",
       "      <th>...</th>\n",
       "      <td>...</td>\n",
       "      <td>...</td>\n",
       "      <td>...</td>\n",
       "      <td>...</td>\n",
       "    </tr>\n",
       "    <tr>\n",
       "      <th>388</th>\n",
       "      <td>http://dbpedia.org/resource/Instinct_(1930_film)</td>\n",
       "      <td>Instinct</td>\n",
       "      <td>NOT_FOUND</td>\n",
       "      <td>Instinct_(1930_film)</td>\n",
       "    </tr>\n",
       "    <tr>\n",
       "      <th>389</th>\n",
       "      <td>http://dbpedia.org/resource/Seventeen_(1940_film)</td>\n",
       "      <td>Seventeen</td>\n",
       "      <td>Otto Kruger</td>\n",
       "      <td>Seventeen_(1940_film)</td>\n",
       "    </tr>\n",
       "    <tr>\n",
       "      <th>390</th>\n",
       "      <td>http://dbpedia.org/resource/Seventeen_(1940_film)</td>\n",
       "      <td>Seventeen</td>\n",
       "      <td>Jackie Cooper</td>\n",
       "      <td>Seventeen_(1940_film)</td>\n",
       "    </tr>\n",
       "    <tr>\n",
       "      <th>391</th>\n",
       "      <td>http://dbpedia.org/resource/Seventeen_(1940_film)</td>\n",
       "      <td>Seventeen</td>\n",
       "      <td>Ann Shoemaker</td>\n",
       "      <td>Seventeen_(1940_film)</td>\n",
       "    </tr>\n",
       "    <tr>\n",
       "      <th>392</th>\n",
       "      <td>http://dbpedia.org/resource/Seventeen_(1940_film)</td>\n",
       "      <td>Seventeen</td>\n",
       "      <td>Betty Field</td>\n",
       "      <td>Seventeen_(1940_film)</td>\n",
       "    </tr>\n",
       "  </tbody>\n",
       "</table>\n",
       "<p>179760 rows × 4 columns</p>\n",
       "</div>"
      ],
      "text/plain": [
       "                                           pedia_movie              title  \\\n",
       "0         http://dbpedia.org/resource/Heat_(1995_film)               Heat   \n",
       "1        http://dbpedia.org/resource/Miller's_Crossing  Miller's Crossing   \n",
       "2      http://dbpedia.org/resource/Multiplicity_(film)       Multiplicity   \n",
       "3        http://dbpedia.org/resource/Evita_(1996_film)              Evita   \n",
       "4         http://dbpedia.org/resource/Heat_(1995_film)               Heat   \n",
       "..                                                 ...                ...   \n",
       "388   http://dbpedia.org/resource/Instinct_(1930_film)           Instinct   \n",
       "389  http://dbpedia.org/resource/Seventeen_(1940_film)          Seventeen   \n",
       "390  http://dbpedia.org/resource/Seventeen_(1940_film)          Seventeen   \n",
       "391  http://dbpedia.org/resource/Seventeen_(1940_film)          Seventeen   \n",
       "392  http://dbpedia.org/resource/Seventeen_(1940_film)          Seventeen   \n",
       "\n",
       "           actor_name               movie_id  \n",
       "0           Al Pacino       Heat_(1995_film)  \n",
       "1       Albert Finney      Miller's_Crossing  \n",
       "2     Andie MacDowell    Multiplicity_(film)  \n",
       "3    Antonio Banderas      Evita_(1996_film)  \n",
       "4         Ashley Judd       Heat_(1995_film)  \n",
       "..                ...                    ...  \n",
       "388         NOT_FOUND   Instinct_(1930_film)  \n",
       "389       Otto Kruger  Seventeen_(1940_film)  \n",
       "390     Jackie Cooper  Seventeen_(1940_film)  \n",
       "391     Ann Shoemaker  Seventeen_(1940_film)  \n",
       "392       Betty Field  Seventeen_(1940_film)  \n",
       "\n",
       "[179760 rows x 4 columns]"
      ]
     },
     "execution_count": 70,
     "metadata": {},
     "output_type": "execute_result"
    }
   ],
   "source": [
    "movies_actors_df"
   ]
  },
  {
   "cell_type": "code",
   "execution_count": 71,
   "metadata": {
    "scrolled": true
   },
   "outputs": [],
   "source": [
    "#group the actors per movie and save data to file\n",
    "movies_actors_grouped = movies_actors_df.groupby(['movie_id'], as_index=False)\n",
    "\n",
    "#aggregate the actors in one column for each movie separated by |\n",
    "dbpedia_movies_actors_df = movies_actors_grouped.agg({'actor_name':lambda x: '|'.join(set(x))\n",
    "                                         })\n",
    "\n",
    "dbpedia_movies_actors_df.to_csv(\"generated_dataset/dbpedia_actors_grouped.csv\",index=False)\n"
   ]
  },
  {
   "cell_type": "code",
   "execution_count": 72,
   "metadata": {
    "scrolled": true
   },
   "outputs": [
    {
     "data": {
      "text/plain": [
       "<bound method NDFrame.describe of                movie_id                                         actor_name\n",
       "0                 $9.99                     Geoffrey Rush|Anthony LaPaglia\n",
       "1              $_(film)  Warren Beatty|Gert Fröbe|Scott Brady|Goldie Ha...\n",
       "2            '68_(film)                                          NOT_FOUND\n",
       "3            '71_(film)  Paul Popplewell|Sean Harris|Jack O'Connell (ac...\n",
       "4           'Gator_Bait                                   Claudia Jennings\n",
       "...                 ...                                                ...\n",
       "40177  Zulu_(1964_film)  Jack Hawkins|Nigel Green|James Booth|Stanley B...\n",
       "40178  Zulu_(2013_film)                      Forest Whitaker|Orlando Bloom\n",
       "40179         Zulu_Dawn  Simon Ward|Ronald Lacey|Peter O'Toole|Bob Hosk...\n",
       "40180          Zus_&_Zo          Monic Hendrickx|Halina Reijn|Jacob Derwig\n",
       "40181         Zvenigora                                          NOT_FOUND\n",
       "\n",
       "[40182 rows x 2 columns]>"
      ]
     },
     "execution_count": 72,
     "metadata": {},
     "output_type": "execute_result"
    }
   ],
   "source": [
    "dbpedia_movies_actors_df.describe"
   ]
  },
  {
   "cell_type": "code",
   "execution_count": 73,
   "metadata": {
    "scrolled": true
   },
   "outputs": [
    {
     "data": {
      "text/plain": [
       "False"
      ]
     },
     "execution_count": 73,
     "metadata": {},
     "output_type": "execute_result"
    }
   ],
   "source": [
    "dbpedia_movies_actors_df.isnull().values.any()"
   ]
  },
  {
   "cell_type": "code",
   "execution_count": null,
   "metadata": {
    "scrolled": true
   },
   "outputs": [],
   "source": []
  },
  {
   "cell_type": "code",
   "execution_count": 74,
   "metadata": {
    "scrolled": true
   },
   "outputs": [],
   "source": [
    "dbpedia_movies_no_actors = len(dbpedia_movies_actors_df[(dbpedia_movies_actors_df.actor_name == 'NOT_FOUND')])\n"
   ]
  },
  {
   "cell_type": "code",
   "execution_count": 75,
   "metadata": {
    "scrolled": true
   },
   "outputs": [
    {
     "name": "stdout",
     "output_type": "stream",
     "text": [
      "Number of ML movies found in DBpedia while querying for actors is 40182\n",
      "Number of movies missing actors is 5754\n"
     ]
    }
   ],
   "source": [
    "print(\"Number of ML movies found in DBpedia while querying for actors is {}\".format(len(dbpedia_movies_actors_df)))\n",
    "print(\"Number of movies retrieved from DBpedia and missing actors is {}\".format(dbpedia_movies_no_actors))"
   ]
  },
  {
   "cell_type": "code",
   "execution_count": null,
   "metadata": {
    "scrolled": true
   },
   "outputs": [],
   "source": [
    "# Load DBpedia movies actors from last query results\n",
    "#dbpedia_movies_actors_df= pd.read_csv(\"generated_dataset/dbpedia_actors_grouped.csv\")\n",
    "#dbpedia_movies_actors_df"
   ]
  },
  {
   "cell_type": "code",
   "execution_count": null,
   "metadata": {
    "scrolled": true
   },
   "outputs": [],
   "source": []
  },
  {
   "cell_type": "code",
   "execution_count": null,
   "metadata": {
    "scrolled": true
   },
   "outputs": [],
   "source": [
    "#merge dbpedia dataframes to create a combined yago dataset with the attributes, movie_id,title,actor_name,director_name,genre,country\n",
    "dbpedia_movies_df = dbpedia_info_df.merge(dbpedia_movies_actors_df, how=\"inner\", on=['movie_id'])\n",
    "\n",
    "dbpedia_movies_df.reset_index(drop= True)\n",
    "dbpedia_movies_df"
   ]
  },
  {
   "cell_type": "code",
   "execution_count": null,
   "metadata": {
    "scrolled": true
   },
   "outputs": [],
   "source": []
  },
  {
   "cell_type": "code",
   "execution_count": null,
   "metadata": {
    "scrolled": true
   },
   "outputs": [],
   "source": []
  },
  {
   "cell_type": "code",
   "execution_count": null,
   "metadata": {
    "scrolled": true
   },
   "outputs": [],
   "source": []
  },
  {
   "cell_type": "markdown",
   "metadata": {},
   "source": [
    "# Query YAGO for MovieLens Data"
   ]
  },
  {
   "cell_type": "code",
   "execution_count": 115,
   "metadata": {
    "scrolled": true
   },
   "outputs": [
    {
     "name": "stdout",
     "output_type": "stream",
     "text": [
      "<SPARQLWrapper.SmartWrapper.Bindings object at 0x00000239BD27E8B0>\n"
     ]
    }
   ],
   "source": [
    "def retrieve_data_for_movies_list(query, search_list, chunck_size, search_data_type, endpoint, return_format,request_method):\n",
    "    \n",
    "    data_chunck = [movie.strip().lower() for movie in search_list]\n",
    "    final_search_list = '\\\"\"\"' + '\\\"\"\",\\\"\"\"'.join(data_chunck) + '\\\"\"\"' \n",
    "    sparql = SPARQLWrapper2(\"https://yago-knowledge.org/sparql/query\")  \n",
    "    #sparql.setReturnFormat(JSON)\n",
    "    #sparql.setRequestMethod(POST)\n",
    "    sparql.setQuery(query%final_search_list) \n",
    "    results = sparql.query()\n",
    "   # results = execute_query_for_movies_list(query,final_search_list,endpoint, return_format,request_method)       \n",
    "    print(results)\n",
    "\n",
    "    return results\n",
    "results = retrieve_data_for_movies_list(sparql_query.yago_movie_info_query, movies_list[0:5], chunck_size,'string', endpoint, return_format, request_method)"
   ]
  },
  {
   "cell_type": "code",
   "execution_count": 93,
   "metadata": {
    "scrolled": true
   },
   "outputs": [],
   "source": [
    "def get_sparql_dataframe(result):\n",
    "    \"\"\"\n",
    "    Helper function to convert SPARQL results into a Pandas data frame.\n",
    "    \"\"\"\n",
    "    processed_results = result.fullResult\n",
    "    processed_results\n",
    "    cols = processed_results['head']['vars']\n",
    "   # print(cols)\n",
    "\n",
    "    out = []\n",
    "    for row in processed_results['results']['bindings']:\n",
    "        item = []\n",
    "        for c in cols:\n",
    "            item.append(row.get(c, {}).get('value'))\n",
    "        out.append(item)\n",
    "\n",
    "    return pd.DataFrame(out, columns=cols)\n",
    "\n",
    "#function to retrieve the actors for list of movies\n",
    "def execute_query(query, endpoint, return_format):\n",
    "    sparql = SPARQLWrapper2(endpoint)  \n",
    "    sparql.setQuery(query) \n",
    "    sparql.setReturnFormat(return_format)   \n",
    "    sparql.setMethod(POST)\n",
    "  \n",
    "    results = sparql.query()\n",
    "    return results\n",
    "\n",
    "def execute_query_for_movies_list(query,movies_list, endpoint,return_format,request_method):\n",
    "    sparql = SPARQLWrapper2(endpoint)  \n",
    "    sparql.setQuery(query%movies_list) \n",
    "   # print(sparql.queryString)\n",
    "    sparql.setReturnFormat(return_format)   \n",
    "    sparql.setMethod(request_method)\n",
    "   # print(sparql)\n",
    "    results = sparql.query()\n",
    "    \n",
    "    return results\n"
   ]
  },
  {
   "cell_type": "code",
   "execution_count": null,
   "metadata": {
    "scrolled": true
   },
   "outputs": [
    {
     "name": "stdout",
     "output_type": "stream",
     "text": [
      "Searching by movie title\n",
      "Processing movies between 0 500\n",
      "\n",
      "Results data frame length = 1802 \n",
      "\n",
      "Searching by movie title\n",
      "Processing movies between 500 1000\n",
      "\n",
      "Results data frame length = 3899 \n",
      "\n",
      "Searching by movie title\n",
      "Processing movies between 1000 1500\n",
      "\n",
      "Results data frame length = 5789 \n",
      "\n",
      "Searching by movie title\n",
      "Processing movies between 1500 2000\n",
      "\n",
      "Results data frame length = 7622 \n",
      "\n",
      "Searching by movie title\n",
      "Processing movies between 2000 2500\n",
      "\n",
      "Results data frame length = 9451 \n",
      "\n",
      "Searching by movie title\n",
      "Processing movies between 2500 3000\n",
      "\n",
      "Results data frame length = 11441 \n",
      "\n",
      "Searching by movie title\n",
      "Processing movies between 3000 3500\n",
      "\n",
      "Results data frame length = 13086 \n",
      "\n",
      "Searching by movie title\n",
      "Processing movies between 3500 4000\n",
      "\n",
      "Results data frame length = 14864 \n",
      "\n",
      "Searching by movie title\n",
      "Processing movies between 4000 4500\n",
      "\n",
      "Results data frame length = 16647 \n",
      "\n",
      "Searching by movie title\n",
      "Processing movies between 4500 5000\n",
      "\n",
      "Results data frame length = 18385 \n",
      "\n",
      "Searching by movie title\n",
      "Processing movies between 5000 5500\n",
      "\n",
      "Results data frame length = 20005 \n",
      "\n",
      "Searching by movie title\n",
      "Processing movies between 5500 6000\n",
      "\n",
      "Results data frame length = 21738 \n",
      "\n",
      "Searching by movie title\n",
      "Processing movies between 6000 6500\n",
      "\n",
      "Results data frame length = 23143 \n",
      "\n",
      "Searching by movie title\n",
      "Processing movies between 6500 7000\n",
      "\n"
     ]
    }
   ],
   "source": [
    "#uncomment either the call to query yago to refresh the data or the load from file\n",
    "#endpoint = \"http://yago-knowledge.org/sparql\"\n",
    "endpoint=\"https://yago-knowledge.org/sparql/query\"\n",
    "return_format = JSON\n",
    "request_method= POST\n",
    "chunck_size = 500\n",
    "movies_info_result_df1 = q_helper.retrieve_data_for_movies_list(sparql_query.yago_movie_info_query, movies_list, chunck_size,'string', endpoint, return_format, request_method)\n",
    "movies_info_df1 = movies_info_result_df[0].copy()\n",
    "failed_movies_info_list = movies_info_result_df[1].copy()\n",
    "#save raw results of movies info query to file\n",
    "#movies_info_df.to_csv(\"generated_dataset/yago_movie_info_query_raw_results.csv\",index=False)"
   ]
  },
  {
   "cell_type": "code",
   "execution_count": null,
   "metadata": {
    "scrolled": true
   },
   "outputs": [],
   "source": []
  },
  {
   "cell_type": "code",
   "execution_count": null,
   "metadata": {
    "scrolled": true
   },
   "outputs": [],
   "source": [
    "movies_info_df = movies_info_df.fillna('NOT_FOUND')"
   ]
  },
  {
   "cell_type": "code",
   "execution_count": null,
   "metadata": {
    "scrolled": true
   },
   "outputs": [],
   "source": [
    "movies_info_df.info()"
   ]
  },
  {
   "cell_type": "code",
   "execution_count": null,
   "metadata": {
    "scrolled": true
   },
   "outputs": [],
   "source": [
    "#Group movies info results to extract the directors, writers, and titles\n",
    "movies_info_grouped = movies_info_df.groupby(['movie_id','title'], as_index=False)\n",
    "#aggregate the directors and directors in one column for each separated by |\n",
    "yago_info_df = movies_info_grouped.agg({\n",
    "                                        'director_name':lambda x: np.nan if x is None else '|'.join(set(x)),\n",
    "                                        'genre':lambda x: '|'.join(set(x)),                                      \n",
    "                                        'country':lambda x: '|'.join(set(x))\n",
    "                                        })\n",
    "#save grouped data to file\n",
    "yago_info_df.to_csv(\"generated_dataset/yago_movie_info_grouped.csv\", index=False)"
   ]
  },
  {
   "cell_type": "code",
   "execution_count": null,
   "metadata": {
    "scrolled": true
   },
   "outputs": [],
   "source": [
    "yago_info_df.describe"
   ]
  },
  {
   "cell_type": "code",
   "execution_count": null,
   "metadata": {
    "scrolled": true
   },
   "outputs": [],
   "source": [
    "print(\"Number of ML movies retrieved from YAGO with their info is {}\".format(len(yago_info_df)))"
   ]
  },
  {
   "cell_type": "markdown",
   "metadata": {},
   "source": [
    "# Load yago movies information"
   ]
  },
  {
   "cell_type": "code",
   "execution_count": null,
   "metadata": {
    "scrolled": true
   },
   "outputs": [],
   "source": [
    "yago_info_df= pd.read_csv(\"generated_dataset/yago_movie_info_grouped.csv\")\n",
    "yago_info_df"
   ]
  },
  {
   "cell_type": "code",
   "execution_count": null,
   "metadata": {
    "scrolled": true
   },
   "outputs": [],
   "source": []
  },
  {
   "cell_type": "markdown",
   "metadata": {},
   "source": [
    "# Query YAGO for the actors of the ML movies"
   ]
  },
  {
   "cell_type": "code",
   "execution_count": null,
   "metadata": {
    "scrolled": true
   },
   "outputs": [],
   "source": [
    "#uncomment either the query to refresh the data from the source or load the previously retrieved data from file\n",
    "#endpoint = \"https://yago-knowledge.org/sparql\"\n",
    "endpoint=\"http://lod2.openlinksw.com/sparql\"\n",
    "return_format = XML\n",
    "request_method= POST\n",
    "chunk_size = 2000\n",
    "#movies_actors_results_df = q_helper.retrieve_data_for_movies_list(sparql_query.yago_movies_actors_query,movies_list,chunk_size,'string',endpoint, return_format,request_method)\n",
    "movies_actors_df= movies_actors_results_df[0].copy()\n",
    "failed_movies_actors_list = movies_actors_results_df[1].copy()"
   ]
  },
  {
   "cell_type": "code",
   "execution_count": null,
   "metadata": {
    "scrolled": true
   },
   "outputs": [],
   "source": [
    "movies_actors_df.describe"
   ]
  },
  {
   "cell_type": "code",
   "execution_count": null,
   "metadata": {
    "scrolled": true
   },
   "outputs": [],
   "source": []
  },
  {
   "cell_type": "code",
   "execution_count": null,
   "metadata": {
    "scrolled": true
   },
   "outputs": [],
   "source": [
    "movies_actors_df = movies_actors_df.fillna('NOT_FOUND')"
   ]
  },
  {
   "cell_type": "code",
   "execution_count": null,
   "metadata": {
    "scrolled": true
   },
   "outputs": [],
   "source": [
    "#group the actors per movie and save data to file\n",
    "movies_actors_grouped = movies_actors_df.groupby(['movie_id'], as_index=False)\n",
    "\n",
    "#aggregate the actors in one column for each movie separated by |\n",
    "yago_movies_actors_df = movies_actors_grouped.agg({'actor_name':lambda x: '|'.join(set(x))\n",
    "                                         })\n",
    "\n",
    "yago_movies_actors_df.to_csv(\"generated_dataset/yago_actors_grouped.csv\",index=False)\n"
   ]
  },
  {
   "cell_type": "code",
   "execution_count": null,
   "metadata": {
    "scrolled": true
   },
   "outputs": [],
   "source": [
    "yago_movies_actors_df.describe"
   ]
  },
  {
   "cell_type": "code",
   "execution_count": null,
   "metadata": {
    "scrolled": true
   },
   "outputs": [],
   "source": [
    "yago_movies_actors_df.isnull().values.any()"
   ]
  },
  {
   "cell_type": "code",
   "execution_count": null,
   "metadata": {
    "scrolled": true
   },
   "outputs": [],
   "source": [
    "print(\"Number of ML movies retrieved from LOD with their actors is {}\".format(len(dbpedia_movies_actors_df)))"
   ]
  },
  {
   "cell_type": "markdown",
   "metadata": {},
   "source": [
    "# Load movies actors from last query results"
   ]
  },
  {
   "cell_type": "code",
   "execution_count": null,
   "metadata": {
    "scrolled": true
   },
   "outputs": [],
   "source": [
    "yago_movies_actors_df= pd.read_csv(\"generated_dataset/yago_actors_grouped.csv\")\n",
    "yago_movies_actors_df"
   ]
  },
  {
   "cell_type": "markdown",
   "metadata": {},
   "source": [
    "# Merge the actors dataframe with the movies information to create one dataframe for YAGO movies"
   ]
  },
  {
   "cell_type": "code",
   "execution_count": null,
   "metadata": {
    "scrolled": true
   },
   "outputs": [],
   "source": [
    "#merge yago dataframes to create a combined yago dataset with the attributes, movie_id,title,actor_name,director_name,genre,country\n",
    "yago_movies_df = yago_info_df.merge(yago_movies_actors_df, how=\"inner\", on=['movie_id'])\n",
    "\n",
    "yago_movies_df.reset_index(drop= True)\n",
    "yago_movies_df"
   ]
  },
  {
   "cell_type": "code",
   "execution_count": null,
   "metadata": {
    "scrolled": true
   },
   "outputs": [],
   "source": [
    "final_movies_df = yago_movies_df.merge(dbpedia_movies_df, how=\"outer\", on=['movie_id','title'])\n",
    "final_movies_df = final_movies_df.fillna('NOT_FOUND')\n",
    "final_movies_df.describe"
   ]
  },
  {
   "cell_type": "code",
   "execution_count": null,
   "metadata": {
    "scrolled": true
   },
   "outputs": [],
   "source": []
  },
  {
   "cell_type": "code",
   "execution_count": null,
   "metadata": {
    "scrolled": true
   },
   "outputs": [],
   "source": []
  },
  {
   "cell_type": "code",
   "execution_count": null,
   "metadata": {
    "scrolled": true
   },
   "outputs": [],
   "source": [
    "\n"
   ]
  },
  {
   "cell_type": "code",
   "execution_count": null,
   "metadata": {
    "scrolled": true
   },
   "outputs": [],
   "source": []
  },
  {
   "cell_type": "code",
   "execution_count": null,
   "metadata": {
    "scrolled": true
   },
   "outputs": [],
   "source": []
  },
  {
   "cell_type": "code",
   "execution_count": null,
   "metadata": {
    "scrolled": true
   },
   "outputs": [],
   "source": []
  },
  {
   "cell_type": "code",
   "execution_count": null,
   "metadata": {
    "scrolled": true
   },
   "outputs": [],
   "source": [
    "to_keep_val = \"NOT_FOUND\"\n",
    "other_val = \"other_val\"\n",
    "\n",
    "def select_values(to_keep_val, other_val):\n",
    "    if (str(to_keep_val) != \"NOT_FOUND\"):\n",
    "        return to_keep_val\n",
    "    else:\n",
    "        return other_val\n",
    "    \n",
    "select_values(to_keep_val, other_val)\n",
    "\n",
    "\n",
    "final_movies_df['actor_name'] = final_movies_df.progress_apply(lambda row: select_values(row.actor_name_y, row.actor_name_x), axis=1)\n",
    "final_movies_df['director_name'] = final_movies_df.progress_apply(lambda row: select_values(row.director_name_x, row.director_name_y), axis=1)\n",
    "final_movies_df['country'] = final_movies_df.progress_apply(lambda row: select_values(row.country_x, row.country_y), axis=1)"
   ]
  },
  {
   "cell_type": "code",
   "execution_count": null,
   "metadata": {
    "scrolled": true
   },
   "outputs": [],
   "source": [
    "final_movies_df[['actor_name_x','actor_name_y', 'actor_name']].head(50)"
   ]
  },
  {
   "cell_type": "code",
   "execution_count": null,
   "metadata": {
    "scrolled": true
   },
   "outputs": [],
   "source": [
    "final_movies_df[['director_name_x','director_name_y', 'director_name']].head(50)"
   ]
  },
  {
   "cell_type": "code",
   "execution_count": null,
   "metadata": {
    "scrolled": true
   },
   "outputs": [],
   "source": [
    "final_movies_df"
   ]
  },
  {
   "cell_type": "code",
   "execution_count": null,
   "metadata": {
    "scrolled": true
   },
   "outputs": [],
   "source": [
    "all_movies_df = final_movies_df[['movie_id','title','actor_name','director_name','writer_name','country','genre']].copy()"
   ]
  },
  {
   "cell_type": "code",
   "execution_count": null,
   "metadata": {
    "scrolled": true
   },
   "outputs": [],
   "source": [
    "all_movies_df"
   ]
  },
  {
   "cell_type": "code",
   "execution_count": null,
   "metadata": {
    "scrolled": true
   },
   "outputs": [],
   "source": [
    "#remove duplicated movie_id\n",
    "all_movies_df= all_movies_df[~all_movies_df.duplicated('movie_id')]\n",
    "all_movies_df"
   ]
  },
  {
   "cell_type": "code",
   "execution_count": null,
   "metadata": {
    "scrolled": true
   },
   "outputs": [],
   "source": [
    "all_movies_df.duplicated('movie_id').any().sum()"
   ]
  },
  {
   "cell_type": "code",
   "execution_count": null,
   "metadata": {
    "scrolled": true
   },
   "outputs": [],
   "source": [
    "all_movies_df = all_movies_df[~((all_movies_df.actor_name == 'NOT_FOUND')\n",
    "                          & (all_movies_df.director_name == 'NOT_FOUND')\n",
    "                          & (all_movies_df.writer_name == 'NOT_FOUND')\n",
    "                          & (all_movies_df.genre == 'NOT_FOUND')\n",
    "                          & (all_movies_df.country == 'NOT_FOUND'))]\n",
    "all_movies_df"
   ]
  },
  {
   "cell_type": "code",
   "execution_count": null,
   "metadata": {
    "scrolled": true
   },
   "outputs": [],
   "source": []
  },
  {
   "cell_type": "code",
   "execution_count": null,
   "metadata": {
    "scrolled": true
   },
   "outputs": [],
   "source": [
    "complete_dataset= all_movies_df[((all_movies_df.actor_name != 'NOT_FOUND')\n",
    "                          & (all_movies_df.director_name != 'NOT_FOUND')\n",
    "                          & (all_movies_df.writer_name != 'NOT_FOUND')\n",
    "                          & (all_movies_df.genre != 'NOT_FOUND')\n",
    "                          & (all_movies_df.country != 'NOT_FOUND'))]\n",
    "complete_dataset"
   ]
  },
  {
   "cell_type": "code",
   "execution_count": null,
   "metadata": {
    "scrolled": true
   },
   "outputs": [],
   "source": [
    "missing_only_genre_dataset= all_movies_df[((all_movies_df.actor_name == 'NOT_FOUND')\n",
    "                          & (all_movies_df.director_name != 'NOT_FOUND')\n",
    "                          & (all_movies_df.writer_name != 'NOT_FOUND')\n",
    "                          & (all_movies_df.genre != 'NOT_FOUND')\n",
    "                          & (all_movies_df.country != 'NOT_FOUND'))]\n",
    "missing_only_genre_dataset"
   ]
  },
  {
   "cell_type": "code",
   "execution_count": null,
   "metadata": {
    "scrolled": true
   },
   "outputs": [],
   "source": [
    "all_movies_df"
   ]
  }
 ],
 "metadata": {
  "kernelspec": {
   "display_name": "Python 3",
   "language": "python",
   "name": "python3"
  },
  "language_info": {
   "codemirror_mode": {
    "name": "ipython",
    "version": 3
   },
   "file_extension": ".py",
   "mimetype": "text/x-python",
   "name": "python",
   "nbconvert_exporter": "python",
   "pygments_lexer": "ipython3",
   "version": "3.9.0"
  }
 },
 "nbformat": 4,
 "nbformat_minor": 4
}
