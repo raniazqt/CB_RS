{
 "cells": [
  {
   "cell_type": "code",
   "execution_count": 4,
   "metadata": {},
   "outputs": [
    {
     "name": "stdin",
     "output_type": "stream",
     "text": [
      "Enter your movie title to search or 'quit/q' to exit:  ljlj\n"
     ]
    },
    {
     "name": "stdout",
     "output_type": "stream",
     "text": [
      "Searching for movies similar to ljlj\n",
      "movie ljlj was not found. Retrieve movie information from LOD\n",
      "Empty DataFrame\n",
      "Columns: [director_name_x, genre, country_x, actor_name_x, movie_id, title, director_name_y, writer_name, country_y, actor_name_y]\n",
      "Index: []\n",
      "Movies details were not found!! Try different movie\n",
      "Error finding similar movie! please try again.\n"
     ]
    },
    {
     "name": "stdin",
     "output_type": "stream",
     "text": [
      "Enter your movie title to search or 'quit/q' to exit:  spiderman\n"
     ]
    },
    {
     "name": "stdout",
     "output_type": "stream",
     "text": [
      "Searching for movies similar to spiderman\n",
      "movie spiderman was not found. Retrieve movie information from LOD\n",
      "Empty DataFrame\n",
      "Columns: [director_name_x, genre, country_x, actor_name_x, movie_id, title, director_name_y, writer_name, country_y, actor_name_y]\n",
      "Index: []\n",
      "Movies details were not found!! Try different movie\n",
      "Error finding similar movie! please try again.\n"
     ]
    },
    {
     "name": "stdin",
     "output_type": "stream",
     "text": [
      "Enter your movie title to search or 'quit/q' to exit:  the lord of the ring\n"
     ]
    },
    {
     "name": "stdout",
     "output_type": "stream",
     "text": [
      "Searching for movies similar to the lord of the ring\n",
      "movie the lord of the ring was not found. Retrieve movie information from LOD\n",
      "Empty DataFrame\n",
      "Columns: [director_name_x, genre, country_x, actor_name_x, movie_id, title, director_name_y, writer_name, country_y, actor_name_y]\n",
      "Index: []\n",
      "Movies details were not found!! Try different movie\n",
      "Error finding similar movie! please try again.\n"
     ]
    },
    {
     "name": "stdin",
     "output_type": "stream",
     "text": [
      "Enter your movie title to search or 'quit/q' to exit:  Jupiter's Wife\n"
     ]
    },
    {
     "name": "stdout",
     "output_type": "stream",
     "text": [
      "Searching for movies similar to Jupiter's Wife\n",
      "movie Jupiter's Wife was not found. Retrieve movie information from LOD\n",
      "Empty DataFrame\n",
      "Columns: [director_name_x, genre, country_x, actor_name_x, movie_id, title, director_name_y, writer_name, country_y, actor_name_y]\n",
      "Index: []\n",
      "Movies details were not found!! Try different movie\n",
      "Error finding similar movie! please try again.\n"
     ]
    },
    {
     "name": "stdin",
     "output_type": "stream",
     "text": [
      "Enter your movie title to search or 'quit/q' to exit:  Sonic Outlaws\n"
     ]
    },
    {
     "name": "stdout",
     "output_type": "stream",
     "text": [
      "Searching for movies similar to Sonic Outlaws\n",
      "movie Sonic Outlaws was not found. Retrieve movie information from LOD\n",
      "Empty DataFrame\n",
      "Columns: [director_name_x, genre, country_x, actor_name_x, movie_id, title, director_name_y, writer_name, country_y, actor_name_y]\n",
      "Index: []\n",
      "Movies details were not found!! Try different movie\n",
      "Error finding similar movie! please try again.\n"
     ]
    },
    {
     "name": "stdin",
     "output_type": "stream",
     "text": [
      "Enter your movie title to search or 'quit/q' to exit:  gospa\n"
     ]
    },
    {
     "name": "stdout",
     "output_type": "stream",
     "text": [
      "Searching for movies similar to gospa\n",
      "movie gospa was found in local database. Searching for similar movie\n",
      "Movie ID                         Similarity\n",
      "-----------------------------  ------------\n",
      "the_mill_and_the_cross             0.886695\n",
      "eroica_(2003_film)                 0.866201\n",
      "the_pianist_(2002_film)            0.864854\n",
      "heart_of_darkness_(1993_film)      0.863834\n",
      "fine_dead_girls                    0.863678\n",
      "number_55                          0.860913\n",
      "stiff_upper_lips                   0.858893\n",
      "alfred_the_great_(film)            0.858286\n",
      "metastases_(film)                  0.856845\n",
      "the_boy_in_blue_(1986_film)        0.856827\n"
     ]
    },
    {
     "name": "stdin",
     "output_type": "stream",
     "text": [
      "Enter your movie title to search or 'quit/q' to exit:  Harry Potter and the Sorcerer's Stone\n"
     ]
    },
    {
     "name": "stdout",
     "output_type": "stream",
     "text": [
      "Searching for movies similar to Harry Potter and the Sorcerer's Stone\n",
      "movie Harry Potter and the Sorcerer's Stone was not found. Retrieve movie information from LOD\n",
      "Empty DataFrame\n",
      "Columns: [director_name_x, genre, country_x, actor_name_x, movie_id, title, director_name_y, writer_name, country_y, actor_name_y]\n",
      "Index: []\n",
      "Movies details were not found!! Try different movie\n",
      "Error finding similar movie! please try again.\n"
     ]
    },
    {
     "name": "stdin",
     "output_type": "stream",
     "text": [
      "Enter your movie title to search or 'quit/q' to exit:  Come Undone\n"
     ]
    },
    {
     "name": "stdout",
     "output_type": "stream",
     "text": [
      "Searching for movies similar to Come Undone\n",
      "movie Come Undone was not found. Retrieve movie information from LOD\n",
      "             movie_id        title                            actor_name  \\\n",
      "0  Come_Undone_(film)  Come Undone  Pierfrancesco Favino|Alba Rohrwacher   \n",
      "\n",
      "    director_name                    writer_name            country genre  \n",
      "0  Silvio Soldini  Silvio Soldini|Angelo Carbone  Switzerland|Italy        \n",
      "Movie deatils found! \n",
      "    Actor                                 Director        Writer                         Genre    Country\n",
      "--  ------------------------------------  --------------  -----------------------------  -------  -----------------\n",
      " 0  Pierfrancesco Favino|Alba Rohrwacher  Silvio Soldini  Silvio Soldini|Angelo Carbone           Switzerland|Italy\n",
      "Movie ID                                 Similarity\n",
      "-------------------------------------  ------------\n",
      "saturn_in_opposition                       0.953778\n",
      "suburra_(film)                             0.89571\n",
      "the_confessions_(film)                     0.894644\n",
      "angels_&_demons_(film)                     0.870838\n",
      "goodbye_bafana                             0.850291\n",
      "miracle_at_st._anna                        0.847538\n",
      "boomerang_(2015_film)                      0.844316\n",
      "the_adopted                                0.842849\n",
      "female_agents                              0.838192\n",
      "knockin'_on_heaven's_door_(1997_film)      0.832971\n"
     ]
    },
    {
     "name": "stdin",
     "output_type": "stream",
     "text": [
      "Enter your movie title to search or 'quit/q' to exit:  q\n"
     ]
    }
   ],
   "source": [
    "#!/usr/bin/env python\n",
    "# -*- coding: latin-1 -*-\n",
    "import pandas as pd \n",
    "import numpy as np \n",
    "import csv\n",
    "import logging\n",
    "from SPARQLWrapper import SPARQLWrapper,JSON, SPARQLWrapper2, POST,XML,GET\n",
    "import query_helper_functions as q_helper\n",
    "import sparql_query as sparql_query\n",
    "import movies_df_helper_functions as d_helper\n",
    "import gensim\n",
    "from gensim.models.doc2vec import Doc2Vec\n",
    "import re\n",
    "import imp\n",
    "imp.reload(q_helper)\n",
    "imp.reload(d_helper)\n",
    "imp.reload(sparql_query)\n",
    "\n",
    "from os import system, name \n",
    "from tabulate import tabulate\n",
    "\n",
    "\n",
    "def select_values(to_keep_val, other_val):\n",
    "    if (str(to_keep_val) != \"NOT_FOUND\"):\n",
    "        return to_keep_val\n",
    "    else:\n",
    "        return other_val\n",
    "\n",
    "#retrieves movie features from lod (dbpedia and yago)\n",
    "def retrieve_features_from_lod(movie_title):\n",
    "    dbpedia_results= query_dbpedia_by_title(movie_title)\n",
    "    yago_results = query_yago_by_title(movie_title)\n",
    "    \n",
    "    yago_results= yago_results.fillna(\"NOT_FOUND\")\n",
    "    #group yago results\n",
    "    yago_grouped = yago_results.groupby(['movie_id','title'], as_index=False)\n",
    "    yago_info_df = yago_grouped.agg({\n",
    "                                        'director_name':lambda x: '|'.join(set(x)),\n",
    "                                        'genre':lambda x: '|'.join(set(x)),                                      \n",
    "                                        'country':lambda x:  '|'.join(set(x)),\n",
    "                                        'actor_name':lambda x: '|'.join(set(x))\n",
    "                                        })\n",
    "    #Group pedia results\n",
    "    dbpedia_results= dbpedia_results.fillna(\"NOT_FOUND\")\n",
    "    dbpedia_grouped = dbpedia_results.groupby(['movie_id','title'], as_index=False)\n",
    "    dbpedia_info_df = dbpedia_grouped.agg({\n",
    "                                        'director_name':lambda x:  '|'.join(set(x)),\n",
    "                                        'writer_name':lambda x: '|'.join(set(x)),                                      \n",
    "                                        'country':lambda x: '|'.join(set(x)),\n",
    "                                        'actor_name':lambda x: '|'.join(set(x))\n",
    "                                        })\n",
    "    result_df = yago_info_df.merge(dbpedia_info_df, how=\"inner\", on=['movie_id','title'])\n",
    "    if len(result_df) >0:\n",
    "        #keep dbpedia value if both exist\n",
    "        result_df['actor_name'] = result_df.apply(lambda row: select_values(row.actor_name_y, row.actor_name_x), axis=1)\n",
    "        #keep director from yago if exists in both\n",
    "        result_df['director_name'] = result_df.apply(lambda row: select_values(row.director_name_x, row.director_name_y), axis=1)\n",
    "        #keep director from yago if exists in both\n",
    "        result_df['country'] = result_df.apply(lambda row: select_values(row.country_x, row.country_y), axis=1)\n",
    "    \n",
    "        result_df = result_df[['movie_id','title','actor_name','director_name','writer_name','country','genre']].copy()\n",
    "    \n",
    "    print(result_df)\n",
    "    return result_df\n",
    "\n",
    "def query_dbpedia_by_title(query_movie_title):\n",
    "    endpoint = \"https://dbpedia.org/sparql\"\n",
    "    return_format = XML\n",
    "    request_method= POST\n",
    "    query = sparql_query.dbpedia_query_by_title\n",
    "    query_title_list ='\\\"\"\"' + '\\\"\"\",\\\"\"\"' + query_movie_title.lower() + '\\\"\"\"' \n",
    "    q_results= q_helper.execute_query_for_movies_list(query, query_title_list,endpoint,return_format,request_method)\n",
    "    q_results_df= q_helper.get_sparql_dataframe(q_results)\n",
    "    return q_results_df\n",
    "\n",
    "def query_yago_by_title(query_movie_title):\n",
    "    endpoint=\"https://yago-knowledge.org/sparql/query\"\n",
    "    return_format = JSON\n",
    "    request_method= POST\n",
    "    query = sparql_query.yago_query_by_title\n",
    "    query_title_list ='\\\"\"\"' + '\\\"\"\",\\\"\"\"' + query_movie_title.lower() + '\\\"\"\"' \n",
    "    q_results= q_helper.execute_query_for_movies_list(query, query_title_list,endpoint,return_format,request_method)\n",
    "    q_results_df= q_helper.get_sparql_dataframe(q_results)\n",
    "    return q_results_df\n",
    "\n",
    "def get_movie_sentence(movie_df):\n",
    "        movie_df = movie_df.replace(\"NOT_FOUND\",None)\n",
    "        movie_df = data_processing(movie_df, 'actor_name')\n",
    "        movie_df = data_processing(movie_df, 'writer_name')\n",
    "        movie_df = data_processing(movie_df, 'genre')\n",
    "        movie_df = data_processing(movie_df, 'country')\n",
    "        movie_df = data_processing(movie_df, 'director_name')\n",
    "        movie_df['movie_id']=movie_df['movie_id'].str.lower()\n",
    "        movie_df['title']=movie_df['title'].str.lower()\n",
    "        movie_df['movie_sentence']= movie_df.apply(lambda row:  build_movie_sentence(row.actor_name, row.director_name, row.writer_name, row.genre, row.country), axis=1)\n",
    "        return movie_df['movie_sentence'].to_list()             \n",
    "\n",
    "def find_similar_movie(movie_sent):\n",
    "    model = Doc2Vec.load('models/exp3/model')\n",
    "    model.infer_vector(movie_sentence)\n",
    "    \n",
    "def print_sim_list(sim_list):\n",
    "    print(tabulate(sim_list, headers= ['Movie ID', 'Similarity']))\n",
    "    \n",
    "def data_processing(df, col_name):    \n",
    "    regex = \"\\(.*?\\)\"\n",
    "    df[col_name] = df[col_name].apply(lambda \n",
    "                                      row: re.sub(regex,'',row) if row != None  else row)\n",
    "    df[col_name] = df[col_name].apply(lambda row: \n",
    "                                      row.lower().strip().replace(' ','_').split('|') if row != None   else row)\n",
    "    df[col_name] = df[col_name].apply(lambda \n",
    "                                      row: [item.strip() for item in row] if row != None   else row)\n",
    "    return df\n",
    "\n",
    "def build_movie_sentence(actor,director,writer,genre,country):\n",
    "    sent= []\n",
    "    if actor != None:\n",
    "        sent = sent + actor\n",
    "    if director != None:\n",
    "        sent = sent + director\n",
    "    if writer != None:\n",
    "        sent = sent + writer\n",
    "    if genre != None:\n",
    "        sent = sent + genre\n",
    "    if country != None:\n",
    "        sent = sent + country\n",
    "    return sent\n",
    "\n",
    "def isNaN(string):\n",
    "    return string != string\n",
    "\n",
    "#**************************************************************************************************\n",
    "\n",
    "def main():\n",
    "    query_movie_title = \"enter\"\n",
    "    train_data_df = pd.read_csv('train_data.csv')\n",
    "    model = Doc2Vec.load('model')\n",
    "    headers=['Actor','Director', 'Writer', 'Genre', 'Country']\n",
    "    while (query_movie_title != quit):\n",
    "        sim_list=[]\n",
    "        query_movie_title = \"\"\n",
    "        \n",
    "        query_movie_title = input(\"Enter your movie title to search or 'quit/q' to exit: \") \n",
    "        if (len(query_movie_title)==0):\n",
    "            print(\"Empty input! please try again\")\n",
    "        else:\n",
    "            system('cls') \n",
    "            if query_movie_title.lower() in ['quit','q']:\n",
    "                break;\n",
    "\n",
    "\n",
    "            print(\"Searching for movies similar to {}\".format(query_movie_title))\n",
    "\n",
    "            #Search for movie title in the current training data.\n",
    "            #if found, retrieve movie_id\n",
    "            #if not found, query LOD for the movie features\n",
    "            query_movie_id = d_helper.find_movie_id_by_title(query_movie_title, train_data_df)\n",
    "\n",
    "            if len(query_movie_id) == 0:    \n",
    "                print(\"movie {} was not found. Retrieve movie information from LOD\".format(query_movie_title))    \n",
    "                query_movie_df = retrieve_features_from_lod(query_movie_title)\n",
    "\n",
    "                if len(query_movie_df) >0:\n",
    "                    print(\"Movie deatils found! \")\n",
    "                    query_movie_df['genre']=None\n",
    "\n",
    "                    print(tabulate(query_movie_df[['actor_name','director_name','writer_name','genre','country']], headers= headers))\n",
    "\n",
    "                    movie_sentence = get_movie_sentence(query_movie_df) \n",
    "                    movie_sentence= movie_sentence[0]\n",
    "                    infer_vector = model.infer_vector(movie_sentence)\n",
    "                    sim_list= model.docvecs.most_similar([infer_vector])\n",
    "\n",
    "                else:\n",
    "                    print(\"Movies details were not found!! Try different movie\")\n",
    "            else:\n",
    "                print(\"movie {} was found in local database. Searching for similar movie\".format(query_movie_title))\n",
    "                sim_list = model.docvecs.most_similar(query_movie_id)\n",
    "\n",
    "            if len(sim_list) == 0 :\n",
    "                 print(\"Error finding similar movie! please try again.\")\n",
    "            else:\n",
    "                print_sim_list(sim_list)\n",
    "            \n",
    "if __name__ == \"__main__\":\n",
    "    main()"
   ]
  },
  {
   "cell_type": "code",
   "execution_count": null,
   "metadata": {},
   "outputs": [],
   "source": []
  }
 ],
 "metadata": {
  "kernelspec": {
   "display_name": "Python 3",
   "language": "python",
   "name": "python3"
  },
  "language_info": {
   "codemirror_mode": {
    "name": "ipython",
    "version": 3
   },
   "file_extension": ".py",
   "mimetype": "text/x-python",
   "name": "python",
   "nbconvert_exporter": "python",
   "pygments_lexer": "ipython3",
   "version": "3.9.0"
  }
 },
 "nbformat": 4,
 "nbformat_minor": 4
}
