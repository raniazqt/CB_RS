{
 "cells": [
  {
   "cell_type": "code",
   "execution_count": 1,
   "metadata": {},
   "outputs": [],
   "source": [
    "#!/usr/bin/env python\n",
    "# -*- coding: latin-1 -*-\n",
    "import pandas as pd # pandas is a data manipulation library\n",
    "import numpy as np #provides numerical arrays and functions to manipulate the arrays efficiently\n",
    "import logging\n",
    "import difflib\n",
    "import Levenshtein as lev\n",
    "from tqdm.notebook import tqdm\n",
    "import multiprocessing\n",
    "import gensim\n",
    "from gensim.models.doc2vec import Doc2Vec, TaggedDocument\n",
    "import seaborn as sns\n",
    "import matplotlib.pyplot as plt\n",
    "import scipy\n",
    "from scipy import spatial\n",
    "import re\n",
    "import movies_df_helper_functions as helper_fn\n",
    "import evaluation_helper_functions as eval_fn\n",
    "import random\n",
    "import imp\n",
    "import itertools\n",
    "from sklearn.manifold import TSNE\n",
    "from sklearn.cluster import AffinityPropagation\n",
    "from nltk.translate.bleu_score import sentence_bleu\n",
    "from nltk.translate.bleu_score import SmoothingFunction\n",
    "import html\n",
    "import csv\n",
    "import re\n",
    "#from sklearn.manifold import TSNE\n",
    "\n",
    "from tabulate import tabulate\n",
    "import decimal\n",
    "from collections import Counter\n",
    "\n",
    "imp.reload(eval_fn)\n",
    "imp.reload(helper_fn)\n",
    "%matplotlib inline"
   ]
  },
  {
   "cell_type": "code",
   "execution_count": 3,
   "metadata": {},
   "outputs": [],
   "source": [
    "#load train data\n",
    "#train_data_df = pd.read_csv('models/baseline_exp/train_data.csv')\n",
    "train_data_df = pd.read_csv('../train_data/train_data.csv')\n",
    "#load genres test data\n",
    "genres_sample_df = pd.read_csv('../test_data/genres_sample_movies_id_list.csv')\n",
    "#load all genres lists df\n",
    "genres_df = pd.read_csv('../test_data/movies_by_genre.csv')\n",
    "#load all sequel and mixed data for plotting\n",
    "sequel_sampled_data_df = pd.read_csv('../test_data/sequel_and_sampled_titles_df.csv')"
   ]
  },
  {
   "cell_type": "code",
   "execution_count": 4,
   "metadata": {},
   "outputs": [],
   "source": [
    "#load model\n",
    "model = Doc2Vec.load('model')"
   ]
  },
  {
   "cell_type": "code",
   "execution_count": 5,
   "metadata": {},
   "outputs": [],
   "source": [
    "def assign_genre(genre_df, movie_id):\n",
    "    romantic_comedy= genre_df.romantic_comedy.values.tolist()\n",
    "    drama = genre_df.drama.values.tolist()\n",
    "    adventure = genre_df.adventure.values.tolist()\n",
    "    crime = genre_df.crime.values.tolist()\n",
    "    action = genre_df.action.values.tolist()\n",
    "    \n",
    "    if movie_id in romantic_comedy:\n",
    "        return 'Romantic_Comedy'\n",
    "    else:\n",
    "        if movie_id in drama:\n",
    "            return 'Drama'\n",
    "        else: \n",
    "            if movie_id in adventure:\n",
    "                return 'Adventure'\n",
    "            else: \n",
    "                if movie_id in crime:\n",
    "                    return 'Crime'\n",
    "                else: \n",
    "                    if movie_id in action: return 'Action'\n",
    "                    else: \n",
    "                        return 'Unkown'"
   ]
  },
  {
   "cell_type": "code",
   "execution_count": 6,
   "metadata": {},
   "outputs": [],
   "source": [
    "#Clean train_data_df\n",
    "#remove the square brackets saved when generating the test data.It i snot a bug. Data can't be saved without as they act as a column separator in the csv file\n",
    "train_data_df['actor_name'] = train_data_df.actor_name.apply(lambda actor: actor.replace('[','').replace(']','').replace(\"'\", \"\") )\n",
    "train_data_df['director_name'] = train_data_df.director_name.apply(lambda director: director.replace('[','').replace(']','').replace(\"'\", \"\") )\n",
    "train_data_df['writer_name'] = train_data_df.writer_name.apply(lambda writer: writer.replace('[','').replace(']','').replace(\"'\", \"\") )\n",
    "train_data_df['country'] = train_data_df.country.apply(lambda country: country.replace('[','').replace(']','').replace(\"'\", \"\") )\n",
    "train_data_df['genre'] = train_data_df.genre.apply(lambda genre: genre.replace('[','').replace(']','').replace(\"'\", \"\") )\n",
    "\n",
    "train_data_df['actor_name'] = train_data_df.actor_name.apply(lambda actor: actor.split(',') )\n",
    "train_data_df['director_name'] = train_data_df.director_name.apply(lambda director: director.split(',') )\n",
    "train_data_df['writer_name'] = train_data_df.writer_name.apply(lambda writer: writer.split(',') )\n",
    "train_data_df['country'] = train_data_df.country.apply(lambda country: country.split(',') )\n",
    "train_data_df['genre'] = train_data_df.genre.apply(lambda genre: genre.split(',') )"
   ]
  },
  {
   "cell_type": "code",
   "execution_count": 7,
   "metadata": {},
   "outputs": [
    {
     "data": {
      "text/plain": [
       "array([['agony_(film)', 'agony',\n",
       "        list(['anatoli_romashin', 'alisa_freindlich', 'velta_līne', 'alexei_petrenko']),\n",
       "        list(['elem_klimov']), list(['semyon_lungin', 'ilya_nusinov']),\n",
       "        list(['russian_soviet_federative_socialist_republic', 'soviet_union']),\n",
       "        list(['political_drama', 'biographical_film', 'historical_film_q17013749']),\n",
       "        \"['velta_līne', 'elem_klimov', 'alexei_petrenko', 'anatoli_romashin', 'biographical_film', 'soviet_union', 'historical_film_q17013749', 'ilya_nusinov', 'semyon_lungin', 'political_drama', 'russian_soviet_federative_socialist_republic', 'alisa_freindlich']\"]],\n",
       "      dtype=object)"
      ]
     },
     "execution_count": 7,
     "metadata": {},
     "output_type": "execute_result"
    }
   ],
   "source": [
    "train_data_df['actor_name'] = train_data_df.actor_name.apply(lambda actor: [a.strip() for a in actor])\n",
    "train_data_df['director_name'] = train_data_df.director_name.apply(lambda director: [d.strip() for d in director])\n",
    "train_data_df['writer_name'] = train_data_df.writer_name.apply(lambda writer: [w.strip() for w in writer] )\n",
    "train_data_df['country'] = train_data_df.country.apply(lambda country: [c.strip() for c in country] )\n",
    "train_data_df['genre'] = train_data_df.genre.apply(lambda genre: [g.strip() for g in genre])\n",
    "\n",
    "\n",
    "train_data_df[train_data_df['movie_id'] == 'agony_(film)'].values"
   ]
  },
  {
   "cell_type": "code",
   "execution_count": null,
   "metadata": {},
   "outputs": [],
   "source": [
    "train_data_df"
   ]
  },
  {
   "cell_type": "code",
   "execution_count": 8,
   "metadata": {},
   "outputs": [],
   "source": [
    "#create dictionary with the movie_id and title\n",
    "movies_dict= dict(zip(train_data_df.movie_id, train_data_df.title))\n"
   ]
  },
  {
   "cell_type": "code",
   "execution_count": null,
   "metadata": {
    "scrolled": true
   },
   "outputs": [],
   "source": []
  },
  {
   "cell_type": "markdown",
   "metadata": {},
   "source": [
    "# Manual Validation"
   ]
  },
  {
   "cell_type": "code",
   "execution_count": 27,
   "metadata": {},
   "outputs": [
    {
     "name": "stdout",
     "output_type": "stream",
     "text": [
      "Similarity for the movie title \"Hook\"\n"
     ]
    },
    {
     "data": {
      "text/html": [
       "<table>\n",
       "<thead>\n",
       "<tr><th>Title             </th><th style=\"text-align: right;\">  Similarity Ratio</th><th style=\"text-align: right;\">  Common Features Count</th></tr>\n",
       "</thead>\n",
       "<tbody>\n",
       "<tr><td>The exterminator  </td><td style=\"text-align: right;\">          0.994824</td><td style=\"text-align: right;\">                      2</td></tr>\n",
       "<tr><td>Off beat          </td><td style=\"text-align: right;\">          0.994639</td><td style=\"text-align: right;\">                      1</td></tr>\n",
       "<tr><td>The wedding singer</td><td style=\"text-align: right;\">          0.994572</td><td style=\"text-align: right;\">                      1</td></tr>\n",
       "<tr><td>Cj7               </td><td style=\"text-align: right;\">          0.994562</td><td style=\"text-align: right;\">                      0</td></tr>\n",
       "<tr><td>Top secret!       </td><td style=\"text-align: right;\">          0.994529</td><td style=\"text-align: right;\">                      1</td></tr>\n",
       "<tr><td>Short time        </td><td style=\"text-align: right;\">          0.994516</td><td style=\"text-align: right;\">                      2</td></tr>\n",
       "<tr><td>The librarians    </td><td style=\"text-align: right;\">          0.994477</td><td style=\"text-align: right;\">                      2</td></tr>\n",
       "<tr><td>Fire with fire    </td><td style=\"text-align: right;\">          0.994475</td><td style=\"text-align: right;\">                      1</td></tr>\n",
       "<tr><td>Blackout          </td><td style=\"text-align: right;\">          0.99447 </td><td style=\"text-align: right;\">                      0</td></tr>\n",
       "<tr><td>Bride of chucky   </td><td style=\"text-align: right;\">          0.994468</td><td style=\"text-align: right;\">                      1</td></tr>\n",
       "</tbody>\n",
       "</table>"
      ],
      "text/plain": [
       "'<table>\\n<thead>\\n<tr><th>Title             </th><th style=\"text-align: right;\">  Similarity Ratio</th><th style=\"text-align: right;\">  Common Features Count</th></tr>\\n</thead>\\n<tbody>\\n<tr><td>The exterminator  </td><td style=\"text-align: right;\">          0.994824</td><td style=\"text-align: right;\">                      2</td></tr>\\n<tr><td>Off beat          </td><td style=\"text-align: right;\">          0.994639</td><td style=\"text-align: right;\">                      1</td></tr>\\n<tr><td>The wedding singer</td><td style=\"text-align: right;\">          0.994572</td><td style=\"text-align: right;\">                      1</td></tr>\\n<tr><td>Cj7               </td><td style=\"text-align: right;\">          0.994562</td><td style=\"text-align: right;\">                      0</td></tr>\\n<tr><td>Top secret!       </td><td style=\"text-align: right;\">          0.994529</td><td style=\"text-align: right;\">                      1</td></tr>\\n<tr><td>Short time        </td><td style=\"text-align: right;\">          0.994516</td><td style=\"text-align: right;\">                      2</td></tr>\\n<tr><td>The librarians    </td><td style=\"text-align: right;\">          0.994477</td><td style=\"text-align: right;\">                      2</td></tr>\\n<tr><td>Fire with fire    </td><td style=\"text-align: right;\">          0.994475</td><td style=\"text-align: right;\">                      1</td></tr>\\n<tr><td>Blackout          </td><td style=\"text-align: right;\">          0.99447 </td><td style=\"text-align: right;\">                      0</td></tr>\\n<tr><td>Bride of chucky   </td><td style=\"text-align: right;\">          0.994468</td><td style=\"text-align: right;\">                      1</td></tr>\\n</tbody>\\n</table>'"
      ]
     },
     "metadata": {},
     "output_type": "display_data"
    }
   ],
   "source": [
    "#Manual check\n",
    "\n",
    "\n",
    "movie_id = 'godzilla_vs._biollante'\n",
    "#movie_id = 'the_bunker_(2001_film)'\n",
    "\n",
    "#movie_id='agony_(film)'\n",
    "\n",
    "#movie_id = 'toy_story_4'\n",
    "#movie_id = 'tsar_(film)'\n",
    "\n",
    "movie_id= 'hook_(film)'\n",
    "#movie_id=\"destiny_(1997_film)\"\n",
    "#movie_id=\"blade:_trinity\"\n",
    "#movie_id= 'harry_potter_and_the_half-blood_prince_(film)'\n",
    "#movie_id= 'just_go_with_it'\n",
    "#movie_id='high_school_musical_3:_senior_year'\n",
    "\n",
    "\n",
    "similar_movies = model.docvecs.most_similar(movie_id, topn=10)\n",
    "sim_movies_list = [sim[0] for sim in similar_movies]\n",
    "\n",
    "sim_df= pd.DataFrame(columns=['Title','Similarity Ratio'])\n",
    "\n",
    "for sim in similar_movies:\n",
    "    #title = helper_fn.find_movie_title_by_id(sim[0], train_data_df)\n",
    "    data = {'Title':  [sim[0]],'Similarity Ratio': [sim[1]]}\n",
    "    tmp_df = pd.DataFrame(data, columns=['Title','Similarity Ratio'])\n",
    "    sim_df = pd.concat([sim_df, tmp_df])   \n",
    "\n",
    "common_features_df = eval_fn.get_common_attrs_cnt_for_sim_list(train_data_df, sim_movies_list, movie_id,'') \n",
    "\n",
    "result_df = sim_df.merge(common_features_df, left_on= ['Title'], right_on=['Title'], how='inner')\n",
    "#print(result_df)\n",
    "result_df.Title= result_df.Title.map(lambda t: (helper_fn.find_movie_title_by_id(t, train_data_df).values[0]).capitalize())\n",
    "\n",
    "\n",
    "query_movie_title = helper_fn.find_movie_title_by_id(movie_id, train_data_df).values[0].capitalize()\n",
    "#print(\"\\n\")\n",
    "print(\"Similarity for the movie title \\\"{}\\\"\".format(query_movie_title))\n",
    "#print(\"{} \".format(query_movie_title))\n",
    "display(tabulate(result_df, headers=result_df.columns,tablefmt='html', showindex=False))\n",
    "\n",
    "#sim = docs_vectors.most_similar(positive= 'harry_potter_and_the_chamber_of_secrets_(film)', topn= 5)\n",
    "#eval_fn.print_sim_list(similar_movies)"
   ]
  },
  {
   "cell_type": "code",
   "execution_count": 24,
   "metadata": {},
   "outputs": [
    {
     "name": "stdout",
     "output_type": "stream",
     "text": [
      "Similarity for the movie title \"High school musical 3: senior year\"\n"
     ]
    },
    {
     "data": {
      "text/html": [
       "<table>\n",
       "<thead>\n",
       "<tr><th>Title                           </th><th style=\"text-align: right;\">  Similarity Ratio</th><th style=\"text-align: right;\">  Common Features Count</th></tr>\n",
       "</thead>\n",
       "<tbody>\n",
       "<tr><td>Camp nowhere                    </td><td style=\"text-align: right;\">          0.999509</td><td style=\"text-align: right;\">                      2</td></tr>\n",
       "<tr><td>The little rascals              </td><td style=\"text-align: right;\">          0.999502</td><td style=\"text-align: right;\">                      2</td></tr>\n",
       "<tr><td>Tom and jerry: a nutcracker tale</td><td style=\"text-align: right;\">          0.999488</td><td style=\"text-align: right;\">                      2</td></tr>\n",
       "<tr><td>The kings of summer             </td><td style=\"text-align: right;\">          0.999463</td><td style=\"text-align: right;\">                      1</td></tr>\n",
       "<tr><td>Pinocchio                       </td><td style=\"text-align: right;\">          0.999461</td><td style=\"text-align: right;\">                      2</td></tr>\n",
       "<tr><td>The first time                  </td><td style=\"text-align: right;\">          0.999455</td><td style=\"text-align: right;\">                      3</td></tr>\n",
       "<tr><td>Next friday                     </td><td style=\"text-align: right;\">          0.999449</td><td style=\"text-align: right;\">                      1</td></tr>\n",
       "<tr><td>Wakko&#x27;s wish                    </td><td style=\"text-align: right;\">          0.999445</td><td style=\"text-align: right;\">                      2</td></tr>\n",
       "<tr><td>The perfect score               </td><td style=\"text-align: right;\">          0.99944 </td><td style=\"text-align: right;\">                      2</td></tr>\n",
       "<tr><td>Dadnapped                       </td><td style=\"text-align: right;\">          0.999437</td><td style=\"text-align: right;\">                      3</td></tr>\n",
       "</tbody>\n",
       "</table>"
      ],
      "text/plain": [
       "'<table>\\n<thead>\\n<tr><th>Title                           </th><th style=\"text-align: right;\">  Similarity Ratio</th><th style=\"text-align: right;\">  Common Features Count</th></tr>\\n</thead>\\n<tbody>\\n<tr><td>Camp nowhere                    </td><td style=\"text-align: right;\">          0.999509</td><td style=\"text-align: right;\">                      2</td></tr>\\n<tr><td>The little rascals              </td><td style=\"text-align: right;\">          0.999502</td><td style=\"text-align: right;\">                      2</td></tr>\\n<tr><td>Tom and jerry: a nutcracker tale</td><td style=\"text-align: right;\">          0.999488</td><td style=\"text-align: right;\">                      2</td></tr>\\n<tr><td>The kings of summer             </td><td style=\"text-align: right;\">          0.999463</td><td style=\"text-align: right;\">                      1</td></tr>\\n<tr><td>Pinocchio                       </td><td style=\"text-align: right;\">          0.999461</td><td style=\"text-align: right;\">                      2</td></tr>\\n<tr><td>The first time                  </td><td style=\"text-align: right;\">          0.999455</td><td style=\"text-align: right;\">                      3</td></tr>\\n<tr><td>Next friday                     </td><td style=\"text-align: right;\">          0.999449</td><td style=\"text-align: right;\">                      1</td></tr>\\n<tr><td>Wakko&#x27;s wish                    </td><td style=\"text-align: right;\">          0.999445</td><td style=\"text-align: right;\">                      2</td></tr>\\n<tr><td>The perfect score               </td><td style=\"text-align: right;\">          0.99944 </td><td style=\"text-align: right;\">                      2</td></tr>\\n<tr><td>Dadnapped                       </td><td style=\"text-align: right;\">          0.999437</td><td style=\"text-align: right;\">                      3</td></tr>\\n</tbody>\\n</table>'"
      ]
     },
     "metadata": {},
     "output_type": "display_data"
    }
   ],
   "source": []
  },
  {
   "cell_type": "code",
   "execution_count": 23,
   "metadata": {},
   "outputs": [
    {
     "name": "stdout",
     "output_type": "stream",
     "text": [
      "Similarity for the movie title \"Just go with it\"\n"
     ]
    },
    {
     "data": {
      "text/html": [
       "<table>\n",
       "<thead>\n",
       "<tr><th>Title                                   </th><th style=\"text-align: right;\">  Similarity Ratio</th><th style=\"text-align: right;\">  Common Features Count</th></tr>\n",
       "</thead>\n",
       "<tbody>\n",
       "<tr><td>Clifford&#x27;s really big movie             </td><td style=\"text-align: right;\">          0.999695</td><td style=\"text-align: right;\">                      1</td></tr>\n",
       "<tr><td>Law abiding citizen                     </td><td style=\"text-align: right;\">          0.999679</td><td style=\"text-align: right;\">                      1</td></tr>\n",
       "<tr><td>Superman iii                            </td><td style=\"text-align: right;\">          0.999666</td><td style=\"text-align: right;\">                      1</td></tr>\n",
       "<tr><td>The four feathers                       </td><td style=\"text-align: right;\">          0.999662</td><td style=\"text-align: right;\">                      1</td></tr>\n",
       "<tr><td>Play it as it lays                      </td><td style=\"text-align: right;\">          0.999651</td><td style=\"text-align: right;\">                      1</td></tr>\n",
       "<tr><td>The secret life of pets                 </td><td style=\"text-align: right;\">          0.999646</td><td style=\"text-align: right;\">                      1</td></tr>\n",
       "<tr><td>Harry potter and the prisoner of azkaban</td><td style=\"text-align: right;\">          0.999638</td><td style=\"text-align: right;\">                      1</td></tr>\n",
       "<tr><td>What&#x27;s your number?                     </td><td style=\"text-align: right;\">          0.999638</td><td style=\"text-align: right;\">                      2</td></tr>\n",
       "<tr><td>The ice storm                           </td><td style=\"text-align: right;\">          0.999637</td><td style=\"text-align: right;\">                      1</td></tr>\n",
       "<tr><td>Boomerang                               </td><td style=\"text-align: right;\">          0.999636</td><td style=\"text-align: right;\">                      2</td></tr>\n",
       "</tbody>\n",
       "</table>"
      ],
      "text/plain": [
       "'<table>\\n<thead>\\n<tr><th>Title                                   </th><th style=\"text-align: right;\">  Similarity Ratio</th><th style=\"text-align: right;\">  Common Features Count</th></tr>\\n</thead>\\n<tbody>\\n<tr><td>Clifford&#x27;s really big movie             </td><td style=\"text-align: right;\">          0.999695</td><td style=\"text-align: right;\">                      1</td></tr>\\n<tr><td>Law abiding citizen                     </td><td style=\"text-align: right;\">          0.999679</td><td style=\"text-align: right;\">                      1</td></tr>\\n<tr><td>Superman iii                            </td><td style=\"text-align: right;\">          0.999666</td><td style=\"text-align: right;\">                      1</td></tr>\\n<tr><td>The four feathers                       </td><td style=\"text-align: right;\">          0.999662</td><td style=\"text-align: right;\">                      1</td></tr>\\n<tr><td>Play it as it lays                      </td><td style=\"text-align: right;\">          0.999651</td><td style=\"text-align: right;\">                      1</td></tr>\\n<tr><td>The secret life of pets                 </td><td style=\"text-align: right;\">          0.999646</td><td style=\"text-align: right;\">                      1</td></tr>\\n<tr><td>Harry potter and the prisoner of azkaban</td><td style=\"text-align: right;\">          0.999638</td><td style=\"text-align: right;\">                      1</td></tr>\\n<tr><td>What&#x27;s your number?                     </td><td style=\"text-align: right;\">          0.999638</td><td style=\"text-align: right;\">                      2</td></tr>\\n<tr><td>The ice storm                           </td><td style=\"text-align: right;\">          0.999637</td><td style=\"text-align: right;\">                      1</td></tr>\\n<tr><td>Boomerang                               </td><td style=\"text-align: right;\">          0.999636</td><td style=\"text-align: right;\">                      2</td></tr>\\n</tbody>\\n</table>'"
      ]
     },
     "metadata": {},
     "output_type": "display_data"
    }
   ],
   "source": []
  },
  {
   "cell_type": "code",
   "execution_count": 14,
   "metadata": {},
   "outputs": [
    {
     "name": "stdout",
     "output_type": "stream",
     "text": [
      "Common features between \"blade:_trinity\" and its similar ones\n"
     ]
    },
    {
     "data": {
      "text/html": [
       "<div>\n",
       "<style scoped>\n",
       "    .dataframe tbody tr th:only-of-type {\n",
       "        vertical-align: middle;\n",
       "    }\n",
       "\n",
       "    .dataframe tbody tr th {\n",
       "        vertical-align: top;\n",
       "    }\n",
       "\n",
       "    .dataframe thead th {\n",
       "        text-align: right;\n",
       "    }\n",
       "</style>\n",
       "<table border=\"1\" class=\"dataframe\">\n",
       "  <thead>\n",
       "    <tr style=\"text-align: right;\">\n",
       "      <th></th>\n",
       "      <th>movie_id</th>\n",
       "      <th>actors_cnt</th>\n",
       "      <th>directors_cnt</th>\n",
       "      <th>writers_cnt</th>\n",
       "      <th>genres_cnt</th>\n",
       "      <th>country_cnt</th>\n",
       "      <th>total_cnt</th>\n",
       "    </tr>\n",
       "  </thead>\n",
       "  <tbody>\n",
       "    <tr>\n",
       "      <th>0</th>\n",
       "      <td>the_prophecy_ii</td>\n",
       "      <td>0</td>\n",
       "      <td>0</td>\n",
       "      <td>0</td>\n",
       "      <td>2</td>\n",
       "      <td>1</td>\n",
       "      <td>3</td>\n",
       "    </tr>\n",
       "    <tr>\n",
       "      <th>1</th>\n",
       "      <td>powder_(film)</td>\n",
       "      <td>0</td>\n",
       "      <td>0</td>\n",
       "      <td>0</td>\n",
       "      <td>2</td>\n",
       "      <td>1</td>\n",
       "      <td>3</td>\n",
       "    </tr>\n",
       "    <tr>\n",
       "      <th>2</th>\n",
       "      <td>the_messengers_(film)</td>\n",
       "      <td>0</td>\n",
       "      <td>0</td>\n",
       "      <td>0</td>\n",
       "      <td>1</td>\n",
       "      <td>1</td>\n",
       "      <td>2</td>\n",
       "    </tr>\n",
       "    <tr>\n",
       "      <th>3</th>\n",
       "      <td>rampage_(2009_film)</td>\n",
       "      <td>0</td>\n",
       "      <td>0</td>\n",
       "      <td>0</td>\n",
       "      <td>2</td>\n",
       "      <td>0</td>\n",
       "      <td>2</td>\n",
       "    </tr>\n",
       "    <tr>\n",
       "      <th>4</th>\n",
       "      <td>species_(film)</td>\n",
       "      <td>0</td>\n",
       "      <td>0</td>\n",
       "      <td>0</td>\n",
       "      <td>2</td>\n",
       "      <td>1</td>\n",
       "      <td>3</td>\n",
       "    </tr>\n",
       "  </tbody>\n",
       "</table>\n",
       "</div>"
      ],
      "text/plain": [
       "                movie_id  actors_cnt  directors_cnt  writers_cnt  genres_cnt  \\\n",
       "0        the_prophecy_ii           0              0            0           2   \n",
       "1          powder_(film)           0              0            0           2   \n",
       "2  the_messengers_(film)           0              0            0           1   \n",
       "3    rampage_(2009_film)           0              0            0           2   \n",
       "4         species_(film)           0              0            0           2   \n",
       "\n",
       "   country_cnt  total_cnt  \n",
       "0            1          3  \n",
       "1            1          3  \n",
       "2            1          2  \n",
       "3            0          2  \n",
       "4            1          3  "
      ]
     },
     "execution_count": 14,
     "metadata": {},
     "output_type": "execute_result"
    }
   ],
   "source": [
    "anchor_movie=\"blade:_trinity\"\n",
    "\n",
    "similar_movie='the_prophecy_ii'\n",
    "x= eval_fn.find_common_attrs(train_data_df, anchor_movie,similar_movie,'')\n",
    "similar_movie=\"powder_(film)\"\n",
    "y= eval_fn.find_common_attrs(train_data_df, anchor_movie,similar_movie,'')\n",
    "similar_movie=\"the_messengers_(film)\"\n",
    "z= eval_fn.find_common_attrs(train_data_df, anchor_movie,similar_movie,'')\n",
    "similar_movie='rampage_(2009_film)'\n",
    "c= eval_fn.find_common_attrs(train_data_df, anchor_movie,similar_movie,'')\n",
    "similar_movie=\"species_(film)\"\n",
    "b= eval_fn.find_common_attrs(train_data_df, anchor_movie,similar_movie,'')\n",
    "df = pd.DataFrame(data=[x,y,z,c,b])\n",
    "print(\"Common features between \\\"{}\\\" and its similar ones\".format(anchor_movie))\n",
    "df"
   ]
  },
  {
   "cell_type": "code",
   "execution_count": 15,
   "metadata": {},
   "outputs": [
    {
     "name": "stdout",
     "output_type": "stream",
     "text": [
      "Common features between \"just_go_with_it\" and its similar ones\n"
     ]
    },
    {
     "data": {
      "text/html": [
       "<div>\n",
       "<style scoped>\n",
       "    .dataframe tbody tr th:only-of-type {\n",
       "        vertical-align: middle;\n",
       "    }\n",
       "\n",
       "    .dataframe tbody tr th {\n",
       "        vertical-align: top;\n",
       "    }\n",
       "\n",
       "    .dataframe thead th {\n",
       "        text-align: right;\n",
       "    }\n",
       "</style>\n",
       "<table border=\"1\" class=\"dataframe\">\n",
       "  <thead>\n",
       "    <tr style=\"text-align: right;\">\n",
       "      <th></th>\n",
       "      <th>movie_id</th>\n",
       "      <th>actors_cnt</th>\n",
       "      <th>directors_cnt</th>\n",
       "      <th>writers_cnt</th>\n",
       "      <th>genres_cnt</th>\n",
       "      <th>country_cnt</th>\n",
       "      <th>total_cnt</th>\n",
       "    </tr>\n",
       "  </thead>\n",
       "  <tbody>\n",
       "    <tr>\n",
       "      <th>0</th>\n",
       "      <td>grown_ups_2</td>\n",
       "      <td>1</td>\n",
       "      <td>1</td>\n",
       "      <td>0</td>\n",
       "      <td>0</td>\n",
       "      <td>1</td>\n",
       "      <td>3</td>\n",
       "    </tr>\n",
       "    <tr>\n",
       "      <th>1</th>\n",
       "      <td>lucky_7_(film)</td>\n",
       "      <td>0</td>\n",
       "      <td>0</td>\n",
       "      <td>0</td>\n",
       "      <td>1</td>\n",
       "      <td>1</td>\n",
       "      <td>2</td>\n",
       "    </tr>\n",
       "    <tr>\n",
       "      <th>2</th>\n",
       "      <td>man_of_the_year_(2006_film)</td>\n",
       "      <td>0</td>\n",
       "      <td>0</td>\n",
       "      <td>0</td>\n",
       "      <td>1</td>\n",
       "      <td>1</td>\n",
       "      <td>2</td>\n",
       "    </tr>\n",
       "    <tr>\n",
       "      <th>3</th>\n",
       "      <td>the_santa_clause</td>\n",
       "      <td>0</td>\n",
       "      <td>0</td>\n",
       "      <td>0</td>\n",
       "      <td>0</td>\n",
       "      <td>1</td>\n",
       "      <td>1</td>\n",
       "    </tr>\n",
       "    <tr>\n",
       "      <th>4</th>\n",
       "      <td>wedding_crashers</td>\n",
       "      <td>0</td>\n",
       "      <td>0</td>\n",
       "      <td>0</td>\n",
       "      <td>1</td>\n",
       "      <td>1</td>\n",
       "      <td>2</td>\n",
       "    </tr>\n",
       "  </tbody>\n",
       "</table>\n",
       "</div>"
      ],
      "text/plain": [
       "                      movie_id  actors_cnt  directors_cnt  writers_cnt  \\\n",
       "0                  grown_ups_2           1              1            0   \n",
       "1               lucky_7_(film)           0              0            0   \n",
       "2  man_of_the_year_(2006_film)           0              0            0   \n",
       "3             the_santa_clause           0              0            0   \n",
       "4             wedding_crashers           0              0            0   \n",
       "\n",
       "   genres_cnt  country_cnt  total_cnt  \n",
       "0           0            1          3  \n",
       "1           1            1          2  \n",
       "2           1            1          2  \n",
       "3           0            1          1  \n",
       "4           1            1          2  "
      ]
     },
     "execution_count": 15,
     "metadata": {},
     "output_type": "execute_result"
    }
   ],
   "source": [
    "anchor_movie=\"just_go_with_it\"\n",
    "\n",
    "similar_movie='grown_ups_2'\n",
    "x= eval_fn.find_common_attrs(train_data_df, anchor_movie,similar_movie,'')\n",
    "similar_movie=\"lucky_7_(film)\"\n",
    "y= eval_fn.find_common_attrs(train_data_df, anchor_movie,similar_movie,'')\n",
    "similar_movie=\"man_of_the_year_(2006_film)\"\n",
    "z= eval_fn.find_common_attrs(train_data_df, anchor_movie,similar_movie,'')\n",
    "similar_movie='the_santa_clause'\n",
    "c= eval_fn.find_common_attrs(train_data_df, anchor_movie,similar_movie,'')\n",
    "similar_movie=\"wedding_crashers\"\n",
    "b= eval_fn.find_common_attrs(train_data_df, anchor_movie,similar_movie,'')\n",
    "df = pd.DataFrame(data=[x,y,z,c,b])\n",
    "print(\"Common features between \\\"{}\\\" and its similar ones\".format(anchor_movie))\n",
    "df"
   ]
  },
  {
   "cell_type": "code",
   "execution_count": null,
   "metadata": {},
   "outputs": [],
   "source": [
    "anchor_movie=\"harry_potter_and_the_half-blood_prince_(film)\"\n",
    "\n",
    "similar_movie='101_dalmatians_(1996_film)'\n",
    "x= eval_fn.find_common_attrs(train_data_df, anchor_movie,similar_movie,'')\n",
    "similar_movie=\"harry_potter_and_the_order_of_the_phoenix_(film)\"\n",
    "y= eval_fn.find_common_attrs(train_data_df, anchor_movie,similar_movie,'')\n",
    "similar_movie=\"harry_potter_and_the_prisoner_of_azkaban_(film)\"\n",
    "z= eval_fn.find_common_attrs(train_data_df, anchor_movie,similar_movie,'')\n",
    "similar_movie='chitty_chitty_bang_bang'\n",
    "c= eval_fn.find_common_attrs(train_data_df, anchor_movie,similar_movie,'')\n",
    "similar_movie=\"peter_pan_(2003_film)\"\n",
    "b= eval_fn.find_common_attrs(train_data_df, anchor_movie,similar_movie,'')\n",
    "print(\"Common features between \\\"{}\\\" and its similar ones\".format(anchor_movie))\n",
    "df = pd.DataFrame(data=[x,y,z,c,b])\n",
    "df"
   ]
  },
  {
   "cell_type": "code",
   "execution_count": null,
   "metadata": {},
   "outputs": [],
   "source": []
  },
  {
   "cell_type": "code",
   "execution_count": null,
   "metadata": {},
   "outputs": [],
   "source": [
    "eval_fn.find_common_attrs()"
   ]
  },
  {
   "cell_type": "code",
   "execution_count": null,
   "metadata": {},
   "outputs": [],
   "source": [
    "#Find the count of every feature\n",
    "sim_movies_deails_df = train_data_df.loc[train_data_df.apply(lambda movie: True if movie.movie_id in sim_movies_list else False, axis=1)]\n",
    "\n",
    "sim_movies_deails_df.apply(lambda movie: len(movie.actor_name), axis=1)\n",
    "\n",
    "movie_record = train_data_df[train_data_df.movie_id == movie_id]\n",
    "\n",
    "def find_feature_cnt_for_movie(movie_record, col):\n",
    "    col_list = movie_record[col].to_list()\n",
    "    if col_list is not None:\n",
    "        return len(col_list[0])\n",
    "    else:\n",
    "        return 0\n",
    "\n",
    "actors = find_feature_cnt_for_movie(movie_record, 'actor_name')\n",
    "\n",
    "actors"
   ]
  },
  {
   "cell_type": "code",
   "execution_count": null,
   "metadata": {
    "scrolled": true
   },
   "outputs": [],
   "source": [
    "for s in similar_movies:\n",
    "    print(s[1])\n",
    "    "
   ]
  },
  {
   "cell_type": "code",
   "execution_count": null,
   "metadata": {},
   "outputs": [],
   "source": []
  },
  {
   "cell_type": "markdown",
   "metadata": {},
   "source": [
    "# Visualization"
   ]
  },
  {
   "cell_type": "code",
   "execution_count": 28,
   "metadata": {},
   "outputs": [],
   "source": [
    "#prepare data from the same movies used in the manual check\n",
    "test_movies_list= ['godzilla_vs._biollante'\n",
    "        ,'the_bunker_(2001_film)'\n",
    "        ,'just_go_with_it'\n",
    "        ,'agony_(film)'\n",
    "        ,'harry_potter_and_the_half-blood_prince_(film)'\n",
    "        ,'toy_story_4'\n",
    "        ,'tsar_(film)'\n",
    "        ,'high_school_musical_3:_senior_year'\n",
    "        , 'hook_(film)'\n",
    "        ,\"destiny_(1997_film)\"\n",
    "        ]"
   ]
  },
  {
   "cell_type": "code",
   "execution_count": null,
   "metadata": {},
   "outputs": [],
   "source": [
    "#Actors"
   ]
  },
  {
   "cell_type": "code",
   "execution_count": null,
   "metadata": {},
   "outputs": [],
   "source": [
    "movie_id='agony_(film)'\n",
    "sims= model.docvecs.most_similar(movie_id,topn=5)\n",
    "eval_fn.calculate_BLEU_score(movie_id, sims,train_data_df)"
   ]
  },
  {
   "cell_type": "markdown",
   "metadata": {},
   "source": [
    "** Visualize movies groups with labels"
   ]
  },
  {
   "cell_type": "code",
   "execution_count": 30,
   "metadata": {},
   "outputs": [
    {
     "data": {
      "text/plain": [
       "<matplotlib.legend.Legend at 0x20544eadc70>"
      ]
     },
     "execution_count": 30,
     "metadata": {},
     "output_type": "execute_result"
    },
    {
     "data": {
      "image/png": "[encoded data removed]",
      "text/plain": [
       "<Figure size 432x288 with 1 Axes>"
      ]
     },
     "metadata": {
      "needs_background": "light"
     },
     "output_type": "display_data"
    }
   ],
   "source": [
    "#visialize movies grouped by the query movie_id- for each movie in the test set, generate the sim list and save them in a dict with the query movie as the key\n",
    "#for each group, plot the query movie and the sim list using distinct color\n",
    "#generate similarity list for each movie in the test set\n",
    "vis_group_by_q_movie=[]\n",
    "for movie_id in test_movies_list:\n",
    "    sims= model.docvecs.most_similar(movie_id)\n",
    "    g_movies=[]\n",
    "    for s in sims:\n",
    "        g_movies.append(s[0])\n",
    "    group = {'g_id':movie_id, 'g_movies':g_movies}\n",
    "    vis_group_by_q_movie.append(group)\n",
    "#print(vis_group_by_q_movie)    \n",
    "\n",
    "data_target_list=[]\n",
    "for group in vis_group_by_q_movie:\n",
    "    data_target_list = data_target_list + list(itertools.product([group['g_id']], group['g_movies']))\n",
    "y=[]\n",
    "data_X = []\n",
    "\n",
    "#print(data_target_list)\n",
    "\n",
    "for pair in data_target_list:\n",
    "    title = helper_fn.find_movie_title_by_id(pair[0],train_data_df)\n",
    "    y.append(title.values[0].capitalize())\n",
    "    data_X.append(pair[1])\n",
    "\n",
    "data_X_vec = [model[tag] for tag in data_X]\n",
    "tsne=  TSNE(perplexity= 5, n_components=2, init='pca', n_iter=5000, random_state=23)\n",
    "tsne_obj= tsne.fit_transform(data_X_vec)\n",
    "tsne_df = pd.DataFrame({'X':tsne_obj[:,0],\n",
    "                        'Y':tsne_obj[:,1],\n",
    "                        'movie':y})\n",
    "\n",
    "sns.set_context(\"notebook\")\n",
    "g=sns.scatterplot(x=\"X\", y=\"Y\",\n",
    "              hue=\"movie\",\n",
    "              palette=['purple','red','orange','brown','blue',\n",
    "                       'dodgerblue','green','lightgreen','darkcyan', 'black'],\n",
    "              legend='full',\n",
    "              data=tsne_df);\n",
    "plt.title('Model generated movies with similarities')\n",
    "g.figure.savefig(\"generated_simialr_movies.png\")\n",
    "\n",
    "g.legend(loc='center left', bbox_to_anchor=(1.00, 0.5), ncol=1)"
   ]
  },
  {
   "cell_type": "code",
   "execution_count": null,
   "metadata": {},
   "outputs": [],
   "source": []
  },
  {
   "cell_type": "code",
   "execution_count": 31,
   "metadata": {
    "scrolled": true
   },
   "outputs": [
    {
     "data": {
      "text/html": [
       "<table>\n",
       "<thead>\n",
       "<tr><th>Query Movie                                  </th><th>Query Movie Genres                                         </th><th>Similar movies genres                                                                                                                                                                                                                                                          </th></tr>\n",
       "</thead>\n",
       "<tbody>\n",
       "<tr><td>godzilla_vs._biollante                       </td><td>science_fiction_film|kaiju|horror_film                     </td><td>coming-of-age_story|horror_film|action_film|crime_film|fantasy_film|science_fiction_comedy|cyberpunk|post-apocalyptic_film_q1341051|western_film|found_footage_|samurai_cinema|science_fiction_film                                                                            </td></tr>\n",
       "<tr><td>the_bunker_(2001_film)                       </td><td>mystery_film|horror_film                                   </td><td>vampire_films|horror_film|fantasy_film|werewolf_film_q5258881|b_movie|slasher_film|speculative_fiction_film_q2973181|comedy-drama|science_fiction_film                                                                                                                         </td></tr>\n",
       "<tr><td>just_go_with_it                              </td><td>romantic_comedy                                            </td><td>lgbt-related_film_q20442589|action_film|war_film|romantic_comedy|fantasy_film|prison_film|film_based_on_literature_q52162262|adventure_film|&quot;childrens_film&quot;|family_film_q1361932|rape_and_revenge_film|comedy-drama|science_fiction_film                                      </td></tr>\n",
       "<tr><td>agony_(film)                                 </td><td>political_drama|biographical_film|historical_film_q17013749</td><td>epic_film|cinematic_fairy_tale_q1957385|war_film|art_film|romantic_comedy|biographical_film|historical_film_q17013749|tragicomedy|melodrama|comedy-drama|science_fiction_film                                                                                                  </td></tr>\n",
       "<tr><td>harry_potter_and_the_half-blood_prince_(film)</td><td>film_based_on_literature_q52162262|fantasy_film            </td><td>christmas_film_q28026639|action_film|war_film|romantic_comedy|fantasy_film|musical_film|biographical_film|film_based_on_literature_q52162262|adventure_film|&quot;childrens_film&quot;|costume_drama|parody_film|comedy-drama                                                            </td></tr>\n",
       "<tr><td>toy_story_4                                  </td><td>&quot;childrens_film&quot;                                           </td><td>christmas_film_q28026639|lgbt-related_film_q20442589|neo-noir|action_film|romantic_comedy|fantasy_film|blaxploitation|biographical_film|thriller_film|screwball_comedy|film_based_on_literature_q52162262|female_buddy_film|girls_with_guns|parody_film|comedy-drama|heist_film</td></tr>\n",
       "<tr><td>tsar_(film)                                  </td><td>political_drama|historical_film_q17013749                  </td><td>action_film|romance_film|mystery_film|crime_film|biographical_film|erotic_film|thriller_film|film_based_on_literature_q52162262|historical_film_q17013749                                                                                                                      </td></tr>\n",
       "<tr><td>high_school_musical_3:_senior_year           </td><td>romantic_comedy|musical_film|&quot;childrens_film&quot;|teen_film    </td><td>christmas_film_q28026639|buddy_film|teen_film|romantic_comedy|action_film|fantasy_film|musical_film|comedy-drama|traditionally_animated_film_q28968511|film_based_on_literature_q52162262|heist_film|&quot;childrens_film&quot;|coming-of-age_story|hood_film                            </td></tr>\n",
       "<tr><td>hook_(film)                                  </td><td>pirate_film_q2096633|fantasy_film|action_film              </td><td>comedy_horror|action_film|romance_film|romantic_comedy|teen_film|crime_film|science_fiction_comedy|horror_film|thriller_film|spy_film|slasher_film|parody_film|science_fiction_film                                                                                            </td></tr>\n",
       "<tr><td>destiny_(1997_film)                          </td><td>biographical_film                                          </td><td>slice_of_life|lgbt-related_film_q20442589|war_film|romantic_comedy|romance_film|crime_film|fantasy_film|biographical_film|film_based_on_literature_q52162262|spy_film                                                                                                          </td></tr>\n",
       "</tbody>\n",
       "</table>"
      ],
      "text/plain": [
       "'<table>\\n<thead>\\n<tr><th>Query Movie                                  </th><th>Query Movie Genres                                         </th><th>Similar movies genres                                                                                                                                                                                                                                                          </th></tr>\\n</thead>\\n<tbody>\\n<tr><td>godzilla_vs._biollante                       </td><td>science_fiction_film|kaiju|horror_film                     </td><td>coming-of-age_story|horror_film|action_film|crime_film|fantasy_film|science_fiction_comedy|cyberpunk|post-apocalyptic_film_q1341051|western_film|found_footage_|samurai_cinema|science_fiction_film                                                                            </td></tr>\\n<tr><td>the_bunker_(2001_film)                       </td><td>mystery_film|horror_film                                   </td><td>vampire_films|horror_film|fantasy_film|werewolf_film_q5258881|b_movie|slasher_film|speculative_fiction_film_q2973181|comedy-drama|science_fiction_film                                                                                                                         </td></tr>\\n<tr><td>just_go_with_it                              </td><td>romantic_comedy                                            </td><td>lgbt-related_film_q20442589|action_film|war_film|romantic_comedy|fantasy_film|prison_film|film_based_on_literature_q52162262|adventure_film|&quot;childrens_film&quot;|family_film_q1361932|rape_and_revenge_film|comedy-drama|science_fiction_film                                      </td></tr>\\n<tr><td>agony_(film)                                 </td><td>political_drama|biographical_film|historical_film_q17013749</td><td>epic_film|cinematic_fairy_tale_q1957385|war_film|art_film|romantic_comedy|biographical_film|historical_film_q17013749|tragicomedy|melodrama|comedy-drama|science_fiction_film                                                                                                  </td></tr>\\n<tr><td>harry_potter_and_the_half-blood_prince_(film)</td><td>film_based_on_literature_q52162262|fantasy_film            </td><td>christmas_film_q28026639|action_film|war_film|romantic_comedy|fantasy_film|musical_film|biographical_film|film_based_on_literature_q52162262|adventure_film|&quot;childrens_film&quot;|costume_drama|parody_film|comedy-drama                                                            </td></tr>\\n<tr><td>toy_story_4                                  </td><td>&quot;childrens_film&quot;                                           </td><td>christmas_film_q28026639|lgbt-related_film_q20442589|neo-noir|action_film|romantic_comedy|fantasy_film|blaxploitation|biographical_film|thriller_film|screwball_comedy|film_based_on_literature_q52162262|female_buddy_film|girls_with_guns|parody_film|comedy-drama|heist_film</td></tr>\\n<tr><td>tsar_(film)                                  </td><td>political_drama|historical_film_q17013749                  </td><td>action_film|romance_film|mystery_film|crime_film|biographical_film|erotic_film|thriller_film|film_based_on_literature_q52162262|historical_film_q17013749                                                                                                                      </td></tr>\\n<tr><td>high_school_musical_3:_senior_year           </td><td>romantic_comedy|musical_film|&quot;childrens_film&quot;|teen_film    </td><td>christmas_film_q28026639|buddy_film|teen_film|romantic_comedy|action_film|fantasy_film|musical_film|comedy-drama|traditionally_animated_film_q28968511|film_based_on_literature_q52162262|heist_film|&quot;childrens_film&quot;|coming-of-age_story|hood_film                            </td></tr>\\n<tr><td>hook_(film)                                  </td><td>pirate_film_q2096633|fantasy_film|action_film              </td><td>comedy_horror|action_film|romance_film|romantic_comedy|teen_film|crime_film|science_fiction_comedy|horror_film|thriller_film|spy_film|slasher_film|parody_film|science_fiction_film                                                                                            </td></tr>\\n<tr><td>destiny_(1997_film)                          </td><td>biographical_film                                          </td><td>slice_of_life|lgbt-related_film_q20442589|war_film|romantic_comedy|romance_film|crime_film|fantasy_film|biographical_film|film_based_on_literature_q52162262|spy_film                                                                                                          </td></tr>\\n</tbody>\\n</table>'"
      ]
     },
     "metadata": {},
     "output_type": "display_data"
    },
    {
     "ename": "FileNotFoundError",
     "evalue": "[Errno 2] No such file or directory: 'models/exp1/sim_gen_list.xlsx'",
     "output_type": "error",
     "traceback": [
      "\u001b[1;31m---------------------------------------------------------------------------\u001b[0m",
      "\u001b[1;31mFileNotFoundError\u001b[0m                         Traceback (most recent call last)",
      "\u001b[1;32m<ipython-input-31-d90cb00a41f4>\u001b[0m in \u001b[0;36m<module>\u001b[1;34m\u001b[0m\n\u001b[0;32m     25\u001b[0m \u001b[0mgroup_genres_df\u001b[0m\u001b[1;33m[\u001b[0m\u001b[1;34m'genres_list'\u001b[0m\u001b[1;33m]\u001b[0m \u001b[1;33m=\u001b[0m \u001b[0mgroup_genres_df\u001b[0m\u001b[1;33m.\u001b[0m\u001b[0mapply\u001b[0m\u001b[1;33m(\u001b[0m\u001b[1;32mlambda\u001b[0m \u001b[0mrow\u001b[0m\u001b[1;33m:\u001b[0m \u001b[1;34m'|'\u001b[0m\u001b[1;33m.\u001b[0m\u001b[0mjoin\u001b[0m\u001b[1;33m(\u001b[0m\u001b[0mrow\u001b[0m\u001b[1;33m[\u001b[0m\u001b[1;34m'genres_list'\u001b[0m\u001b[1;33m]\u001b[0m\u001b[1;33m)\u001b[0m\u001b[1;33m,\u001b[0m \u001b[0maxis\u001b[0m\u001b[1;33m=\u001b[0m\u001b[1;36m1\u001b[0m\u001b[1;33m)\u001b[0m\u001b[1;33m\u001b[0m\u001b[1;33m\u001b[0m\u001b[0m\n\u001b[0;32m     26\u001b[0m \u001b[0mdisplay\u001b[0m\u001b[1;33m(\u001b[0m\u001b[0mtabulate\u001b[0m\u001b[1;33m(\u001b[0m\u001b[0mgroup_genres_df\u001b[0m\u001b[1;33m,\u001b[0m \u001b[0mheaders\u001b[0m\u001b[1;33m=\u001b[0m\u001b[1;33m[\u001b[0m\u001b[1;34m'Query Movie'\u001b[0m\u001b[1;33m,\u001b[0m \u001b[1;34m\"Query Movie Genres\"\u001b[0m\u001b[1;33m,\u001b[0m \u001b[1;34m\"Similar movies genres\"\u001b[0m\u001b[1;33m]\u001b[0m\u001b[1;33m,\u001b[0m\u001b[0mtablefmt\u001b[0m\u001b[1;33m=\u001b[0m\u001b[1;34m'html'\u001b[0m\u001b[1;33m,\u001b[0m \u001b[0mshowindex\u001b[0m\u001b[1;33m=\u001b[0m\u001b[1;32mFalse\u001b[0m\u001b[1;33m)\u001b[0m\u001b[1;33m)\u001b[0m\u001b[1;33m\u001b[0m\u001b[1;33m\u001b[0m\u001b[0m\n\u001b[1;32m---> 27\u001b[1;33m \u001b[0mgroup_genres_df\u001b[0m\u001b[1;33m.\u001b[0m\u001b[0mto_excel\u001b[0m\u001b[1;33m(\u001b[0m\u001b[1;34m\"models/exp1/sim_gen_list.xlsx\"\u001b[0m\u001b[1;33m,\u001b[0m \u001b[0mindex\u001b[0m\u001b[1;33m=\u001b[0m\u001b[1;32mFalse\u001b[0m\u001b[1;33m)\u001b[0m\u001b[1;33m\u001b[0m\u001b[1;33m\u001b[0m\u001b[0m\n\u001b[0m\u001b[0;32m     28\u001b[0m \u001b[1;31m#group_genres_df\u001b[0m\u001b[1;33m\u001b[0m\u001b[1;33m\u001b[0m\u001b[1;33m\u001b[0m\u001b[0m\n",
      "\u001b[1;32md:\\programs\\python39\\lib\\site-packages\\pandas\\core\\generic.py\u001b[0m in \u001b[0;36mto_excel\u001b[1;34m(self, excel_writer, sheet_name, na_rep, float_format, columns, header, index, index_label, startrow, startcol, engine, merge_cells, encoding, inf_rep, verbose, freeze_panes)\u001b[0m\n\u001b[0;32m   2024\u001b[0m             \u001b[0minf_rep\u001b[0m\u001b[1;33m=\u001b[0m\u001b[0minf_rep\u001b[0m\u001b[1;33m,\u001b[0m\u001b[1;33m\u001b[0m\u001b[1;33m\u001b[0m\u001b[0m\n\u001b[0;32m   2025\u001b[0m         )\n\u001b[1;32m-> 2026\u001b[1;33m         formatter.write(\n\u001b[0m\u001b[0;32m   2027\u001b[0m             \u001b[0mexcel_writer\u001b[0m\u001b[1;33m,\u001b[0m\u001b[1;33m\u001b[0m\u001b[1;33m\u001b[0m\u001b[0m\n\u001b[0;32m   2028\u001b[0m             \u001b[0msheet_name\u001b[0m\u001b[1;33m=\u001b[0m\u001b[0msheet_name\u001b[0m\u001b[1;33m,\u001b[0m\u001b[1;33m\u001b[0m\u001b[1;33m\u001b[0m\u001b[0m\n",
      "\u001b[1;32md:\\programs\\python39\\lib\\site-packages\\pandas\\io\\formats\\excel.py\u001b[0m in \u001b[0;36mwrite\u001b[1;34m(self, writer, sheet_name, startrow, startcol, freeze_panes, engine)\u001b[0m\n\u001b[0;32m    740\u001b[0m         )\n\u001b[0;32m    741\u001b[0m         \u001b[1;32mif\u001b[0m \u001b[0mneed_save\u001b[0m\u001b[1;33m:\u001b[0m\u001b[1;33m\u001b[0m\u001b[1;33m\u001b[0m\u001b[0m\n\u001b[1;32m--> 742\u001b[1;33m             \u001b[0mwriter\u001b[0m\u001b[1;33m.\u001b[0m\u001b[0msave\u001b[0m\u001b[1;33m(\u001b[0m\u001b[1;33m)\u001b[0m\u001b[1;33m\u001b[0m\u001b[1;33m\u001b[0m\u001b[0m\n\u001b[0m",
      "\u001b[1;32md:\\programs\\python39\\lib\\site-packages\\pandas\\io\\excel\\_openpyxl.py\u001b[0m in \u001b[0;36msave\u001b[1;34m(self)\u001b[0m\n\u001b[0;32m     41\u001b[0m         \u001b[0mSave\u001b[0m \u001b[0mworkbook\u001b[0m \u001b[0mto\u001b[0m \u001b[0mdisk\u001b[0m\u001b[1;33m.\u001b[0m\u001b[1;33m\u001b[0m\u001b[1;33m\u001b[0m\u001b[0m\n\u001b[0;32m     42\u001b[0m         \"\"\"\n\u001b[1;32m---> 43\u001b[1;33m         \u001b[1;32mreturn\u001b[0m \u001b[0mself\u001b[0m\u001b[1;33m.\u001b[0m\u001b[0mbook\u001b[0m\u001b[1;33m.\u001b[0m\u001b[0msave\u001b[0m\u001b[1;33m(\u001b[0m\u001b[0mself\u001b[0m\u001b[1;33m.\u001b[0m\u001b[0mpath\u001b[0m\u001b[1;33m)\u001b[0m\u001b[1;33m\u001b[0m\u001b[1;33m\u001b[0m\u001b[0m\n\u001b[0m\u001b[0;32m     44\u001b[0m \u001b[1;33m\u001b[0m\u001b[0m\n\u001b[0;32m     45\u001b[0m     \u001b[1;33m@\u001b[0m\u001b[0mclassmethod\u001b[0m\u001b[1;33m\u001b[0m\u001b[1;33m\u001b[0m\u001b[0m\n",
      "\u001b[1;32md:\\programs\\python39\\lib\\site-packages\\openpyxl\\workbook\\workbook.py\u001b[0m in \u001b[0;36msave\u001b[1;34m(self, filename)\u001b[0m\n\u001b[0;32m    390\u001b[0m         \u001b[1;32mif\u001b[0m \u001b[0mself\u001b[0m\u001b[1;33m.\u001b[0m\u001b[0mwrite_only\u001b[0m \u001b[1;32mand\u001b[0m \u001b[1;32mnot\u001b[0m \u001b[0mself\u001b[0m\u001b[1;33m.\u001b[0m\u001b[0mworksheets\u001b[0m\u001b[1;33m:\u001b[0m\u001b[1;33m\u001b[0m\u001b[1;33m\u001b[0m\u001b[0m\n\u001b[0;32m    391\u001b[0m             \u001b[0mself\u001b[0m\u001b[1;33m.\u001b[0m\u001b[0mcreate_sheet\u001b[0m\u001b[1;33m(\u001b[0m\u001b[1;33m)\u001b[0m\u001b[1;33m\u001b[0m\u001b[1;33m\u001b[0m\u001b[0m\n\u001b[1;32m--> 392\u001b[1;33m         \u001b[0msave_workbook\u001b[0m\u001b[1;33m(\u001b[0m\u001b[0mself\u001b[0m\u001b[1;33m,\u001b[0m \u001b[0mfilename\u001b[0m\u001b[1;33m)\u001b[0m\u001b[1;33m\u001b[0m\u001b[1;33m\u001b[0m\u001b[0m\n\u001b[0m\u001b[0;32m    393\u001b[0m \u001b[1;33m\u001b[0m\u001b[0m\n\u001b[0;32m    394\u001b[0m \u001b[1;33m\u001b[0m\u001b[0m\n",
      "\u001b[1;32md:\\programs\\python39\\lib\\site-packages\\openpyxl\\writer\\excel.py\u001b[0m in \u001b[0;36msave_workbook\u001b[1;34m(workbook, filename)\u001b[0m\n\u001b[0;32m    289\u001b[0m \u001b[1;33m\u001b[0m\u001b[0m\n\u001b[0;32m    290\u001b[0m     \"\"\"\n\u001b[1;32m--> 291\u001b[1;33m     \u001b[0marchive\u001b[0m \u001b[1;33m=\u001b[0m \u001b[0mZipFile\u001b[0m\u001b[1;33m(\u001b[0m\u001b[0mfilename\u001b[0m\u001b[1;33m,\u001b[0m \u001b[1;34m'w'\u001b[0m\u001b[1;33m,\u001b[0m \u001b[0mZIP_DEFLATED\u001b[0m\u001b[1;33m,\u001b[0m \u001b[0mallowZip64\u001b[0m\u001b[1;33m=\u001b[0m\u001b[1;32mTrue\u001b[0m\u001b[1;33m)\u001b[0m\u001b[1;33m\u001b[0m\u001b[1;33m\u001b[0m\u001b[0m\n\u001b[0m\u001b[0;32m    292\u001b[0m     \u001b[0mwriter\u001b[0m \u001b[1;33m=\u001b[0m \u001b[0mExcelWriter\u001b[0m\u001b[1;33m(\u001b[0m\u001b[0mworkbook\u001b[0m\u001b[1;33m,\u001b[0m \u001b[0marchive\u001b[0m\u001b[1;33m)\u001b[0m\u001b[1;33m\u001b[0m\u001b[1;33m\u001b[0m\u001b[0m\n\u001b[0;32m    293\u001b[0m     \u001b[0mwriter\u001b[0m\u001b[1;33m.\u001b[0m\u001b[0msave\u001b[0m\u001b[1;33m(\u001b[0m\u001b[1;33m)\u001b[0m\u001b[1;33m\u001b[0m\u001b[1;33m\u001b[0m\u001b[0m\n",
      "\u001b[1;32md:\\programs\\python39\\lib\\zipfile.py\u001b[0m in \u001b[0;36m__init__\u001b[1;34m(self, file, mode, compression, allowZip64, compresslevel, strict_timestamps)\u001b[0m\n\u001b[0;32m   1237\u001b[0m             \u001b[1;32mwhile\u001b[0m \u001b[1;32mTrue\u001b[0m\u001b[1;33m:\u001b[0m\u001b[1;33m\u001b[0m\u001b[1;33m\u001b[0m\u001b[0m\n\u001b[0;32m   1238\u001b[0m                 \u001b[1;32mtry\u001b[0m\u001b[1;33m:\u001b[0m\u001b[1;33m\u001b[0m\u001b[1;33m\u001b[0m\u001b[0m\n\u001b[1;32m-> 1239\u001b[1;33m                     \u001b[0mself\u001b[0m\u001b[1;33m.\u001b[0m\u001b[0mfp\u001b[0m \u001b[1;33m=\u001b[0m \u001b[0mio\u001b[0m\u001b[1;33m.\u001b[0m\u001b[0mopen\u001b[0m\u001b[1;33m(\u001b[0m\u001b[0mfile\u001b[0m\u001b[1;33m,\u001b[0m \u001b[0mfilemode\u001b[0m\u001b[1;33m)\u001b[0m\u001b[1;33m\u001b[0m\u001b[1;33m\u001b[0m\u001b[0m\n\u001b[0m\u001b[0;32m   1240\u001b[0m                 \u001b[1;32mexcept\u001b[0m \u001b[0mOSError\u001b[0m\u001b[1;33m:\u001b[0m\u001b[1;33m\u001b[0m\u001b[1;33m\u001b[0m\u001b[0m\n\u001b[0;32m   1241\u001b[0m                     \u001b[1;32mif\u001b[0m \u001b[0mfilemode\u001b[0m \u001b[1;32min\u001b[0m \u001b[0mmodeDict\u001b[0m\u001b[1;33m:\u001b[0m\u001b[1;33m\u001b[0m\u001b[1;33m\u001b[0m\u001b[0m\n",
      "\u001b[1;31mFileNotFoundError\u001b[0m: [Errno 2] No such file or directory: 'models/exp1/sim_gen_list.xlsx'"
     ]
    }
   ],
   "source": [
    "#further analysis to the results in visualizing the 10 movies and their simialr ones\n",
    "#get list of genres for each group\n",
    "\n",
    "all_group_genres_list = []\n",
    "for group in vis_group_by_q_movie: \n",
    "    group_genres_list=[]\n",
    "    id_genres_list = []\n",
    "    #genres for the query movie\n",
    "    movie_genres = helper_fn.find_movie_genre_by_id(group['g_id'], train_data_df)\n",
    "    id_genres_list = id_genres_list + movie_genres.to_list()[0]\n",
    "    \n",
    "    for movie_id in group['g_movies']:\n",
    "        movie_genres = helper_fn.find_movie_genre_by_id(movie_id, train_data_df)\n",
    "        group_genres_list = group_genres_list + movie_genres.tolist()[0]\n",
    "     #   print(group_genres_list[0])\n",
    "    g_genres={'g_id':group['g_id'], 'q_genres':id_genres_list,'g_genres': list(set(group_genres_list))}\n",
    "    all_group_genres_list.append(g_genres)\n",
    "    \n",
    "\n",
    "group_genres_df = pd.DataFrame(data= {'movie_id':[g['g_id'] for g in all_group_genres_list]\n",
    "                                      ,'q_genres':[g['q_genres'] for g in all_group_genres_list]\n",
    "                                      ,'genres_list':[g['g_genres'] for g in all_group_genres_list]})\n",
    "\n",
    "group_genres_df['q_genres'] = group_genres_df.apply(lambda row: '|'.join(row['q_genres']), axis=1)\n",
    "group_genres_df['genres_list'] = group_genres_df.apply(lambda row: '|'.join(row['genres_list']), axis=1)\n",
    "display(tabulate(group_genres_df, headers=['Query Movie', \"Query Movie Genres\", \"Similar movies genres\"],tablefmt='html', showindex=False))\n",
    "group_genres_df.to_excel(\"models/exp1/sim_gen_list.xlsx\", index=False)\n",
    "#group_genres_df"
   ]
  },
  {
   "cell_type": "code",
   "execution_count": null,
   "metadata": {},
   "outputs": [],
   "source": []
  },
  {
   "cell_type": "code",
   "execution_count": null,
   "metadata": {},
   "outputs": [],
   "source": []
  },
  {
   "cell_type": "markdown",
   "metadata": {},
   "source": [
    "# Calculate the ranking score for a model"
   ]
  },
  {
   "cell_type": "code",
   "execution_count": null,
   "metadata": {},
   "outputs": [],
   "source": [
    "test_data=[\n",
    "    \n",
    "    ['harry_potter_and_the_chamber_of_secrets_(film)',\n",
    "  'harry_potter_and_the_goblet_of_fire_(film)',\n",
    "  'harry_potter_and_the_half-blood_prince_(film)',\n",
    "  'harry_potter_and_the_order_of_the_phoenix_(film)',\n",
    "  'harry_potter_and_the_prisoner_of_azkaban_(film)'],\n",
    "    ['star_trek:_first_contact',\n",
    "  'star_trek:_insurrection',\n",
    "  'star_trek:_nemesis',\n",
    "  'star_trek_beyond',\n",
    "  'star_trek_into_darkness'],\n",
    "    ['godzilla_vs._biollante',\n",
    "  'godzilla_vs._gigan',\n",
    "  'godzilla_vs._hedorah',\n",
    "  'godzilla_vs._king_ghidorah',\n",
    "  'godzilla_vs._mechagodzilla_ii',\n",
    "  'godzilla_vs._megaguirus',\n",
    "  'godzilla_vs._megalon',\n",
    "  'godzilla_vs._mothra',\n",
    "  'godzilla_vs._spacegodzilla'],\n",
    "    [ 'x-men:_apocalypse',\n",
    "  'x-men:_days_of_future_past',\n",
    "  'x-men:_the_last_stand',\n",
    "  'x-men_(film)',\n",
    "  'x-men_origins:_wolverine']\n",
    "]\n",
    "len(test_data)"
   ]
  },
  {
   "cell_type": "code",
   "execution_count": null,
   "metadata": {},
   "outputs": [],
   "source": [
    "imp.reload(eval_fn)\n",
    "#prepare test data\n",
    "#test_titles = []\n",
    "#test_titles= ['shrek','star trek','blade','toy story 4','pitch perfect','harry potter','godzilla','paddington','x-men']\n",
    "#test_titles= ['shrek','star trek','pitch perfect','harry potter','godzilla','paddington','x-men']\n",
    "#test_data= eval_fn.build_movie_sequel_test_data(train_data_df, test_titles)\n",
    "\n",
    "rank_score_list = eval_fn.calculate_rank_score(model,test_data,3)\n",
    "group_rank_df = pd.DataFrame(data= {'group_id':[g['group_id'] for g in rank_score_list], 'score':[g['group_score'] for g in rank_score_list]})\n",
    "group_rank_df.append(group_rank_df.sum(numeric_only=True), ignore_index=True)\n",
    "group_rank_df.loc['Column_Total']= group_rank_df.sum(numeric_only=True, axis=0)\n",
    "group_rank_df.iloc[len(group_rank_df)-1].group_id = \"Total\"\n",
    "group_rank_df.fillna(\" jkj\")\n",
    "\n",
    "display(tabulate(group_rank_df, headers=['Movies Group', \"Rank Score\"],tablefmt='html', colalign=(\"right\", \"left\"),showindex=False))"
   ]
  },
  {
   "cell_type": "code",
   "execution_count": null,
   "metadata": {},
   "outputs": [],
   "source": [
    "#Calculate model BLEU score\n",
    "test_titles = []\n",
    "test_titles= ['shrek','star trek','blade','toy story 4','pitch perfect','harry potter','godzilla','paddington','x-men']\n",
    "test_data= eval_fn.build_movie_sequel_test_data(train_data_df, test_titles)"
   ]
  },
  {
   "cell_type": "code",
   "execution_count": null,
   "metadata": {},
   "outputs": [],
   "source": [
    "bleu_score = eval_fn.calculate_model_bleu_score(model, test_data, train_data_df, 5)\n",
    "bleu_score*100"
   ]
  },
  {
   "cell_type": "code",
   "execution_count": null,
   "metadata": {},
   "outputs": [],
   "source": [
    "test_titles = []\n",
    "test_titles= ['shrek','star trek','blade','toy story 4','pitch perfect','harry potter','godzilla','paddington','x-men']\n",
    "test_data= eval_fn.build_movie_sequel_test_data(train_data_df, test_titles)\n",
    "test_data\n",
    "\n",
    "test_titles=[\n",
    "    \n",
    "    ['harry_potter_and_the_chamber_of_secrets_(film)',\n",
    "  'harry_potter_and_the_goblet_of_fire_(film)',\n",
    "  'harry_potter_and_the_half-blood_prince_(film)',\n",
    "  'harry_potter_and_the_order_of_the_phoenix_(film)',\n",
    "  'harry_potter_and_the_prisoner_of_azkaban_(film)'],\n",
    "    ['star_trek:_first_contact',\n",
    "  'star_trek:_insurrection',\n",
    "  'star_trek:_nemesis',\n",
    "  'star_trek_beyond',\n",
    "  'star_trek_into_darkness'],\n",
    "    ['godzilla_vs._biollante',\n",
    "  'godzilla_vs._gigan',\n",
    "  'godzilla_vs._hedorah',\n",
    "  'godzilla_vs._king_ghidorah',\n",
    "  'godzilla_vs._mechagodzilla_ii',\n",
    "  'godzilla_vs._megaguirus',\n",
    "  'godzilla_vs._megalon',\n",
    "  'godzilla_vs._mothra',\n",
    "  'godzilla_vs._spacegodzilla'],\n",
    "    [ 'x-men:_apocalypse',\n",
    "  'x-men:_days_of_future_past',\n",
    "  'x-men:_the_last_stand',\n",
    "  'x-men_(film)',\n",
    "  'x-men_origins:_wolverine']\n",
    "]"
   ]
  },
  {
   "cell_type": "code",
   "execution_count": null,
   "metadata": {},
   "outputs": [],
   "source": [
    "len(vis_genres_sample_df)"
   ]
  },
  {
   "cell_type": "markdown",
   "metadata": {},
   "source": [
    "## visualize movies by genre\n",
    "#genres_sample_df contains movies from the genres 'Romantic_Comedy','Drama','Adventure','Crime','Action','Unknown'"
   ]
  },
  {
   "cell_type": "code",
   "execution_count": null,
   "metadata": {},
   "outputs": [],
   "source": [
    "y=[]\n",
    "data_X = []\n",
    "\n",
    "#print(data_target_list)\n",
    "\n",
    "\n",
    "\n",
    "vis_genres_sample_df = genres_sample_df.copy()\n",
    "\n",
    "vis_genres_sample_df['data_X_vec']= vis_genres_sample_df.apply(lambda movie:model[movie.movie_id], axis=1)\n",
    "vis_genres_sample_df['y']= vis_genres_sample_df.apply(lambda movie: assign_genre(genres_df, movie.movie_id), axis=1)\n",
    "\n",
    "data_X_vec = list(vis_genres_sample_df['data_X_vec'].values)\n",
    "y = vis_genres_sample_df['y']\n",
    "tsne=  TSNE(perplexity= 5, n_components=2, init='pca', n_iter=5000, random_state=23)\n",
    "tsne_obj= tsne.fit_transform(data_X_vec)\n",
    "tsne_df = pd.DataFrame({'X':tsne_obj[:,0],\n",
    "                        'Y':tsne_obj[:,1],\n",
    "                        'movie':y})\n",
    "tsne_df.head()\n",
    "sns.scatterplot(x=\"X\", y=\"Y\",\n",
    "              data=tsne_df);\n",
    "\n",
    "g=sns.scatterplot(x=\"X\", y=\"Y\",\n",
    "              hue=\"movie\",\n",
    "         #     palette=['purple','red','orange','brown','blue','black'],\n",
    "              legend='full',\n",
    "              data=tsne_df);\n",
    "plt.title('Movies grouped by genre ')\n",
    "g.legend(loc='center left', bbox_to_anchor=(1.00, 0.5), ncol=1)"
   ]
  },
  {
   "cell_type": "markdown",
   "metadata": {},
   "source": [
    "## plot sequelmovies with some noise data with labels"
   ]
  },
  {
   "cell_type": "code",
   "execution_count": 32,
   "metadata": {},
   "outputs": [],
   "source": [
    "def tsne_plot_doc2vec(model, samples,movies_dict,height, width):\n",
    "    \"Creates and TSNE model and plots it\"\n",
    "    labels = []\n",
    "    tokens = []\n",
    "    \n",
    "\n",
    "    for doc in samples:\n",
    "        tokens.append(model[doc])\n",
    "        labels.append(movies_dict[doc])\n",
    "    \n",
    "    tsne_model = TSNE(perplexity=40, n_components=2, init='pca', n_iter=2500, random_state=23)\n",
    "    new_values = tsne_model.fit_transform(tokens)\n",
    "\n",
    "    x = []\n",
    "    y = []\n",
    "    for value in new_values:\n",
    "        x.append(value[0])\n",
    "        y.append(value[1])\n",
    "        \n",
    "    plt.figure(figsize=(height, width)) \n",
    "    for i in range(len(x)):\n",
    "        plt.scatter(x[i],y[i])\n",
    "        plt.annotate(labels[i],\n",
    "                     xy=(x[i], y[i]),\n",
    "                     xytext=(5, 2),\n",
    "                     textcoords='offset points',\n",
    "                     ha='right',\n",
    "                     va='bottom')\n",
    "   # plt.ylim(1, -7)\n",
    "   # plt.xlim(-7,-1)\n",
    "    \n",
    "    \n",
    "    plt.title('Similar and non-similar movies')\n",
    "    plt.show()\n",
    "    #plt.figimage.savefig('movies_labels_large.png',  bbox_inches='tight')\n",
    "    plt.close() \n",
    "    "
   ]
  },
  {
   "cell_type": "code",
   "execution_count": 33,
   "metadata": {},
   "outputs": [
    {
     "data": {
      "image/png": "[encoded data removed]",
      "text/plain": [
       "<Figure size 720x720 with 1 Axes>"
      ]
     },
     "metadata": {
      "needs_background": "light"
     },
     "output_type": "display_data"
    }
   ],
   "source": [
    "tsne_plot_doc2vec(model, sequel_sampled_data_df.movie_id,movies_dict,10, 10)"
   ]
  },
  {
   "cell_type": "code",
   "execution_count": null,
   "metadata": {},
   "outputs": [],
   "source": []
  },
  {
   "cell_type": "markdown",
   "metadata": {},
   "source": [
    "## Not sure what is this for"
   ]
  },
  {
   "cell_type": "code",
   "execution_count": null,
   "metadata": {},
   "outputs": [],
   "source": [
    "def tsne_plot_doc2vec_categorized(model, samples,movies_dict, w,h):\n",
    "    \"Creates and TSNE model and plots it\"\n",
    "    labels = []\n",
    "    tokens = []\n",
    "    colors = []\n",
    "    \n",
    "\n",
    "    for doc in samples:\n",
    "        tokens.append(model[doc])\n",
    "        labels.append(movies_dict[doc])\n",
    "        colors.append(assign_color(genres_df, doc))\n",
    "    \n",
    "    tsne_model = TSNE(perplexity=50, n_components=2, init='pca', n_iter=2500, random_state=23)\n",
    "    new_values = tsne_model.fit_transform(tokens)\n",
    "\n",
    "    x = []\n",
    "    y = []\n",
    "    for value in new_values:\n",
    "        x.append(value[0])\n",
    "        y.append(value[1])\n",
    "        \n",
    "    plt.figure(figsize=(w, h)) \n",
    "    for i in range(len(x)):\n",
    "        plt.scatter(x[i],y[i],color= colors[i][0] )\n",
    "        plt.annotate('', #labels[i],\n",
    "                     xy=(x[i], y[i], ),\n",
    "                     xytext=(5, 2),\n",
    "                     textcoords='offset points',\n",
    "                     ha='right',\n",
    "                     va='bottom')\n",
    "   # plt.xlim(-4.0, -1.0)\n",
    "  #  display(HTML(\"<b>%d words most similar to '%s'</b>\" % (n,word)))\n",
    "    plt.title('Movies Distribution by Genre')\n",
    "    plt.legend( labels=['Romantic_Comedy','Drama','Adventure','Crime','Action','Unknown'])\n",
    "    plt.savefig('movies_genre.png')\n",
    "   # plt.show(block=False)\n",
    "    plt.show()\n",
    "genres_sample_df"
   ]
  },
  {
   "cell_type": "code",
   "execution_count": null,
   "metadata": {},
   "outputs": [],
   "source": [
    "tsne_plot_doc2vec_categorized(model, set(genres_sample_df[0:100].movie_id), movies_dict, 12,12)"
   ]
  },
  {
   "cell_type": "code",
   "execution_count": null,
   "metadata": {},
   "outputs": [],
   "source": []
  },
  {
   "cell_type": "code",
   "execution_count": null,
   "metadata": {},
   "outputs": [],
   "source": []
  },
  {
   "cell_type": "code",
   "execution_count": null,
   "metadata": {},
   "outputs": [],
   "source": []
  },
  {
   "cell_type": "code",
   "execution_count": null,
   "metadata": {},
   "outputs": [],
   "source": []
  },
  {
   "cell_type": "code",
   "execution_count": null,
   "metadata": {},
   "outputs": [],
   "source": [
    "genre_samples= genres_sample_df.movie_id.values.tolist()\n",
    "len(genre_samples)"
   ]
  },
  {
   "cell_type": "code",
   "execution_count": null,
   "metadata": {
    "scrolled": true
   },
   "outputs": [],
   "source": [
    "col_data=train_data_df[col_name]\n",
    "val_list=[]\n",
    "for data in col_data:\n",
    "    for val in data:\n",
    "        val_list.append(val)\n",
    "occurence_count = Counter(val_list)\n",
    "high_cnt = occurence_count.most_common(10)[0:10]\n",
    "x= [cnt[0] for cnt in high_cnt ]\n"
   ]
  },
  {
   "cell_type": "code",
   "execution_count": null,
   "metadata": {},
   "outputs": [],
   "source": [
    "tsne_plot_doc2vec(model, set(genre_samples[0:100]), movies_dict)"
   ]
  },
  {
   "cell_type": "code",
   "execution_count": null,
   "metadata": {},
   "outputs": [],
   "source": [
    "from seaborn import sns"
   ]
  },
  {
   "cell_type": "code",
   "execution_count": 35,
   "metadata": {
    "scrolled": true
   },
   "outputs": [],
   "source": [
    "#Plot movies by features\n",
    "\n",
    "def plot_movies_by_feature(col_name, train_data_df, sample_size):\n",
    "    col_data=train_data_df[col_name]\n",
    "    val_list=[]\n",
    "    for data in col_data:\n",
    "        for val in data:\n",
    "            val_list.append(val)\n",
    "\n",
    "    occurence_count = Counter(val_list)\n",
    "    print(len(occurence_count))\n",
    "    high_cnt = occurence_count.most_common(sample_size)[0:sample_size]\n",
    "    val_list= [cnt[0] for cnt in high_cnt ]\n",
    "    print(val_list)\n",
    "    \n",
    "    movies_val_dict={}\n",
    "\n",
    "    #val_list = random.sample(val_list,sample_size)\n",
    "    for val in val_list:\n",
    "        movies_val_dict[val] = helper_fn.find_movies_by_col_value(col_name, val, train_data_df)    \n",
    "    \n",
    "    data_target_list=[]\n",
    "    for key in val_list:\n",
    "        for val in movies_val_dict[key]:\n",
    "            data_target_list.append((key,val))\n",
    "    y=[]\n",
    "    data_X = []\n",
    "\n",
    "    for pair in data_target_list:\n",
    "        y.append(pair[0])\n",
    "        data_X.append(pair[1])\n",
    "\n",
    "    data_X_vec = [model[tag] for tag in data_X]\n",
    "    sns.set_context('notebook')\n",
    "    tsne=  TSNE(perplexity= 50, n_components=2, init='pca', n_iter=5000, random_state=23)\n",
    "    tsne_obj= tsne.fit_transform(data_X_vec)\n",
    "    tsne_df = pd.DataFrame({'X':tsne_obj[:,0],\n",
    "                        'Y':tsne_obj[:,1],\n",
    "                        col_name:y})\n",
    "    return tsne_df\n",
    "\n",
    "def draw_plot(tsne_df, col_name, title,filename):\n",
    "   # sns.set_palette(sns.color_palette(\"default\", 20))\n",
    "    #sns.color_palette()\n",
    "    tsne_df[col_name] = tsne_df[col_name].apply(lambda c: c[1:] if c.startswith('_') else c)\n",
    "    g=sns.scatterplot(x=\"X\", y=\"Y\",\n",
    "                  hue=col_name,\n",
    "              #    hue_order= cat_order,\n",
    "                #  palette=['purple','red','orange'],\n",
    "                  legend= 'full',            \n",
    "                  data=tsne_df);\n",
    "    \n",
    "    g.set_title(title)\n",
    "    #g.set_xlim(-600, 800)\n",
    "    #g.set_ylim(-800, 600)\n",
    "    g.legend(loc='center left', bbox_to_anchor=(1.00, 0.5), ncol=1)\n",
    "    g.figure.savefig(filename)\n",
    "    plt.close\n",
    "    \n",
    "        \n",
    "    "
   ]
  },
  {
   "cell_type": "code",
   "execution_count": null,
   "metadata": {},
   "outputs": [
    {
     "name": "stdout",
     "output_type": "stream",
     "text": [
      "129\n",
      "['united_states', 'united_kingdom', 'france', 'italy']\n"
     ]
    }
   ],
   "source": [
    "sample_size= 4\n",
    "#col_name= 'actor_name' #10 actors\n",
    "#col_name='writer_name' #10 samples\n",
    "#col_name='director_name' #10\n",
    "col_name='country' #10 samples\n",
    "#col_name='genre' #top 10\n",
    "\n",
    "plot_df = plot_movies_by_feature(col_name,train_data_df, sample_size)\n",
    "title= \"Movies grouped by \"+col_name\n",
    "filename= col_name+\"_plot.png\""
   ]
  },
  {
   "cell_type": "code",
   "execution_count": null,
   "metadata": {},
   "outputs": [],
   "source": []
  },
  {
   "cell_type": "code",
   "execution_count": 46,
   "metadata": {},
   "outputs": [
    {
     "data": {
      "image/png": "[encoded data removed]",
      "text/plain": [
       "<Figure size 432x288 with 1 Axes>"
      ]
     },
     "metadata": {
      "needs_background": "light"
     },
     "output_type": "display_data"
    }
   ],
   "source": [
    "draw_plot(plot_df,col_name, title, filename)"
   ]
  },
  {
   "cell_type": "code",
   "execution_count": null,
   "metadata": {},
   "outputs": [],
   "source": []
  },
  {
   "cell_type": "code",
   "execution_count": null,
   "metadata": {},
   "outputs": [],
   "source": []
  },
  {
   "cell_type": "code",
   "execution_count": null,
   "metadata": {},
   "outputs": [],
   "source": []
  },
  {
   "cell_type": "code",
   "execution_count": null,
   "metadata": {},
   "outputs": [],
   "source": []
  },
  {
   "cell_type": "code",
   "execution_count": null,
   "metadata": {},
   "outputs": [],
   "source": []
  },
  {
   "cell_type": "code",
   "execution_count": null,
   "metadata": {},
   "outputs": [],
   "source": []
  },
  {
   "cell_type": "code",
   "execution_count": null,
   "metadata": {},
   "outputs": [],
   "source": []
  },
  {
   "cell_type": "code",
   "execution_count": null,
   "metadata": {},
   "outputs": [],
   "source": []
  },
  {
   "cell_type": "code",
   "execution_count": null,
   "metadata": {},
   "outputs": [],
   "source": []
  },
  {
   "cell_type": "code",
   "execution_count": null,
   "metadata": {},
   "outputs": [],
   "source": []
  },
  {
   "cell_type": "code",
   "execution_count": null,
   "metadata": {},
   "outputs": [],
   "source": []
  },
  {
   "cell_type": "code",
   "execution_count": null,
   "metadata": {},
   "outputs": [],
   "source": []
  },
  {
   "cell_type": "code",
   "execution_count": null,
   "metadata": {},
   "outputs": [],
   "source": []
  },
  {
   "cell_type": "code",
   "execution_count": null,
   "metadata": {},
   "outputs": [],
   "source": []
  },
  {
   "cell_type": "code",
   "execution_count": null,
   "metadata": {},
   "outputs": [],
   "source": []
  },
  {
   "cell_type": "code",
   "execution_count": null,
   "metadata": {},
   "outputs": [],
   "source": []
  },
  {
   "cell_type": "code",
   "execution_count": null,
   "metadata": {},
   "outputs": [],
   "source": []
  },
  {
   "cell_type": "code",
   "execution_count": null,
   "metadata": {},
   "outputs": [],
   "source": []
  },
  {
   "cell_type": "code",
   "execution_count": null,
   "metadata": {},
   "outputs": [],
   "source": []
  },
  {
   "cell_type": "code",
   "execution_count": null,
   "metadata": {},
   "outputs": [],
   "source": []
  },
  {
   "cell_type": "code",
   "execution_count": null,
   "metadata": {},
   "outputs": [],
   "source": [
    "len(plot_df)"
   ]
  },
  {
   "cell_type": "code",
   "execution_count": null,
   "metadata": {},
   "outputs": [],
   "source": []
  },
  {
   "cell_type": "code",
   "execution_count": null,
   "metadata": {},
   "outputs": [],
   "source": []
  },
  {
   "cell_type": "code",
   "execution_count": null,
   "metadata": {},
   "outputs": [],
   "source": [
    "def show_closest_line(similar_movies, query_movie, n):\n",
    "   # display(html.HTML(\"<b>%d words most similar to '%s'</b>\" % (n, query_movie)))\n",
    "    \n",
    "    tops = similar_movies\n",
    "    \n",
    "    items = [item[0] for item in tops]\n",
    "    sims = [item[1] for i,item in enumerate(tops)]\n",
    "    \n",
    "    fig = plt.figure(num=None, figsize=(10, 6), dpi=80, facecolor='w', edgecolor='k')\n",
    "    ax = fig.add_subplot(111)\n",
    "\n",
    "    \n",
    "    plt.xticks(range(n), [i+1 for i in range(n)])\n",
    "    plt.xlabel('Rank')\n",
    "    plt.ylabel('Similarity')\n",
    "    plt.xlim(-1,n)\n",
    "\n",
    "    \n",
    "    ax.plot(sims, color=\"purple\", alpha=0.5)\n",
    "    \n",
    "    for item, x, y in zip(items, range(n), sims):\n",
    "        ax.annotate( item, xy=(x, y), xytext=(20, -7), textcoords='offset points', \n",
    "                     ha='right', va='bottom', color='orange', fontsize=14 )\n",
    "\n",
    "    \n",
    "    \n",
    "    \n",
    "    plt.show()"
   ]
  },
  {
   "cell_type": "code",
   "execution_count": null,
   "metadata": {},
   "outputs": [],
   "source": [
    "#query each movie for most similar list\n",
    "#save each query movie and the result in a dictionary\n",
    "#for each group, retrieve actors for all the movies in the list\n",
    "\n",
    "group_by_q_movie=[]\n",
    "all_groups_actors=[]\n",
    "for movie_id in test_movies_list:\n",
    "    sims= model.docvecs.most_similar(movie_id,topn=5)\n",
    "    g_movies=[]\n",
    "    for s in sims:\n",
    "        g_movies.append(s[0])\n",
    "    group = {'g_id':movie_id, 'g_movies':g_movies}\n",
    "    group_by_q_movie.append(group)\n",
    "    \n",
    "    \n",
    "for group in group_by_q_movie:\n",
    "    query_movie_id = group['g_id']\n",
    "    sim_movies_id_list = group['g_movies']\n",
    "    group_actors=[]\n",
    "    group_movies=[]\n",
    "    actors = helper_fn.find_actors_by_movie_id(query_movie_id, train_data_df)\n",
    "    \n",
    "    group_actors = group_actors + actors[0]\n",
    "    #print(group_actors)\n",
    "    group_movies.append(query_movie_id)    \n",
    "   # print(\"group ID {}\".format(query_movie_id))\n",
    "    \n",
    "    for movie_id in sim_movies_id_list:\n",
    "        #print(\"sim movie id {} :\".format(movie_id))\n",
    "        actors = helper_fn.find_actors_by_movie_id(movie_id, train_data_df)\n",
    "        group_actors = group_actors + actors[0]\n",
    "        group_movies.append(movie_id)\n",
    "        #print(group_actors)\n",
    "    all_groups_actors.append({'g_id':query_movie_id, 'g_movies':group_movies, 'g_actors':group_actors})\n",
    "\n",
    "\n",
    "group_actors_df = pd.DataFrame(data= {'movie_id':[g['g_id'] for g in all_groups_actors], \n",
    "                'movies_list':[g['g_movies'] for g in all_groups_actors],\n",
    "               'actors_list':[g['g_actors'] for g in all_groups_actors]\n",
    "               })\n",
    "\n",
    "\n",
    "#display(group_actors_df)\n",
    "\n",
    "data_target_list=[]\n",
    "movies_target_list=[]\n",
    "actors_target_list=[]\n",
    "\n",
    "for group in all_groups_actors:\n",
    "    movies_target_list = movies_target_list + list(itertools.product([group['g_id']], group['g_movies']))\n",
    "print(len(movies_target_list))\n",
    "x_movies_df= pd.DataFrame(data= list(set(movies_target_list)), columns=['Y','X'])\n",
    "x_movies_df['type']= 'movie'\n",
    "\n",
    "    \n",
    "for group in all_groups_actors:\n",
    "    actors_target_list = actors_target_list + list(itertools.product([group['g_id']], group['g_actors']))\n",
    "print(len(actors_target_list))\n",
    "x_actors_df= pd.DataFrame(data= list(set(actors_target_list)), columns=['Y','X'])\n",
    "x_actors_df['type']= 'actor'\n",
    "\n",
    "final_df = x_actors_df.append(x_movies_df)"
   ]
  },
  {
   "cell_type": "code",
   "execution_count": null,
   "metadata": {},
   "outputs": [],
   "source": [
    "###Visualization\n",
    "print(len(final_df))\n",
    "\n",
    "final_df.reset_index(drop=True, inplace= True)\n",
    "y=[]\n",
    "data_X = []\n",
    "type_x =[]\n",
    "final_df['title']= final_df.apply(lambda row: helper_fn.find_movie_title_by_id(row.Y,train_data_df).values[0], axis=1)\n",
    "final_df['title'] = final_df['title'].str.capitalize()\n",
    "#y_vec = [model[tag] for tag in y]\n",
    "\n",
    "doctags= model.docvecs.doctags\n",
    "vocab = model.wv.vocab\n",
    "final_df = final_df.sample(frac=1)\n",
    "plt.rcParams[\"figure.figsize\"] = [8,6]\n",
    "data_X_vec=[]\n",
    "for tag in final_df['X'].values :                \n",
    "    if tag in doctags:\n",
    "        tag_vec= model[tag] \n",
    "    else:\n",
    "        if tag in vocab:\n",
    "            tag_vec= model.wv[tag] \n",
    "        else:\n",
    "            tag_vec=[0]*50\n",
    "    data_X_vec.append(tag_vec)\n",
    "final_df['X_vec']=data_X_vec\n",
    "\n",
    "tsne=  TSNE(perplexity= 50, n_components=2, init='pca', n_iter=7000, random_state=23)\n",
    "\n",
    "tsne_obj= tsne.fit_transform(final_df.X_vec.to_list())\n",
    "\n",
    "tsne_df = pd.DataFrame({'X':tsne_obj[:,0],\n",
    "                        'Y':tsne_obj[:,1],\n",
    "                        'movie':final_df.title.to_list(),\n",
    "                         'X_type':final_df.type.to_list()})\n",
    "\n",
    "#sns.set(rc={'figure.figsize':(11.7,8.27)})\n",
    "\n",
    "\n",
    "#movies_only=tsne_df[tsne_df['X_type']=='actor']"
   ]
  },
  {
   "cell_type": "code",
   "execution_count": null,
   "metadata": {},
   "outputs": [],
   "source": [
    "sns.set_context('paper')\n",
    "palette=['purple','red','orange','brown','blue','dodgerblue','green','lightgreen','darkcyan', 'black']\n",
    "g = sns.scatterplot(x=\"X\", y=\"Y\", data=tsne_df, palette= palette, hue=\"movie\");\n",
    "\n",
    "tsne_df.apply(lambda point: g.scatter(point['X'], point['Y'], marker=find_marker(point['X_type'])), axis=1)\n",
    "\n",
    "              \n",
    "\n",
    "\n",
    "\n",
    "g.legend(loc='center left', bbox_to_anchor=(1.00, 0.5), ncol=1)\n"
   ]
  },
  {
   "cell_type": "code",
   "execution_count": null,
   "metadata": {},
   "outputs": [],
   "source": [
    "def find_marker(type_X):\n",
    "    if type_X == 'movie':\n",
    "        return \"o\"\n",
    "    else:\n",
    "        if type_X == 'actor':\n",
    "            return \"s\""
   ]
  }
 ],
 "metadata": {
  "kernelspec": {
   "display_name": "Python 3",
   "language": "python",
   "name": "python3"
  },
  "language_info": {
   "codemirror_mode": {
    "name": "ipython",
    "version": 3
   },
   "file_extension": ".py",
   "mimetype": "text/x-python",
   "name": "python",
   "nbconvert_exporter": "python",
   "pygments_lexer": "ipython3",
   "version": "3.9.0"
  }
 },
 "nbformat": 4,
 "nbformat_minor": 4
}
